{
 "cells": [
  {
   "cell_type": "code",
   "execution_count": null,
   "metadata": {},
   "outputs": [],
   "source": [
    "\n",
    "#| default_exp current\n"
   ]
  },
  {
   "cell_type": "code",
   "execution_count": null,
   "metadata": {},
   "outputs": [],
   "source": [
    "#| hide\n",
    "from nbdev.showdoc import *\n",
    "import pandas as pd"
   ]
  },
  {
   "cell_type": "code",
   "execution_count": null,
   "metadata": {},
   "outputs": [],
   "source": [
    "#| export\n",
    "import numpy as np\n",
    "from scipy.optimize import curve_fit"
   ]
  },
  {
   "cell_type": "markdown",
   "metadata": {},
   "source": [
    "# Current Correction\n",
    "\n",
    "> from current import *"
   ]
  },
  {
   "attachments": {},
   "cell_type": "markdown",
   "metadata": {},
   "source": [
    "This module represents the Appendix H of the ITTC, and provides the functionality to correct for current.\n",
    "\n",
    "The current correction approaches can only really be used if the ITTC speed power process has been followed closely. The corrections require that there are multiple runs for several speed settings. This allows a regression to be made. If there is only one speed setting then the methods described in appendix H will not be applicable"
   ]
  },
  {
   "attachments": {},
   "cell_type": "markdown",
   "metadata": {},
   "source": [
    "## Iterative Method\n",
    "\n",
    "The iterative method assumes a current that varies with a semidurational period. This period is typically 12 hours, 25 minutes and 12 seconds, which can also be described as 0.51753 of a day. The function can use any speed unit and any unit of power although, the original ITTC documentation uses Knots and kWh respectively. \n",
    "\n",
    "The process for estimating the current and the true speed through water is described below.\n",
    "\n",
    "\n",
    "### Step 1: Estimate the speed-power curve\n",
    "\n",
    "Using the known speed over ground ($V_g$) values and observed power ($P_{obs}(V_s)$) values for each power/speed setting, find the coefficients of the equation\n",
    "\n",
    "$$P(V_s) =a+ bV_s^q$$\n",
    "\n",
    "Where:\n",
    "\n",
    "- P(V_s) = the engine power at speed V_s\n",
    "- a,b, q = unknown coefficients\n",
    "\n",
    "### Step 2: Estimate speed through water from observed power and speed-power model\n",
    "\n",
    "using the coefficients of the speed power mode and the observed power calculate and estimate of the necessary speed through water using \n",
    "\n",
    "$$V_s = \\sqrt[q]{\\frac{P(V_s)-a}{b}}$$\n",
    "\n",
    "### Step 3: Estimate Current and current coefficients\n",
    "\n",
    "Using $V_c = V_G - V_s$, get an estimate of $V_c$ for each speed setting and use it to find the coefficients of the following equation using leasts-squares\n",
    "\n",
    "$$V_c = V_{c,C}\\textrm{cos}(\\frac{2\\pi}{T_c}t) + V_{c,S}\\textrm{sin}(\\frac{2\\pi}{T_c}t) + V_{c,T}t + V_{c,0}$$\n",
    "\n",
    "Where:\n",
    "\n",
    "- V_c = the current speed in knots\n",
    "- T_c = is the period of variation of current speed, it is measured in hours\n",
    "- t = the time for each run relative to the first run, it is measured in hours.\n",
    "- $V_{c,C}, V_{c,S}, V_{c,T}, V_{c,0} =$ are unknown factors which found through iteration\n",
    "\n",
    "Once the coefficients have been calculated the value of $V_c$ can be updated\n",
    "\n",
    "### Step 4: Re-calculate the speed-power curve coefficients\n",
    "\n",
    "Using the updated value of $V_c$ update the value of $V_s$ and re-calculate the parameters a.b and q for the speed power curve.\n",
    "\n",
    "Using the new speed power curve and the estimated values of $V_s$ create the predicted values of engine power.\n",
    "\n",
    "### Step 5: Measure the error between the observed and predicted Enginer power\n",
    "\n",
    "Using the equation\n",
    "\n",
    "$$MSE =\\sum (P_{pred}(V_s)-P_{obs}(V_s))^2$$\n",
    "\n",
    "measure the error of the estimates. if the error is larger than tolerance go to Step 2, otherwise if the process has converged and the error minimised, finish and return the final values of $V_c$ and $V_s$\n",
    "\n",
    "When setting the tolerance any small value is acceptable. typically a tolerance of $10^{-6}$ is used however values as large as $10^{-2}$ would probably have negligable impact on the final analysis\n",
    "\n",
    "\n",
    "### Diagram\n",
    "\n",
    "The below diagram provides a schematic of the process described above"
   ]
  },
  {
   "attachments": {},
   "cell_type": "markdown",
   "metadata": {},
   "source": [
    "```{mermaid}\n",
    "graph LR;\n",
    "  A(SOG) --> B(Step 1)\n",
    "  Z(Power) -->B\n",
    "  B --> C(Step 2)\n",
    "  C --> D(Step 3)\n",
    "  D --> E(Step 4)\n",
    "  E --> L{Convergence?}\n",
    "  L -- No --> C\n",
    "  L -- Yes --> M[Return STW]\n",
    "```"
   ]
  },
  {
   "cell_type": "code",
   "execution_count": null,
   "metadata": {},
   "outputs": [],
   "source": [
    "#| export\n",
    "\n",
    "def estimate_speed_through_water(P_id, V_g, t, T_c, tolerance=1e-6, max_iter=1000):\n",
    "\n",
    "    def current_speed(t, V_c_C, V_c_S, V_c_T, V_c_0, T_c):\n",
    "        return V_c_C * np.cos((2 * np.pi / T_c) * t) + V_c_S * np.sin((2 * np.pi / T_c) * t) + V_c_T * t + V_c_0\n",
    "\n",
    "    def power_eq(V_s, a, b, q):\n",
    "        return a + b * V_s**q\n",
    "    #get initial estimates for the power law curve parameters\n",
    "    popt, _ = curve_fit(power_eq, V_g, P_id, p0=[1, 1, 1])\n",
    "    a, b, q = popt\n",
    "    \n",
    "    for i in range(max_iter):\n",
    "        # Calculate stw\n",
    "        V_s = np.power((P_id - a) / b, 1/q)\n",
    "        \n",
    "        # Calculate current\n",
    "        V_c = V_g - V_s\n",
    "        \n",
    "        # FCalucalte current coefs using curve fitting\n",
    "        popt, _ = curve_fit(lambda t, V_c_C, V_c_S, V_c_T, V_c_0: current_speed(t, V_c_C, V_c_S, V_c_T, V_c_0, T_c), t, V_c, p0=[1, 1, 1, 1])\n",
    "        \n",
    "        # Update V_c_C, V_c_S, V_c_T, V_c_0 using the fitted parameters\n",
    "        V_c_C, V_c_S, V_c_T, V_c_0 = popt\n",
    "        \n",
    "        # Calculate the new current using fitted params\n",
    "        V_c_new = current_speed(t, V_c_C, V_c_S, V_c_T, V_c_0, T_c)\n",
    "        \n",
    "        # Update update stw\n",
    "        V_s = V_g - V_c_new\n",
    "        \n",
    "        # Update the power law parameters a, b, and q using curve fitting and new stw estimate\n",
    "        popt, _ = curve_fit(power_eq, V_s, P_id, p0=[a, b, q])\n",
    "        a, b, q = popt\n",
    "        \n",
    "        #calculates estimated power using new power law curve\n",
    "        P_obs = a + b * V_s ** q\n",
    "        #compare error\n",
    "        power_error = sum((P_obs - P_id) ** 2)\n",
    "        \n",
    "        # Check convergence\n",
    "        if power_error < tolerance:\n",
    "            break\n",
    "    \n",
    "    return V_s\n",
    "\n"
   ]
  },
  {
   "cell_type": "code",
   "execution_count": null,
   "metadata": {},
   "outputs": [
    {
     "name": "stdout",
     "output_type": "stream",
     "text": [
      "Estimated speed through water: [ 5.20805809 10.06554111 14.96931249 19.95185998 25.02456333]\n"
     ]
    }
   ],
   "source": [
    "T_c = 12\n",
    "V_c_C=-0.1\n",
    "V_c_S=-0.5\n",
    "V_c_T=0.2\n",
    "V_c_0=0.1\n",
    "t = np.array([0, 1, 2, 3, 4])  # Time values relative to the first run\n",
    "V_g = np.array([5, 10, 15, 20, 25])\n",
    "V_c_true = V_c_C * np.cos((2 * np.pi / T_c) * t) + V_c_S * np.sin((2 * np.pi / T_c) * t) + V_c_T * t + V_c_0\n",
    "#current_speed(t=t, V_c_C=-0.1, V_c_S=-0.5, V_c_T=0.2, V_c_0=0.1, T_c=T_c)\n",
    "V_s_true = V_c_true + V_g\n",
    "a_true = 2\n",
    "b_true = 3\n",
    "c_true = 3\n",
    "P_id = a_true + b_true * V_s_true ** c_true\n",
    "\n",
    "V_s = estimate_speed_through_water(P_id, V_g, t, T_c)\n",
    "print(\"Estimated speed through water:\", V_s)\n"
   ]
  },
  {
   "cell_type": "code",
   "execution_count": null,
   "metadata": {},
   "outputs": [],
   "source": [
    "import nbdev; nbdev.nbdev_export()"
   ]
  }
 ],
 "metadata": {
  "kernelspec": {
   "display_name": "Python 3",
   "language": "python",
   "name": "python3"
  }
 },
 "nbformat": 4,
 "nbformat_minor": 2
}
