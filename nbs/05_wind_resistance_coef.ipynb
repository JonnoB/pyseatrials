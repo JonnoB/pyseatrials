{
 "cells": [
  {
   "cell_type": "code",
   "execution_count": 1,
   "id": "ae8e16a0-ff29-458f-b460-3db58e8896b7",
   "metadata": {},
   "outputs": [],
   "source": [
    "#| default_exp wind_res\n"
   ]
  },
  {
   "cell_type": "code",
   "execution_count": 2,
   "id": "9f416f37-9d57-4769-8d50-8a51deb94bd1",
   "metadata": {},
   "outputs": [],
   "source": [
    "#| hide\n",
    "from nbdev.showdoc import *\n"
   ]
  },
  {
   "cell_type": "code",
   "execution_count": 3,
   "id": "70d5a518-e786-4241-90da-0c11d6ed1aaa",
   "metadata": {},
   "outputs": [],
   "source": [
    "#| export\n",
    "import numpy as np\n",
    "import pandas as pd\n",
    "from fastcore.test import *\n",
    "import pkgutil\n",
    "from io import BytesIO"
   ]
  },
  {
   "attachments": {},
   "cell_type": "markdown",
   "id": "9fce802d-3235-4543-be8c-3ecf2cdf6da9",
   "metadata": {},
   "source": [
    "# Wind resistance coefficients (wind_res)\n",
    "\n",
    "> datasets of wind coefficients for a range of generic ship types\n"
   ]
  },
  {
   "attachments": {},
   "cell_type": "markdown",
   "id": "c52aa5b4",
   "metadata": {},
   "source": [
    "\n",
    "In order to caluclate the wind resistance experienced by the ship, the wind resistance loading coefficients need to be known. The wind resistance loading coefficients are dependent on the direction the wind is blowing relative to the ship. These coefficients can be found using the following three methods\n",
    "\n",
    "- Wind tunnel test\n",
    "- CFD analysis\n",
    "- Coefficient datasets\n",
    "- Regression formula by Fujiwara et al.\n",
    "\n",
    "The first two and fourth approaches are used to create the coefficients specific for the ship. The third option is used when no such simulations have been performed and are based on a set of generic ship designs.\n",
    "\n",
    "## Load wind resistance coefficients\n",
    "\n",
    "When there has been no wind tunnel test or CDF analysis the wind resistance coefficients must be found using datasets of look up tables representing generic ship designs for a variety of classes. `pyseatrials` contains the wind loading factor datasets from ITTC. These data sets have been included as 9 dataframes depending on ship type. To load the data frame enter the name of the ship type to load. The available ship types are\n",
    "\n",
    "- GENERAL_CARGO\n",
    "- LNG_CARRIER_INT\n",
    "- CRUISE_FERRY\n",
    "- 280_KDWT_TANKER\n",
    "- LNG_CARRIER\n",
    "- HANDY_SIZE_BULK_CARRIER\n",
    "- 6800_TEU_CONTAINERSHIP\n",
    "- MULTI_PURPOSE_CARRIER"
   ]
  },
  {
   "cell_type": "code",
   "execution_count": 4,
   "id": "443330d1-2102-4019-af87-0f914938dc3b",
   "metadata": {},
   "outputs": [],
   "source": [
    "#| export\n",
    "def load_wind_coefficients(vessel_type:str #The name of the vessel type. Must be one of 9 options\n",
    "                     ): #returns a data set with where the first column us angle_of_attack in radians, the second is angle_of_attack in degrees, the subsequent columns names ship states\n",
    "        \n",
    "        \"Load a wind coefficient table for a generic ship class. Datasets from ITTC\"\n",
    "        \n",
    "        #This needs to be adapted so that the paths work on any system, using pathlib.path would be a better choice\n",
    "        res = pkgutil.get_data('pyseatrials', 'wind_coef_data/'+vessel_type+'.csv')\n",
    "        \n",
    "        return pd.read_csv(BytesIO(res))\n",
    "    "
   ]
  },
  {
   "attachments": {},
   "cell_type": "markdown",
   "id": "5c66fbb1-931b-4cab-b1d2-f718037c8237",
   "metadata": {},
   "source": [
    "Loading a wind resistance dataset for a specific ship type is straight forward if no other dataset is available.\n",
    "\n",
    "All datasets contain angle of attack in both radians and degrees, the subsequent columns refer to the ship state"
   ]
  },
  {
   "cell_type": "code",
   "execution_count": 5,
   "id": "3748ea70-6e20-4d1e-8a61-937d3cd95b07",
   "metadata": {},
   "outputs": [
    {
     "data": {
      "text/html": [
       "<div>\n",
       "<style scoped>\n",
       "    .dataframe tbody tr th:only-of-type {\n",
       "        vertical-align: middle;\n",
       "    }\n",
       "\n",
       "    .dataframe tbody tr th {\n",
       "        vertical-align: top;\n",
       "    }\n",
       "\n",
       "    .dataframe thead th {\n",
       "        text-align: right;\n",
       "    }\n",
       "</style>\n",
       "<table border=\"1\" class=\"dataframe\">\n",
       "  <thead>\n",
       "    <tr style=\"text-align: right;\">\n",
       "      <th></th>\n",
       "      <th>angle_of_attack</th>\n",
       "      <th>angle_of_attack_degs</th>\n",
       "      <th>average</th>\n",
       "    </tr>\n",
       "  </thead>\n",
       "  <tbody>\n",
       "    <tr>\n",
       "      <th>0</th>\n",
       "      <td>0.000000</td>\n",
       "      <td>0</td>\n",
       "      <td>-0.60</td>\n",
       "    </tr>\n",
       "    <tr>\n",
       "      <th>1</th>\n",
       "      <td>0.174533</td>\n",
       "      <td>10</td>\n",
       "      <td>-0.87</td>\n",
       "    </tr>\n",
       "    <tr>\n",
       "      <th>2</th>\n",
       "      <td>0.349066</td>\n",
       "      <td>20</td>\n",
       "      <td>-1.00</td>\n",
       "    </tr>\n",
       "    <tr>\n",
       "      <th>3</th>\n",
       "      <td>0.523599</td>\n",
       "      <td>30</td>\n",
       "      <td>-1.00</td>\n",
       "    </tr>\n",
       "    <tr>\n",
       "      <th>4</th>\n",
       "      <td>0.698132</td>\n",
       "      <td>40</td>\n",
       "      <td>-0.88</td>\n",
       "    </tr>\n",
       "    <tr>\n",
       "      <th>5</th>\n",
       "      <td>0.872665</td>\n",
       "      <td>50</td>\n",
       "      <td>-0.85</td>\n",
       "    </tr>\n",
       "    <tr>\n",
       "      <th>6</th>\n",
       "      <td>1.047198</td>\n",
       "      <td>60</td>\n",
       "      <td>-0.65</td>\n",
       "    </tr>\n",
       "    <tr>\n",
       "      <th>7</th>\n",
       "      <td>1.221730</td>\n",
       "      <td>70</td>\n",
       "      <td>-0.42</td>\n",
       "    </tr>\n",
       "    <tr>\n",
       "      <th>8</th>\n",
       "      <td>1.396263</td>\n",
       "      <td>80</td>\n",
       "      <td>-0.27</td>\n",
       "    </tr>\n",
       "    <tr>\n",
       "      <th>9</th>\n",
       "      <td>1.570796</td>\n",
       "      <td>90</td>\n",
       "      <td>-0.09</td>\n",
       "    </tr>\n",
       "    <tr>\n",
       "      <th>10</th>\n",
       "      <td>1.745329</td>\n",
       "      <td>100</td>\n",
       "      <td>0.09</td>\n",
       "    </tr>\n",
       "    <tr>\n",
       "      <th>11</th>\n",
       "      <td>1.919862</td>\n",
       "      <td>110</td>\n",
       "      <td>0.49</td>\n",
       "    </tr>\n",
       "    <tr>\n",
       "      <th>12</th>\n",
       "      <td>2.094395</td>\n",
       "      <td>120</td>\n",
       "      <td>0.84</td>\n",
       "    </tr>\n",
       "    <tr>\n",
       "      <th>13</th>\n",
       "      <td>2.443461</td>\n",
       "      <td>140</td>\n",
       "      <td>1.39</td>\n",
       "    </tr>\n",
       "    <tr>\n",
       "      <th>14</th>\n",
       "      <td>2.617994</td>\n",
       "      <td>150</td>\n",
       "      <td>1.47</td>\n",
       "    </tr>\n",
       "    <tr>\n",
       "      <th>15</th>\n",
       "      <td>2.792527</td>\n",
       "      <td>160</td>\n",
       "      <td>1.34</td>\n",
       "    </tr>\n",
       "    <tr>\n",
       "      <th>16</th>\n",
       "      <td>2.967060</td>\n",
       "      <td>170</td>\n",
       "      <td>0.92</td>\n",
       "    </tr>\n",
       "    <tr>\n",
       "      <th>17</th>\n",
       "      <td>3.141593</td>\n",
       "      <td>180</td>\n",
       "      <td>0.82</td>\n",
       "    </tr>\n",
       "  </tbody>\n",
       "</table>\n",
       "</div>"
      ],
      "text/plain": [
       "    angle_of_attack  angle_of_attack_degs  average\n",
       "0          0.000000                     0    -0.60\n",
       "1          0.174533                    10    -0.87\n",
       "2          0.349066                    20    -1.00\n",
       "3          0.523599                    30    -1.00\n",
       "4          0.698132                    40    -0.88\n",
       "5          0.872665                    50    -0.85\n",
       "6          1.047198                    60    -0.65\n",
       "7          1.221730                    70    -0.42\n",
       "8          1.396263                    80    -0.27\n",
       "9          1.570796                    90    -0.09\n",
       "10         1.745329                   100     0.09\n",
       "11         1.919862                   110     0.49\n",
       "12         2.094395                   120     0.84\n",
       "13         2.443461                   140     1.39\n",
       "14         2.617994                   150     1.47\n",
       "15         2.792527                   160     1.34\n",
       "16         2.967060                   170     0.92\n",
       "17         3.141593                   180     0.82"
      ]
     },
     "execution_count": 5,
     "metadata": {},
     "output_type": "execute_result"
    }
   ],
   "source": [
    "general_cargo = load_wind_coefficients(\"GENERAL_CARGO\")\n",
    "\n",
    "general_cargo"
   ]
  },
  {
   "attachments": {},
   "cell_type": "markdown",
   "id": "53c5a813-d846-4b26-8b0c-bd6bb9d6cef5",
   "metadata": {},
   "source": [
    "## Interpolate the wind loading coefficients\n",
    "\n",
    "The dataset loaded previously only contains the load coefficients at specific angles. Interpolation is needed to match these coefficients to the wind acting on the ship.There are many ways to interpolate these values, `pyseatrials` uses simple linear interpolation. Linear interpolation has been chosen over other approaches as it can be vectorised and reduces package dependencies. In addition the ultimate difference, between e.g. linear vs spline interpolation, in resistive force will be small compared to the magnitude of forces acting on the ship."
   ]
  },
  {
   "cell_type": "code",
   "execution_count": 6,
   "id": "63bfd310-5b9b-4ee9-ac4c-39071137dcb4",
   "metadata": {},
   "outputs": [],
   "source": [
    "#| export\n",
    "def interpolate_cx(df, #dataframe of the wind resistance dataset\n",
    "                   relative_wind_direction:float, #The angle of the wind relative to the ship [rads]\n",
    "                   ship_state:str #The state of the ship the resistance should be evaluated in. Chosen from the columns of the wind resistance datasets\n",
    ")->float: # The dimensionless wind resistance coefficient\n",
    "    \n",
    "    \"Find a linearly interpolated value for wind resistance coefficient\"\n",
    "    \n",
    "    return np.interp(relative_wind_direction, df.angle_of_attack, df[ship_state])"
   ]
  },
  {
   "attachments": {},
   "cell_type": "markdown",
   "id": "9f237316-0adc-4d13-aef9-eae1c998bc17",
   "metadata": {},
   "source": [
    "Using the example of the general cargo ship using four different wind direction scenarios (0, 55, 180, 280 degrees) we get the interpolated loading coefficients.\n",
    "Some ships have data for different states such as 'laden' and 'ballast' the General Cargo dataset only has a single state 'average'."
   ]
  },
  {
   "cell_type": "code",
   "execution_count": 7,
   "id": "80804e83-4cad-44cc-8980-1df3765ee4c4",
   "metadata": {},
   "outputs": [
    {
     "name": "stdout",
     "output_type": "stream",
     "text": [
      "[-0.6  -0.75  0.84  0.82]\n"
     ]
    }
   ],
   "source": [
    "degs = [0, 55, 120, 180 ]\n",
    "rads = np.deg2rad(degs) #convert the degrees to radians\n",
    "cx_vals = interpolate_cx(general_cargo, rads, 'average')\n",
    "print(cx_vals)"
   ]
  },
  {
   "cell_type": "code",
   "execution_count": 8,
   "id": "f52064d5-2b8f-4b86-aaa3-e4cd353471f7",
   "metadata": {},
   "outputs": [],
   "source": [
    "import pandas as pd"
   ]
  },
  {
   "cell_type": "code",
   "execution_count": 9,
   "id": "a5e2dfd0-d144-4207-85fd-4cc734bae566",
   "metadata": {},
   "outputs": [],
   "source": [
    "#| hide\n",
    "#sanity check tests\n",
    "test_df = pd.DataFrame({'angle_of_attack': [0, 2], 'cx':[0, 100]})\n",
    "test_eq(interpolate_cx(test_df, 0, 'cx'), 0)\n",
    "test_eq(interpolate_cx(test_df, 2, 'cx'), 100)"
   ]
  },
  {
   "attachments": {},
   "cell_type": "markdown",
   "id": "b224df33-8f19-47f3-ad27-910999405d57",
   "metadata": {},
   "source": [
    "The wind resistance coefficients can then be used to find the actual wind resistance experienced by the ship"
   ]
  },
  {
   "cell_type": "code",
   "execution_count": 10,
   "id": "09c58b4e-23a3-400e-9473-4dfadef103a9",
   "metadata": {},
   "outputs": [],
   "source": [
    "from pyseatrials.general import *"
   ]
  },
  {
   "cell_type": "code",
   "execution_count": 11,
   "id": "f01a155d-3010-4d87-add2-8d9638268ece",
   "metadata": {},
   "outputs": [
    {
     "name": "stdout",
     "output_type": "stream",
     "text": [
      "[-54. -72. 119. 116.]\n"
     ]
    }
   ],
   "source": [
    "wind_resistance_linear = wind_resistance(air_density = 1.2,\n",
    "                   wind_resistance_coef_rel = cx_vals,\n",
    "                   wind_resistance_coef_zero = cx_vals[0],\n",
    "                   area = 500,\n",
    "                   relative_wind_speed = 20,\n",
    "                   sog = 10)\n",
    "\n",
    "#convert to kN\n",
    "resistance_linear_kN = np.round(wind_resistance_linear/1000)\n",
    "print(resistance_linear_kN )"
   ]
  },
  {
   "attachments": {},
   "cell_type": "markdown",
   "id": "0ab72bd9-3834-4430-b492-333de054142d",
   "metadata": {},
   "source": [
    "Other interpolations methods can be used such as spline interpolation from the `scipy` library."
   ]
  },
  {
   "cell_type": "code",
   "execution_count": 12,
   "id": "a0740e14-52e7-42fc-9dc7-b7fe54148e70",
   "metadata": {},
   "outputs": [],
   "source": [
    "from scipy.interpolate import make_interp_spline"
   ]
  },
  {
   "cell_type": "code",
   "execution_count": 13,
   "id": "15ef7826-9284-49ff-b22a-aeb195b33ab8",
   "metadata": {},
   "outputs": [],
   "source": [
    "cx_spline = make_interp_spline(general_cargo['angle_of_attack'], general_cargo['average'] )\n"
   ]
  },
  {
   "attachments": {},
   "cell_type": "markdown",
   "id": "b8a21509-e8e8-4dc7-b9de-0275ffdf5fe2",
   "metadata": {},
   "source": [
    "The difference between the load coefficients produced by the two models can be shown in the plot below. Across the full range there is almost no difference."
   ]
  },
  {
   "cell_type": "code",
   "execution_count": 14,
   "id": "5b14fe2b-edfc-4491-94ea-e72d85f011b8",
   "metadata": {},
   "outputs": [],
   "source": [
    "import matplotlib.pyplot as plt"
   ]
  },
  {
   "cell_type": "code",
   "execution_count": 15,
   "id": "cb9309ee-aaad-44b4-ab5b-10926dfc2118",
   "metadata": {},
   "outputs": [
    {
     "data": {
      "image/png": "[encoded data removed]",
      "text/plain": [
       "<Figure size 640x480 with 1 Axes>"
      ]
     },
     "metadata": {},
     "output_type": "display_data"
    }
   ],
   "source": [
    "xs = np.linspace(-3, 3, 100)\n",
    "xvals = np.linspace(0, np.pi, 50)\n",
    "yinterp_lin = np.interp(xvals, general_cargo['angle_of_attack'], general_cargo['average'])\n",
    "yinterp_spline = cx_spline(xvals)\n",
    "plt.plot(general_cargo['angle_of_attack'], general_cargo['average'], 'ro')\n",
    "plt.plot(xvals, yinterp_lin,'g-', lw=1, label='Linear')\n",
    "plt.plot(xvals, yinterp_spline,'b-', lw=1, label='Linear')\n",
    "plt.legend(loc='best')\n",
    "plt.show()"
   ]
  },
  {
   "attachments": {},
   "cell_type": "markdown",
   "id": "18580ab6-7247-4860-afc3-2fefd2416be0",
   "metadata": {},
   "source": [
    "The difference in terms of actual resistive force between linear and spline interpolation is also very small."
   ]
  },
  {
   "cell_type": "code",
   "execution_count": 16,
   "id": "0f9a89ca-b8ea-4f84-ba24-e781f873176f",
   "metadata": {},
   "outputs": [
    {
     "name": "stdout",
     "output_type": "stream",
     "text": [
      "difference in kN between the two interpolation methods for all 4 angles of attack [0. 2. 0. 0.]\n"
     ]
    }
   ],
   "source": [
    "wind_resistiance_spline = wind_resistance(air_density = 1.2,\n",
    "                   wind_resistance_coef_rel = cx_spline(rads),\n",
    "                   wind_resistance_coef_zero = cx_spline(rads)[0],\n",
    "                   area = 500,\n",
    "                   relative_wind_speed = 20,\n",
    "                   sog = 10)\n",
    "#convert to kN\n",
    "resitance_spline_kN = np.round(wind_resistiance_spline/1000)\n",
    "\n",
    "#difference in wind resistance between the two models in kN\n",
    "print('difference in kN between the two interpolation methods for all 4 angles of attack '+str(resistance_linear_kN - resitance_spline_kN))"
   ]
  },
  {
   "cell_type": "markdown",
   "id": "b4ec0f79",
   "metadata": {},
   "source": [
    "## Regression formula by Fujiwara et al.\n",
    "\n",
    "Regression formula by Fujiwara et al.\n",
    "\n",
    "$$C_{DA} = C_{LF}cos \\psi_{WR} + C_{XLI}\\left(sin \\psi_{WR} - \\frac{1}{2}sin \\psi_{WR}cos^2 \\psi_{WR} \\right) sin \\psi_{WR}cos \\psi_{WR} +C_{ALF}sin \\psi_{WR}cos^3 \\psi_{WR}$$\n",
    "\n",
    "with\n",
    "\n",
    "for $0 \\leq \\psi_{WR} < 90 [deg]$\n",
    "\n",
    "$ C_{LF} = \\beta_{10} + \\beta_{11} \\frac{A_{YV}}{L_{OA}B} + \\beta_{12} \\frac{C_{MC}}{L_{OA}} $\n",
    "\n",
    "$ C_{XLI} = \\delta_{10} + \\delta_{11} \\frac{A_{YV}}{L_{OA}h_{BR}} + \\delta_{12} \\frac{A_{XV}}{Bh_{BR}} $\n",
    "\n",
    "$ C_{ALF} = \\epsilon_{10} + \\epsilon_{11} \\frac{A_{OD}}{A_{YV}} + \\epsilon_{12} \\frac{B}{L_{OA}} $\n",
    "\n",
    "for $90 < \\psi_{WR} \\leq 180 [deg]$\n",
    "\n",
    "$ C_{LF} = \\beta_{20} + \\beta_{21} \\frac{B}{L_{OA}} + \\beta_{22} \\frac{h_C}{L_{OA}} + \\beta_{23} \\frac{A_{OD}}{{L_{OA}}^2} + \\beta_{24} \\frac{A_{XV}}{B^2} $\n",
    "\n",
    "$ C_{XLI} = \\delta_{20} + \\delta_{21} \\frac{A_{YV}}{L_{OA}h_{BR}} + \\delta_{22} \\frac{A_{XV}}{A_{YV}} + \\delta_{23} \\frac{B}{L_{OA}} + \\delta_{24} \\frac{A_{XV}}{Bh_{BR}} $\n",
    "\n",
    "$ C_{ALF} = \\epsilon_{20} + \\epsilon_{21} \\frac{A_{OD}}{A_{YV}} $\n",
    "\n",
    "for $ \\psi_{WR} = 90 [deg]$\n",
    "\n",
    "$ C_{DA| \\psi_{WR}=90[deg]} = \\frac{1}{2} \\left(C_{DA| \\psi_{WR}=90[deg] - \\mu} + C_{DA| \\psi_{WR}=90[deg] + \\mu}   \\right) $\n",
    "\n",
    "Where\n",
    "\n",
    "$ A_{OD} $ is the lateral projected area of superstructures on deck $ [m^2] $,\n",
    "\n",
    "$ A_{XV} $ is the area of maximum transverse section exposed to the winds $ [m^2] $,\n",
    "\n",
    "$ A_{YV} $ is the projected lateral area above the waterline $ [m^2] $,\n",
    "\n",
    "$ B $ is the ship breadth $ [m] $,\n",
    "\n",
    "$ C_{DA} $ is the wind resistance coefficient [-]\n",
    "\n",
    "$ C_{MC} $ is the horizontal distance from midship section to centre of lateral projected area $ A_{YV} $, $ [m^2] $. This is often negative,\n",
    "\n",
    "$ h_{BR} $ is the height of top of superstructure (bridge etc) $ [m] $,\n",
    "\n",
    "$ h_c $ is the height from the waterline to the centre of lateral projected area $ A_{YV} $, $ [m] $,\n",
    "\n",
    "$ L_{OA} $ is the length overall $ [m] $,\n",
    "\n",
    "$ \\mu $ is the smoothing range, normally 10 $ [deg] $,\n",
    "\n",
    "$ \\psi_{WR} $ is the relative wind direction $ [deg] $. 0 means head winds\n",
    "\n",
    "The non-dimensional parameters $ \\beta_{ij}, \\delta_{ij} \\ and \\ \\epsilon_{ij} $ used are shown in the table below\n",
    "\n",
    "\n",
    "\n",
    "|                   | i | j      |         |         |        |       |\n",
    "|-------------------|---|--------|---------|---------|--------|-------|\n",
    "|                   |   | 0      | 1       | 2       | 3      | 4     |\n",
    "| $ \\beta_{ij} $    | 1 | 0.922  | -0.507  | -1.162  | -      | -     |\n",
    "|                   | 2 | -0.018 | 5.091   | -10.367 | 3.011  | 0.341 |\n",
    "| $ \\delta_{ij} $   | 1 | -0.458 | -3.245  | 2.313   | -      | -     |\n",
    "|                   | 2 | 1.901  | -12.727 | -24.407 | 40.310 | 5.481 |\n",
    "| $ \\epsilon_{ij} $ | 1 | 0.585  | 0.906   | -3.239  | -      | -     |\n",
    "|                   | 2 | 0.314  | 1.117   | 0       | 0      | 0     |\n",
    "\n",
    "**ITTC equations**: F-1 to F-7"
   ]
  },
  {
   "cell_type": "markdown",
   "id": "23f63ab6",
   "metadata": {},
   "source": [
    "## Fujiwara regression formula\n",
    "\n",
    "The Fujiwara regression formula ([Fujiwara 2006](https://doi.org/10.2534/jjasnaoe.2.257))\n",
    " calcualtes the wind resistance coeficient of a vessel using the ships geometry. It is often considered the default method, due to it's adaptability to specific ships and the accessability of the input parameters. However, it's input calculation is somewhat involved, we reccomend reading either the ITTC or ISO15016 Standards for detailed description of its application. "
   ]
  },
  {
   "cell_type": "code",
   "execution_count": 23,
   "id": "e15684ef",
   "metadata": {},
   "outputs": [],
   "source": [
    "\n",
    "def _clf(aod:float,\n",
    "        axv:float,\n",
    "        ayv:float,\n",
    "        cmc:float,\n",
    "        hc:float,\n",
    "        loa:float,\n",
    "        b:float,\n",
    "        wind_dir:float\n",
    "        ) -> float:\n",
    "    \n",
    "    beta = {'10': 0.922,\n",
    "                '11': -0.507,\n",
    "                '12': -1.162,\n",
    "                '20': -0.018,\n",
    "                '21': 5.091,\n",
    "                '22': -10.367,\n",
    "                '23': 3.011,\n",
    "                '24': 0.341\n",
    "                }\n",
    "    #formula is valid for angles between 0 and 180deg (assume symmetry).\n",
    "    if 180<wind_dir<=360:\n",
    "            wind_dir = 360-wind_dir\n",
    "            \n",
    "    wind_dir_rad = np.deg2rad(wind_dir)\n",
    "    #apply fuji formula for lower interpolation value\n",
    "    clf = (((beta['10'] + beta['11'] * ayv / (loa * b) + beta['12'] * cmc / loa) * (0 <= wind_dir_rad < np.deg2rad(90))) + #for wind between 0 and 90\n",
    "           ((beta['20'] + beta['21'] * b / loa + beta['22'] * hc / loa + beta['23'] * (aod / loa **2) + beta['24'] * (axv / b **2)) * (np.deg2rad(90) < wind_dir_rad <= np.deg2rad(180)))) #for wind between 0 and 90\n",
    "\n",
    "    return clf\n",
    "\n",
    "def _cxli(axv:float,\n",
    "         ayv:float,\n",
    "         loa:float,\n",
    "         hbr:float,\n",
    "         b:float,\n",
    "         wind_dir:float\n",
    "         ) -> float:\n",
    "    \n",
    "    gamma = {'10': -0.458,\n",
    "            '11': -3.245,\n",
    "            '12': 2.313,\n",
    "            '20': 1.901,\n",
    "            '21': -12.727,\n",
    "            '22': -24.407,\n",
    "            '23': 40.310,\n",
    "            '24': 5.481\n",
    "            }\n",
    "    #formula is valid for angles between 0 and 180deg (assume symmetry).\n",
    "    if 180<wind_dir<=360:\n",
    "            wind_dir = 360-wind_dir\n",
    "            \n",
    "    wind_dir_rad = np.deg2rad(wind_dir)\n",
    "    cxli = (((gamma['10'] + gamma['11'] * ayv / (loa * hbr) + gamma['12'] * axv / (b * hbr)) * (0 <= wind_dir_rad < np.deg2rad(90))) + #for wind between 0 and 90\n",
    "            ((gamma['20'] + gamma['21'] * ayv / (loa * hbr) + gamma['22'] * axv / ayv + gamma['23'] * b / loa + gamma['24'] * axv / (b * hbr)) * (np.deg2rad(90) < wind_dir_rad <= np.deg2rad(180)))) #for wind between 0 and 90\n",
    "    \n",
    "    return cxli\n",
    "\n",
    "def _calf(aod:float,\n",
    "         ayv:float,\n",
    "         loa:float,\n",
    "         b:float,\n",
    "         wind_dir:float\n",
    "         ) -> float:\n",
    "    \n",
    "    epsilon = {'10': 0.585,\n",
    "               '11': 0.906,\n",
    "               '12': -3.239,\n",
    "               '20': 0.314,\n",
    "               '21': 1.117\n",
    "               }\n",
    "    #formula is valid for angles between 0 and 180deg (assume symmetry).\n",
    "    if 180<wind_dir<=360:\n",
    "            wind_dir = 360-wind_dir\n",
    "            \n",
    "    wind_dir_rad = np.deg2rad(wind_dir)\n",
    "    calf = (((epsilon['10'] + epsilon['11'] * aod / ayv + epsilon['12'] * b / loa) * (0 <= wind_dir_rad < np.deg2rad(90))) + #for wind between 0 and 90\n",
    "            ((epsilon['20'] + epsilon['21'] * aod / ayv) * (np.deg2rad(90) < wind_dir_rad <= np.deg2rad(180)))) #for wind between 0 and 90\n",
    "    \n",
    "    return calf\n",
    "\n",
    "def _caa(clf:float,\n",
    "        cxli:float,\n",
    "        calf:float,\n",
    "        wind_dir:float\n",
    "        ) -> float:\n",
    "    #formula is valid for angles between 0 and 180deg (assume symmetry).\n",
    "    if 180<wind_dir<=360:\n",
    "            wind_dir = 360-wind_dir\n",
    "            \n",
    "    wind_dir_rad = np.deg2rad(wind_dir)\n",
    "    \n",
    "    caa = (clf * np.cos(wind_dir_rad) + \n",
    "            cxli * (np.sin(wind_dir_rad) - 0.5 * np.sin(wind_dir_rad) * np.cos(wind_dir_rad) * np.cos(wind_dir_rad)) * np.sin(wind_dir_rad) * np.cos(wind_dir_rad) +\n",
    "            calf * np.sin(wind_dir_rad) * np.cos(wind_dir_rad) * np.cos(wind_dir_rad) * np.cos(wind_dir_rad)) * -1\n",
    "    return caa\n",
    "\n",
    "def _fujiwara_internal(aod:float, #is the lateral projected area of superstructures on deck in m2\n",
    "                      axv:float, #is the area of maximum transverse section exposed to the winds in m2\n",
    "                      ayv:float,\n",
    "                      cmc:float,\n",
    "                      hc:float,\n",
    "                      hbr:float,\n",
    "                      loa:float,\n",
    "                      b:float,\n",
    "                      wind_dir:float,\n",
    "                      smoothing:float\n",
    "                      ) -> float:\n",
    "    \n",
    "    \"\"\"\n",
    "    find if the wind angle is in the banned region (90+- smoothing and 270+- smoothing)\n",
    "    if it is we need to linear interpolate over the banned range\n",
    "    \"\"\"\n",
    "    #create two points either side of banned range (if angle is in range)\n",
    "    interp_trigger = False\n",
    "    if (90 - smoothing) <= wind_dir <= (90 + smoothing):\n",
    "        interp_trigger = True #trigger to interpolate later on\n",
    "        wind_range_min = 90 - smoothing\n",
    "        wind_range_max = 90 + smoothing\n",
    "        interp_range = np.array([wind_range_min, wind_range_max])\n",
    "    elif (270 - smoothing) <= wind_dir <= (270 + smoothing):\n",
    "        interp_trigger = True\n",
    "        wind_range_min = 270 - smoothing\n",
    "        wind_range_max = 270 + smoothing\n",
    "        interp_range = np.array([wind_range_min, wind_range_max])\n",
    "    else:\n",
    "        pass\n",
    "        \n",
    "    #if triggered, evaluate the formula at the angle above and below banned range\n",
    "    if interp_trigger:\n",
    "        clf_vals = [_clf(aod = aod, axv = axv, ayv = ayv, cmc = cmc, hc = hc, loa = loa, b = b, wind_dir = i) for i in interp_range]\n",
    "\n",
    "        cxli_vals = [_cxli(axv = axv, ayv = ayv, loa = loa, hbr = hbr, b = b, wind_dir = i) for i in interp_range]\n",
    "\n",
    "        calf_vals = [_calf(aod = aod, ayv = ayv, loa = loa, b = b, wind_dir = i) for i in interp_range]\n",
    "\n",
    "        caa_vals = [_caa(clf = i, cxli = j, calf = k, wind_dir = l) for i, j, k, l in zip(clf_vals, cxli_vals, calf_vals, interp_range)]\n",
    "        caa_vals = np.array(caa_vals)\n",
    "        \n",
    "        #interpolate to the requested wind angle\n",
    "        ca = np.interp(wind_dir, interp_range, caa_vals)\n",
    "\n",
    "    #else just evaluate the formula, no dramas :)\n",
    "    else:\n",
    "        clf_vals = _clf(aod = aod, axv = axv, ayv = ayv, cmc = cmc, hc = hc, loa = loa, b = b, wind_dir = wind_dir)\n",
    "\n",
    "        cxli_vals = _cxli(axv = axv, ayv = ayv, loa = loa, hbr = hbr, b = b, wind_dir = wind_dir)\n",
    "\n",
    "        calf_vals = _calf(aod = aod, ayv = ayv, loa = loa, b = b, wind_dir = wind_dir)\n",
    "\n",
    "        #calculate formula\n",
    "        ca = _caa(clf = clf_vals, cxli = cxli_vals, calf = calf_vals, wind_dir = wind_dir)\n",
    "        \n",
    "    return ca\n",
    "\n",
    "def fujiwara(aod:float, #is the lateral projected area of superstructures on deck in m2\n",
    "             axv:float, #is the area of maximum transverse section exposed to the winds in m2\n",
    "             ayv:float,\n",
    "             cmc:float,\n",
    "             hc:float,\n",
    "             hbr:float,\n",
    "             loa:float,\n",
    "             b:float,\n",
    "             wind_dir:float,\n",
    "             smoothing:float\n",
    "             ) -> float:\n",
    "    \n",
    "    #wrap 'fujiwara_internal' to accept arrays and vectorise the calculation\n",
    "    \n",
    "    return np.vectorize(_fujiwara_internal)(aod=aod, axv=axv, ayv=ayv, cmc=cmc, hc=hc, hbr=hbr, loa=loa, b=b, wind_dir=wind_dir, smoothing=smoothing)\n"
   ]
  },
  {
   "cell_type": "code",
   "execution_count": 24,
   "id": "caefa419",
   "metadata": {},
   "outputs": [
    {
     "data": {
      "image/png": "[encoded data removed]",
      "text/plain": [
       "<Figure size 640x480 with 1 Axes>"
      ]
     },
     "metadata": {},
     "output_type": "display_data"
    }
   ],
   "source": [
    "import matplotlib.pyplot as plt\n",
    "wind_dir = np.arange(0, 361, 5)\n",
    "\n",
    "cx = [fujiwara(aod = 905, axv = 1750, ayv = 7400, cmc = -6.6, hc = 11.72, hbr = 40.7, loa = 340, b = 62, wind_dir = i, smoothing = 10) for i in wind_dir]\n",
    "plt.plot(wind_dir, cx)\n",
    "plt.xlabel('Wind Angle [deg]')\n",
    "plt.ylabel('Wind Coefficient [-]')\n",
    "plt.xticks(np.arange(0,361,45))\n",
    "plt.grid()\n",
    "\n"
   ]
  }
 ],
 "metadata": {
  "kernelspec": {
   "display_name": "python3",
   "language": "python",
   "name": "python3"
  },
  "language_info": {
   "codemirror_mode": {
    "name": "ipython",
    "version": 3
   },
   "file_extension": ".py",
   "mimetype": "text/x-python",
   "name": "python",
   "nbconvert_exporter": "python",
   "pygments_lexer": "ipython3",
   "version": "3.11.6"
  }
 },
 "nbformat": 4,
 "nbformat_minor": 5
}
