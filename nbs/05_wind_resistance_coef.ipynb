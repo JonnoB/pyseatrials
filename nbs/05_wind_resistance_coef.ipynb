{
 "cells": [
  {
   "cell_type": "code",
   "execution_count": null,
   "id": "ae8e16a0-ff29-458f-b460-3db58e8896b7",
   "metadata": {},
   "outputs": [],
   "source": [
    "#| default_exp wind_res\n"
   ]
  },
  {
   "cell_type": "code",
   "execution_count": null,
   "id": "9f416f37-9d57-4769-8d50-8a51deb94bd1",
   "metadata": {},
   "outputs": [],
   "source": [
    "#| hide\n",
    "from nbdev.showdoc import *\n"
   ]
  },
  {
   "cell_type": "code",
   "execution_count": null,
   "id": "70d5a518-e786-4241-90da-0c11d6ed1aaa",
   "metadata": {},
   "outputs": [],
   "source": [
    "#| export\n",
    "import numpy as np\n",
    "import pandas as pd\n",
    "from fastcore.test import *\n",
    "import pkgutil\n",
    "from io import BytesIO"
   ]
  },
  {
   "attachments": {},
   "cell_type": "markdown",
   "id": "9fce802d-3235-4543-be8c-3ecf2cdf6da9",
   "metadata": {},
   "source": [
    "# Wind resistance coefficients (wind_res)\n"
   ]
  },
  {
   "cell_type": "markdown",
   "id": "c52aa5b4",
   "metadata": {},
   "source": [
    "\n",
    "In order to caluclate the wind resistance experienced by the ship, the wind resistance loading coefficients need to be known. The wind resistance loading coefficients are dependent on the direction the wind is blowing relative to the ship. These coefficients can be found using the following three methods\n",
    "\n",
    "- Wind tunnel test\n",
    "- CFD analysis\n",
    "- Coefficient datasets\n",
    "\n",
    "The first two approaches are used to create the coefficients specific for the ship. The third option is used when no such simulations have been performed and are based on a set of generic ship designs.\n",
    "\n",
    "## Load wind resistance coefficients\n",
    "\n",
    "When there has been no wind tunnel test or CDF analysis the wind resistance coefficients must be found using datasets of look up tables representing generic ship designs for a variety of classes. `pyseatrials` contains the wind loading factor datasets from ITTC. These data sets have been included as 9 dataframes depending on ship type. To load the data frame enter the name of the ship type to load. The available ship types are\n",
    "\n",
    "- GENERAL_CARGO\n",
    "- LNG_CARRIER_INT\n",
    "- CRUISE_FERRY\n",
    "- 280_KDWT_TANKER\n",
    "- LNG_CARRIER\n",
    "- HANDY_SIZE_BULK_CARRIER\n",
    "- 6800_TEU_CONTAINERSHIP\n",
    "- MULTI_PURPOSE_CARRIER"
   ]
  },
  {
   "cell_type": "code",
   "execution_count": null,
   "id": "443330d1-2102-4019-af87-0f914938dc3b",
   "metadata": {},
   "outputs": [],
   "source": [
    "#| export\n",
    "def load_wind_coefficients(vessel_type:str #The name of the vessel type. Must be one of 9 options\n",
    "                     ): #returns a data set with where the first column us angle_of_attack in radians, the second is angle_of_attack in degrees, the subsequent columns names ship states\n",
    "        \n",
    "        \"Load a wind coefficient table for a generic ship class. Datasets from ITTC\"\n",
    "        \n",
    "        #This needs to be adapted so that the paths work on any system, using pathlib.path would be a better choice\n",
    "        res = pkgutil.get_data('pyseatrials', 'wind_coef_data/'+vessel_type+'.csv')\n",
    "        \n",
    "        return pd.read_csv(BytesIO(res))\n",
    "    "
   ]
  },
  {
   "cell_type": "markdown",
   "id": "5c66fbb1-931b-4cab-b1d2-f718037c8237",
   "metadata": {},
   "source": [
    "Loading a wind resistance dataset for a specific ship type is straight forward if no other dataset is available.\n",
    "\n",
    "All datasets contain angle of attack in both radians and degrees, the subsequent columns refer to the ship state"
   ]
  },
  {
   "cell_type": "code",
   "execution_count": null,
   "id": "3748ea70-6e20-4d1e-8a61-937d3cd95b07",
   "metadata": {},
   "outputs": [
    {
     "data": {
      "text/html": [
       "<div>\n",
       "<style scoped>\n",
       "    .dataframe tbody tr th:only-of-type {\n",
       "        vertical-align: middle;\n",
       "    }\n",
       "\n",
       "    .dataframe tbody tr th {\n",
       "        vertical-align: top;\n",
       "    }\n",
       "\n",
       "    .dataframe thead th {\n",
       "        text-align: right;\n",
       "    }\n",
       "</style>\n",
       "<table border=\"1\" class=\"dataframe\">\n",
       "  <thead>\n",
       "    <tr style=\"text-align: right;\">\n",
       "      <th></th>\n",
       "      <th>angle_of_attack</th>\n",
       "      <th>angle_of_attack_degs</th>\n",
       "      <th>average</th>\n",
       "    </tr>\n",
       "  </thead>\n",
       "  <tbody>\n",
       "    <tr>\n",
       "      <th>0</th>\n",
       "      <td>0.000000</td>\n",
       "      <td>0</td>\n",
       "      <td>-0.60</td>\n",
       "    </tr>\n",
       "    <tr>\n",
       "      <th>1</th>\n",
       "      <td>0.174533</td>\n",
       "      <td>10</td>\n",
       "      <td>-0.87</td>\n",
       "    </tr>\n",
       "    <tr>\n",
       "      <th>2</th>\n",
       "      <td>0.349066</td>\n",
       "      <td>20</td>\n",
       "      <td>-1.00</td>\n",
       "    </tr>\n",
       "    <tr>\n",
       "      <th>3</th>\n",
       "      <td>0.523599</td>\n",
       "      <td>30</td>\n",
       "      <td>-1.00</td>\n",
       "    </tr>\n",
       "    <tr>\n",
       "      <th>4</th>\n",
       "      <td>0.698132</td>\n",
       "      <td>40</td>\n",
       "      <td>-0.88</td>\n",
       "    </tr>\n",
       "    <tr>\n",
       "      <th>5</th>\n",
       "      <td>0.872665</td>\n",
       "      <td>50</td>\n",
       "      <td>-0.85</td>\n",
       "    </tr>\n",
       "    <tr>\n",
       "      <th>6</th>\n",
       "      <td>1.047198</td>\n",
       "      <td>60</td>\n",
       "      <td>-0.65</td>\n",
       "    </tr>\n",
       "    <tr>\n",
       "      <th>7</th>\n",
       "      <td>1.221730</td>\n",
       "      <td>70</td>\n",
       "      <td>-0.42</td>\n",
       "    </tr>\n",
       "    <tr>\n",
       "      <th>8</th>\n",
       "      <td>1.396263</td>\n",
       "      <td>80</td>\n",
       "      <td>-0.27</td>\n",
       "    </tr>\n",
       "    <tr>\n",
       "      <th>9</th>\n",
       "      <td>1.570796</td>\n",
       "      <td>90</td>\n",
       "      <td>-0.09</td>\n",
       "    </tr>\n",
       "    <tr>\n",
       "      <th>10</th>\n",
       "      <td>1.745329</td>\n",
       "      <td>100</td>\n",
       "      <td>0.09</td>\n",
       "    </tr>\n",
       "    <tr>\n",
       "      <th>11</th>\n",
       "      <td>1.919862</td>\n",
       "      <td>110</td>\n",
       "      <td>0.49</td>\n",
       "    </tr>\n",
       "    <tr>\n",
       "      <th>12</th>\n",
       "      <td>2.094395</td>\n",
       "      <td>120</td>\n",
       "      <td>0.84</td>\n",
       "    </tr>\n",
       "    <tr>\n",
       "      <th>13</th>\n",
       "      <td>2.443461</td>\n",
       "      <td>140</td>\n",
       "      <td>1.39</td>\n",
       "    </tr>\n",
       "    <tr>\n",
       "      <th>14</th>\n",
       "      <td>2.617994</td>\n",
       "      <td>150</td>\n",
       "      <td>1.47</td>\n",
       "    </tr>\n",
       "    <tr>\n",
       "      <th>15</th>\n",
       "      <td>2.792527</td>\n",
       "      <td>160</td>\n",
       "      <td>1.34</td>\n",
       "    </tr>\n",
       "    <tr>\n",
       "      <th>16</th>\n",
       "      <td>2.967060</td>\n",
       "      <td>170</td>\n",
       "      <td>0.92</td>\n",
       "    </tr>\n",
       "    <tr>\n",
       "      <th>17</th>\n",
       "      <td>3.141593</td>\n",
       "      <td>180</td>\n",
       "      <td>0.82</td>\n",
       "    </tr>\n",
       "  </tbody>\n",
       "</table>\n",
       "</div>"
      ],
      "text/plain": [
       "    angle_of_attack  angle_of_attack_degs  average\n",
       "0          0.000000                     0    -0.60\n",
       "1          0.174533                    10    -0.87\n",
       "2          0.349066                    20    -1.00\n",
       "3          0.523599                    30    -1.00\n",
       "4          0.698132                    40    -0.88\n",
       "5          0.872665                    50    -0.85\n",
       "6          1.047198                    60    -0.65\n",
       "7          1.221730                    70    -0.42\n",
       "8          1.396263                    80    -0.27\n",
       "9          1.570796                    90    -0.09\n",
       "10         1.745329                   100     0.09\n",
       "11         1.919862                   110     0.49\n",
       "12         2.094395                   120     0.84\n",
       "13         2.443461                   140     1.39\n",
       "14         2.617994                   150     1.47\n",
       "15         2.792527                   160     1.34\n",
       "16         2.967060                   170     0.92\n",
       "17         3.141593                   180     0.82"
      ]
     },
     "execution_count": null,
     "metadata": {},
     "output_type": "execute_result"
    }
   ],
   "source": [
    "general_cargo = load_wind_coefficients(\"GENERAL_CARGO\")\n",
    "\n",
    "general_cargo"
   ]
  },
  {
   "cell_type": "markdown",
   "id": "53c5a813-d846-4b26-8b0c-bd6bb9d6cef5",
   "metadata": {},
   "source": [
    "## Interpolate the wind loading coefficients\n",
    "\n",
    "The dataset loaded previously only contains the load coefficients at specific angles. Interpolation is needed to match these coefficients to the wind acting on the ship.There are many ways to interpolate these values, `pyseatrials` uses simple linear interpolation. Linear interpolation has been chosen over other approaches as it can be vectorised and reduces package dependencies. In addition the ultimate difference, between e.g. linear vs spline interpolation, in resistive force will be small compared to the magnitude of forces acting on the ship."
   ]
  },
  {
   "cell_type": "code",
   "execution_count": null,
   "id": "63bfd310-5b9b-4ee9-ac4c-39071137dcb4",
   "metadata": {},
   "outputs": [],
   "source": [
    "#| export\n",
    "def interpolate_cx(df, #dataframe of the wind resistance dataset\n",
    "                   relative_wind_direction:float, #The angle of the wind relative to the ship [rads]\n",
    "                   ship_state:str #The state of the ship the resistance should be evaluated in. Chosen from the columns of the wind resistance datasets\n",
    ")->float: # The dimensionless wind resistance coefficient\n",
    "    \n",
    "    \"Find a linearly interpolated value for wind resistance coefficient\"\n",
    "    \n",
    "    return np.interp(relative_wind_direction, df.angle_of_attack, df[ship_state])"
   ]
  },
  {
   "cell_type": "markdown",
   "id": "9f237316-0adc-4d13-aef9-eae1c998bc17",
   "metadata": {},
   "source": [
    "Using the example of the general cargo ship using four different wind direction scenarios (0, 55, 180, 280 degrees) we get the interpolated loading coefficients.\n",
    "Some ships have data for different states such as 'laden' and 'ballast' the General Cargo dataset only has a single state 'average'."
   ]
  },
  {
   "cell_type": "code",
   "execution_count": null,
   "id": "80804e83-4cad-44cc-8980-1df3765ee4c4",
   "metadata": {},
   "outputs": [
    {
     "name": "stdout",
     "output_type": "stream",
     "text": [
      "[-0.6  -0.75  0.84  0.82]\n"
     ]
    }
   ],
   "source": [
    "degs = [0, 55, 120, 180 ]\n",
    "rads = np.deg2rad(degs) #convert the degrees to radians\n",
    "cx_vals = interpolate_cx(general_cargo, rads, 'average')\n",
    "print(cx_vals)"
   ]
  },
  {
   "cell_type": "code",
   "execution_count": null,
   "id": "f52064d5-2b8f-4b86-aaa3-e4cd353471f7",
   "metadata": {},
   "outputs": [],
   "source": [
    "import pandas as pd"
   ]
  },
  {
   "cell_type": "code",
   "execution_count": null,
   "id": "a5e2dfd0-d144-4207-85fd-4cc734bae566",
   "metadata": {},
   "outputs": [],
   "source": [
    "#| hide\n",
    "#sanity check tests\n",
    "test_df = pd.DataFrame({'angle_of_attack': [0, 2], 'cx':[0, 100]})\n",
    "test_eq(interpolate_cx(test_df, 0, 'cx'), 0)\n",
    "test_eq(interpolate_cx(test_df, 2, 'cx'), 100)"
   ]
  },
  {
   "cell_type": "markdown",
   "id": "b224df33-8f19-47f3-ad27-910999405d57",
   "metadata": {},
   "source": [
    "The wind resistance coefficients can then be used to find the actual wind resistance experienced by the ship"
   ]
  },
  {
   "cell_type": "code",
   "execution_count": null,
   "id": "09c58b4e-23a3-400e-9473-4dfadef103a9",
   "metadata": {},
   "outputs": [],
   "source": [
    "from pyseatrials.general import *"
   ]
  },
  {
   "cell_type": "code",
   "execution_count": null,
   "id": "f01a155d-3010-4d87-add2-8d9638268ece",
   "metadata": {},
   "outputs": [
    {
     "name": "stdout",
     "output_type": "stream",
     "text": [
      "[-54. -72. 119. 116.]\n"
     ]
    }
   ],
   "source": [
    "wind_resistance_linear = wind_resistance(air_density = 1.2,\n",
    "                   wind_resistance_coef_rel = cx_vals,\n",
    "                   wind_resistance_coef_zero = cx_vals[0],\n",
    "                   area = 500,\n",
    "                   relative_wind_speed = 20,\n",
    "                   sog = 10)\n",
    "\n",
    "#convert to kN\n",
    "resistance_linear_kN = np.round(wind_resistance_linear/1000)\n",
    "print(resistance_linear_kN )"
   ]
  },
  {
   "cell_type": "markdown",
   "id": "0ab72bd9-3834-4430-b492-333de054142d",
   "metadata": {},
   "source": [
    "Other interpolations methods can be used such as spline interpolation from the `scipy` library."
   ]
  },
  {
   "cell_type": "code",
   "execution_count": null,
   "id": "a0740e14-52e7-42fc-9dc7-b7fe54148e70",
   "metadata": {},
   "outputs": [],
   "source": [
    "from scipy.interpolate import make_interp_spline"
   ]
  },
  {
   "cell_type": "code",
   "execution_count": null,
   "id": "15ef7826-9284-49ff-b22a-aeb195b33ab8",
   "metadata": {},
   "outputs": [],
   "source": [
    "cx_spline = make_interp_spline(general_cargo['angle_of_attack'], general_cargo['average'] )\n"
   ]
  },
  {
   "cell_type": "markdown",
   "id": "b8a21509-e8e8-4dc7-b9de-0275ffdf5fe2",
   "metadata": {},
   "source": [
    "The difference between the load coefficients produced by the two models can be shown in the plot below. Across the full range there is almost no difference."
   ]
  },
  {
   "cell_type": "code",
   "execution_count": null,
   "id": "5b14fe2b-edfc-4491-94ea-e72d85f011b8",
   "metadata": {},
   "outputs": [],
   "source": [
    "import matplotlib.pyplot as plt"
   ]
  },
  {
   "cell_type": "code",
   "execution_count": null,
   "id": "cb9309ee-aaad-44b4-ab5b-10926dfc2118",
   "metadata": {},
   "outputs": [
    {
     "data": {
      "image/png": "[encoded data removed]",
      "text/plain": [
       "<Figure size 432x288 with 1 Axes>"
      ]
     },
     "metadata": {
      "needs_background": "light"
     },
     "output_type": "display_data"
    }
   ],
   "source": [
    "xs = np.linspace(-3, 3, 100)\n",
    "xvals = np.linspace(0, np.pi, 50)\n",
    "yinterp_lin = np.interp(xvals, general_cargo['angle_of_attack'], general_cargo['average'])\n",
    "yinterp_spline = cx_spline(xvals)\n",
    "plt.plot(general_cargo['angle_of_attack'], general_cargo['average'], 'ro')\n",
    "plt.plot(xvals, yinterp_lin,'g-', lw=1, label='Linear')\n",
    "plt.plot(xvals, yinterp_spline,'b-', lw=1, label='Linear')\n",
    "plt.legend(loc='best')\n",
    "plt.show()"
   ]
  },
  {
   "cell_type": "markdown",
   "id": "18580ab6-7247-4860-afc3-2fefd2416be0",
   "metadata": {},
   "source": [
    "The difference in terms of actual resistive force between linear and spline interpolation is also very small."
   ]
  },
  {
   "cell_type": "code",
   "execution_count": null,
   "id": "0f9a89ca-b8ea-4f84-ba24-e781f873176f",
   "metadata": {},
   "outputs": [
    {
     "name": "stdout",
     "output_type": "stream",
     "text": [
      "difference in kN between the two interpolation methods for all 4 angles of attack [0. 2. 0. 0.]\n"
     ]
    }
   ],
   "source": [
    "wind_resistiance_spline = wind_resistance(air_density = 1.2,\n",
    "                   wind_resistance_coef_rel = cx_spline(rads),\n",
    "                   wind_resistance_coef_zero = cx_spline(rads)[0],\n",
    "                   area = 500,\n",
    "                   relative_wind_speed = 20,\n",
    "                   sog = 10)\n",
    "#convert to kN\n",
    "resitance_spline_kN = np.round(wind_resistiance_spline/1000)\n",
    "\n",
    "#difference in wind resistance between the two models in kN\n",
    "print('difference in kN between the two interpolation methods for all 4 angles of attack '+str(resistance_linear_kN - resitance_spline_kN))"
   ]
  }
 ],
 "metadata": {
  "kernelspec": {
   "display_name": "Python 3",
   "language": "python",
   "name": "python3"
  }
 },
 "nbformat": 4,
 "nbformat_minor": 5
}
