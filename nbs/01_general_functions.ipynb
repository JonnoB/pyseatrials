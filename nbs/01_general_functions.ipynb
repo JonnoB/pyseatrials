{
 "cells": [
  {
   "cell_type": "code",
   "execution_count": null,
   "id": "e0334fcc-9251-4292-92fa-e9479f7d81bd",
   "metadata": {},
   "outputs": [],
   "source": [
    "#| default_exp general"
   ]
  },
  {
   "cell_type": "markdown",
   "id": "a3a22059-23a1-4166-a125-422b5a506513",
   "metadata": {},
   "source": [
    "# General Functions\n",
    "\n",
    "The functions in this module are not specific to any of the ITTC appendices"
   ]
  },
  {
   "cell_type": "code",
   "execution_count": null,
   "id": "b2ced16e-6afb-47b4-bcef-bca33e556372",
   "metadata": {},
   "outputs": [],
   "source": [
    "#| hide\n",
    "from nbdev.showdoc import *"
   ]
  },
  {
   "cell_type": "code",
   "execution_count": null,
   "id": "ce0a62d5-61d4-4d26-9cee-a60af7f0c61e",
   "metadata": {},
   "outputs": [],
   "source": [
    "#| export\n",
    "import numpy as np\n",
    "import pandas as pd\n",
    "from fastcore.test import *\n",
    "import pkgutil\n",
    "from io import BytesIO"
   ]
  },
  {
   "cell_type": "markdown",
   "id": "1d86f5d3-e61c-46c4-bc9b-ac57c864fba7",
   "metadata": {},
   "source": [
    "## Conversion between knots and meters per second\n",
    "\n",
    "As many of the functions in this library require SI units it can be helpful to have a knots-m/s converter and vice-versa.\n"
   ]
  },
  {
   "cell_type": "code",
   "execution_count": null,
   "id": "1c9a4345-d033-4f36-a14e-38228502cbd1",
   "metadata": {},
   "outputs": [],
   "source": [
    "#| export\n",
    "def knots_to_ms(knots:float #the speed in knots\n",
    "               ) -> float: #speed in m/s\n",
    "    \n",
    "    \"convert knots to m/s\"\n",
    "    \n",
    "    return knots/1.943844"
   ]
  },
  {
   "cell_type": "code",
   "execution_count": null,
   "id": "63d287f1-771a-4dbe-981d-f392b32b859b",
   "metadata": {},
   "outputs": [],
   "source": [
    "#| export\n",
    "def ms_to_knots(ms:float #the speed in m/s\n",
    "               ) -> float: #speed in knots\n",
    "    \n",
    "    \"convert knots to m/s\"\n",
    "    \n",
    "    return ms * 1.943844"
   ]
  },
  {
   "cell_type": "markdown",
   "id": "34a4302e-3e09-4898-9837-baa7c3f6807a",
   "metadata": {},
   "source": [
    "Using these simple functions we can easily convert between knots and m/s"
   ]
  },
  {
   "cell_type": "code",
   "execution_count": null,
   "id": "413035bd-c90f-406b-92f9-530d54156595",
   "metadata": {},
   "outputs": [
    {
     "name": "stdout",
     "output_type": "stream",
     "text": [
      "speed converted to meters per second 2.572222873852017\n",
      "speed converted back into knots 5.0\n"
     ]
    }
   ],
   "source": [
    "#convert knots to m/s\n",
    "meters_per_second = knots_to_ms(5)\n",
    "print('speed converted to meters per second '+str(meters_per_second))\n",
    "#convert back to knots\n",
    "knots = ms_to_knots(meters_per_second)\n",
    "print('speed converted back into knots '+str(knots))"
   ]
  },
  {
   "cell_type": "code",
   "execution_count": null,
   "id": "5e505f4d-afbf-4ba4-a6d7-51ebb66e8239",
   "metadata": {},
   "outputs": [],
   "source": [
    "#| hide\n",
    "#check the two functions are invserse of each other\n",
    "test_eq(ms_to_knots(knots_to_ms(5)),5)"
   ]
  },
  {
   "cell_type": "markdown",
   "id": "75beed5c-f160-41ca-8bc7-6cecb45d60f0",
   "metadata": {},
   "source": [
    "## Wind resistance\n",
    "\n",
    "The resistance experienced by the ship as a result of passing through air.\n",
    "\n",
    "$$R_{AA} = \\frac{1}{2} \\rho_A A_{XV} \\left ( C_{DA}(\\psi_{WREF})  V_{WREF}^2 - C_{DA}(0)  V_{G}^2 \\right),$$ \n",
    "where $\\rho_A$ is the density of air, $C_{DA}$ is the wind resistance coefficient, $A_{XV}$ is the area of maximum transverse section exposed to the wind, $\\psi_{WREF}$ relative direction of the wind, $V_{WREF}$ relative wind speed, and $V_G$ is the speed over ground.\n",
    "\n",
    "The formula calculates resistance experienced by the ship when there is no wind and all resistance comes from the movement of the ship itself. This value is then subtracted from the wind resistance experienced by the ship during the trial. Put this way it is clear that the equation finds the difference between the wind resistance on a still day and on the day of the trial.\n",
    "\n",
    ":::{.callout-note}\n",
    "The ITTC manual notes that values of $C_{DA}(x)$ from the tables in `load_wind_coefficients` need to be reversed when enetering into the wind resistance formula, that is $C_{DA}= -C_x$. For consistancy the same must be done here\n",
    ":::\n",
    "\n",
    "**ITTC equations**: 9"
   ]
  },
  {
   "cell_type": "code",
   "execution_count": null,
   "id": "b2c4a21f-c717-436c-8428-bf605d4d5e76",
   "metadata": {},
   "outputs": [],
   "source": [
    "#| export\n",
    "def wind_resistance(air_density:float, #Air density [kg/$m^3$]\n",
    "                   wind_resistance_coef_rel:float, #the coefficient of wind resistance using the relative angle of the wind\n",
    "                   wind_resistance_coef_zero:float, #the coefficient of wind resistance using angle 0 radians\n",
    "                   area:float, #The maximum transverse area of the ship exposed to the wind [m^2]\n",
    "                   relative_wind_speed:float, #Relative wind speed [m/s]\n",
    "                   sog:float #speed over ground [m/s]\n",
    "                   \n",
    "                  )->float: #Air resistance [N]\n",
    "    \"Calculates the air resistance. N.B. SI units must be used. Do not use knots\"\n",
    "    \n",
    "    wind_resistance_val = 0.5*air_density*area*(wind_resistance_coef_rel*relative_wind_speed**2 - wind_resistance_coef_zero*sog**2)\n",
    "    \n",
    "    return wind_resistance_val"
   ]
  },
  {
   "cell_type": "markdown",
   "id": "cdad8a25-f613-4cb1-8210-06b72163feda",
   "metadata": {},
   "source": [
    "What is the air resistance experienced by a cruise ferry with a tranverse area of 500$m^2$ travelling at 20 knots with a relative wind of 10 knots and a relative wind angle of $45^\\circ$"
   ]
  },
  {
   "cell_type": "code",
   "execution_count": null,
   "id": "6b864e79-4bb8-424d-a0b4-86233bf98e5a",
   "metadata": {},
   "outputs": [
    {
     "data": {
      "text/plain": [
       "-19213.8238090769"
      ]
     },
     "execution_count": null,
     "metadata": {},
     "output_type": "execute_result"
    }
   ],
   "source": [
    "sog_ms = knots_to_ms(20)\n",
    "wind_speed_ms = knots_to_ms(10)\n",
    "\n",
    "wind_resistance(1.2, 0.34, 0.69, 500, wind_speed_ms, sog_ms)"
   ]
  },
  {
   "cell_type": "code",
   "execution_count": null,
   "id": "9cdfbced-85b6-4bd7-b5f3-a68fd4eeef75",
   "metadata": {},
   "outputs": [],
   "source": [
    "#| hide\n",
    "\n",
    "sog_ms = knots_to_ms(20)\n",
    "wind_speed_ms = knots_to_ms(10)\n",
    "test_close(wind_resistance(1.2, 0.34, 0.69, 500, wind_speed_ms, sog_ms),-19213, eps = 1e0 )"
   ]
  },
  {
   "cell_type": "markdown",
   "id": "0a5bdc7e-56c5-47a0-9ab8-f8069bb1670f",
   "metadata": {},
   "source": [
    "## Resistance due to water temperature and salinity\n",
    "\n",
    "The temperature and salt content of the water affect its density. As such, they also affect the ship resistance. \n",
    "\n",
    "$$R_{AS} = R_{T0}  \\left( \\frac{\\rho_S}{\\rho_0} -1  \\right) - R_F \\left( \\frac{C_{F0} + \\Delta C_{F0}}{C_{F} + \\Delta C_{F}} -1\\right)$$\n",
    "\n",
    "and\n",
    "\n",
    "- $R_F = \\frac{1}{2} \\rho_S S V_S^2 (C_F + \\Delta C_F) $\n",
    "- $R_{T0} = \\frac{1}{2} \\rho_0 S V_S^2 C_{T0} $\n",
    "\n",
    "The below function taken from section 10.3.3 of the ITTC corrects the sea water temperature, and salt content to be that of the appropriate reference values. \n",
    "\n",
    "| variable    | reference value     |\n",
    "|-------------|---------------------|\n",
    "| temperature | $15^\\circ \\text{C}$ |\n",
    "| Density     | 1026$kg/m^3$        |\n",
    "\n",
    "The coefficients of roughness used in the function are derived from ITTC Recommended Procedures 7.5-02-03-01.4\n",
    "\n",
    "The values of CF and CF0 can be obtained using the `CF_fn` function. The values of delta_CF and delta_CF0 and be found using the `roughness_allowance_fn`\n",
    "\n",
    "\n",
    "**ITTC equations**: 16\n"
   ]
  },
  {
   "cell_type": "code",
   "execution_count": null,
   "id": "3471dc04-b2f8-4d2f-8599-b63d6cb2f89c",
   "metadata": {},
   "outputs": [],
   "source": [
    "#| export\n",
    "def temp_salinity_water_resistance(CF:float, #frictional resistance coefficient for actual water temperature and salinity\n",
    "                                   CF0:float, #frictional resistance coefficient for reference water temperature and salinity\n",
    "                                   delta_CF:float, #roughness allowance associated with Reynolds number for actual water temperature and salinity\n",
    "                                   delta_CF0:float,#roughness allowance associated with Reynolds number for reference water temperature and salinity\n",
    "                                   CT0:float, #total resistance coefficient for reference water temperature and salinity\n",
    "                                   S:float, #wetted surface area [m2]\n",
    "                                   stw:float, #ship’s speed through the water [m/s]\n",
    "                                   rho_S:float, #water density for actual water temperature and salt content [kg/m3 ]\n",
    "                                   rho_0:float = 1026 #water density for reference water temperature and salt content                                  \n",
    "                                  )-> float: #resistance increase due to deviation of water temperature and water density [N]\n",
    "    \n",
    "    \"Resistance due to water temperature and salinity corrected relative to the reference values\"\n",
    "    \n",
    "    #This function can be re-written into sub-parts and all the sub-parts ouputted in a results matrix. \n",
    "    #Would this be useful?\n",
    "    RF = 0.5 * rho_S* S * stw**2 * (CF + delta_CF)\n",
    "    RT0 = 0.5 * rho_0 * S * stw**2 * CT0\n",
    "    \n",
    "    RAS =  RT0 * ( rho_S/rho_0 - 1 ) - RF* ( (CF0 + delta_CF0)/(CF + delta_CF) - 1 )\n",
    "    \n",
    "    return RAS\n",
    "    "
   ]
  },
  {
   "cell_type": "markdown",
   "id": "112c59f5-c964-4a4a-b4cd-d01106a69b98",
   "metadata": {},
   "source": [
    "I have absolutely no idea what sensible values should look like, so this function will need to wait for beta testing, before the documentation can be complete\n",
    "\n",
    "Also this function will probably need to point to some other functions for calculating the roughness coefficents."
   ]
  },
  {
   "cell_type": "code",
   "execution_count": null,
   "id": "80fb8927-b821-4c10-a712-91c796d21917",
   "metadata": {},
   "outputs": [
    {
     "data": {
      "text/plain": [
       "669.9999999998915"
      ]
     },
     "execution_count": null,
     "metadata": {},
     "output_type": "execute_result"
    }
   ],
   "source": [
    "temp_salinity_water_resistance(CF = 1.501e-3, CF0 = 1.5e-3, delta_CF = 2.12e-4, delta_CF0 = 2.1e-4, \n",
    "                               CT0 = 1.4e-3, S = 8000, stw = 10, rho_S = 1025, rho_0 = 1026)"
   ]
  },
  {
   "cell_type": "code",
   "execution_count": null,
   "id": "c15b48b8-8578-43ce-bcd2-744f9f7f1c29",
   "metadata": {},
   "outputs": [],
   "source": [
    "#| hide\n",
    "\n",
    "#both parts of the equation cancel as CF +delta_CF = CF0 +delta_CF0 AND rho_S = rho_0\n",
    "test_eq(temp_salinity_water_resistance(CF = 1, CF0 = 1, delta_CF = 0.2, delta_CF0 = 0.2, CT0 = 1.4e-3, S = 2000, stw = 10, rho_S = 1026, rho_0 = 1026),0)\n",
    "\n",
    "# CF +delta_CF = CF0 +delta_CF0 \n",
    "test_eq(temp_salinity_water_resistance(CF = 1, CF0 = 1, delta_CF = 0, delta_CF0 = 0, CT0 = 2, S = 10, stw = 10, rho_S = 2, rho_0 = 1), 1000)\n",
    "\n",
    "#densities the same\n",
    "test_eq(temp_salinity_water_resistance(CF = 1, CF0 = 2, delta_CF = 0, delta_CF0 = 0, CT0 = 1.4e-3, S = 200, stw = 10, rho_S = 1, rho_0 = 1),-10000)"
   ]
  },
  {
   "cell_type": "markdown",
   "id": "de805739-dd17-41e2-b2c7-154f1f5aa25c",
   "metadata": {},
   "source": [
    "## Load example data\n",
    "\n",
    "There are some example datasets included in this library to help with understanding the process of evaluating seatrials. Loading the data uses the following function"
   ]
  },
  {
   "cell_type": "code",
   "execution_count": null,
   "id": "68a461c9-a382-4786-8792-a474fa059c41",
   "metadata": {},
   "outputs": [],
   "source": [
    "#| export\n",
    "def load_datasets(dataset:str #The name of the dataset to load\n",
    "                     ): #returns a dataframe containing example data\n",
    "        \n",
    "        \"Load example datasets to try out the pyseatrials functions\"\n",
    "        \n",
    "        #This needs to be adapted so that the paths work on any system, using pathlib.path would be a better choice\n",
    "        res = pkgutil.get_data('pyseatrials', 'datasets/'+dataset+'.csv')\n",
    "        \n",
    "        return pd.read_csv(BytesIO(res))"
   ]
  },
  {
   "cell_type": "markdown",
   "id": "6bf1553b-0f53-4cdf-b6e3-1f7cdd18d31a",
   "metadata": {},
   "source": [
    "The propeller advance dataset contains the propeller advance curve for the coefficient of torque and the coefficient of thrust coefficient for an imaginary ship"
   ]
  },
  {
   "cell_type": "code",
   "execution_count": null,
   "id": "04b16687-46b6-4734-8c42-0077b8af646d",
   "metadata": {},
   "outputs": [
    {
     "data": {
      "text/html": [
       "<div>\n",
       "<style scoped>\n",
       "    .dataframe tbody tr th:only-of-type {\n",
       "        vertical-align: middle;\n",
       "    }\n",
       "\n",
       "    .dataframe tbody tr th {\n",
       "        vertical-align: top;\n",
       "    }\n",
       "\n",
       "    .dataframe thead th {\n",
       "        text-align: right;\n",
       "    }\n",
       "</style>\n",
       "<table border=\"1\" class=\"dataframe\">\n",
       "  <thead>\n",
       "    <tr style=\"text-align: right;\">\n",
       "      <th></th>\n",
       "      <th>J</th>\n",
       "      <th>K_T</th>\n",
       "      <th>K_Q</th>\n",
       "    </tr>\n",
       "  </thead>\n",
       "  <tbody>\n",
       "    <tr>\n",
       "      <th>0</th>\n",
       "      <td>0.30</td>\n",
       "      <td>0.300</td>\n",
       "      <td>0.038</td>\n",
       "    </tr>\n",
       "    <tr>\n",
       "      <th>1</th>\n",
       "      <td>0.35</td>\n",
       "      <td>0.270</td>\n",
       "      <td>0.036</td>\n",
       "    </tr>\n",
       "    <tr>\n",
       "      <th>2</th>\n",
       "      <td>0.40</td>\n",
       "      <td>0.260</td>\n",
       "      <td>0.034</td>\n",
       "    </tr>\n",
       "    <tr>\n",
       "      <th>3</th>\n",
       "      <td>0.45</td>\n",
       "      <td>0.240</td>\n",
       "      <td>0.032</td>\n",
       "    </tr>\n",
       "    <tr>\n",
       "      <th>4</th>\n",
       "      <td>0.50</td>\n",
       "      <td>0.210</td>\n",
       "      <td>0.030</td>\n",
       "    </tr>\n",
       "    <tr>\n",
       "      <th>5</th>\n",
       "      <td>0.55</td>\n",
       "      <td>0.200</td>\n",
       "      <td>0.028</td>\n",
       "    </tr>\n",
       "    <tr>\n",
       "      <th>6</th>\n",
       "      <td>0.60</td>\n",
       "      <td>0.195</td>\n",
       "      <td>0.026</td>\n",
       "    </tr>\n",
       "    <tr>\n",
       "      <th>7</th>\n",
       "      <td>0.65</td>\n",
       "      <td>0.170</td>\n",
       "      <td>0.023</td>\n",
       "    </tr>\n",
       "    <tr>\n",
       "      <th>8</th>\n",
       "      <td>0.70</td>\n",
       "      <td>0.150</td>\n",
       "      <td>0.021</td>\n",
       "    </tr>\n",
       "    <tr>\n",
       "      <th>9</th>\n",
       "      <td>0.75</td>\n",
       "      <td>0.130</td>\n",
       "      <td>0.020</td>\n",
       "    </tr>\n",
       "    <tr>\n",
       "      <th>10</th>\n",
       "      <td>0.80</td>\n",
       "      <td>0.090</td>\n",
       "      <td>0.016</td>\n",
       "    </tr>\n",
       "    <tr>\n",
       "      <th>11</th>\n",
       "      <td>0.85</td>\n",
       "      <td>0.080</td>\n",
       "      <td>0.013</td>\n",
       "    </tr>\n",
       "  </tbody>\n",
       "</table>\n",
       "</div>"
      ],
      "text/plain": [
       "       J    K_T    K_Q\n",
       "0   0.30  0.300  0.038\n",
       "1   0.35  0.270  0.036\n",
       "2   0.40  0.260  0.034\n",
       "3   0.45  0.240  0.032\n",
       "4   0.50  0.210  0.030\n",
       "5   0.55  0.200  0.028\n",
       "6   0.60  0.195  0.026\n",
       "7   0.65  0.170  0.023\n",
       "8   0.70  0.150  0.021\n",
       "9   0.75  0.130  0.020\n",
       "10  0.80  0.090  0.016\n",
       "11  0.85  0.080  0.013"
      ]
     },
     "execution_count": null,
     "metadata": {},
     "output_type": "execute_result"
    }
   ],
   "source": [
    "propeller_advance_df = load_datasets(\"propeller_advance_lookup\")\n",
    "propeller_advance_df"
   ]
  },
  {
   "cell_type": "markdown",
   "id": "9bd4c0f7-3b36-4546-bb11-e7258d277606",
   "metadata": {},
   "source": [
    "Plotting the dataset reveals a simple line from experimental data"
   ]
  },
  {
   "cell_type": "code",
   "execution_count": null,
   "id": "dfe9e1e6-ae3b-4d4f-a465-c3ebff2abc71",
   "metadata": {},
   "outputs": [],
   "source": [
    "import matplotlib.pyplot as plt"
   ]
  },
  {
   "cell_type": "code",
   "execution_count": null,
   "id": "2070b00c-2d17-494e-b9b5-31d460eb7438",
   "metadata": {},
   "outputs": [
    {
     "data": {
      "text/plain": [
       "[<matplotlib.lines.Line2D>]"
      ]
     },
     "execution_count": null,
     "metadata": {},
     "output_type": "execute_result"
    },
    {
     "data": {
      "image/png": "[encoded data removed]",
      "text/plain": [
       "<Figure size 432x288 with 1 Axes>"
      ]
     },
     "metadata": {
      "needs_background": "light"
     },
     "output_type": "display_data"
    }
   ],
   "source": [
    "plt.plot(propeller_advance_df['J'], propeller_advance_df['K_T'],'b-', lw=1, label='Linear')"
   ]
  },
  {
   "cell_type": "code",
   "execution_count": null,
   "id": "98a481bc-d1bb-45b1-b061-2eab81563a0a",
   "metadata": {},
   "outputs": [],
   "source": [
    "#| hide\n",
    "import nbdev; nbdev.nbdev_export()"
   ]
  }
 ],
 "metadata": {
  "kernelspec": {
   "display_name": "Python 3 (ipykernel)",
   "language": "python",
   "name": "python3"
  }
 },
 "nbformat": 4,
 "nbformat_minor": 5
}
