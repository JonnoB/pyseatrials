{
 "cells": [
  {
   "cell_type": "code",
   "execution_count": null,
   "id": "e0334fcc-9251-4292-92fa-e9479f7d81bd",
   "metadata": {},
   "outputs": [],
   "source": [
    "#| default_exp general"
   ]
  },
  {
   "cell_type": "markdown",
   "id": "a3a22059-23a1-4166-a125-422b5a506513",
   "metadata": {},
   "source": [
    "# General Functions\n",
    "\n",
    "The functions in this module are not specific to any of the ITTC appendices"
   ]
  },
  {
   "cell_type": "code",
   "execution_count": null,
   "id": "b2ced16e-6afb-47b4-bcef-bca33e556372",
   "metadata": {},
   "outputs": [],
   "source": [
    "#| hide\n",
    "from nbdev.showdoc import *"
   ]
  },
  {
   "cell_type": "code",
   "execution_count": null,
   "id": "ce0a62d5-61d4-4d26-9cee-a60af7f0c61e",
   "metadata": {},
   "outputs": [],
   "source": [
    "#| export\n",
    "import numpy as np\n",
    "import pandas as pd\n",
    "from fastcore.test import *"
   ]
  },
  {
   "cell_type": "markdown",
   "id": "1d86f5d3-e61c-46c4-bc9b-ac57c864fba7",
   "metadata": {},
   "source": [
    "## Conversion between knots and meters per second\n",
    "\n",
    "As many of the functions in this library require SI units it can be helpful to have a knots-m/s converter and vice-versa."
   ]
  },
  {
   "cell_type": "code",
   "execution_count": null,
   "id": "1c9a4345-d033-4f36-a14e-38228502cbd1",
   "metadata": {},
   "outputs": [],
   "source": [
    "#| export\n",
    "def knots_to_ms(knots:float #the speed in knots\n",
    "               ) -> float: #speed in m/s\n",
    "    \n",
    "    \"convert knots to m/s\"\n",
    "    \n",
    "    return knots/1.943844"
   ]
  },
  {
   "cell_type": "code",
   "execution_count": null,
   "id": "63d287f1-771a-4dbe-981d-f392b32b859b",
   "metadata": {},
   "outputs": [],
   "source": [
    "#| export\n",
    "def ms_to_knots(ms:float #the speed in m/s\n",
    "               ) -> float: #speed in knots\n",
    "    \n",
    "    \"convert knots to m/s\"\n",
    "    \n",
    "    return ms * 1.943844"
   ]
  },
  {
   "cell_type": "markdown",
   "id": "34a4302e-3e09-4898-9837-baa7c3f6807a",
   "metadata": {},
   "source": [
    "Using these simple functions we can easily convert between knots and m/s"
   ]
  },
  {
   "cell_type": "code",
   "execution_count": null,
   "id": "413035bd-c90f-406b-92f9-530d54156595",
   "metadata": {},
   "outputs": [
    {
     "name": "stdout",
     "output_type": "stream",
     "text": [
      "speed converted to meters per second 2.572222873852017\n",
      "speed converted back into knots 5.0\n"
     ]
    }
   ],
   "source": [
    "#convert knots to m/s\n",
    "meters_per_second = knots_to_ms(5)\n",
    "print('speed converted to meters per second '+str(meters_per_second))\n",
    "#convert back to knots\n",
    "knots = ms_to_knots(meters_per_second)\n",
    "print('speed converted back into knots '+str(knots))"
   ]
  },
  {
   "cell_type": "code",
   "execution_count": null,
   "id": "5e505f4d-afbf-4ba4-a6d7-51ebb66e8239",
   "metadata": {},
   "outputs": [],
   "source": [
    "#| hide\n",
    "#check the two functions are invserse of each other\n",
    "test_eq(ms_to_knots(knots_to_ms(5)),5)"
   ]
  },
  {
   "cell_type": "markdown",
   "id": "75beed5c-f160-41ca-8bc7-6cecb45d60f0",
   "metadata": {},
   "source": [
    "## Air resistance\n",
    "\n",
    "The resistance experienced by the ship as a result of passing through air.\n",
    "\n",
    "equivalent to equation 9 of ITTC"
   ]
  },
  {
   "cell_type": "code",
   "execution_count": null,
   "id": "b2c4a21f-c717-436c-8428-bf605d4d5e76",
   "metadata": {},
   "outputs": [],
   "source": [
    "#| export\n",
    "def air_resistance(air_density:float, #Air density [kg/$m^3$]\n",
    "                   wind_resistance_coef_rel:float, #the coefficient of wind resistance using the relative angle of the wind\n",
    "                   wind_resistance_coef_zero:float, #the coefficient of wind resistance using angle 0 radians\n",
    "                   area:float, #The maximum transverse area of the ship exposed to the wind [m^2]\n",
    "                   relative_wind_speed:float, #Relative wind speed [m/s]\n",
    "                   sog:float #speed over ground [m/s]\n",
    "                   \n",
    "                  )->float: #Air resistance [N]\n",
    "    \"Calculates the air resistance. N.B. SI units must be used. Do not use knots\"\n",
    "    \n",
    "    wind_resistance = 0.5*air_density*area*(wind_resistance_coef_rel*relative_wind_speed**2 - wind_resistance_coef_zero*sog**2)\n",
    "    \n",
    "    return wind_resistance"
   ]
  },
  {
   "cell_type": "markdown",
   "id": "cdad8a25-f613-4cb1-8210-06b72163feda",
   "metadata": {},
   "source": [
    "What is the air resistance experienced by a cruise ferry with a tranverse area of 500$m^2$ travelling at 20 knots with a relative wind of 10 knots and a relative wind angle of $45^\\circ$"
   ]
  },
  {
   "cell_type": "code",
   "execution_count": null,
   "id": "6b864e79-4bb8-424d-a0b4-86233bf98e5a",
   "metadata": {},
   "outputs": [
    {
     "data": {
      "text/plain": [
       "-19213.8238090769"
      ]
     },
     "execution_count": null,
     "metadata": {},
     "output_type": "execute_result"
    }
   ],
   "source": [
    "sog_ms = knots_to_ms(20)\n",
    "wind_speed_ms = knots_to_ms(10)\n",
    "\n",
    "air_resistance(1.2, 0.34, 0.69, 500, wind_speed_ms, sog_ms)"
   ]
  },
  {
   "cell_type": "code",
   "execution_count": null,
   "id": "2c18de9c-cb5d-4258-a862-5b5bea42703c",
   "metadata": {},
   "outputs": [],
   "source": [
    "#| hide\n",
    "#Function needs some test "
   ]
  },
  {
   "cell_type": "code",
   "execution_count": null,
   "id": "9cdfbced-85b6-4bd7-b5f3-a68fd4eeef75",
   "metadata": {},
   "outputs": [],
   "source": [
    "#| hide\n",
    "#what test should I put in here?\n",
    "sog_ms = knots_to_ms(20)\n",
    "wind_speed_ms = knots_to_ms(10)\n",
    "test_close(air_resistance(1.2, 0.34, 0.69, 500, wind_speed_ms, sog_ms),-19213, eps = 1e0 )"
   ]
  },
  {
   "cell_type": "markdown",
   "id": "0a5bdc7e-56c5-47a0-9ab8-f8069bb1670f",
   "metadata": {},
   "source": [
    "## Resistance due to water temperature and salinity\n",
    "\n",
    "The temperature and salt content of the water affect its density. As such, they also affect the ship resistance. The below function taken from section 10.3.3 of the ITTC corrects the sea water temperature, and salt content to be that of the appropriate reference values. \n",
    "\n",
    "| variable    | reference value     |\n",
    "|-------------|---------------------|\n",
    "| temperature | $15^\\circ \\text{C}$ |\n",
    "| Density     | 1026$kg/m^3$        |\n",
    "\n",
    "The coefficients of roughness used in the function are derived from ITTC Recommended Procedures 7.5-02-03-01.4"
   ]
  },
  {
   "cell_type": "code",
   "execution_count": null,
   "id": "3471dc04-b2f8-4d2f-8599-b63d6cb2f89c",
   "metadata": {},
   "outputs": [],
   "source": [
    "#| export\n",
    "def temp_salinity_water_resistance(CF:float, #frictional resistance coefficient for actual water temperature and salinity\n",
    "                                   CF0:float, #frictional resistance coefficient for reference water temperature and salinity\n",
    "                                   delta_CF:float, #roughness allowance associated with Reynolds number for actual water temperature and salinity\n",
    "                                   delta_CF0:float,#roughness allowance associated with Reynolds number for reference water temperature and salinity\n",
    "                                   CT0:float, #total resistance coefficient for reference water temperature and salinity\n",
    "                                   #RF:float, #frictional resistance for actual water temperature and salt content [N]\n",
    "                                   #RF0:float, #frictional resistance for reference water temperature and salt content [N]\n",
    "                                   #RT0:float, #total resistance for reference water temperature and salt content [N]\n",
    "                                   S:float, #wetted surface area [m2]\n",
    "                                   VS:float, #ship’s speed through the water [m/s]\n",
    "                                   rho_S:float, #water density for actual water temperature and salt content [kg/m3 ]\n",
    "                                   rho_0:float = 1026 #water density for reference water temperature and salt content                                  \n",
    "                                  )-> float: #resistance increase due to deviation of water temperature and water density [N]\n",
    "    \n",
    "    \"Resistance due to water temperature and salinity corrected relative to the reference values\"\n",
    "    \n",
    "    #This function can be re-written into sub-parts and all the sub-parts ouputted in a results matrix. \n",
    "    #Would this be useful?\n",
    "    RF = 0.5 * rho_S* S * VS**2 * (CF + delta_CF)\n",
    "    RT0 = 0.5 * rho_0 * S * VS**2 * CT0\n",
    "    \n",
    "    RAS =  RT0 * ( rho_S/rho_0 - 1 ) - RF* ( (CF0 + delta_CF0)/(CF + delta_CF) - 1 )\n",
    "    \n",
    "    return RAS\n",
    "    "
   ]
  },
  {
   "cell_type": "markdown",
   "id": "112c59f5-c964-4a4a-b4cd-d01106a69b98",
   "metadata": {},
   "source": [
    "I have absolutely no idea what sensible values should look like, so this function will need to wait for beta testing, before the documentation can be complete\n",
    "\n",
    "Also this function will probably need to point to some other functions for calculating the roughness coefficents."
   ]
  },
  {
   "cell_type": "code",
   "execution_count": null,
   "id": "80fb8927-b821-4c10-a712-91c796d21917",
   "metadata": {},
   "outputs": [
    {
     "data": {
      "text/plain": [
       "21003359.99999999"
      ]
     },
     "execution_count": null,
     "metadata": {},
     "output_type": "execute_result"
    }
   ],
   "source": [
    "temp_salinity_water_resistance(1.2, 1, 0.2, 0.2, 1.4e-3, 2000, 10, 1050, 1026)"
   ]
  },
  {
   "cell_type": "code",
   "execution_count": null,
   "id": "c2610ebb-45a2-4815-88ba-bc02a32db7ca",
   "metadata": {},
   "outputs": [
    {
     "data": {
      "text/markdown": [
       "---\n",
       "\n",
       "### temp_salinity_water_resistance\n",
       "\n",
       ">      temp_salinity_water_resistance (CF:float, CF0:float, delta_CF:float,\n",
       ">                                      delta_CF0:float, CT0:float, S:float,\n",
       ">                                      VS:float, rho_S:float, rho_0:float=1026)\n",
       "\n",
       "Resistance due to water temperature and salinity corrected relative to the reference values\n",
       "\n",
       "|    | **Type** | **Default** | **Details** |\n",
       "| -- | -------- | ----------- | ----------- |\n",
       "| CF | float |  | frictional resistance coefficient for actual water temperature and salinity |\n",
       "| CF0 | float |  | frictional resistance coefficient for reference water temperature and salinity |\n",
       "| delta_CF | float |  | roughness allowance associated with Reynolds number for actual water temperature and salinity |\n",
       "| delta_CF0 | float |  | roughness allowance associated with Reynolds number for reference water temperature and salinity |\n",
       "| CT0 | float |  | total resistance coefficient for reference water temperature and salinity |\n",
       "| S | float |  | wetted surface area [m2] |\n",
       "| VS | float |  | ship’s speed through the water [m/s] |\n",
       "| rho_S | float |  | water density for actual water temperature and salt content [kg/m3 ] |\n",
       "| rho_0 | float | 1026 | water density for reference water temperature and salt content |\n",
       "| **Returns** | **float** |  | **resistance increase due to deviation of water temperature and water density [N]** |"
      ],
      "text/plain": [
       "---\n",
       "\n",
       "### temp_salinity_water_resistance\n",
       "\n",
       ">      temp_salinity_water_resistance (CF:float, CF0:float, delta_CF:float,\n",
       ">                                      delta_CF0:float, CT0:float, S:float,\n",
       ">                                      VS:float, rho_S:float, rho_0:float=1026)\n",
       "\n",
       "Resistance due to water temperature and salinity corrected relative to the reference values\n",
       "\n",
       "|    | **Type** | **Default** | **Details** |\n",
       "| -- | -------- | ----------- | ----------- |\n",
       "| CF | float |  | frictional resistance coefficient for actual water temperature and salinity |\n",
       "| CF0 | float |  | frictional resistance coefficient for reference water temperature and salinity |\n",
       "| delta_CF | float |  | roughness allowance associated with Reynolds number for actual water temperature and salinity |\n",
       "| delta_CF0 | float |  | roughness allowance associated with Reynolds number for reference water temperature and salinity |\n",
       "| CT0 | float |  | total resistance coefficient for reference water temperature and salinity |\n",
       "| S | float |  | wetted surface area [m2] |\n",
       "| VS | float |  | ship’s speed through the water [m/s] |\n",
       "| rho_S | float |  | water density for actual water temperature and salt content [kg/m3 ] |\n",
       "| rho_0 | float | 1026 | water density for reference water temperature and salt content |\n",
       "| **Returns** | **float** |  | **resistance increase due to deviation of water temperature and water density [N]** |"
      ]
     },
     "execution_count": null,
     "metadata": {},
     "output_type": "execute_result"
    }
   ],
   "source": [
    "show_doc(temp_salinity_water_resistance)"
   ]
  },
  {
   "cell_type": "markdown",
   "id": "0039f9ab-6881-4a18-97e5-0addc802f575",
   "metadata": {},
   "source": []
  },
  {
   "cell_type": "code",
   "execution_count": null,
   "id": "98a481bc-d1bb-45b1-b061-2eab81563a0a",
   "metadata": {},
   "outputs": [],
   "source": [
    "#| hide\n",
    "import nbdev; nbdev.nbdev_export()"
   ]
  }
 ],
 "metadata": {
  "kernelspec": {
   "display_name": "Python 3 (ipykernel)",
   "language": "python",
   "name": "python3"
  }
 },
 "nbformat": 4,
 "nbformat_minor": 5
}
