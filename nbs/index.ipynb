{
 "cells": [
  {
   "cell_type": "code",
   "execution_count": null,
   "metadata": {},
   "outputs": [],
   "source": [
    "#| hide\n",
    "from pyseatrials.trig import *"
   ]
  },
  {
   "cell_type": "markdown",
   "metadata": {},
   "source": [
    "# pyseatrials\n",
    "\n",
    "> A library of functions for understanding the performance of ships during commissioning sea trials"
   ]
  },
  {
   "cell_type": "markdown",
   "metadata": {},
   "source": [
    "This is a collection of functions that are useful for estimating ship performance from sea trials data. The library is based on ITTC Preparation, Conduct and Analysis of Speed/Power Trials. \n",
    "\n",
    "Currently only appendix 'E' Correcting for wind has been implemented\n",
    "\n",
    "The library is based on numpy and works with pandas\n",
    "\n",
    "## N.B\n",
    "\n",
    "This project is in early development. Function names and library structure may have breaking changes at anytime"
   ]
  },
  {
   "cell_type": "markdown",
   "metadata": {},
   "source": [
    "## Install"
   ]
  },
  {
   "cell_type": "markdown",
   "metadata": {},
   "source": [
    "```sh\n",
    "pip install pyseatrials\n",
    "```"
   ]
  },
  {
   "cell_type": "markdown",
   "metadata": {},
   "source": [
    "## How to use"
   ]
  },
  {
   "cell_type": "markdown",
   "metadata": {},
   "source": [
    "As an example here is the `law_of_cosines` from the `pyseatrials.trig` module. "
   ]
  },
  {
   "cell_type": "code",
   "execution_count": null,
   "metadata": {},
   "outputs": [],
   "source": [
    "import numpy as np"
   ]
  },
  {
   "cell_type": "markdown",
   "metadata": {},
   "source": [
    "In the first case the law of cosines is applied to a right angle triangle, simplifying it to pythagoras theorem"
   ]
  },
  {
   "cell_type": "code",
   "execution_count": null,
   "metadata": {},
   "outputs": [
    {
     "data": {
      "text/plain": [
       "5.0"
      ]
     },
     "execution_count": null,
     "metadata": {},
     "output_type": "execute_result"
    }
   ],
   "source": [
    "law_of_cosines(3,4, np.pi/2)"
   ]
  },
  {
   "cell_type": "markdown",
   "metadata": {},
   "source": [
    "In the second case the law of cosines in applied to $45^\\circ$ or $\\frac{\\pi}{2}$"
   ]
  },
  {
   "cell_type": "code",
   "execution_count": null,
   "metadata": {},
   "outputs": [
    {
     "data": {
      "text/plain": [
       "2.833626166508712"
      ]
     },
     "execution_count": null,
     "metadata": {},
     "output_type": "execute_result"
    }
   ],
   "source": [
    "law_of_cosines(3,4, np.pi/4)"
   ]
  },
  {
   "cell_type": "markdown",
   "metadata": {},
   "source": [
    "\n",
    "# What still needs to be implemented\n",
    "\n",
    "The following parts of ITTC need to be implemented as a minimum\n",
    "\n",
    "- Appendix F\n",
    "- Appendix G\n",
    "- Appendix J\n",
    "- kinamatic viscosity\n",
    "- reynolds number\n",
    "- Frictional resistance coefficient - ITTC 57\n",
    "- Froude number\n",
    "- roughness allowance "
   ]
  }
 ],
 "metadata": {
  "kernelspec": {
   "display_name": "Python 3 (ipykernel)",
   "language": "python",
   "name": "python3"
  }
 },
 "nbformat": 4,
 "nbformat_minor": 4
}
