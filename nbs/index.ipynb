{
 "cells": [
  {
   "cell_type": "code",
   "execution_count": null,
   "metadata": {},
   "outputs": [],
   "source": [
    "#| hide\n"
   ]
  },
  {
   "cell_type": "markdown",
   "metadata": {},
   "source": [
    "# pyseatrials\n",
    "\n",
    "> A library of functions for understanding the performance of ships during commissioning sea trials"
   ]
  },
  {
   "attachments": {},
   "cell_type": "markdown",
   "metadata": {},
   "source": [
    "The library `pyseatrials` is a collection of functions, written in `Python`, that are useful for estimating ship performance from sea trials data. The library is based on ITTC [Preparation, Conduct and Analysis of Speed/Power Trials. 7.5-04-01-01.1](https://www.ittc.info/media/8370/75-04-01-011.pdf) and is designed to make the process of estimating ships peformance easier, faster and more reliable by packaging all the equations into a clearly documented python library with examples and code testing for all functions. \n",
    "\n",
    "There full documentation is available at https://silverstream-tech.github.io/pyseatrials/\n",
    "\n",
    "The library uses nbdev by fastdotai and most functions depend solely on numpy."
   ]
  },
  {
   "cell_type": "markdown",
   "metadata": {},
   "source": [
    ":::{.callout-important}\n",
    "This project is in early development. Function names and library structure may have breaking changes at anytime\n",
    ":::"
   ]
  },
  {
   "cell_type": "markdown",
   "metadata": {},
   "source": [
    "# Install"
   ]
  },
  {
   "attachments": {},
   "cell_type": "markdown",
   "metadata": {},
   "source": [
    "```sh\n",
    "python -m pip install git+https://github.com/silverstream-tech/pyseatrials \n",
    "```\n",
    "\n",
    "To force an upgrade of the library\n",
    "\n",
    "\n",
    "```sh\n",
    "pip install --upgrade --no-deps --force-reinstall git+https://github.com/silverstream-tech/pyseatrials \n",
    "```\n"
   ]
  },
  {
   "attachments": {},
   "cell_type": "markdown",
   "metadata": {},
   "source": [
    "# Modules\n",
    "\n",
    "The `pyseatrials` library is broken into different modules which relate to different aspects of understanding a ships performance at sea. The names of the modules are listed below as hyperlinks to the documentation pages.\n",
    "\n",
    "- [general](./general_functions/)\n",
    "- [wind](./wind/)\n",
    "- [wind_res](./wind_resistance/)\n",
    "- [wave](./wave_resistance/)\n",
    "- [current](./current/)\n",
    "- [power](./power/)\n",
    "- [basic](./basic_hydro_functions/)\n",
    "- [trig](./trig/)"
   ]
  },
  {
   "cell_type": "markdown",
   "metadata": {},
   "source": [
    "# How to use"
   ]
  },
  {
   "cell_type": "markdown",
   "metadata": {},
   "source": [
    "As an example consider the problem of calculating resistance experienced by the ship from waves."
   ]
  },
  {
   "cell_type": "code",
   "execution_count": null,
   "metadata": {},
   "outputs": [],
   "source": [
    "from pyseatrials.wave import *\n",
    "import numpy as np"
   ]
  },
  {
   "cell_type": "markdown",
   "metadata": {},
   "source": [
    "To calculate the wave resistance experienced by a ship you can call the STAWAVE-1 function `stawave1_fn`"
   ]
  },
  {
   "cell_type": "code",
   "execution_count": null,
   "metadata": {},
   "outputs": [
    {
     "data": {
      "text/plain": [
       "226463.85000000003"
      ]
     },
     "execution_count": null,
     "metadata": {},
     "output_type": "execute_result"
    }
   ],
   "source": [
    "stawave1_fn(beam = 20, wave_height =  3, length = 5)"
   ]
  },
  {
   "cell_type": "markdown",
   "metadata": {},
   "source": [
    "STAWAVE-1 like almost all functions in `pyseatrials` are vectorised. This means if an array of values is used the function will return an array for all values entered. The example below shows the resistance in Newtons for a range of wave heights."
   ]
  },
  {
   "cell_type": "code",
   "execution_count": null,
   "metadata": {},
   "outputs": [
    {
     "data": {
      "text/plain": [
       "array([ 25162.65,  69896.25, 136996.65, 226463.85])"
      ]
     },
     "execution_count": null,
     "metadata": {},
     "output_type": "execute_result"
    }
   ],
   "source": [
    "stawave1_fn(20, np.linspace(1, 3, 4), 5)"
   ]
  },
  {
   "cell_type": "markdown",
   "metadata": {},
   "source": [
    ":::{.callout-note}\n",
    "Using an array follows standard Python broadcasting rules. So if you enter an arrays in different arguments the arrays must have the same length and the $i$th element of each array should refer to the same vessel/state/etc\n",
    ":::"
   ]
  },
  {
   "attachments": {},
   "cell_type": "markdown",
   "metadata": {},
   "source": [
    "All functions are have documentation, in addition there is in depth documentation online ([STAWAVE-1](https://silverstream-tech.github.io/pyseatrials/wave_resistance.html#stawave1_fn))."
   ]
  },
  {
   "cell_type": "code",
   "execution_count": null,
   "metadata": {},
   "outputs": [
    {
     "name": "stdout",
     "output_type": "stream",
     "text": [
      "Help on function stawave1_fn in module pyseatrials.wave:\n",
      "\n",
      "stawave1_fn(beam: float, wave_height: float, length: float, water_density: float = 1026, gravity: float = 9.81) -> float\n",
      "    STAWAVE-1 finds the resistance caused by bow waves for ships experiencing low heave and pitch\n",
      "\n"
     ]
    }
   ],
   "source": [
    "help(stawave1_fn)"
   ]
  },
  {
   "cell_type": "markdown",
   "metadata": {},
   "source": [
    "# Notes\n",
    "\n",
    "- The library attempts to use descriptive naming of the variables, however, this is not always possible\n",
    "- The library refers to 'ITTC' throughout, this always refers to '7.5-04-01-01.1 Preparation, Conduct and Analysis of Speed/Power Trials'\n",
    "- Where the equations are directly from ITTC they are marked '**ITTC equations**: x'\n",
    "- The library focuses on the equations needed to accurately measure performance during sea trials. However, many of these equations can be applied at other stages of measuring ship performance, e.g. model performance in the a tank test.\n",
    "\n",
    "\n",
    "\n",
    "## Some useful definations\n",
    "\n",
    "- Tank test: a test performed at a marine testing facilty on a scale model of the vessel. This is used to obtain valuable performance data which can be scaled to better understand the real performance of the ship during seatrials."
   ]
  },
  {
   "cell_type": "markdown",
   "metadata": {},
   "source": [
    "\n",
    "# To be done\n",
    "\n",
    "The following parts of ITTC need to be implemented\n",
    "\n",
    "- STAWAVE-2\n",
    "- function that plots ship and wind/current/wave in both polar and cartesian relative coordinates\n",
    "- Example ship data\n",
    "- Images\n",
    "    - Wind\n",
    "    - law of cosines\n",
    "    - STAWAVE-1\n",
    "- test for errors, such as divide by 0"
   ]
  },
  {
   "cell_type": "markdown",
   "metadata": {},
   "source": [
    "# Licence\n",
    "\n",
    "The library is a python implementation of the ITTC library and is free to use under an Apache 2.0 licence"
   ]
  }
 ],
 "metadata": {
  "kernelspec": {
   "display_name": "Python 3",
   "language": "python",
   "name": "python3"
  }
 },
 "nbformat": 4,
 "nbformat_minor": 4
}
