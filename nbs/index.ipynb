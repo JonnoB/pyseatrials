{
 "cells": [
  {
   "cell_type": "code",
   "execution_count": null,
   "metadata": {},
   "outputs": [],
   "source": [
    "#| hide\n",
    "from pyseatrials.trig import *"
   ]
  },
  {
   "cell_type": "markdown",
   "metadata": {},
   "source": [
    "# pyseatrials\n",
    "\n",
    "> A library of functions for understanding the performance of ships during commissioning sea trials"
   ]
  },
  {
   "cell_type": "markdown",
   "metadata": {},
   "source": [
    "The library \\pkg{pyseatrials} is a collection of functions, written in \\proglang{Python}, that are useful for estimating ship performance from sea trials data. The library is based on ITTC [Preparation, Conduct and Analysis of Speed/Power Trials. 7.5-04-01-01.1](https://www.ittc.info/media/8370/75-04-01-011.pdf) and is designed to make the process of estimating ships peformance easier, faster and more reliable by packaging all the equations into a clearly documented python library with examples and code testing for all functions. \n",
    "\n",
    "There full documentation is available at https://jonnob.github.io/pyseatrials/\n",
    "\n",
    "\n",
    "The library uses nbdev by fastdotai and most functions depend solely on numpy. Most of the functions allow for vectorisation.\n",
    "\n",
    "## N.B. This project is in early development. Function names and library structure may have breaking changes at anytime"
   ]
  },
  {
   "cell_type": "markdown",
   "metadata": {},
   "source": [
    "## Install"
   ]
  },
  {
   "cell_type": "markdown",
   "metadata": {},
   "source": [
    "```sh\n",
    "python -m pip install git+https://github.com/JonnoB/pyseatrials \n",
    "```"
   ]
  },
  {
   "cell_type": "markdown",
   "metadata": {},
   "source": [
    "## How to use"
   ]
  },
  {
   "cell_type": "markdown",
   "metadata": {},
   "source": [
    "As an example here is the `law_of_cosines` from the `pyseatrials.trig` module. "
   ]
  },
  {
   "cell_type": "code",
   "execution_count": null,
   "metadata": {},
   "outputs": [],
   "source": [
    "import numpy as np"
   ]
  },
  {
   "cell_type": "markdown",
   "metadata": {},
   "source": [
    "In the first case the law of cosines is applied to a right angle triangle, simplifying it to pythagoras theorem"
   ]
  },
  {
   "cell_type": "code",
   "execution_count": null,
   "metadata": {},
   "outputs": [
    {
     "data": {
      "text/plain": [
       "5.0"
      ]
     },
     "execution_count": null,
     "metadata": {},
     "output_type": "execute_result"
    }
   ],
   "source": [
    "law_of_cosines(3,4, np.pi/2)"
   ]
  },
  {
   "cell_type": "markdown",
   "metadata": {},
   "source": [
    "In the second case the law of cosines in applied to $45^\\circ$ or $\\frac{\\pi}{2}$"
   ]
  },
  {
   "cell_type": "code",
   "execution_count": null,
   "metadata": {},
   "outputs": [
    {
     "data": {
      "text/plain": [
       "2.833626166508712"
      ]
     },
     "execution_count": null,
     "metadata": {},
     "output_type": "execute_result"
    }
   ],
   "source": [
    "law_of_cosines(3,4, np.pi/4)"
   ]
  },
  {
   "cell_type": "markdown",
   "metadata": {},
   "source": [
    "# Notes\n",
    "\n",
    "- The library attempts to use descriptive naming of the variables, however, this is not always possible\n",
    "- The library refers to 'ITTC' throughout, this always refers to '7.5-04-01-01.1 Preparation, Conduct and Analysis of Speed/Power Trials'\n",
    "- Where the equations are directly from ITTC they are marked **ITTC equations**: x\n",
    "- The library focuses on the equations needed to accurately measure performance during sea trials. However, many of these equations can be applied at other stages of measuring ship performance, e.g. model performance in the a tank test.\n",
    "\n",
    "\n",
    "\n",
    "## Some useful definations\n",
    "\n",
    "- Tank test: a test performed at a marine testing facilty on a scale model of the vessel. This is used to obtain valuable performance data which can be scaled to better understand the real performance of the ship during seatrials."
   ]
  },
  {
   "cell_type": "markdown",
   "metadata": {},
   "source": [
    "\n",
    "# What still needs to be implemented\n",
    "\n",
    "The following parts of ITTC need to be implemented as a minimum\n",
    "\n",
    "- Appendix F\n",
    "- Appendix J\n",
    "- Images\n",
    "    - Wind\n",
    "    - law of cosines\n",
    "    - STAWAVE-1\n",
    "- test for errors, such as divide by 0"
   ]
  },
  {
   "cell_type": "markdown",
   "metadata": {},
   "source": [
    "# Licence\n",
    "\n",
    "The library is a python implementation of the ITTC library and is free to use under an Apache 2.0 licence"
   ]
  }
 ],
 "metadata": {
  "kernelspec": {
   "display_name": "Python 3 (ipykernel)",
   "language": "python",
   "name": "python3"
  }
 },
 "nbformat": 4,
 "nbformat_minor": 4
}
