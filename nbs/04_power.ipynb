{
 "cells": [
  {
   "cell_type": "code",
   "execution_count": null,
   "id": "f59152bb-2fb4-4ef0-829d-4ea3c3af092f",
   "metadata": {},
   "outputs": [],
   "source": [
    "#| default_exp power\n"
   ]
  },
  {
   "cell_type": "code",
   "execution_count": null,
   "id": "155fab84-f1e9-46e5-863f-cf1d4630993d",
   "metadata": {},
   "outputs": [],
   "source": [
    "#| hide\n",
    "from nbdev.showdoc import *\n",
    "import pandas as pd"
   ]
  },
  {
   "cell_type": "markdown",
   "id": "525b32a0-042f-495a-a26c-bbd83ab22180",
   "metadata": {},
   "source": [
    "# Direct Power Analysis\n",
    "\n",
    "The calculating of the power transmitted to the water correcting for environmental conditions is \n",
    "\n",
    "$$P_{Did} = P_{Dms}-\\Delta P,$$ where $P_{Dms}$ is the delivered power in the trial conditions, and $\\Delta P$ is the correction of the delivered power taking into account the resistances and changes in propulsive power as a result of the trial conditions.\n",
    "\n",
    "This section of the `pyseatrials` library is concerned with deriving the values needed for this calculation\n",
    "\n",
    "\n",
    "Some things should come with a bit more clarification e.g. 'wake-fraction', what is it?\n",
    "\n",
    "## Understanding the notation\n",
    "\n",
    "There are severl sub-scripts used in this section which are useful to understand\n",
    "\n",
    "There are four types of upper case letter used which require further explanation\n",
    "\n",
    "\n",
    "- **D** 'Delivered' used to differentiate types of power \n",
    "- **M**  'Model' used for values taken from a model of the ship in a tank test\n",
    "- **R** 'Relative' used to differentiate different types of efficiency \n",
    "- **S** 'Full-scale' used to distinguish from values derived from models\n",
    "\n",
    "The lower case abreviations are\n",
    "\n",
    "- **id** refers to the 'ideal condition'\n",
    "- **ms** refers to the 'trial condition'\n"
   ]
  },
  {
   "cell_type": "code",
   "execution_count": null,
   "id": "6a97f0ae-b784-42f0-97ec-d51e3c205c24",
   "metadata": {},
   "outputs": [],
   "source": [
    "#| export\n",
    "import numpy as np\n",
    "from fastcore.test import *"
   ]
  },
  {
   "cell_type": "markdown",
   "id": "ad4b0654-24ff-4a54-bf51-2be8b661e749",
   "metadata": {},
   "source": [
    "## Correction delivered power\n",
    "\n",
    "Calculates the power when correcting for the resistances experienced by the vessel as well as the deciation of propeller efficiency relative to ideal\n",
    "\n",
    "$$\\Delta P = \\frac{\\Delta R V_s}{\\eta_{Dms}}+ P_{Dms}(1-\\frac{\\eta_{Dms}}{\\eta_{Did}}), $$ where $\\Delta R$ is the total resitance increase experienced by the ship, $V_s$ is the speed through water, $\\eta_{Did}$ is the propulsive efficiency coefficient in the ideal conditions, $P_{Dms}$ is the shaft power during the test,$\\eta_{Dms}$ is the propulsive efficiency coefficient in the trial conditions.\n",
    "\n",
    "The value for $\\Delta R$ is calculated as the some of the wind, wave, and water resistances. The functions for these values are found at `wind_resistance`, `stawave1_fn`, and `temp_salinity_water_resistance`\n",
    "\n",
    "**ITTC equations**: J-2"
   ]
  },
  {
   "cell_type": "code",
   "execution_count": null,
   "id": "7576a804-f6a2-4482-b6bd-8c9e4a4aed7d",
   "metadata": {},
   "outputs": [],
   "source": [
    "#| export\n",
    "def correction_delivered_power(\n",
    "    p_dms:float, #delivered power [W]\n",
    "    resistance_increase:float, #Resistance increase derived from data measured in seatrial\n",
    "    stw:float, #speed through water [m/s]\n",
    "    eta_id:float, #propulsive efficiency in the ideal conditions\n",
    "    eta_ms:float, # propulsive efficiency in the seattrial\n",
    "\n",
    ")-> float:# Returns the corrected delivered power in Newtons [N]\n",
    "    \n",
    "    \"calculates the corrected delivered power, used as part of the direct power analysis\"\n",
    "    \n",
    "    return resistance_increase * stw /eta_id + p_dms * (1- eta_ms/eta_id)\n",
    "    "
   ]
  },
  {
   "cell_type": "markdown",
   "id": "735f5cc7-9513-4147-be20-8a7a5163748e",
   "metadata": {},
   "source": [
    "Example of using function, generally this is not used directly"
   ]
  },
  {
   "cell_type": "code",
   "execution_count": null,
   "id": "a83f7c98-e2ea-4796-beb0-69f0cfabea37",
   "metadata": {},
   "outputs": [
    {
     "data": {
      "text/plain": [
       "13750.000000000002"
      ]
     },
     "execution_count": null,
     "metadata": {},
     "output_type": "execute_result"
    }
   ],
   "source": [
    "correction_delivered_power(1e4, 1e3, 10, 0.8, 0.7)"
   ]
  },
  {
   "cell_type": "markdown",
   "id": "0f1b3cbc-b237-4273-b56a-750f61b93c28",
   "metadata": {},
   "source": [
    "## Propulsive efficiency correction\n",
    "This can be used to calculate both the ideal and trial conditions reffered to in equations J-3 and J-5\n",
    "$$\\eta_D = \\eta_o \\eta_R \\frac{1-t}{1-w_s} $$\n",
    "\n",
    "**ITTC equations** J-3, J-5\n"
   ]
  },
  {
   "cell_type": "code",
   "execution_count": null,
   "id": "0e25978e-2c6d-43eb-bf15-465f97ffbfd4",
   "metadata": {},
   "outputs": [],
   "source": [
    "#| export\n",
    "def propulsive_efficiency_corr(n_o:float, #open water efficiency\n",
    "                          n_r:float, #relative rotative efficiency\n",
    "                          t:float, #thrust deduction factor\n",
    "                         w_s:float, #full-scale wake fraction\n",
    "                         ):\n",
    "    \"Calculates propeller efficiency adjusting for additional resistances\"\n",
    "    return n_o*n_r*(1-t)/(1-w_s)\n",
    "    "
   ]
  },
  {
   "cell_type": "code",
   "execution_count": null,
   "id": "89c55e47-828f-4454-a8c1-904dce2afa6a",
   "metadata": {},
   "outputs": [
    {
     "data": {
      "text/plain": [
       "0.7308"
      ]
     },
     "execution_count": null,
     "metadata": {},
     "output_type": "execute_result"
    }
   ],
   "source": [
    "propulsive_efficiency_corr(0.58, 0.7, 0.1, 0.5)"
   ]
  },
  {
   "cell_type": "code",
   "execution_count": null,
   "id": "007d6c12-f712-46ce-9c8e-a110cb417b58",
   "metadata": {},
   "outputs": [],
   "source": [
    "#| hide\n",
    "\n",
    "test_eq(propulsive_efficiency_corr(0.58, 0.7, 1, 0),0)\n",
    "test_eq(propulsive_efficiency_corr(1, 1, 0, 0.5),2)\n",
    "#checks to make sure there is a divide by 0 error\n",
    "test_fail(lambda: propulsive_efficiency_corr(0.58, 0.7, 0.0, 1),  contains=\"division by zero\" )\n"
   ]
  },
  {
   "cell_type": "markdown",
   "id": "7cf53eb4-d39b-4a5a-8b95-9caa0e6306b1",
   "metadata": {},
   "source": [
    "## Full scale wake fraction\n",
    "\n",
    "There are two different functions related to the full scale wake fraction, both are presented in this sub-section. \n",
    "\n",
    "The two related but distinct values are\n",
    "\n",
    "- $w_{S}$: Full-scale wake fraction using model\n",
    "- $w_{S}$: Full-scale wake fraction using speed\n",
    "- $e_i$ Scale correlation factor of the wake faction\n",
    "\n",
    "### The full scale wake fraction\n",
    "\n",
    "$$w_S =  1- (1- w_M)e_i,$$ where $W_S$ is the fullscale wake fraction, $W_m$ is the model wake fraction derived from tank tests, and $e_i$ is the scale correlation factor derived from **XXXX derived from what?**.\n",
    "\n",
    "**ITTC equation**: J-4, J-20\n"
   ]
  },
  {
   "cell_type": "code",
   "execution_count": null,
   "id": "7ae47a9e-bcb9-40c4-bfe1-e152689f0bef",
   "metadata": {},
   "outputs": [],
   "source": [
    "#| export\n",
    "def full_scale_wake_fraction(wake_fraction_model:float,\n",
    "                            scale_correlation_factor:float\n",
    "                            )-> float:\n",
    "    \n",
    "    \"used to scale from model results to full-scale vessel\"\n",
    "    \n",
    "    return 1- (1- wake_fraction_model) * scale_correlation_factor"
   ]
  },
  {
   "cell_type": "markdown",
   "id": "4b07c72e-7815-4be4-bec0-649894c1e61b",
   "metadata": {},
   "source": [
    "The full scale wake fracrtion returns a value between 0 and 1"
   ]
  },
  {
   "cell_type": "code",
   "execution_count": null,
   "id": "d881d387-f6c6-4a00-90e9-57585ada983f",
   "metadata": {},
   "outputs": [
    {
     "data": {
      "text/plain": [
       "0.52"
      ]
     },
     "execution_count": null,
     "metadata": {},
     "output_type": "execute_result"
    }
   ],
   "source": [
    "full_scale_wake_fraction(0.4, 0.8)"
   ]
  },
  {
   "cell_type": "code",
   "execution_count": null,
   "id": "5e903d01-53c7-4f02-9a26-283cb1b27854",
   "metadata": {},
   "outputs": [],
   "source": [
    "#| hide\n",
    "\n",
    "test_eq(full_scale_wake_fraction(1, 0.8), 1)\n",
    "test_close(full_scale_wake_fraction(0, 0.8), 0.2, eps = 1e-6)"
   ]
  },
  {
   "cell_type": "markdown",
   "id": "fcfef269-7f86-468d-a142-d7c60e7911d2",
   "metadata": {},
   "source": [
    "### Full-scale wake fraction from speed\n",
    "\n",
    "This approach calculates the wake fraction using the measured water speeds\n",
    "\n",
    "$$w_S =1- \\frac{V_A}{V_S},$$ where $V_A$ is the speed of flow into the propeller, and $V_S$ is the ship's speed through water. \n",
    "\n",
    "**ITTC equations**: J-17"
   ]
  },
  {
   "cell_type": "code",
   "execution_count": null,
   "id": "b4f12718-bad1-4aa9-ae19-01d68f323217",
   "metadata": {},
   "outputs": [],
   "source": [
    "#| export\n",
    "\n",
    "def full_scale_wake_speed(flow_speed:float, #The speed of flow through the propeller\n",
    "                         stw:float, #Ship's speed through water\n",
    "                         )-> float:\n",
    "    \n",
    "    \"Calculate the wake fraction using the measured water speeds\"\n",
    "    \n",
    "    return 1 - (flow_speed/stw)"
   ]
  },
  {
   "cell_type": "markdown",
   "id": "8cc6fa74-f68c-4a82-9860-e9013380722f",
   "metadata": {},
   "source": [
    "This approach to obtianing the full scale wake speed is typically used for getting the trial conditions"
   ]
  },
  {
   "cell_type": "code",
   "execution_count": null,
   "id": "321b3c07-b75a-47a7-861b-a6f1176dece5",
   "metadata": {},
   "outputs": [
    {
     "data": {
      "text/plain": [
       "0.8"
      ]
     },
     "execution_count": null,
     "metadata": {},
     "output_type": "execute_result"
    }
   ],
   "source": [
    "full_scale_wake_speed(10,50)"
   ]
  },
  {
   "cell_type": "code",
   "execution_count": null,
   "id": "85b452eb-34c2-4f02-a744-0817717ccd2f",
   "metadata": {},
   "outputs": [],
   "source": [
    "#| hide\n",
    "test_eq(full_scale_wake_speed(50,50),0)"
   ]
  },
  {
   "cell_type": "markdown",
   "id": "7fa51221-39f6-4aff-922b-8026cb629c7a",
   "metadata": {},
   "source": [
    "### Scale correlation factor\n",
    "\n",
    "The scale correlation factor is simply the re-arranged fullscale wake fraction. And is shown as\n",
    "\n",
    "$$e_i = \\frac{1-w_S}{1-w_M},$$ where values are the same as previously.\n",
    "\n",
    "**ITTC equation**: J-21"
   ]
  },
  {
   "cell_type": "code",
   "execution_count": null,
   "id": "ac790cc6-4db4-4710-8885-cd4b3bbc56c9",
   "metadata": {},
   "outputs": [],
   "source": [
    "#| export\n",
    "def scale_correlation_factor(\n",
    "    trial:float, #The full-scale wake fraction in the trial\n",
    "    model:float  #The wake fraction of the model derived from tank tests\n",
    ")-> float: #The dimensionless coefficient joining the full scale and model fractions\n",
    "    \"Calcualte the scale correlation factor using the model fraction from tank tests, and the full-scale fraction from trials\"\n",
    "    return (1  - trial)/(1-model)"
   ]
  },
  {
   "cell_type": "markdown",
   "id": "98dce71b-6a32-403d-a77b-4ffc5440099e",
   "metadata": {},
   "source": [
    "Deriving the scale correlation factor is easy given the inputs"
   ]
  },
  {
   "cell_type": "code",
   "execution_count": null,
   "id": "97b3bd58-29c4-4bb1-8eeb-50f54b683286",
   "metadata": {},
   "outputs": [
    {
     "data": {
      "text/plain": [
       "2.0000000000000004"
      ]
     },
     "execution_count": null,
     "metadata": {},
     "output_type": "execute_result"
    }
   ],
   "source": [
    "scale_correlation_factor(0.6,0.8)"
   ]
  },
  {
   "cell_type": "code",
   "execution_count": null,
   "id": "0375afe8-d463-458a-9f11-1845a428d577",
   "metadata": {},
   "outputs": [],
   "source": [
    "#| hide\n",
    "\n",
    "test_eq(scale_correlation_factor(1,0.8),0)"
   ]
  },
  {
   "cell_type": "markdown",
   "id": "9e921189-c9f9-4862-9fd2-6c44fee39f7e",
   "metadata": {},
   "source": [
    "## Self propulsion factors\n",
    "\n",
    "This function allows for ship factors to be adjust accounting for the difference between ideal/model conditions and the conditions during the trial. This function is equivalent to equation J-6 to J-8.\n",
    "The function is essentially the following equation\n",
    "\n",
    "$$x_{test} = x_{ideal} + \\Delta x_R (\\frac{\\Delta R}{R_{ideal}}),$$\n",
    "Where $x$ is the variable to be adjusted $x_{ideal}$ is the value of the variable under ideal conditions, $\\Delta x_R$ the coefficient of of change for each unit of $\\frac{\\Delta R}{R_{ideal}}$, $\\Delta R$ the resistance increase derived from data measured during the sea trial and $R_{ideal}$ is the resistance under ideal conditions. The values of $x_{ideal}$ are obtained from a model test. The value of $\\Delta x_R$ is found by fitting a linear model using data gathered during a specific tank tests. The process of obtaining the value of $x_R$ is described in detail in section J.2.\n",
    "\n",
    "In practice however, these sets of values are not needed as the deviations are often negligable in comparison to the variation of $\\eta_O$. That using \n",
    "$$ x_{test} \\approx x_{ideal},$$\n",
    "is acceptable\n",
    "\n",
    "**ITTC equations**: J-6, J-7, J-8"
   ]
  },
  {
   "cell_type": "code",
   "execution_count": null,
   "id": "ab5d7cb5-edc8-45d9-b74c-ea9067f6341e",
   "metadata": {},
   "outputs": [],
   "source": [
    "#| export\n",
    "def self_propulsion_factors(\n",
    "    x_ideal:float, #The variable in ideal conditions. It is acceptable to use this value without adjustments\n",
    "    delta_x:float = 0, #The change per unit of the resistance ratios. Default is 0\n",
    "    delta_r:float = 1, #increase in resistance from ideal conditions\n",
    "    delta_r_ideal:float = 1 #Resistance in ideal conditions\n",
    ") -> float:\n",
    "    \n",
    "    \"Adjusting the self propulsion factors is only possible if the required model tests have been performed. By default this function returns the ideal value\"\n",
    "    \n",
    "    return x_ideal + delta_x * (delta_r/delta_r_ideal)"
   ]
  },
  {
   "cell_type": "markdown",
   "id": "0405865a-378f-494e-a04b-9075b79db2fa",
   "metadata": {},
   "source": [
    "Generally the adjustment for the self propulsion factors will be small. But if available should be applied"
   ]
  },
  {
   "cell_type": "code",
   "execution_count": null,
   "id": "b9cb16e5-c837-46a6-b281-2ddee9bbd168",
   "metadata": {},
   "outputs": [
    {
     "data": {
      "text/plain": [
       "0.81"
      ]
     },
     "execution_count": null,
     "metadata": {},
     "output_type": "execute_result"
    }
   ],
   "source": [
    "self_propulsion_factors(0.8, 0.1, 1000, 10000)"
   ]
  },
  {
   "cell_type": "code",
   "execution_count": null,
   "id": "ef972423-9f30-438e-93f6-33819400cb14",
   "metadata": {},
   "outputs": [],
   "source": [
    "#| hide\n",
    "\n",
    "test_eq(self_propulsion_factors(0.8), 0.8)\n"
   ]
  },
  {
   "cell_type": "markdown",
   "id": "634be324-1a20-40b3-bf37-31656841ea7a",
   "metadata": {},
   "source": [
    "## Calculate Thrust coefficient, Torque coefficient, and Load factor\n",
    "\n",
    "The thrust coefficient, torque coefficient and the load factor provide useful values for calculating the adjusted propeller efficiency. There are several different approaches. All three approaches are described in this sub-section and are used at various points in the process.\n",
    "\n",
    "The different approaches are\n",
    "\n",
    "- The inverse quadratic method\n",
    "- The quadractic method\n",
    "- Torque coefficient from water conditions\n",
    "- Load factor using propeller advance and thrust\n",
    "- Load factor using resistance\n",
    "\n",
    "\n",
    "### The inverse quadratic method\n",
    "\n",
    "The inverse quadratic method doesn't actually calculate the coefficients themselves but using them as the dependent variable of a quadratic curve where the dependent variable is the propeller advance coefficient in the ideal condition. The result is that the coefficients of the quadratic curve can be either be solved to find the point closest to 0 where the line crosses the x-axis. Alternatively the quadratic coefficients are used replacing the propeller advance coefficients in the ideal condition with those of the trial condition, this creates a quadratic equation that return the thrust coefficient in the trial condition.\n",
    "The propeller advance coefficients in the ideal condition are provided by tank tests, usually 10 data points are supplied in order to fit the curve\n",
    "\n",
    "$$y = aX^2 + bX +c$$\n",
    "\n",
    "The coefficients of this model ($a,b,c$) are not useful inthemselves but are input parameters to other functions for example `torque_coef`\n",
    "\n",
    "The equation is also used to calculate the thrust coefficient in the trial condition/\n",
    "\n",
    "\n",
    "**ITTC equations**: J-9, J-10, J-11, J-25, J-26\n",
    "\n"
   ]
  },
  {
   "cell_type": "code",
   "execution_count": null,
   "id": "01e35de5-39ea-48b7-b7e2-5f5f294206a8",
   "metadata": {},
   "outputs": [],
   "source": [
    "#| export\n",
    "def get_curve_coefficient(y:float, #An array containing the dependent variable coefficient\n",
    "                      x:float, #An array containing the propeller advance coefficient\n",
    "                     )->float: #Returns an array containing model coefficients\n",
    "    \n",
    "    \"Obtain the coefficients used to calculate the Thrus, and Torque coefficients and the load factor coefficients\"\n",
    "    \n",
    "    #create the X matrix to have a quadratic form\n",
    "    X = np.concatenate((x**2,x, np.ones(len(x)))).reshape([3,len(x)]).transpose()\n",
    "    #Get determinate\n",
    "\n",
    "    square_mat = np.matmul(X.transpose(), X)\n",
    "\n",
    "    detX = np.linalg.inv(square_mat)\n",
    "\n",
    "    temp = np.matmul(detX, np.transpose(X))\n",
    "    #Return the beta value\n",
    "    b = np.matmul(temp, y)\n",
    "    \n",
    "    return b\n",
    "    "
   ]
  },
  {
   "cell_type": "markdown",
   "id": "d5d8466b-b950-4b94-b9be-6b49cff57e33",
   "metadata": {},
   "source": [
    "For ship whose model tests give a propeller advance coefficient to thrust coefficent $K$ relationship as shown below, we can (back) calculate the coefficients of the quadratic formula using the get_curve_coefficient function."
   ]
  },
  {
   "cell_type": "code",
   "execution_count": null,
   "id": "e2d57ad8-c94e-49c4-ba23-b926a5fb78b7",
   "metadata": {},
   "outputs": [
    {
     "data": {
      "text/plain": [
       "array([1., 2., 3.])"
      ]
     },
     "execution_count": null,
     "metadata": {},
     "output_type": "execute_result"
    }
   ],
   "source": [
    "J = np.linspace(1,10, 10)\n",
    "K = J**2 + 2*J +3 #In reality we obviously do not know the coefficients before hand!\n",
    "get_curve_coefficient(K, J)"
   ]
  },
  {
   "cell_type": "markdown",
   "id": "3ed9c0b1-86b0-4be0-85bc-71b7c7521fd3",
   "metadata": {},
   "source": [
    "When calculating the loading factor coefficients $\\tau$ the values for the propeller advance coefficient needs to be inverted"
   ]
  },
  {
   "cell_type": "code",
   "execution_count": null,
   "id": "074f9f24-733b-41d6-96a1-58077d71066a",
   "metadata": {},
   "outputs": [
    {
     "data": {
      "text/plain": [
       "array([1., 2., 3.])"
      ]
     },
     "execution_count": null,
     "metadata": {},
     "output_type": "execute_result"
    }
   ],
   "source": [
    "J = 1/np.linspace(1,10, 10)\n",
    "K = J**2 + 2*J +3 #In reality we obviously do not know the coefficients before hand!\n",
    "get_curve_coefficient(K, J)"
   ]
  },
  {
   "cell_type": "code",
   "execution_count": null,
   "id": "5f27a65b-5f29-4ae9-bb66-e43bf070a5ab",
   "metadata": {},
   "outputs": [],
   "source": [
    "#| hide\n",
    "#tests are amazing, found out I had an error in the code because the test failed at seemingly random points.\n",
    "#was actually an error in the function causing it to search for the variable in the global environment\n",
    "x = np.linspace(1,10, 10)\n",
    "y = x**2 + 2*x +3\n",
    "test_close(get_curve_coefficient(y, x)[1], 2, eps = 1e-5)\n",
    "\n",
    "#there was an error which occured when the array was shaped to hard coded values 3,10 when the vector was not 10 error was thrown\n",
    "#I fixed this by adding len(x) not sure if or how to build a test round this\n"
   ]
  },
  {
   "cell_type": "markdown",
   "id": "1aa6e679-ab9a-43a3-9021-f9ffe0b71b2a",
   "metadata": {},
   "source": [
    "### The quadratic method\n",
    "\n",
    "The quadratic method assumes you have obtained the coefficients using the inverse quadratic method described previously. This approach simply plugs the value of propeller advance ($J$) into the equation to return the value of the target coefficients/ factor. This is typically used to calculate the coefficents in the trial condition"
   ]
  },
  {
   "cell_type": "code",
   "execution_count": null,
   "id": "b7237933-be46-4ab1-b566-ecf0ceb086c2",
   "metadata": {},
   "outputs": [],
   "source": [
    "#| export\n",
    "def quadratic_method(coefs:float, #An array of the coefficients created by the function get_curve_coefficient\n",
    "                    propeller_advance_coef:float #The propeller advance coefficient\n",
    "                    )-> float: #The target value for the coefficient types entered\n",
    "    \n",
    "    \"Calculate the coefficient using a modelled quadratic curve\"\n",
    "    \n",
    "    return coefs[0] * propeller_advance_coef**2 + coefs[1] * propeller_advance_coef + coefs[2]"
   ]
  },
  {
   "cell_type": "markdown",
   "id": "b482054d-f408-47c4-95ab-b5944c0970e9",
   "metadata": {},
   "source": [
    "The ITTC use the quadratic method to calculate the thrust coefficient $K_{Qms}$ in the trial condition."
   ]
  },
  {
   "cell_type": "code",
   "execution_count": null,
   "id": "cc4b88a3-ff0f-469d-b709-8fa0eed6d53b",
   "metadata": {},
   "outputs": [
    {
     "data": {
      "text/plain": [
       "11"
      ]
     },
     "execution_count": null,
     "metadata": {},
     "output_type": "execute_result"
    }
   ],
   "source": [
    "quadratic_method([1,2,3], 2)"
   ]
  },
  {
   "cell_type": "code",
   "execution_count": null,
   "id": "ab6b1574-5b92-44db-871f-a8524787fb02",
   "metadata": {},
   "outputs": [],
   "source": [
    "#| hide\n",
    "\n",
    "test_eq(quadratic_method([1,2,3], 2), 11)"
   ]
  },
  {
   "cell_type": "markdown",
   "id": "0265b411-26cc-4627-89cf-90397374f025",
   "metadata": {},
   "source": [
    "### Torque coefficient from water conditions\n",
    "\n",
    "The torque coefficient is obtained using \n",
    "\n",
    "$$K_Q = \\frac{P}{2 \\pi \\rho n^3 D^5} \\eta,$$ Where $P$ is power, $n$ is rotations per second, $D$ is shaft diameter and $eta is relative rotative efficiency.\n",
    "\n",
    "Generally the torque coefficient for the ideal condition is known through tank tests. However, this equation is also used to find the thrust coeficient during the trial. When the trial thrust coefficient is calculated $P$, $n$, and $\\eta$ are all from trial data.\n",
    "\n",
    "**ITTC equations**: J-12"
   ]
  },
  {
   "cell_type": "code",
   "execution_count": null,
   "id": "5cd92ebd-cecb-48e7-96c5-7102551bd6b7",
   "metadata": {},
   "outputs": [],
   "source": [
    "#| export\n",
    "def torque_coef(power:float, #The delivered power\n",
    "                     shaft_speed:float, #measure propeller shaft speed [rev/s]\n",
    "                     diameter:float, #properller_diameter [m]\n",
    "                     efficiency:float, #relative rotative efficiency\n",
    "                     water_density:float = 1026 #water density [kg/m^3]\n",
    "                     )->float: #dimensionless thrust coefficient\n",
    "    \n",
    "    \"calcualte the torque coefficient under ideal or trial conditions\"\n",
    "    \n",
    "    denominator = 2 * np.pi * water_density * shaft_speed**3 * diameter**5\n",
    "    \n",
    "    return (power/denominator) *  efficiency\n",
    "    \n",
    "    "
   ]
  },
  {
   "cell_type": "markdown",
   "id": "ec37126c-594c-4c4e-b3b9-b02e992147ba",
   "metadata": {},
   "source": [
    "under trial conditions the thrust coefficient is calculated directly"
   ]
  },
  {
   "cell_type": "code",
   "execution_count": null,
   "id": "6aa902a8-6a16-4420-b589-49edeb69534f",
   "metadata": {},
   "outputs": [
    {
     "data": {
      "text/plain": [
       "1.3073637822066664e-06"
      ]
     },
     "execution_count": null,
     "metadata": {},
     "output_type": "execute_result"
    }
   ],
   "source": [
    "torque_coef(1e4, 50, 1.5, 0.8)"
   ]
  },
  {
   "cell_type": "code",
   "execution_count": null,
   "id": "7474803e-b52d-440b-8687-6729d7c15fc3",
   "metadata": {},
   "outputs": [],
   "source": [
    "#| hide\n",
    "\n",
    "test_eq(torque_coef(1e4*np.pi, 1, 1, 1, 1000), 5)"
   ]
  },
  {
   "cell_type": "markdown",
   "id": "ba4d16e0-444a-4876-be93-c1272476312b",
   "metadata": {},
   "source": [
    "### Load factor using propeller advance and thrust\n",
    "\n",
    "The load factor on the propeller can be calculate by\n",
    "\n",
    "$$\\tau_{P} = \\frac{K_{T}}{J^2},$$ where $K_{T}$ is the thrust coefficient and $J$ is the propeller advance coefficient. This approach is usally for finding \n",
    "$\\tau_{P}$ the trial condition\n",
    "\n",
    "**ITTC equations**: J-18"
   ]
  },
  {
   "cell_type": "code",
   "execution_count": null,
   "id": "69747f29-8860-4c2d-827b-509d8b7c3652",
   "metadata": {},
   "outputs": [],
   "source": [
    "#| export\n",
    "def load_factor(thrust_coefficient:float, #The thrust coefficient\n",
    "               propeller_advance:float #The propeller advance coefficient\n",
    "               )->float: # dimensionless load factor\n",
    "    \n",
    "    \"Calculate the load factor using the thrust and propeller advance coefficients\"\n",
    "    \n",
    "    return thrust_coefficient/propeller_advance**2"
   ]
  },
  {
   "cell_type": "markdown",
   "id": "9a8c4b14-79c5-4e29-970e-cfc326c3cd15",
   "metadata": {},
   "source": [
    "The load factor on the propeller for the given ship conditions is a key element to calculating the corrected power delivered"
   ]
  },
  {
   "cell_type": "code",
   "execution_count": null,
   "id": "843a8a00-8bfd-4930-b54c-2bc88aad48f5",
   "metadata": {},
   "outputs": [
    {
     "data": {
      "text/plain": [
       "0.032"
      ]
     },
     "execution_count": null,
     "metadata": {},
     "output_type": "execute_result"
    }
   ],
   "source": [
    "load_factor(0.8, 5)"
   ]
  },
  {
   "cell_type": "code",
   "execution_count": null,
   "id": "2c0a7fb7-b9e6-4b78-a437-b515b4b0f66a",
   "metadata": {},
   "outputs": [],
   "source": [
    "#| hide\n",
    "#another empty test\n",
    "test_eq(load_factor(4, 2), 1)"
   ]
  },
  {
   "cell_type": "markdown",
   "id": "a9a24d24-9afb-4d21-be22-8b6db23bc9e4",
   "metadata": {},
   "source": [
    "### Load factor using resistance and propellor state\n",
    "\n",
    "This approach to calculating  the loading factors are \n",
    "$$ \\tau = \\frac{R}{(1- t)(1-w_S)^2 \\rho V^2_S D^2},$$ where $R$ is the total resistance, $t$ is the thrust deduction factor, $w_S4$ is the full-scale wake fraction, $\\rho$ is the water density, $V_S$ is the ship speed through water, and $D$ is the diameter of the propeller. This equation is the same as `total_resistance` but re-arranged to find $\\tau$.\n",
    "\n",
    "**ITTC equations**: J-23"
   ]
  },
  {
   "cell_type": "code",
   "execution_count": null,
   "id": "a5fd284f-c973-47e0-a510-ab41a001da6a",
   "metadata": {},
   "outputs": [],
   "source": [
    "#| export\n",
    "def load_factor_resistance(\n",
    "                    resistance:float, # The total resistance experienced by the vessel\n",
    "                    thrust_deduction:float, #The thrust deduction factor\n",
    "                    wake_fraction:float, #The full-scale wake fraction\n",
    "                    stw:float, #Ships speed through water [m/s]\n",
    "                    diameter:float, #The diameter of the ships propeller\n",
    "                    water_density:float = 1026, #density of water in the given conditions [kg/m^3]\n",
    "    )-> float: #this value can be in the ideal condition or trial depending on parameters used\n",
    "    \n",
    "    \"Calculate the load factor of the propeller. Usually used to find the load factor in the ideal condition\"\n",
    "    \n",
    "    return resistance /( (1 - thrust_deduction) * (1- wake_fraction)**2 * water_density * stw**2 * diameter **2 )"
   ]
  },
  {
   "cell_type": "markdown",
   "id": "35b22766-a34f-426b-9dd0-d479cc9a4a10",
   "metadata": {},
   "source": [
    "The load factor using resistance allow the load factor in the ideal condition to be calculated using only basic information"
   ]
  },
  {
   "cell_type": "code",
   "execution_count": null,
   "id": "92bb11c5-2b87-41c2-a832-c342ebf3b1da",
   "metadata": {},
   "outputs": [
    {
     "data": {
      "text/plain": [
       "1.5353794413921111"
      ]
     },
     "execution_count": null,
     "metadata": {},
     "output_type": "execute_result"
    }
   ],
   "source": [
    "load_factor_resistance(1e4, 0.7, 0.8, 10, 2.3, 1026)"
   ]
  },
  {
   "cell_type": "code",
   "execution_count": null,
   "id": "f89df49a-126b-43ae-9517-d2ae0558554b",
   "metadata": {},
   "outputs": [],
   "source": [
    "#| hide\n",
    "\n",
    "test_eq(load_factor_resistance(1e4, 0.5, 0.5, 10, 1, 1), 800)"
   ]
  },
  {
   "cell_type": "markdown",
   "id": "a9e3f843-b415-4aa4-a6ec-7cef7378fce6",
   "metadata": {},
   "source": [
    "## Trial propeller advance\n",
    "\n",
    "The propeller advance coefficient for the trial conditions can be calculated by factorising the coefficients of the quadratic curve founs using `get_curve_coefficient`. The factorisation is the standard quadratic method using\n",
    "\n",
    "$$J = \\frac{-b - \\sqrt{b^2 -4a(c - K_Q)}}{2a},$$  or $$J = \\frac{-b - \\sqrt{b^2 -4(a- \\tau)c}}{2(a- \\tau)},$$ where $a,b,$ and $c$ are the ouput coefficients from `get_curve_coefficient` and $K_Q$ is the torque coefficient calculated using `torque_coef`, and $\\tau$ is the load factor. Note that the propeller advance is only the negative part of the quadratic equation as properller advance must always be positive. This equation is used to derive the propeller advance coefficient from empirical measurements.\n",
    "\n",
    "**ITTC equations**: J-13, J-24\n"
   ]
  },
  {
   "cell_type": "code",
   "execution_count": null,
   "id": "12aa52c8-cd8e-46ef-a6f9-d14490430f4e",
   "metadata": {},
   "outputs": [],
   "source": [
    "#| export\n",
    "def propeller_advance_coefficient(propeller_value:float, #The torque coefficient or loading factor as appropriate\n",
    "                                  a:float, #coefficient 'a' from get_curve_coefficient\n",
    "                                  b:float, #coefficient 'b' from get_curve_coefficient\n",
    "                                  c:float, #coefficient 'c' from get_curve_coefficient\n",
    "                                  mode:str, #Does function use torque or load mode?\n",
    "                                  ) -> float: \n",
    "    \n",
    "    \"Calculate the propeller advance coefficient using a quadratic curve\"\n",
    "    \n",
    "    assert (mode == \"torque\") | (mode == \"load\")\n",
    "    \n",
    "    if mode ==\"torque\":\n",
    "        \n",
    "        c = c - propeller_value\n",
    "        \n",
    "    elif mode == \"load\":\n",
    "    \n",
    "        a = a - propeller_value\n",
    "    \n",
    "    square_root = np.sqrt(b**2 - 4*a*c)\n",
    "    J = (-b - square_root )/(2*a)\n",
    "    \n",
    "    return J"
   ]
  },
  {
   "cell_type": "markdown",
   "id": "67fe0be7-d819-4395-89fe-9f15a845d702",
   "metadata": {},
   "source": [
    "The propeller advance can then be calcualted by combining outputs of the previous functions `get_curve_coefficient` and `torque_coef` as inputs to `propeller_advance_coefficient`.\n"
   ]
  },
  {
   "cell_type": "code",
   "execution_count": null,
   "id": "73cef29d-c85b-464a-bb8a-a839c3c173d5",
   "metadata": {},
   "outputs": [
    {
     "data": {
      "text/plain": [
       "0.9999986926396782"
      ]
     },
     "execution_count": null,
     "metadata": {},
     "output_type": "execute_result"
    }
   ],
   "source": [
    "#These values are obviously not realistic\n",
    "J = np.linspace(1,10, 10)\n",
    "K = 2*J**2 + -5*J +3 #In reality we obviously do not know the coefficients before hand!\n",
    "curve_coefs = get_curve_coefficient(K, J)\n",
    "trial_torque_coef = torque_coef(1e4, 50, 1.5, 0.8)\n",
    "propeller_advance_coefficient(trial_torque_coef, curve_coefs[0], curve_coefs[1], curve_coefs[2], mode ='torque'  )"
   ]
  },
  {
   "cell_type": "markdown",
   "id": "325324b0-4f82-4a14-9425-763fa3029728",
   "metadata": {},
   "source": [
    "Remember when calulating the propeller advance using load factors the coefficients used are not those from the load quadratic method but from Thrust"
   ]
  },
  {
   "cell_type": "code",
   "execution_count": null,
   "id": "b791eb77-24e3-452e-864e-356066b17d92",
   "metadata": {},
   "outputs": [
    {
     "data": {
      "text/plain": [
       "0.9999986926430968"
      ]
     },
     "execution_count": null,
     "metadata": {},
     "output_type": "execute_result"
    }
   ],
   "source": [
    "#when I have some example data show that thrust is used not torque\n",
    "\n",
    "propeller_advance_coefficient(trial_torque_coef, curve_coefs[0], curve_coefs[1], curve_coefs[2], mode ='load'  )"
   ]
  },
  {
   "cell_type": "code",
   "execution_count": null,
   "id": "cbec62af-fbb1-4dad-8952-89b640f869c2",
   "metadata": {},
   "outputs": [
    {
     "data": {
      "text/plain": [
       "1.0"
      ]
     },
     "execution_count": null,
     "metadata": {},
     "output_type": "execute_result"
    }
   ],
   "source": [
    "propeller_advance_coefficient(0, 2, -5, 3, mode = \"load\" )"
   ]
  },
  {
   "cell_type": "code",
   "execution_count": null,
   "id": "5768e044-27e0-4b71-a413-675fa55e2f94",
   "metadata": {},
   "outputs": [],
   "source": [
    "#| hide\n",
    "#(x - 1)(2x - 3) = 2x^2 -5x +3\n",
    "#put in test when I have reasonable values to test\n",
    "#check the equation is implemented properly\n",
    "test_eq(propeller_advance_coefficient(0, 2, -5, 3, mode = \"torque\" ),1)"
   ]
  },
  {
   "cell_type": "markdown",
   "id": "49c4ab2f-9e84-4f0c-9661-9952d8a2f78d",
   "metadata": {},
   "source": [
    "## Open water efficiency\n",
    "\n",
    "The efficiency of the properller in open water can be calcualted using \n",
    "\n",
    "$$\\eta_O = \\frac{J}{2 \\pi}\\frac{K_T}{K_Q},$$ where J is the propeller advance coefficient, $K_T$ is the thrust coefficient, and $K_Q$ is the torque coefficient. It can be used for calulating both the trial conditions, but is typically used for trial conditions as the ideal conditions are known from tank tests.\n",
    "\n",
    "**ITTC equations**: J-15, J-27"
   ]
  },
  {
   "cell_type": "code",
   "execution_count": null,
   "id": "19c87c13-f227-4800-b343-2f0a81a0619d",
   "metadata": {},
   "outputs": [],
   "source": [
    "#| export\n",
    "def open_water_efficiency(propeller_advance_coef:float, #The propeller advance coefficient of the ship\n",
    "                         thrust_coef:float, # thrust coefficient\n",
    "                         torque_coef:float \n",
    "                         )-> float:\n",
    "    \n",
    "    \"Calculate the open water propeller efficiency\"\n",
    "    \n",
    "    return (propeller_advance_coef/(2*np.pi))*(thrust_coef/torque_coef)"
   ]
  },
  {
   "cell_type": "markdown",
   "id": "bf7912e3-d53f-4834-8abb-5d686b71095c",
   "metadata": {},
   "source": [
    "The proppeller open water efficiency for a ship with a propeller advance coefficent of 5, thrust coefficent of 0.8 and torque coefficient of 0.9. Is shown below"
   ]
  },
  {
   "cell_type": "code",
   "execution_count": null,
   "id": "70c1fd1b-3d25-47c8-b14f-0b59aa7f5449",
   "metadata": {},
   "outputs": [
    {
     "data": {
      "text/plain": [
       "0.707355302630646"
      ]
     },
     "execution_count": null,
     "metadata": {},
     "output_type": "execute_result"
    }
   ],
   "source": [
    "open_water_efficiency(5, 0.8, 0.9)"
   ]
  },
  {
   "cell_type": "code",
   "execution_count": null,
   "id": "12d39df0-6c1b-4e0d-bf12-0ac0cdf2b949",
   "metadata": {},
   "outputs": [],
   "source": [
    "#| hide\n",
    "test_eq(open_water_efficiency(5, 2*np.pi, 1), 5 )"
   ]
  },
  {
   "cell_type": "markdown",
   "id": "e9cbc048-9175-4d7b-b8d3-e85baeb4a684",
   "metadata": {},
   "source": [
    "## Speed of flow into the propeller\n",
    "\n",
    "The rate at which water flows past the propeller is given by\n",
    "\n",
    "$$V_A = JnD$$, where $J$ is the propeller advance coefficient, $n$ is the rotations per second, and $D$ is the diameter of the propeller. When calculating the speed under trial conditions the propeller advance coefficieant can be found using `propeller_advance_coefficient`\n",
    "\n",
    "**ITTC equations**: J-16"
   ]
  },
  {
   "cell_type": "code",
   "execution_count": null,
   "id": "aa587f04-7ef2-4d8d-95a8-6d748ce7adca",
   "metadata": {},
   "outputs": [],
   "source": [
    "#| export\n",
    "def propeller_flow(\n",
    "    propeller_advance_coef:float, #Propeller advance coefficient [n/a]\n",
    "    rotations_sec:float, #propeller rotations per second [rev/sec]\n",
    "    diameter:float, #Diamter of the propeller [m]\n",
    "    )-> float: #The value that comes out is in m3/s WHAT ARE THE UNITS?\n",
    "    \n",
    "    \"Calculate speed of water flow into the propeller\"\n",
    "    \n",
    "    return propeller_advance_coef * rotations_sec * diameter"
   ]
  },
  {
   "cell_type": "markdown",
   "id": "87d108a2-70d6-4ccf-9df7-f560b1b443bf",
   "metadata": {},
   "source": [
    "really the propeller advance coefficient function is just a simple wrapper around the product of three values"
   ]
  },
  {
   "cell_type": "code",
   "execution_count": null,
   "id": "02050de1-06d4-405d-8879-f2e69b6fd14e",
   "metadata": {},
   "outputs": [
    {
     "data": {
      "text/plain": [
       "300"
      ]
     },
     "execution_count": null,
     "metadata": {},
     "output_type": "execute_result"
    }
   ],
   "source": [
    "propeller_flow(5, 30, 2)"
   ]
  },
  {
   "cell_type": "code",
   "execution_count": null,
   "id": "64a64209-7aff-4eaa-92e5-a0033f47b177",
   "metadata": {},
   "outputs": [],
   "source": [
    "#| hide\n",
    "\n",
    "test_eq(propeller_flow(5, 30, 2),300)"
   ]
  },
  {
   "cell_type": "markdown",
   "id": "2401ec0a-2397-4aee-bb36-93e6d4f29bd2",
   "metadata": {},
   "source": [
    "## Total Resistance\n",
    "\n",
    "The total resistance experienced by the ship system is given by.\n",
    "\n",
    "$$R = \\tau(1- t)(1-w_S)^2 \\rho V^2_S D^2,$$ where $\\tau$ is the loading factor, $t$ is the thrust deduction factor, $w_S4$ is the full-scale wake fraction, $\\rho$ is the water density, $V_S$ is the ship speed through water, and $D$ is the diameter of the propeller. This equation is typically used to calculate the resistance in the trial conditions and is the same as `load_factor_resistance` but rearranged to get $R$. The total resistance in the trial conditions is used to calculate the resistance in the ideal conditions, using the following formula.$$R_{id} = R_{ms} - \\Delta R,$$ where $R_{ms}$ is the resistance in the trial conditions, $\\Delta R$ is the resistance created by the wind, wave, and water. \n",
    "\n",
    "**ITTC equations**: J-19"
   ]
  },
  {
   "cell_type": "code",
   "execution_count": null,
   "id": "15f0c328-5c92-4e0b-9421-0cb033f0bc92",
   "metadata": {},
   "outputs": [],
   "source": [
    "#| export\n",
    "def total_resistance(\n",
    "                    load_factor:float, # The load factor\n",
    "                    thrust_deduction:float, #The thrust deduction factor\n",
    "                    wake_fraction:float, #The full-scale wake fraction\n",
    "                    stw:float, #Ships speed through water [m/s]\n",
    "                    diameter:float, #The diameter of the ships propeller\n",
    "                    water_density:float = 1026 #density of water in the given conditions [kg/m^3]\n",
    "    )-> float: #this value can be in the ideal condition or trial depending on parameters used\n",
    "    \n",
    "    \"Calculate the total resistance of the ship. Used to find the resistance in the ideal condition\"\n",
    "    \n",
    "    return load_factor * (1 - thrust_deduction) * (1- wake_fraction)**2 * water_density * stw**2 * diameter **2"
   ]
  },
  {
   "cell_type": "markdown",
   "id": "578d06d5-758b-4f2d-a810-93bb77a1440b",
   "metadata": {},
   "source": [
    "total resistance of the ship ultimately decides it's maximum speed and the fuel consumption it has at a given speed"
   ]
  },
  {
   "cell_type": "code",
   "execution_count": null,
   "id": "f2f6a386-365f-473a-8626-9b1c71ecd3ee",
   "metadata": {},
   "outputs": [
    {
     "data": {
      "text/plain": [
       "32565.23999999998"
      ]
     },
     "execution_count": null,
     "metadata": {},
     "output_type": "execute_result"
    }
   ],
   "source": [
    "total_resistance(5, 0.7, 0.8, 10, 2.3, 1026)"
   ]
  },
  {
   "cell_type": "code",
   "execution_count": null,
   "id": "d97862f6-1337-4cfc-bcac-9ac5b4ae05be",
   "metadata": {},
   "outputs": [],
   "source": [
    "#| hide\n",
    "\n",
    "test_eq(total_resistance(1, 0.5, 0.5, 10, 1, 10), 125)"
   ]
  },
  {
   "cell_type": "markdown",
   "id": "8520f756-f574-4e2b-98ef-45e2f0d25054",
   "metadata": {},
   "source": [
    "## Corrected propeller shaft speed\n",
    "\n",
    "The corrected propeller shaft speed is $$\\eta_ = \\frac{V_S(1-w_{S})}{JD},$$ where $V_s$ is the speed of the vessel, $w_S$ is the full-scale wake fraction, $J$ is the propeller advance coefficient in the ideal condition, and $D$ is the diameter of the propeller. This equation is is a re-arranged version of  `propeller_flow` with the substitution $V_A = V_S (1-w_S)$\n",
    "\n",
    "**ITTC equations**: J-28"
   ]
  },
  {
   "cell_type": "code",
   "execution_count": null,
   "id": "20aff231-88e7-409c-8712-95794bd8b730",
   "metadata": {},
   "outputs": [],
   "source": [
    "# | export\n",
    "def propeller_speed(\n",
    "        propeller_advance_coef:float, #Propeller advance coefficient [n/a]\n",
    "        stw:float, #The speed through water of the vessel [m/s]\n",
    "        diameter:float, #Diamter of the propeller [m]\n",
    "        wake_fraction:float, #The full scale wake fraction\n",
    "        )-> float: #Propeller speed in rotations per second\n",
    "    \"Calculate the propeller speed in m/s\"\n",
    "\n",
    "    return stw*(1-wake_fraction)/(propeller_advance_coef * diameter)"
   ]
  },
  {
   "cell_type": "markdown",
   "id": "3c716d23-2d66-42d2-bf6d-836dcd913ac0",
   "metadata": {},
   "source": [
    "Once calculated propeller speed can be inserted into the beggining of the calculation process to iterate the model to convergence and find the final value for $\\Delta P$"
   ]
  },
  {
   "cell_type": "code",
   "execution_count": null,
   "id": "7fe6f0ad-b01e-40fb-be6e-abe8a6bbd9a7",
   "metadata": {},
   "outputs": [
    {
     "data": {
      "text/plain": [
       "1.25"
      ]
     },
     "execution_count": null,
     "metadata": {},
     "output_type": "execute_result"
    }
   ],
   "source": [
    "propeller_speed(2, 10, 2, 0.5)"
   ]
  },
  {
   "cell_type": "code",
   "execution_count": null,
   "id": "52892560-e9ee-4dc5-a609-9d6ac6eccbc0",
   "metadata": {},
   "outputs": [],
   "source": [
    "#| hide\n",
    "\n",
    "test_eq(propeller_speed(2, 10, 2, 0.5),1.25)"
   ]
  },
  {
   "cell_type": "markdown",
   "id": "0700d04a-43a1-433a-a571-82101d5d3056",
   "metadata": {},
   "source": [
    "## Power in the ideal conditions\n",
    "\n",
    "\n",
    "After finding all the intermediary stages the final corrected power values can be calcualted. $$P_{Did} = P_{Dms} - \\Delta P$$\n",
    "\n",
    "The calulation of these values is broken into two stages\n",
    "\n",
    "- Trial: The calculations needed to get all the values relating to and required for values 'in the trial condition'\n",
    "- Ideal: The calculations needed to get all the values relating to and required for values 'in the ideal condition'\n",
    "\n",
    "The trial values are calculated first then the results are used to calculate the ideal values. once both phases have been completed the delivered power in the ideal condition can be found.\n",
    "\n",
    "### Calculate values in the trial condition\n",
    "\n"
   ]
  },
  {
   "cell_type": "code",
   "execution_count": null,
   "id": "7507be11-90ec-44b4-b1d9-a019783882c6",
   "metadata": {},
   "outputs": [],
   "source": [
    "#| export\n",
    "def calculate_all_values_from_trial_phase(\n",
    "    V_s:float,\n",
    "    P_dms:float,\n",
    "    eta_ms:float,\n",
    "    delta_R:float,\n",
    "    R_id:float,\n",
    "    delta_eta :float,\n",
    "    delta_t:float, \n",
    "    delta_w:float,\n",
    "    shaft_speed:float,\n",
    "    diameter:float,\n",
    "    e_i:float,\n",
    "    t_Rid:float,\n",
    "    w_Mid:float,\n",
    "    number_shafts:float,\n",
    "    K_T,\n",
    "    K_Q,\n",
    "    J,\n",
    "    water_density:float = 1026\n",
    "    ): #returns a dictionaryt of the ouput variables from the trial condition calculations\n",
    "    \n",
    "    \"Perform all the calculations to get the 'trials conditions' values\"\n",
    "    #These return the initia; value of eta/t/w, the function is used just to show, although it does nothing. This can be swapped out\n",
    "    eta_Rms = eta_ms\n",
    "    t_ms = t_Rid\n",
    "    w_Mms = w_Mid\n",
    "\n",
    "    K_Qms = torque_coef(P_dms, shaft_speed, diameter, eta_Rms, water_density)/number_shafts #two shafts\n",
    "\n",
    "\n",
    "    ## These two functions are the only bit that cannot be vectorised \n",
    "    ##However these values are fixed from the test data so should be fixed for each ship, so vectorisation should be irrelevant\n",
    "    K_T_coeffs = get_curve_coefficient(K_T, J)\n",
    "    K_Q_coeffs = get_curve_coefficient(K_Q, J)\n",
    "\n",
    "    #not vectorised\n",
    "    J_ms = propeller_advance_coefficient(K_Qms, K_Q_coeffs[0], K_Q_coeffs[1], K_Q_coeffs[2], \"torque\"  )\n",
    "\n",
    "\n",
    "    K_Tms = quadratic_method(K_T_coeffs, J_ms)\n",
    "\n",
    "    tau_Pms = load_factor(K_Tms  , J_ms)\n",
    "\n",
    "\n",
    "    V_A = propeller_flow(J_ms, shaft_speed, diameter)\n",
    "\n",
    "    w_Sms = full_scale_wake_speed(V_A, V_s)\n",
    "\n",
    "    R_ms = total_resistance(tau_Pms, t_ms, w_Sms, V_s, diameter, water_density) *number_shafts #number of propellers\n",
    "\n",
    "    R_id = R_ms - delta_R\n",
    "\n",
    "    eta_Oms = open_water_efficiency(J_ms, K_Tms, K_Qms)  \n",
    "\n",
    "\n",
    "\n",
    "\n",
    "    eta_Rms = self_propulsion_factors(eta_ms, delta_eta, delta_R, R_id)\n",
    "    t_ms = self_propulsion_factors(t_Rid, delta_t, delta_R, R_id)\n",
    "    w_Mms = self_propulsion_factors(w_Mid, delta_w, delta_R, R_id)\n",
    "\n",
    "    eta_Dms = propulsive_efficiency_corr(eta_Oms, eta_Rms, t_ms, w_Sms)\n",
    "\n",
    "    e_ims = scale_correlation_factor(w_Sms, w_Mms)\n",
    "\n",
    "    w_Sid = full_scale_wake_fraction(w_Mid,e_ims)  \n",
    "    \n",
    "    trial_values = {'K_Qms':K_Qms, 'J_ms':J_ms, 'K_Tms':K_Tms, 'tau_Pms':tau_Pms, 'V_A':V_A, 'w_Sms':w_Sms, \n",
    "                    'R_ms':R_ms, 'R_id':R_id, 'eta_Oms':eta_Oms, 'eta_Rms':eta_Rms, 't_ms':t_ms, 'w_Mms':w_Mms, \n",
    "                    'eta_Dms':eta_Dms, 'e_ims':e_ims, 'w_Sid':w_Sid}\n",
    "    \n",
    "    return trial_values, [K_T_coeffs, K_Q_coeffs]\n",
    "    "
   ]
  },
  {
   "cell_type": "markdown",
   "id": "92614b36-b140-4f70-acff-1141b3f18de3",
   "metadata": {},
   "source": [
    "Completing the trial phase values returns a dictionary of values. If vectors are entered instead of floats then a dictionary of arrays is returned.\n",
    "Using this structure makes converting the output of the function in a pandas dataframe straightforword.\n",
    "\n",
    "As the output is all scalers an idex must be passed to the dataframe commend. The index be the same length as the vectors returned by `calculate_all_values_from_trial_phase`."
   ]
  },
  {
   "cell_type": "code",
   "execution_count": null,
   "id": "43c0e641-e454-42c1-b935-25005f0d2472",
   "metadata": {},
   "outputs": [
    {
     "data": {
      "text/html": [
       "<div>\n",
       "<style scoped>\n",
       "    .dataframe tbody tr th:only-of-type {\n",
       "        vertical-align: middle;\n",
       "    }\n",
       "\n",
       "    .dataframe tbody tr th {\n",
       "        vertical-align: top;\n",
       "    }\n",
       "\n",
       "    .dataframe thead th {\n",
       "        text-align: right;\n",
       "    }\n",
       "</style>\n",
       "<table border=\"1\" class=\"dataframe\">\n",
       "  <thead>\n",
       "    <tr style=\"text-align: right;\">\n",
       "      <th></th>\n",
       "      <th>K_Qms</th>\n",
       "      <th>J_ms</th>\n",
       "      <th>K_Tms</th>\n",
       "      <th>tau_Pms</th>\n",
       "      <th>V_A</th>\n",
       "      <th>w_Sms</th>\n",
       "      <th>R_ms</th>\n",
       "      <th>R_id</th>\n",
       "      <th>eta_Oms</th>\n",
       "      <th>eta_Rms</th>\n",
       "      <th>t_ms</th>\n",
       "      <th>w_Mms</th>\n",
       "      <th>eta_Dms</th>\n",
       "      <th>e_ims</th>\n",
       "      <th>w_Sid</th>\n",
       "    </tr>\n",
       "  </thead>\n",
       "  <tbody>\n",
       "    <tr>\n",
       "      <th>0</th>\n",
       "      <td>0.018525</td>\n",
       "      <td>0.781956</td>\n",
       "      <td>0.11299</td>\n",
       "      <td>0.184789</td>\n",
       "      <td>7.444223</td>\n",
       "      <td>0.154066</td>\n",
       "      <td>1.182687e+06</td>\n",
       "      <td>1.226687e+06</td>\n",
       "      <td>0.759068</td>\n",
       "      <td>1.018</td>\n",
       "      <td>0.2</td>\n",
       "      <td>0.24</td>\n",
       "      <td>0.730771</td>\n",
       "      <td>1.113072</td>\n",
       "      <td>0.154066</td>\n",
       "    </tr>\n",
       "  </tbody>\n",
       "</table>\n",
       "</div>"
      ],
      "text/plain": [
       "      K_Qms      J_ms    K_Tms   tau_Pms       V_A     w_Sms          R_ms  \\\n",
       "0  0.018525  0.781956  0.11299  0.184789  7.444223  0.154066  1.182687e+06   \n",
       "\n",
       "           R_id   eta_Oms  eta_Rms  t_ms  w_Mms   eta_Dms     e_ims     w_Sid  \n",
       "0  1.226687e+06  0.759068    1.018   0.2   0.24  0.730771  1.113072  0.154066  "
      ]
     },
     "execution_count": null,
     "metadata": {},
     "output_type": "execute_result"
    }
   ],
   "source": [
    "trial_values, K_coeffs = calculate_all_values_from_trial_phase(\n",
    "            V_s = 8.8,\n",
    "            P_dms = 14242e3,\n",
    "            eta_ms = 1.018,\n",
    "            delta_R = -44000,\n",
    "            R_id = -44000,\n",
    "            delta_eta  = 0,\n",
    "            delta_t = 0,\n",
    "            delta_w = 0,\n",
    "            shaft_speed = 68/60, #rpm converted to sec\n",
    "            diameter = 8.4, #because there are two shafts?\n",
    "            number_shafts = 2,\n",
    "            water_density = 1023,\n",
    "            e_i = 1.089,\n",
    "            t_Rid = 0.2,\n",
    "            w_Mid = 0.24,\n",
    "            J = np.linspace(0.3, 0.85, 12),\n",
    "            K_T = np.asarray([0.3038, 0.2846, 0.2651, 0.2456, 0.226, 0.2064, 0.1867, 0.1669, 0.1467, 0.1264, 0.1056, 0.0845]),\n",
    "            K_Q = np.asarray([0.397,0.3765,0.356,0.3352,0.3142,0.2929,0.2711,0.2488,0.2257,0.2016,0.1765,0.1501])/10\n",
    ")\n",
    "\n",
    "pd.DataFrame(trial_values, index = [0])"
   ]
  },
  {
   "cell_type": "code",
   "execution_count": null,
   "id": "7458aa90-f227-4b54-8e40-97c1bb77839c",
   "metadata": {},
   "outputs": [],
   "source": [
    "#| hide\n",
    "\n",
    "trial_values, K_coeffs = calculate_all_values_from_trial_phase(\n",
    "            V_s = 8.8,\n",
    "            P_dms = 14242e3,\n",
    "            eta_ms = 1.018,\n",
    "            delta_R = -44000,\n",
    "            R_id = -44000,\n",
    "            delta_eta  = 0,\n",
    "            delta_t = 0,\n",
    "            delta_w = 0,\n",
    "            shaft_speed = 68/60, #rpm converted to sec\n",
    "            diameter = 8.4, #because there are two shafts?\n",
    "            number_shafts = 2,\n",
    "            water_density = 1023,\n",
    "            e_i = 1.089,\n",
    "            t_Rid = 0.2,\n",
    "            w_Mid = 0.24,\n",
    "            J = np.linspace(0.3, 0.85, 12),\n",
    "            K_T = np.asarray([0.3038, 0.2846, 0.2651, 0.2456, 0.226, 0.2064, 0.1867, 0.1669, 0.1467, 0.1264, 0.1056, 0.0845]),\n",
    "            K_Q = np.asarray([0.397,0.3765,0.356,0.3352,0.3142,0.2929,0.2711,0.2488,0.2257,0.2016,0.1765,0.1501])/10\n",
    ")\n",
    "\n",
    "\n",
    "test_close(trial_values['w_Sid'],0.154066, eps = 1e-5 )\n"
   ]
  },
  {
   "cell_type": "markdown",
   "id": "75651d4c-4c05-4873-8916-ebc4c4216851",
   "metadata": {},
   "source": [
    "### Calculate values in the ideal condition\n",
    "\n"
   ]
  },
  {
   "cell_type": "code",
   "execution_count": null,
   "id": "e4f690d3-9876-42d1-88a3-9086a6b815f2",
   "metadata": {},
   "outputs": [],
   "source": [
    "#| export\n",
    "def calculate_all_values_from_ideal_phase(\n",
    "        V_s:float,\n",
    "        P_dms:float,\n",
    "        delta_R:float,\n",
    "        shaft_speed:float,\n",
    "        diameter:float,\n",
    "        number_shafts:float,\n",
    "        t_Rid:float,\n",
    "        R_id:float, \n",
    "        eta_Rms:float, \n",
    "        eta_Dms:float, \n",
    "        w_Sid:float,\n",
    "        K_T_coeffs,\n",
    "        K_Q_coeffs,\n",
    "        water_density:float = 1026\n",
    "        ): #returns a dictionaryt of the ouput variables from the trial condition calculations\n",
    "    \n",
    "    \"intermediary function that calculates all the values in the ideal condition\"\n",
    "\n",
    "    tau_Pid = load_factor_resistance(R_id , t_Rid, w_Sid, V_s, diameter, water_density)/number_shafts\n",
    "\n",
    "    #I don't really understand why the load factor uses the thrust coefficients\n",
    "    J_id = propeller_advance_coefficient(tau_Pid , K_T_coeffs[0], K_T_coeffs[1], K_T_coeffs[2], \"load\"  )\n",
    "\n",
    "    K_Tid = quadratic_method(K_T_coeffs, J_id)\n",
    "\n",
    "    K_Qid = quadratic_method(K_Q_coeffs, J_id)\n",
    "\n",
    "    eta_Oid = open_water_efficiency(J_id, K_Tid, K_Qid)\n",
    "\n",
    "    n_id = propeller_speed(J_id, V_s, diameter, w_Sid)\n",
    "\n",
    "    eta_Did = propulsive_efficiency_corr(eta_Oid , eta_Rms, t_Rid, w_Sid)\n",
    "\n",
    "    delta_P = correction_delivered_power(P_dms, delta_R, V_s, eta_Did, eta_Dms)\n",
    "    \n",
    "    ideal_values = {'tau_Pid':tau_Pid, 'J_id':J_id, 'K_Tid':K_Tid, 'K_Qid':K_Qid, 'eta_Oid':eta_Oid, 'n_id':n_id , 'eta_Did':eta_Did, 'delta_P':delta_P}\n",
    "    \n",
    "    return ideal_values"
   ]
  },
  {
   "cell_type": "markdown",
   "id": "4ed6967e-d75b-4e24-b61c-a5a82742d99a",
   "metadata": {},
   "source": [
    "In most cases the function will take the output of `calculate_all_values_from_trial_phase`. However there may be cases where some variables will be substituted. In the case below the total resistance in the ideal condition $R_{id}$ has been repplaced with another value with the rest of the values unchanged"
   ]
  },
  {
   "cell_type": "code",
   "execution_count": null,
   "id": "d21853a8-a8ba-4445-abea-024002908eec",
   "metadata": {},
   "outputs": [
    {
     "data": {
      "text/plain": [
       "{'tau_Pid': 0.21810388102065403,\n",
       " 'J_id': 0.7546149357255287,\n",
       " 'K_Tid': 0.12419788125885733,\n",
       " 'K_Qid': 0.019860906443216052,\n",
       " 'eta_Oid': 0.7510358183599756,\n",
       " 'n_id': 1.1743963166125853,\n",
       " 'eta_Did': 0.7230390006897096,\n",
       " 'delta_P': -687825.7242918534}"
      ]
     },
     "execution_count": null,
     "metadata": {},
     "output_type": "execute_result"
    }
   ],
   "source": [
    "\n",
    "ideal_values = calculate_all_values_from_ideal_phase(\n",
    "            V_s = 8.8,\n",
    "            P_dms = 14242e3,\n",
    "            delta_R = -44000,\n",
    "            shaft_speed = 68/60, #rpm converted to sec\n",
    "            diameter = 8.4, #because there are two shafts?\n",
    "            number_shafts = 2,\n",
    "            t_Rid = 0.2,\n",
    "            R_id= 1.4e6, #trial_values['R_id'], #R_id is replaced with a different value \n",
    "            eta_Rms=trial_values['eta_Rms'],\n",
    "            eta_Dms=trial_values['eta_Dms'],\n",
    "            w_Sid=trial_values['w_Sid'],\n",
    "            K_T_coeffs =  K_coeffs[0],\n",
    "            K_Q_coeffs =  K_coeffs[1],\n",
    "            water_density = 1026\n",
    ")\n",
    "ideal_values"
   ]
  },
  {
   "cell_type": "markdown",
   "id": "90c65348-ec72-4de1-872e-b351d2e7de61",
   "metadata": {},
   "source": [
    "However, it should be remembered that data can be entered as an array resulting in an array being returned. Also remember that the functions will perform broadcasting automatically."
   ]
  },
  {
   "cell_type": "code",
   "execution_count": null,
   "id": "ae667994-8b7d-4767-a216-f5eac029d72c",
   "metadata": {},
   "outputs": [
    {
     "data": {
      "text/html": [
       "<div>\n",
       "<style scoped>\n",
       "    .dataframe tbody tr th:only-of-type {\n",
       "        vertical-align: middle;\n",
       "    }\n",
       "\n",
       "    .dataframe tbody tr th {\n",
       "        vertical-align: top;\n",
       "    }\n",
       "\n",
       "    .dataframe thead th {\n",
       "        text-align: right;\n",
       "    }\n",
       "</style>\n",
       "<table border=\"1\" class=\"dataframe\">\n",
       "  <thead>\n",
       "    <tr style=\"text-align: right;\">\n",
       "      <th></th>\n",
       "      <th>tau_Pid</th>\n",
       "      <th>J_id</th>\n",
       "      <th>K_Tid</th>\n",
       "      <th>K_Qid</th>\n",
       "      <th>eta_Oid</th>\n",
       "      <th>n_id</th>\n",
       "      <th>eta_Did</th>\n",
       "      <th>delta_P</th>\n",
       "    </tr>\n",
       "  </thead>\n",
       "  <tbody>\n",
       "    <tr>\n",
       "      <th>0</th>\n",
       "      <td>0.280419</td>\n",
       "      <td>0.711273</td>\n",
       "      <td>0.141867</td>\n",
       "      <td>0.021944</td>\n",
       "      <td>0.731859</td>\n",
       "      <td>1.245959</td>\n",
       "      <td>0.704577</td>\n",
       "      <td>-1.079038e+06</td>\n",
       "    </tr>\n",
       "    <tr>\n",
       "      <th>1</th>\n",
       "      <td>0.218104</td>\n",
       "      <td>0.754615</td>\n",
       "      <td>0.124198</td>\n",
       "      <td>0.019861</td>\n",
       "      <td>0.751036</td>\n",
       "      <td>1.174396</td>\n",
       "      <td>0.723039</td>\n",
       "      <td>-6.878257e+05</td>\n",
       "    </tr>\n",
       "    <tr>\n",
       "      <th>2</th>\n",
       "      <td>0.191104</td>\n",
       "      <td>0.776506</td>\n",
       "      <td>0.115228</td>\n",
       "      <td>0.018793</td>\n",
       "      <td>0.757760</td>\n",
       "      <td>1.141288</td>\n",
       "      <td>0.729513</td>\n",
       "      <td>-5.553337e+05</td>\n",
       "    </tr>\n",
       "  </tbody>\n",
       "</table>\n",
       "</div>"
      ],
      "text/plain": [
       "    tau_Pid      J_id     K_Tid     K_Qid   eta_Oid      n_id   eta_Did  \\\n",
       "0  0.280419  0.711273  0.141867  0.021944  0.731859  1.245959  0.704577   \n",
       "1  0.218104  0.754615  0.124198  0.019861  0.751036  1.174396  0.723039   \n",
       "2  0.191104  0.776506  0.115228  0.018793  0.757760  1.141288  0.729513   \n",
       "\n",
       "        delta_P  \n",
       "0 -1.079038e+06  \n",
       "1 -6.878257e+05  \n",
       "2 -5.553337e+05  "
      ]
     },
     "execution_count": null,
     "metadata": {},
     "output_type": "execute_result"
    }
   ],
   "source": [
    "ideal_values = calculate_all_values_from_ideal_phase(\n",
    "            V_s = 8.8,\n",
    "            P_dms = 14242e3,\n",
    "            delta_R = -44000,\n",
    "            shaft_speed = 68/60, #rpm converted to sec\n",
    "            diameter = 8.4, #because there are two shafts?\n",
    "            number_shafts = 2,\n",
    "            t_Rid = 0.2,\n",
    "            R_id= np.array([1.8e6, 1.4e6, trial_values['R_id'] ]),\n",
    "            eta_Rms=trial_values['eta_Rms'],\n",
    "            eta_Dms=trial_values['eta_Dms'],\n",
    "            w_Sid=trial_values['w_Sid'],\n",
    "            K_T_coeffs =  K_coeffs[0],\n",
    "            K_Q_coeffs =  K_coeffs[1],\n",
    "            water_density = 1026\n",
    ")\n",
    "\n",
    "pd.DataFrame(ideal_values, index = [0,1,2])"
   ]
  },
  {
   "cell_type": "code",
   "execution_count": null,
   "id": "86c72244-701f-4583-b17f-cd74d50ec757",
   "metadata": {},
   "outputs": [],
   "source": [
    "#| hide\n",
    "ideal_values = calculate_all_values_from_ideal_phase(\n",
    "            V_s = 8.8,\n",
    "            P_dms = 14242e3,\n",
    "            delta_R = -44000,\n",
    "            shaft_speed = 68/60, #rpm converted to sec\n",
    "            diameter = 8.4, #because there are two shafts?\n",
    "            number_shafts = 2,\n",
    "            t_Rid = 0.2,\n",
    "            R_id= trial_values['R_id'], #R_id is replaced with a different value \n",
    "            eta_Rms=trial_values['eta_Rms'],\n",
    "            eta_Dms=trial_values['eta_Dms'],\n",
    "            w_Sid=trial_values['w_Sid'],\n",
    "            K_T_coeffs =  K_coeffs[0],\n",
    "            K_Q_coeffs =  K_coeffs[1],\n",
    "            water_density = 1026\n",
    ")\n",
    "\n",
    "test_close(ideal_values['delta_P'], -555333, eps = 1)"
   ]
  },
  {
   "cell_type": "markdown",
   "id": "627c1361-9faa-4fc5-a109-65ab1532fdc0",
   "metadata": {},
   "source": [
    "### Power delivered in the ideal condition\n",
    "\n",
    "This function brings all the rest of the functions in this module together into a single function call. Generally it would be easiest to use this. However, in the case that iteration is necessary, creating a custom function with a loop would be better. Such functionality may added to the library later as its use is better understood\n",
    "\n"
   ]
  },
  {
   "cell_type": "code",
   "execution_count": null,
   "id": "6be2e1f0-8cc0-4a61-9e06-a84ab87d002a",
   "metadata": {},
   "outputs": [],
   "source": [
    "\n",
    "#| export\n",
    "def delivered_power_ideal_condition(\n",
    "    V_s:float,\n",
    "    P_dms:float,\n",
    "    eta_ms:float,\n",
    "    delta_R:float,\n",
    "    R_id:float,\n",
    "    delta_eta :float,\n",
    "    delta_t:float, \n",
    "    delta_w:float,\n",
    "    shaft_speed:float,\n",
    "    diameter:float,\n",
    "    e_i:float,\n",
    "    t_Rid:float,\n",
    "    w_Mid:float,\n",
    "    number_shafts:float,\n",
    "    K_T,\n",
    "    K_Q,\n",
    "    J,\n",
    "    water_density:float = 1026): #returns three results ideal_values, trial_values and the K coefficients\n",
    "    \n",
    "    \"Calculate the delivered power in the Ideal conditions\"\n",
    "\n",
    "    trial_values, K_coeffs = calculate_all_values_from_trial_phase(\n",
    "                V_s = V_s,\n",
    "                P_dms =P_dms ,\n",
    "                eta_ms = eta_ms ,\n",
    "                delta_R = delta_R ,\n",
    "                R_id = R_id,\n",
    "                delta_eta = delta_eta,\n",
    "                delta_t = delta_t,\n",
    "                delta_w = delta_w ,\n",
    "                shaft_speed = shaft_speed ,\n",
    "                diameter = diameter,\n",
    "                number_shafts = number_shafts ,\n",
    "                water_density = water_density ,\n",
    "                e_i = e_i,\n",
    "                t_Rid = t_Rid,\n",
    "                w_Mid = w_Mid ,\n",
    "                J = J,\n",
    "                K_T = K_T,\n",
    "                K_Q = K_Q\n",
    "    )\n",
    "\n",
    "\n",
    "\n",
    "\n",
    "\n",
    "\n",
    "    ideal_values = calculate_all_values_from_ideal_phase(\n",
    "                V_s = V_s,\n",
    "                P_dms = P_dms,\n",
    "                delta_R = delta_R ,\n",
    "                shaft_speed = shaft_speed ,\n",
    "                diameter = diameter, \n",
    "                number_shafts = number_shafts,\n",
    "                t_Rid = t_Rid ,\n",
    "                R_id = trial_values['R_id'], \n",
    "                eta_Rms = trial_values['eta_Rms'],\n",
    "                eta_Dms = trial_values['eta_Dms'],\n",
    "                w_Sid = trial_values['w_Sid'],\n",
    "                K_T_coeffs =  K_coeffs[0],\n",
    "                K_Q_coeffs =  K_coeffs[1],\n",
    "                water_density = water_density\n",
    "    )\n",
    "\n",
    "    return ideal_values, trial_values, K_coeffs"
   ]
  },
  {
   "cell_type": "markdown",
   "id": "18c84718-2485-4fd6-8772-357bad01c7ed",
   "metadata": {},
   "source": [
    "Although this function produces a lot of output. Most can be ingored or used for checking results. "
   ]
  },
  {
   "cell_type": "code",
   "execution_count": null,
   "id": "e6e2f0ca-8609-4a84-b169-28f1883b3d92",
   "metadata": {},
   "outputs": [
    {
     "data": {
      "text/plain": [
       "{'tau_Pid': 0.191664144444155,\n",
       " 'J_id': 0.7760288980241049,\n",
       " 'K_Tid': 0.115424144090644,\n",
       " 'K_Qid': 0.018816229604676736,\n",
       " 'eta_Oid': 0.7576385853528017,\n",
       " 'n_id': 1.1419896903753914,\n",
       " 'eta_Did': 0.7293956323330646,\n",
       " 'delta_P': -557713.3429971525}"
      ]
     },
     "execution_count": null,
     "metadata": {},
     "output_type": "execute_result"
    }
   ],
   "source": [
    "ideal_values, trial_values, K_coeffs = delivered_power_ideal_condition(\n",
    "            V_s = 8.8,\n",
    "            P_dms = 14242e3,\n",
    "            eta_ms = 1.018,\n",
    "            delta_R = -44000,\n",
    "            R_id = -44000,\n",
    "            delta_eta  = 0,\n",
    "            delta_t = 0,\n",
    "            delta_w = 0,\n",
    "            shaft_speed = 68/60, #rpm converted to sec\n",
    "            diameter = 8.4, #because there are two shafts?\n",
    "            number_shafts = 2,\n",
    "            water_density = 1023,\n",
    "            e_i = 1.089,\n",
    "            t_Rid = 0.2,\n",
    "            w_Mid = 0.24,\n",
    "            J = np.linspace(0.3, 0.85, 12),\n",
    "            K_T = np.asarray([0.3038, 0.2846, 0.2651, 0.2456, 0.226, 0.2064, 0.1867, 0.1669, 0.1467, 0.1264, 0.1056, 0.0845]),\n",
    "            K_Q = np.asarray([0.397,0.3765,0.356,0.3352,0.3142,0.2929,0.2711,0.2488,0.2257,0.2016,0.1765,0.1501])/10\n",
    ")\n",
    "\n",
    "ideal_values"
   ]
  },
  {
   "cell_type": "code",
   "execution_count": null,
   "id": "995a614f-6cd5-4ca1-8e34-3b1ee36a7147",
   "metadata": {},
   "outputs": [
    {
     "data": {
      "text/plain": [
       "{'K_Qms': 0.018525240056346072,\n",
       " 'J_ms': 0.7819561773325622,\n",
       " 'K_Tms': 0.11299045718360884,\n",
       " 'tau_Pms': 0.1847893493004625,\n",
       " 'V_A': 7.444222808205993,\n",
       " 'w_Sms': 0.1540655899765918,\n",
       " 'R_ms': 1182687.0763822165,\n",
       " 'R_id': 1226687.0763822165,\n",
       " 'eta_Oms': 0.7590676236822088,\n",
       " 'eta_Rms': 1.018,\n",
       " 't_ms': 0.2,\n",
       " 'w_Mms': 0.24,\n",
       " 'eta_Dms': 0.7307713995340193,\n",
       " 'e_ims': 1.1130715921360634,\n",
       " 'w_Sid': 0.1540655899765918}"
      ]
     },
     "execution_count": null,
     "metadata": {},
     "output_type": "execute_result"
    }
   ],
   "source": [
    "#| hide\n",
    "ideal_values_all, trial_values_all, K_coeffs_all = delivered_power_ideal_condition(\n",
    "            V_s = 8.8,\n",
    "            P_dms = 14242e3,\n",
    "            eta_ms = 1.018,\n",
    "            delta_R = -44000,\n",
    "            R_id = -44000,\n",
    "            delta_eta  = 0,\n",
    "            delta_t = 0,\n",
    "            delta_w = 0,\n",
    "            shaft_speed = 68/60, #rpm converted to sec\n",
    "            diameter = 8.4, #because there are two shafts?\n",
    "            number_shafts = 2,\n",
    "            water_density = 1023,\n",
    "            e_i = 1.089,\n",
    "            t_Rid = 0.2,\n",
    "            w_Mid = 0.24,\n",
    "            J = np.linspace(0.3, 0.85, 12),\n",
    "            K_T = np.asarray([0.3038, 0.2846, 0.2651, 0.2456, 0.226, 0.2064, 0.1867, 0.1669, 0.1467, 0.1264, 0.1056, 0.0845]),\n",
    "            K_Q = np.asarray([0.397,0.3765,0.356,0.3352,0.3142,0.2929,0.2711,0.2488,0.2257,0.2016,0.1765,0.1501])/10\n",
    ")\n",
    "\n",
    "#\n",
    "# Test fails why? there is a differnce of about 2000W power output\n",
    "#\n",
    "#test_close(ideal_values_all['delta_P']/1000, -555333/1000, eps = 1)\n",
    "\n",
    "trial_values_all"
   ]
  },
  {
   "cell_type": "markdown",
   "id": "50cf2aeb-fe0b-4c63-9865-1ddea78b3c35",
   "metadata": {},
   "source": [
    "## How it all hangs together\n",
    "\n",
    "The relationships between the direct power equations are pretty complicated. The below flow diagram can help understand how it all hangs together"
   ]
  },
  {
   "cell_type": "code",
   "execution_count": null,
   "id": "8ff029c1-d3fa-496a-bd00-de6e58a696cd",
   "metadata": {},
   "outputs": [
    {
     "data": {
      "text/plain": [
       "'{mermaid}\\nflowchart LR\\n  A[Hard edge] --> B(Round edge)\\n  B --> C{Decision}\\n  C --> D[Result one]\\n  C --> E[Result two]\\n'"
      ]
     },
     "execution_count": null,
     "metadata": {},
     "output_type": "execute_result"
    }
   ],
   "source": [
    "'''{mermaid}\n",
    "flowchart LR\n",
    "  A[Hard edge] --> B(Round edge)\n",
    "  B --> C{Decision}\n",
    "  C --> D[Result one]\n",
    "  C --> E[Result two]\n",
    "'''"
   ]
  },
  {
   "cell_type": "code",
   "execution_count": null,
   "id": "9b080f78-c6eb-496c-952f-61af2bec724c",
   "metadata": {},
   "outputs": [],
   "source": [
    "import nbdev; nbdev.nbdev_export()"
   ]
  }
 ],
 "metadata": {
  "kernelspec": {
   "display_name": "Python 3 (ipykernel)",
   "language": "python",
   "name": "python3"
  }
 },
 "nbformat": 4,
 "nbformat_minor": 5
}
