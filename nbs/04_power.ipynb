{
 "cells": [
  {
   "cell_type": "code",
   "execution_count": null,
   "id": "f59152bb-2fb4-4ef0-829d-4ea3c3af092f",
   "metadata": {},
   "outputs": [],
   "source": [
    "#| default_exp power\n"
   ]
  },
  {
   "cell_type": "markdown",
   "id": "525b32a0-042f-495a-a26c-bbd83ab22180",
   "metadata": {},
   "source": [
    "# Direct Power Analysis\n",
    "\n",
    "Good grief this is complicated\n",
    "\n",
    "This section includes the formula for\n",
    "\n",
    "- Load coefficents J-9 to 11 and 14, 25,26.\n",
    "- torque coefficient in trial conditions J-12\n",
    "- propeller advance coefficient J-13 and J-24. The quadratic formula\n",
    "- propellor efficiency in trial condition J-15 and J-27\n",
    "- speed of flow into properller J-16\n",
    "- fullscale wake fraction in trial conditions J-17\n",
    "- load factor in trial conditions J-18\n",
    "- Total resistance in trial conditions J-19\n",
    "- Total resistance in ideal conditions J-22\n",
    "- scale corellation factor J-21\n",
    "- load factor idea J-23\n",
    "- propeller shaft speed -J-29\n",
    "\n",
    "\n",
    "Some things should come with a bit more clarification e.g. 'wake-fraction', what is it?"
   ]
  },
  {
   "cell_type": "code",
   "execution_count": null,
   "id": "6a97f0ae-b784-42f0-97ec-d51e3c205c24",
   "metadata": {},
   "outputs": [],
   "source": [
    "#| export\n",
    "import numpy as np\n",
    "from fastcore.test import *"
   ]
  },
  {
   "cell_type": "markdown",
   "id": "ad4b0654-24ff-4a54-bf51-2be8b661e749",
   "metadata": {},
   "source": [
    "### Correction delivered power\n",
    "\n",
    "Where does $\\Delta R$ get calculated\n",
    "\n",
    "$$\\Delta P = \\frac{\\Delta R V_s}{\\eta_{Dms}}+ P_{Dms}(1-\\frac{\\eta_{Dms}}{\\eta_{Did}}) $$"
   ]
  },
  {
   "cell_type": "code",
   "execution_count": null,
   "id": "7576a804-f6a2-4482-b6bd-8c9e4a4aed7d",
   "metadata": {},
   "outputs": [],
   "source": [
    "#| export\n",
    "def correction_delivered_power(\n",
    "    p_dms:float, #delivered power [W]\n",
    "    resistance_increase:float, #Resistance increase derived from data measured in seatrial\n",
    "    stw:float, #speed through water [m/s]\n",
    "    eta_id:float, #propulsive efficiency in the ideal conditions\n",
    "    eta_ms:float, # propulsive efficiency in the seattrial\n",
    "\n",
    ")-> float:\n",
    "    \n",
    "    \"calculates the corrected delivered power, used as part of the direct power analysis\"\n",
    "    \n",
    "    return resistance_increase * stw /eta_id + p_dms * (1- eta_ms/eta_id)\n",
    "    "
   ]
  },
  {
   "cell_type": "markdown",
   "id": "735f5cc7-9513-4147-be20-8a7a5163748e",
   "metadata": {},
   "source": [
    "Example of using function, generally this is not used directly"
   ]
  },
  {
   "cell_type": "code",
   "execution_count": null,
   "id": "a83f7c98-e2ea-4796-beb0-69f0cfabea37",
   "metadata": {},
   "outputs": [
    {
     "data": {
      "text/plain": [
       "13750.000000000002"
      ]
     },
     "execution_count": null,
     "metadata": {},
     "output_type": "execute_result"
    }
   ],
   "source": [
    "correction_delivered_power(1e4, 1e3, 10, 0.8, 0.7)"
   ]
  },
  {
   "cell_type": "markdown",
   "id": "0f1b3cbc-b237-4273-b56a-750f61b93c28",
   "metadata": {},
   "source": [
    "### Propulsive efficiency correction\n",
    "This can be used to calculate both the ideal and trial conditions reffered to in equations J-3 and J-5\n",
    "$$\\eta_D = \\eta_o \\eta_R \\frac{1-t}{1-w_s} $$\n"
   ]
  },
  {
   "cell_type": "code",
   "execution_count": null,
   "id": "0e25978e-2c6d-43eb-bf15-465f97ffbfd4",
   "metadata": {},
   "outputs": [],
   "source": [
    "#| export\n",
    "def propulsive_efficiency_corr(n_o:float, #open water efficiency\n",
    "                          n_r:float, #relative rotative efficiency\n",
    "                          t:float, #thrust deduction factor\n",
    "                         w_s:float, #full-scale wake fraction\n",
    "                         ):\n",
    "    \"Calculates propeller efficiency adjusting for additional resistances\"\n",
    "    return n_o*n_r*(1-t)/(1-w_s)\n",
    "    "
   ]
  },
  {
   "cell_type": "code",
   "execution_count": null,
   "id": "89c55e47-828f-4454-a8c1-904dce2afa6a",
   "metadata": {},
   "outputs": [
    {
     "data": {
      "text/plain": [
       "0.7308"
      ]
     },
     "execution_count": null,
     "metadata": {},
     "output_type": "execute_result"
    }
   ],
   "source": [
    "propulsive_efficiency_corr(0.58, 0.7, 0.1, 0.5)"
   ]
  },
  {
   "cell_type": "code",
   "execution_count": null,
   "id": "007d6c12-f712-46ce-9c8e-a110cb417b58",
   "metadata": {},
   "outputs": [],
   "source": [
    "#| hide\n",
    "\n",
    "test_eq(propulsive_efficiency_corr(0.58, 0.7, 1, 0),0)\n",
    "test_eq(propulsive_efficiency_corr(1, 1, 0, 0.5),2)\n",
    "#checks to make sure there is a divide by 0 error\n",
    "test_fail(lambda: propulsive_efficiency_corr(0.58, 0.7, 0.0, 1),  contains=\"division by zero\" )\n"
   ]
  },
  {
   "cell_type": "markdown",
   "id": "7cf53eb4-d39b-4a5a-8b95-9caa0e6306b1",
   "metadata": {},
   "source": [
    "### Full scale wake fraction\n",
    "Equation J-4 and J-20\n",
    "$$w_s =  1- (1- w_M)e_i$$\n"
   ]
  },
  {
   "cell_type": "code",
   "execution_count": null,
   "id": "7ae47a9e-bcb9-40c4-bfe1-e152689f0bef",
   "metadata": {},
   "outputs": [],
   "source": [
    "#| export\n",
    "def full_scale_wake_fraction(wake_fraction_model:float,\n",
    "                            scale_correlation_factor:float\n",
    "                            )-> float:\n",
    "    \n",
    "    \"used to scale from model results to full-scale vessel\"\n",
    "    \n",
    "    return 1- (1- wake_fraction_model) * scale_correlation_factor"
   ]
  },
  {
   "cell_type": "raw",
   "id": "0f630cf0-bace-4f15-86a5-b8661d3cda65",
   "metadata": {},
   "source": [
    "The full scale wake fracrtion returns a value between 0 and 1"
   ]
  },
  {
   "cell_type": "code",
   "execution_count": null,
   "id": "d881d387-f6c6-4a00-90e9-57585ada983f",
   "metadata": {},
   "outputs": [
    {
     "data": {
      "text/plain": [
       "0.52"
      ]
     },
     "execution_count": null,
     "metadata": {},
     "output_type": "execute_result"
    }
   ],
   "source": [
    "full_scale_wake_fraction(0.4, 0.8)"
   ]
  },
  {
   "cell_type": "code",
   "execution_count": null,
   "id": "5e903d01-53c7-4f02-9a26-283cb1b27854",
   "metadata": {},
   "outputs": [],
   "source": [
    "#| hide\n",
    "\n",
    "test_eq(full_scale_wake_fraction(1, 0.8), 1)\n",
    "test_close(full_scale_wake_fraction(0, 0.8), 0.2, eps = 1e-6)"
   ]
  },
  {
   "cell_type": "markdown",
   "id": "9e921189-c9f9-4862-9fd2-6c44fee39f7e",
   "metadata": {},
   "source": [
    "## Self propulsion factors\n",
    "\n",
    "This function allows for ship factors to be adjust accounting for the difference between ideal/model conditions and the conditions during the trial. This function is equivalent to equation J-6 to J-8.\n",
    "The function is essentially the following equation\n",
    "\n",
    "$$x_{test} = x_{ideal} + \\Delta x_R (\\frac{\\Delta R}{R_{ideal}}),$$\n",
    "Where $x$ is the variable to be adjusted $x_{ideal}$ is the value of the variable under ideal conditions, $\\Delta x_R$ the coefficient of of change for each unit of $\\frac{\\Delta R}{R_{ideal}}$, $\\Delta R$ the resistance increase derived from data measured during the sea trial and $R_{ideal}$ is the resistance under ideal conditions. The values of $x_{ideal}$ are obtained from a model test. The value of $\\Delta x_R$ is found by fitting a linear model using data gathered during a specific tank tests. The process of obtaining the value of $x_R$ is described in detail in section J.2.\n",
    "\n",
    "In practice however, these sets of values are not needed as the deviations are often negligable in comparison to the variation of $\\eta_O$. That using \n",
    "$$ x_{test} \\approx x_{ideal},$$\n",
    "is acceptable"
   ]
  },
  {
   "cell_type": "code",
   "execution_count": null,
   "id": "ab5d7cb5-edc8-45d9-b74c-ea9067f6341e",
   "metadata": {},
   "outputs": [],
   "source": [
    "#| export\n",
    "def self_propulsion_factors(\n",
    "    x_ideal:float, #The variable in ideal conditions. It is acceptable to use this value without adjustments\n",
    "    delta_x:float = 0, #The change per unit of the resistance ratios. Default is 0\n",
    "    delta_r:float = 1, #increase in resistance from ideal conditions\n",
    "    delta_r_ideal:float = 1 #Resistance in ideal conditions\n",
    ") -> float:\n",
    "    \n",
    "    \"Adjusting the self propulsion factors is only possible if the required model tests have been performed. By default this function returns the ideal value\"\n",
    "    \n",
    "    return x_ideal + delta_x * (delta_r/delta_r_ideal)"
   ]
  },
  {
   "cell_type": "markdown",
   "id": "0405865a-378f-494e-a04b-9075b79db2fa",
   "metadata": {},
   "source": [
    "Generally the adjustment for the self propulsion factors will be small. But if available should be applied"
   ]
  },
  {
   "cell_type": "code",
   "execution_count": null,
   "id": "b9cb16e5-c837-46a6-b281-2ddee9bbd168",
   "metadata": {},
   "outputs": [
    {
     "data": {
      "text/plain": [
       "0.81"
      ]
     },
     "execution_count": null,
     "metadata": {},
     "output_type": "execute_result"
    }
   ],
   "source": [
    "self_propulsion_factors(0.8, 0.1, 1000, 10000)"
   ]
  },
  {
   "cell_type": "code",
   "execution_count": null,
   "id": "ff52c2c2-c2e4-45d9-8afc-0b6bb12a6276",
   "metadata": {},
   "outputs": [],
   "source": [
    "#| hide\n",
    "\n",
    "test_eq(self_propulsion_factors(0.8), 0.8)\n"
   ]
  },
  {
   "cell_type": "code",
   "execution_count": null,
   "id": "9b080f78-c6eb-496c-952f-61af2bec724c",
   "metadata": {},
   "outputs": [],
   "source": [
    "import nbdev; nbdev.nbdev_export()"
   ]
  }
 ],
 "metadata": {
  "kernelspec": {
   "display_name": "Python 3 (ipykernel)",
   "language": "python",
   "name": "python3"
  }
 },
 "nbformat": 4,
 "nbformat_minor": 5
}
