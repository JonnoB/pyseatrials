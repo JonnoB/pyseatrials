{
 "cells": [
  {
   "cell_type": "code",
   "execution_count": null,
   "id": "f59152bb-2fb4-4ef0-829d-4ea3c3af092f",
   "metadata": {},
   "outputs": [],
   "source": [
    "#| default_exp power\n"
   ]
  },
  {
   "cell_type": "code",
   "execution_count": null,
   "id": "155fab84-f1e9-46e5-863f-cf1d4630993d",
   "metadata": {},
   "outputs": [],
   "source": [
    "#| hide\n",
    "from nbdev.showdoc import *"
   ]
  },
  {
   "cell_type": "markdown",
   "id": "525b32a0-042f-495a-a26c-bbd83ab22180",
   "metadata": {},
   "source": [
    "# Direct Power Analysis\n",
    "\n",
    "Good grief this is complicated\n",
    "\n",
    "This section includes the formula for\n",
    "\n",
    "- fullscale wake fraction in trial conditions J-17\n",
    "- load factor in trial conditions J-18\n",
    "- Total resistance in trial conditions J-19\n",
    "- Total resistance in ideal conditions J-22\n",
    "- scale corellation factor J-21\n",
    "- load factor idea J-23\n",
    "- propeller shaft speed -J-29\n",
    "\n",
    "\n",
    "Some things should come with a bit more clarification e.g. 'wake-fraction', what is it?"
   ]
  },
  {
   "cell_type": "code",
   "execution_count": null,
   "id": "6a97f0ae-b784-42f0-97ec-d51e3c205c24",
   "metadata": {},
   "outputs": [],
   "source": [
    "#| export\n",
    "import numpy as np\n",
    "from fastcore.test import *"
   ]
  },
  {
   "cell_type": "markdown",
   "id": "ad4b0654-24ff-4a54-bf51-2be8b661e749",
   "metadata": {},
   "source": [
    "## Correction delivered power\n",
    "\n",
    "Calculates the power when correcting for the resistances experienced by the vessel as well as the deciation of propeller efficiency relative to ideal\n",
    "\n",
    "$$\\Delta P = \\frac{\\Delta R V_s}{\\eta_{Dms}}+ P_{Dms}(1-\\frac{\\eta_{Dms}}{\\eta_{Did}}), $$ where $\\Delta R$ is the total resitance increase experienced by the ship, $V_s$ is the speed through water, $\\eta_{Did}$ is the propulsive efficiency coefficient in the ideal conditions, $P_{Dms}$ is the shaft power during the test,$\\eta_{Dms}$ is the propulsive efficiency coefficient in the trial conditions.\n",
    "\n",
    "The value for $\\Delta R$ is calculated as the some of the wind, wave, and water resistances. The functions for these values are found at `wind_resistance`, `stawave1_fn`, and `temp_salinity_water_resistance`\n",
    "\n",
    "**ITTC equations**: J-2"
   ]
  },
  {
   "cell_type": "code",
   "execution_count": null,
   "id": "7576a804-f6a2-4482-b6bd-8c9e4a4aed7d",
   "metadata": {},
   "outputs": [],
   "source": [
    "#| export\n",
    "def correction_delivered_power(\n",
    "    p_dms:float, #delivered power [W]\n",
    "    resistance_increase:float, #Resistance increase derived from data measured in seatrial\n",
    "    stw:float, #speed through water [m/s]\n",
    "    eta_id:float, #propulsive efficiency in the ideal conditions\n",
    "    eta_ms:float, # propulsive efficiency in the seattrial\n",
    "\n",
    ")-> float:\n",
    "    \n",
    "    \"calculates the corrected delivered power, used as part of the direct power analysis\"\n",
    "    \n",
    "    return resistance_increase * stw /eta_id + p_dms * (1- eta_ms/eta_id)\n",
    "    "
   ]
  },
  {
   "cell_type": "markdown",
   "id": "735f5cc7-9513-4147-be20-8a7a5163748e",
   "metadata": {},
   "source": [
    "Example of using function, generally this is not used directly"
   ]
  },
  {
   "cell_type": "code",
   "execution_count": null,
   "id": "a83f7c98-e2ea-4796-beb0-69f0cfabea37",
   "metadata": {},
   "outputs": [
    {
     "data": {
      "text/plain": [
       "13750.000000000002"
      ]
     },
     "execution_count": null,
     "metadata": {},
     "output_type": "execute_result"
    }
   ],
   "source": [
    "correction_delivered_power(1e4, 1e3, 10, 0.8, 0.7)"
   ]
  },
  {
   "cell_type": "markdown",
   "id": "0f1b3cbc-b237-4273-b56a-750f61b93c28",
   "metadata": {},
   "source": [
    "## Propulsive efficiency correction\n",
    "This can be used to calculate both the ideal and trial conditions reffered to in equations J-3 and J-5\n",
    "$$\\eta_D = \\eta_o \\eta_R \\frac{1-t}{1-w_s} $$\n",
    "\n",
    "**ITTC equations** J-3, J-5\n"
   ]
  },
  {
   "cell_type": "code",
   "execution_count": null,
   "id": "0e25978e-2c6d-43eb-bf15-465f97ffbfd4",
   "metadata": {},
   "outputs": [],
   "source": [
    "#| export\n",
    "def propulsive_efficiency_corr(n_o:float, #open water efficiency\n",
    "                          n_r:float, #relative rotative efficiency\n",
    "                          t:float, #thrust deduction factor\n",
    "                         w_s:float, #full-scale wake fraction\n",
    "                         ):\n",
    "    \"Calculates propeller efficiency adjusting for additional resistances\"\n",
    "    return n_o*n_r*(1-t)/(1-w_s)\n",
    "    "
   ]
  },
  {
   "cell_type": "code",
   "execution_count": null,
   "id": "89c55e47-828f-4454-a8c1-904dce2afa6a",
   "metadata": {},
   "outputs": [
    {
     "data": {
      "text/plain": [
       "0.7308"
      ]
     },
     "execution_count": null,
     "metadata": {},
     "output_type": "execute_result"
    }
   ],
   "source": [
    "propulsive_efficiency_corr(0.58, 0.7, 0.1, 0.5)"
   ]
  },
  {
   "cell_type": "code",
   "execution_count": null,
   "id": "007d6c12-f712-46ce-9c8e-a110cb417b58",
   "metadata": {},
   "outputs": [],
   "source": [
    "#| hide\n",
    "\n",
    "test_eq(propulsive_efficiency_corr(0.58, 0.7, 1, 0),0)\n",
    "test_eq(propulsive_efficiency_corr(1, 1, 0, 0.5),2)\n",
    "#checks to make sure there is a divide by 0 error\n",
    "test_fail(lambda: propulsive_efficiency_corr(0.58, 0.7, 0.0, 1),  contains=\"division by zero\" )\n"
   ]
  },
  {
   "cell_type": "markdown",
   "id": "7cf53eb4-d39b-4a5a-8b95-9caa0e6306b1",
   "metadata": {},
   "source": [
    "## Full scale wake fraction\n",
    "\n",
    "There are two different functions related to the full scale wake fraction, both are presented in this sub-section. \n",
    "\n",
    "The two related but distinct values are\n",
    "\n",
    "- $w_{S}$: Full-scale wake fraction\n",
    "- $e_i$ Scale correlation factor of the wake faction\n",
    "\n",
    "### The full scale wake fraction\n",
    "\n",
    "$$w_S =  1- (1- w_M)e_i,$$ where $W_S$ is the fullscale wake fraction, $W_m$ is the model wake fraction derived from tank tests, and $e_i$ is the scale correlation factor derived from **XXXX derived from what?**.\n",
    "\n",
    "**ITTC equation**: J-4, J-20\n"
   ]
  },
  {
   "cell_type": "code",
   "execution_count": null,
   "id": "7ae47a9e-bcb9-40c4-bfe1-e152689f0bef",
   "metadata": {},
   "outputs": [],
   "source": [
    "#| export\n",
    "def full_scale_wake_fraction(wake_fraction_model:float,\n",
    "                            scale_correlation_factor:float\n",
    "                            )-> float:\n",
    "    \n",
    "    \"used to scale from model results to full-scale vessel\"\n",
    "    \n",
    "    return 1- (1- wake_fraction_model) * scale_correlation_factor"
   ]
  },
  {
   "cell_type": "markdown",
   "id": "4b07c72e-7815-4be4-bec0-649894c1e61b",
   "metadata": {},
   "source": [
    "The full scale wake fracrtion returns a value between 0 and 1"
   ]
  },
  {
   "cell_type": "code",
   "execution_count": null,
   "id": "d881d387-f6c6-4a00-90e9-57585ada983f",
   "metadata": {},
   "outputs": [
    {
     "data": {
      "text/plain": [
       "0.52"
      ]
     },
     "execution_count": null,
     "metadata": {},
     "output_type": "execute_result"
    }
   ],
   "source": [
    "full_scale_wake_fraction(0.4, 0.8)"
   ]
  },
  {
   "cell_type": "code",
   "execution_count": null,
   "id": "5e903d01-53c7-4f02-9a26-283cb1b27854",
   "metadata": {},
   "outputs": [],
   "source": [
    "#| hide\n",
    "\n",
    "test_eq(full_scale_wake_fraction(1, 0.8), 1)\n",
    "test_close(full_scale_wake_fraction(0, 0.8), 0.2, eps = 1e-6)"
   ]
  },
  {
   "cell_type": "markdown",
   "id": "fcfef269-7f86-468d-a142-d7c60e7911d2",
   "metadata": {},
   "source": [
    "### Full-scale wake fraction from speed\n",
    "\n",
    "This approach calculates the wake fraction using the measured water speeds\n",
    "\n",
    "$$w_S =1- \\frac{V_A}{V_S},$$ where $V_A$ is the speed of flow into the propeller, and $V_S$ is the ship's speed through water. \n",
    "\n",
    "**ITTC equations**: J-17"
   ]
  },
  {
   "cell_type": "code",
   "execution_count": null,
   "id": "b4f12718-bad1-4aa9-ae19-01d68f323217",
   "metadata": {},
   "outputs": [],
   "source": [
    "#| export\n",
    "\n",
    "def full_scale_wake_speed(flow_speed:float, #The speed of flow through the propeller\n",
    "                         stw:float, #Ship's speed through water\n",
    "                         )-> float:\n",
    "    \n",
    "    \"Calculate the wake fraction using the measured water speeds\"\n",
    "    \n",
    "    return 1 - (flow_speed/stw)"
   ]
  },
  {
   "cell_type": "markdown",
   "id": "8cc6fa74-f68c-4a82-9860-e9013380722f",
   "metadata": {},
   "source": [
    "This approach to obtianing the full scale wake speed is typically used for getting the trial conditions"
   ]
  },
  {
   "cell_type": "code",
   "execution_count": null,
   "id": "321b3c07-b75a-47a7-861b-a6f1176dece5",
   "metadata": {},
   "outputs": [
    {
     "data": {
      "text/plain": [
       "0.8"
      ]
     },
     "execution_count": null,
     "metadata": {},
     "output_type": "execute_result"
    }
   ],
   "source": [
    "full_scale_wake_speed(10,50)"
   ]
  },
  {
   "cell_type": "code",
   "execution_count": null,
   "id": "85b452eb-34c2-4f02-a744-0817717ccd2f",
   "metadata": {},
   "outputs": [],
   "source": [
    "#| hide\n",
    "test_eq(full_scale_wake_speed(50,50),0)"
   ]
  },
  {
   "cell_type": "markdown",
   "id": "7fa51221-39f6-4aff-922b-8026cb629c7a",
   "metadata": {},
   "source": [
    "### Scale correlation factor\n",
    "\n",
    "The scale correlation factor is simply the re-arranged fullscale wake fraction. And is shown as\n",
    "\n",
    "$$e_i = \\frac{1-w_S}{1-w_M},$$ where values are the same as previously.\n",
    "\n",
    "**ITTC equation**: J-21"
   ]
  },
  {
   "cell_type": "code",
   "execution_count": null,
   "id": "ac790cc6-4db4-4710-8885-cd4b3bbc56c9",
   "metadata": {},
   "outputs": [],
   "source": [
    "#| export\n",
    "def scale_correlation_factor(\n",
    "    trial:float, #The full-scale wake fraction in the trial\n",
    "    model:float  #The wake fraction of the model derived from tank tests\n",
    ")-> float: #The dimensionless coefficient joining the full scale and model fractions\n",
    "    \"Calcualte the scale correlation factor using the model fraction from tank tests, and the full-scale fraction from trials\"\n",
    "    return (1  - trial)/(1-model)"
   ]
  },
  {
   "cell_type": "markdown",
   "id": "98dce71b-6a32-403d-a77b-4ffc5440099e",
   "metadata": {},
   "source": [
    "Deriving the scale correlation factor is easy given the inputs"
   ]
  },
  {
   "cell_type": "code",
   "execution_count": null,
   "id": "97b3bd58-29c4-4bb1-8eeb-50f54b683286",
   "metadata": {},
   "outputs": [
    {
     "data": {
      "text/plain": [
       "2.0000000000000004"
      ]
     },
     "execution_count": null,
     "metadata": {},
     "output_type": "execute_result"
    }
   ],
   "source": [
    "scale_correlation_factor(0.6,0.8)"
   ]
  },
  {
   "cell_type": "code",
   "execution_count": null,
   "id": "0375afe8-d463-458a-9f11-1845a428d577",
   "metadata": {},
   "outputs": [],
   "source": [
    "#| hide\n",
    "\n",
    "test_eq(scale_correlation_factor(1,0.8),0)"
   ]
  },
  {
   "cell_type": "markdown",
   "id": "9e921189-c9f9-4862-9fd2-6c44fee39f7e",
   "metadata": {},
   "source": [
    "## Self propulsion factors\n",
    "\n",
    "This function allows for ship factors to be adjust accounting for the difference between ideal/model conditions and the conditions during the trial. This function is equivalent to equation J-6 to J-8.\n",
    "The function is essentially the following equation\n",
    "\n",
    "$$x_{test} = x_{ideal} + \\Delta x_R (\\frac{\\Delta R}{R_{ideal}}),$$\n",
    "Where $x$ is the variable to be adjusted $x_{ideal}$ is the value of the variable under ideal conditions, $\\Delta x_R$ the coefficient of of change for each unit of $\\frac{\\Delta R}{R_{ideal}}$, $\\Delta R$ the resistance increase derived from data measured during the sea trial and $R_{ideal}$ is the resistance under ideal conditions. The values of $x_{ideal}$ are obtained from a model test. The value of $\\Delta x_R$ is found by fitting a linear model using data gathered during a specific tank tests. The process of obtaining the value of $x_R$ is described in detail in section J.2.\n",
    "\n",
    "In practice however, these sets of values are not needed as the deviations are often negligable in comparison to the variation of $\\eta_O$. That using \n",
    "$$ x_{test} \\approx x_{ideal},$$\n",
    "is acceptable\n",
    "\n",
    "**ITTC equations**: J-6, J-7, J-8"
   ]
  },
  {
   "cell_type": "code",
   "execution_count": null,
   "id": "ab5d7cb5-edc8-45d9-b74c-ea9067f6341e",
   "metadata": {},
   "outputs": [],
   "source": [
    "#| export\n",
    "def self_propulsion_factors(\n",
    "    x_ideal:float, #The variable in ideal conditions. It is acceptable to use this value without adjustments\n",
    "    delta_x:float = 0, #The change per unit of the resistance ratios. Default is 0\n",
    "    delta_r:float = 1, #increase in resistance from ideal conditions\n",
    "    delta_r_ideal:float = 1 #Resistance in ideal conditions\n",
    ") -> float:\n",
    "    \n",
    "    \"Adjusting the self propulsion factors is only possible if the required model tests have been performed. By default this function returns the ideal value\"\n",
    "    \n",
    "    return x_ideal + delta_x * (delta_r/delta_r_ideal)"
   ]
  },
  {
   "cell_type": "markdown",
   "id": "0405865a-378f-494e-a04b-9075b79db2fa",
   "metadata": {},
   "source": [
    "Generally the adjustment for the self propulsion factors will be small. But if available should be applied"
   ]
  },
  {
   "cell_type": "code",
   "execution_count": null,
   "id": "b9cb16e5-c837-46a6-b281-2ddee9bbd168",
   "metadata": {},
   "outputs": [
    {
     "data": {
      "text/plain": [
       "0.81"
      ]
     },
     "execution_count": null,
     "metadata": {},
     "output_type": "execute_result"
    }
   ],
   "source": [
    "self_propulsion_factors(0.8, 0.1, 1000, 10000)"
   ]
  },
  {
   "cell_type": "code",
   "execution_count": null,
   "id": "ef972423-9f30-438e-93f6-33819400cb14",
   "metadata": {},
   "outputs": [],
   "source": [
    "#| hide\n",
    "\n",
    "test_eq(self_propulsion_factors(0.8), 0.8)\n"
   ]
  },
  {
   "cell_type": "markdown",
   "id": "634be324-1a20-40b3-bf37-31656841ea7a",
   "metadata": {},
   "source": [
    "## Calculate Thrust coefficient, Torque coefficient, and Load factor\n",
    "\n",
    "The thrust coefficient, torque coefficient and the load factor provide useful values for calculating the adjusted propeller efficiency. There are several different approaches. All three approaches are described in this sub-section and are used at various points in the process.\n",
    "\n",
    "### The quadratic method\n",
    "\n",
    "The quadratic method doesn't actually calculate the coefficients themselves but using them as the dependent variable of a quadratic curve where the dependent variable is the propeller advance coefficient in the ideal condition. The result is that the coefficients of the quadratic curve can be either be solved to find the point closest to 0 where the line crosses the x-axis. Alternatively the quadratic coefficients are used replacing the propeller advance coefficients in the ideal condition with those of the trial condition, this creates a quadratic equation that return the thrust coefficient in the trial condition.\n",
    "The propeller advance coefficients in the ideal condition are provided by tank tests, usually 10 data points are supplied in order to fit the curve\n",
    "\n",
    "$$y = aX^2 + bX +c$$\n",
    "\n",
    "The coefficients of this model ($a,b,c$) are not useful inthemselves but are input parameters to other functions for example `torque_coef`\n",
    "\n",
    "The equation is also used to calculate the thrust coefficient in the trial condition/\n",
    "\n",
    "\n",
    "**ITTC equations**: J-9, J-10, J-11, J-14, J-25, J-26\n",
    "\n"
   ]
  },
  {
   "cell_type": "code",
   "execution_count": null,
   "id": "01e35de5-39ea-48b7-b7e2-5f5f294206a8",
   "metadata": {},
   "outputs": [],
   "source": [
    "#| export\n",
    "def get_curve_coefficient(y:float, #The dependent variable coefficient\n",
    "                      x:float #The propeller advance coefficient\n",
    "                     )->float: #returns model coefficients\n",
    "    \n",
    "    \"Obtain the coefficients used to calculate the Thrus, and Torque coefficients and the load factor coefficients\"\n",
    "    \n",
    "    #create the X matrix to have a quadratic form\n",
    "    X = np.concatenate((x**2,x, np.ones(len(x)))).reshape([3,10]).transpose()\n",
    "    #Get determinate\n",
    "\n",
    "    square_mat = np.matmul(X.transpose(), X)\n",
    "\n",
    "    detX = np.linalg.inv(square_mat)\n",
    "\n",
    "    temp = np.matmul(detX, np.transpose(X))\n",
    "    #Return the beta value\n",
    "    b = np.matmul(temp, y)\n",
    "    \n",
    "    return b\n",
    "    "
   ]
  },
  {
   "cell_type": "markdown",
   "id": "d5d8466b-b950-4b94-b9be-6b49cff57e33",
   "metadata": {},
   "source": [
    "For ship whose model tests give a propeller advance coefficient to thrust coefficent $K$ relationship as shown below, we can (back) calculate the coefficients of the quadratic formula using the get_curve_coefficient function."
   ]
  },
  {
   "cell_type": "code",
   "execution_count": null,
   "id": "e2d57ad8-c94e-49c4-ba23-b926a5fb78b7",
   "metadata": {},
   "outputs": [
    {
     "data": {
      "text/plain": [
       "array([1., 2., 3.])"
      ]
     },
     "execution_count": null,
     "metadata": {},
     "output_type": "execute_result"
    }
   ],
   "source": [
    "J = np.linspace(1,10, 10)\n",
    "K = J**2 + 2*J +3 #In reality we obviously do not know the coefficients before hand!\n",
    "get_curve_coefficient(K, J)"
   ]
  },
  {
   "cell_type": "markdown",
   "id": "3ed9c0b1-86b0-4be0-85bc-71b7c7521fd3",
   "metadata": {},
   "source": [
    "When calculating the loading factor coefficients $\\tau$ the values for the propeller advance coefficient needs to be inverted"
   ]
  },
  {
   "cell_type": "code",
   "execution_count": null,
   "id": "074f9f24-733b-41d6-96a1-58077d71066a",
   "metadata": {},
   "outputs": [
    {
     "data": {
      "text/plain": [
       "array([1., 2., 3.])"
      ]
     },
     "execution_count": null,
     "metadata": {},
     "output_type": "execute_result"
    }
   ],
   "source": [
    "J = 1/np.linspace(1,10, 10)\n",
    "K = J**2 + 2*J +3 #In reality we obviously do not know the coefficients before hand!\n",
    "get_curve_coefficient(K, J)"
   ]
  },
  {
   "cell_type": "code",
   "execution_count": null,
   "id": "5f27a65b-5f29-4ae9-bb66-e43bf070a5ab",
   "metadata": {},
   "outputs": [],
   "source": [
    "#| hide\n",
    "#tests are amazing, found out I had an error in the code because the test failed at seemingly random points.\n",
    "#was actually an error in the function causing it to search for the variable in the global environment\n",
    "x = np.linspace(1,10, 10)\n",
    "y = x**2 + 2*x +3\n",
    "test_close(get_curve_coefficient(y, x)[1], 2, eps = 1e-5)"
   ]
  },
  {
   "cell_type": "markdown",
   "id": "0265b411-26cc-4627-89cf-90397374f025",
   "metadata": {},
   "source": [
    "### Torque coefficient\n",
    "\n",
    "The torque coefficient is obtained using \n",
    "\n",
    "$$K = \\frac{P}{2 \\pi n^3 D^5} \\eta,$$ Where $P$ is power, $n$ is rotations per second, $D$ is shaft diameter and $eta is relative rotative efficiency.\n",
    "\n",
    "Generally the torque coefficient for the ideal condition is known through tank tests. However, this equation is also used to find the thrust coeficient during the trial. When the trial thrust coefficient is calculated $P$, $n$, and $\\eta$ are all from trial data.\n",
    "\n",
    "**ITTC equations**: J-12"
   ]
  },
  {
   "cell_type": "code",
   "execution_count": null,
   "id": "5cd92ebd-cecb-48e7-96c5-7102551bd6b7",
   "metadata": {},
   "outputs": [],
   "source": [
    "#| export\n",
    "def torque_coef(power:float, #The delivered power\n",
    "                     shaft_speed:float, #measure propeller shaft speed [rev/s]\n",
    "                     diameter:float, #properller_diameter [m]\n",
    "                     efficiency:float, #relative rotative efficiency\n",
    "                     water_density:float = 1026 #water density [kg/m^3]\n",
    "                     )->float: #dimensionless thrust coefficient\n",
    "    \n",
    "    \"calcualte the torque coefficient under ideal or trial conditions\"\n",
    "    \n",
    "    denominator = 2 * np.pi * shaft_speed * diameter\n",
    "    \n",
    "    return (power/denominator) *  efficiency\n",
    "    \n",
    "    "
   ]
  },
  {
   "cell_type": "markdown",
   "id": "ec37126c-594c-4c4e-b3b9-b02e992147ba",
   "metadata": {},
   "source": [
    "under trial conditions the thrust coefficient is calculated directly"
   ]
  },
  {
   "cell_type": "code",
   "execution_count": null,
   "id": "6aa902a8-6a16-4420-b589-49edeb69534f",
   "metadata": {},
   "outputs": [
    {
     "data": {
      "text/plain": [
       "16.976527263135505"
      ]
     },
     "execution_count": null,
     "metadata": {},
     "output_type": "execute_result"
    }
   ],
   "source": [
    "torque_coef(1e4, 50, 1.5, 0.8)"
   ]
  },
  {
   "cell_type": "code",
   "execution_count": null,
   "id": "7474803e-b52d-440b-8687-6729d7c15fc3",
   "metadata": {},
   "outputs": [],
   "source": [
    "#| hide\n",
    "\n",
    "test_eq(torque_coef(1e4*np.pi, 1, 1, 1, 1000), 5000)"
   ]
  },
  {
   "cell_type": "markdown",
   "id": "a9e3f843-b415-4aa4-a6ec-7cef7378fce6",
   "metadata": {},
   "source": [
    "## Trial propeller advance\n",
    "\n",
    "The propeller advance coefficient for the trial conditions can be calculated using\n",
    "\n",
    "$$J = \\frac{-b - \\sqrt{b^2 -4a(c-K)}}{2a},$$ where $a,b,$ and $c$ are the ouput coefficients from `get_curve_coefficient`. and $K$ is the torque coefficient calculated using `torque_coef`. Note that the propeller advance is only the negative part of the quadratic equation as properller advance must always be positive. This equation is used to derive the propeller advance coefficient from empirical measurements.\n",
    "\n",
    "**ITTC equations**: J-13, J-24\n"
   ]
  },
  {
   "cell_type": "code",
   "execution_count": null,
   "id": "12aa52c8-cd8e-46ef-a6f9-d14490430f4e",
   "metadata": {},
   "outputs": [],
   "source": [
    "#| export\n",
    "def propeller_advance_coefficient(torque_coefficient:float, #The torque coefficient\n",
    "                                  a:float, #coefficient 'a' from get_curve_coefficient\n",
    "                                  b:float, #coefficient 'b' from get_curve_coefficient\n",
    "                                  c:float #coefficient 'c' from get_curve_coefficient\n",
    "\n",
    "                                  ) -> float:\n",
    "    \n",
    "    \"Calculate the propeller advance coefficient for\"\n",
    "    square_root = np.sqrt(b**2 - 4*a*(c - torque_coefficient))\n",
    "    \n",
    "    return (-b - square_root )/(2*a)"
   ]
  },
  {
   "cell_type": "markdown",
   "id": "67fe0be7-d819-4395-89fe-9f15a845d702",
   "metadata": {},
   "source": [
    "The propeller advance can then be calcualted by combining outputs of the previous functions `get_curve_coefficient` and `torque_coef` as inputs to `propeller_advance_coefficient`.\n",
    "\n"
   ]
  },
  {
   "cell_type": "code",
   "execution_count": null,
   "id": "73cef29d-c85b-464a-bb8a-a839c3c173d5",
   "metadata": {},
   "outputs": [
    {
     "data": {
      "text/plain": [
       "-1.6741688787701197"
      ]
     },
     "execution_count": null,
     "metadata": {},
     "output_type": "execute_result"
    }
   ],
   "source": [
    "#These values are obviously not realistic\n",
    "J = np.linspace(1,10, 10)\n",
    "K = 2*J**2 + -5*J +3 #In reality we obviously do not know the coefficients before hand!\n",
    "curve_coefs = get_curve_coefficient(K, J)\n",
    "trial_torque_coef = torque_coef(1e4, 50, 1.5, 0.8)\n",
    "propeller_advance_coefficient(trial_torque_coef, curve_coefs[0], curve_coefs[1], curve_coefs[2]  )"
   ]
  },
  {
   "cell_type": "code",
   "execution_count": null,
   "id": "5768e044-27e0-4b71-a413-675fa55e2f94",
   "metadata": {},
   "outputs": [],
   "source": [
    "#| hide\n",
    "#(x - 1)(2x - 3) = 2x^2 -5x +3\n",
    "#put in test when I have reasonable values to test\n",
    "#check the equation is implemented properly\n",
    "test_eq(propeller_advance_coefficient(0, 2, -5, 3 ),1)"
   ]
  },
  {
   "cell_type": "markdown",
   "id": "49c4ab2f-9e84-4f0c-9661-9952d8a2f78d",
   "metadata": {},
   "source": [
    "## Open water efficiency\n",
    "\n",
    "The efficiency of the properller in open water can be calcualted using \n",
    "\n",
    "$$\\eta_O = \\frac{J}{2\\pi}\\frac{K_T}{K_Q},$$ where J is the propeller advance coefficient, $K_T$ is the thrust coefficient, and $K_Q$ is the torque coefficient. It can be used for calulating both the trial conditions, but is typically used for trial conditions as the ideal conditions are known from tank tests.\n",
    "\n",
    "**ITTC equations**: J-15, J-27"
   ]
  },
  {
   "cell_type": "code",
   "execution_count": null,
   "id": "19c87c13-f227-4800-b343-2f0a81a0619d",
   "metadata": {},
   "outputs": [],
   "source": [
    "#| export\n",
    "def open_water_efficiency(propeller_advance_coef:float, #The propeller advance coefficient of the ship\n",
    "                         thrust_coef:float, # thrust coefficient\n",
    "                         torque_coef:float \n",
    "                         )-> float:\n",
    "    \n",
    "    \"Calculate the open water propeller efficiency\"\n",
    "    \n",
    "    return (propeller_advance_coef/(2*np.pi))*(thrust_coef/torque_coef)"
   ]
  },
  {
   "cell_type": "markdown",
   "id": "bf7912e3-d53f-4834-8abb-5d686b71095c",
   "metadata": {},
   "source": [
    "The proppeller open water efficiency for a ship with a propeller advance coefficent of 5, thrust coefficent of 0.8 and torque coefficient of 0.9. Is shown below"
   ]
  },
  {
   "cell_type": "code",
   "execution_count": null,
   "id": "70c1fd1b-3d25-47c8-b14f-0b59aa7f5449",
   "metadata": {},
   "outputs": [
    {
     "data": {
      "text/plain": [
       "0.707355302630646"
      ]
     },
     "execution_count": null,
     "metadata": {},
     "output_type": "execute_result"
    }
   ],
   "source": [
    "open_water_efficiency(5, 0.8, 0.9)"
   ]
  },
  {
   "cell_type": "code",
   "execution_count": null,
   "id": "12d39df0-6c1b-4e0d-bf12-0ac0cdf2b949",
   "metadata": {},
   "outputs": [],
   "source": [
    "#| hide\n",
    "test_eq(open_water_efficiency(5, 2*np.pi, 1), 5 )"
   ]
  },
  {
   "cell_type": "markdown",
   "id": "e9cbc048-9175-4d7b-b8d3-e85baeb4a684",
   "metadata": {},
   "source": [
    "## Speed of flow into the propeller\n",
    "\n",
    "The rate at which water flows past the propeller is given by\n",
    "\n",
    "$$V_A = JnD$$, where $J$ is the propeller advance coefficient, $n$ is the rotations per second, and $D$ is the diameter of the propeller. When calculating the speed under trial conditions the propeller advance coefficieant can be found using `propeller_advance_coefficient`\n",
    "\n",
    "**ITTC equations**: J-16"
   ]
  },
  {
   "cell_type": "code",
   "execution_count": null,
   "id": "aa587f04-7ef2-4d8d-95a8-6d748ce7adca",
   "metadata": {},
   "outputs": [],
   "source": [
    "#| export\n",
    "def propeller_flow(\n",
    "    propeller_advance_coef:float, #Propeller advance coefficient [n/a]\n",
    "    rotations_sec:float, #propeller rotations per second [rev/sec]\n",
    "    diameter:float, #Diamter of the propeller [m]\n",
    "    )-> float: #The value that comes out is in m3/s WHAT ARE THE UNITS?\n",
    "    \n",
    "    \"Calculate water flow into the propeller\"\n",
    "    \n",
    "    return propeller_advance_coef * rotations_sec *diameter"
   ]
  },
  {
   "cell_type": "markdown",
   "id": "87d108a2-70d6-4ccf-9df7-f560b1b443bf",
   "metadata": {},
   "source": [
    "really the propeller advance coefficient function is just a simple wrapper around the product of three values"
   ]
  },
  {
   "cell_type": "code",
   "execution_count": null,
   "id": "02050de1-06d4-405d-8879-f2e69b6fd14e",
   "metadata": {},
   "outputs": [
    {
     "data": {
      "text/plain": [
       "300"
      ]
     },
     "execution_count": null,
     "metadata": {},
     "output_type": "execute_result"
    }
   ],
   "source": [
    "propeller_flow(5, 30, 2)"
   ]
  },
  {
   "cell_type": "code",
   "execution_count": null,
   "id": "64a64209-7aff-4eaa-92e5-a0033f47b177",
   "metadata": {},
   "outputs": [],
   "source": [
    "#| hide\n",
    "\n",
    "test_eq(propeller_flow(5, 30, 2),300)"
   ]
  },
  {
   "cell_type": "code",
   "execution_count": null,
   "id": "461c4d58-bc2f-419c-94f1-65b944fcd4b1",
   "metadata": {},
   "outputs": [],
   "source": []
  },
  {
   "cell_type": "code",
   "execution_count": null,
   "id": "9b080f78-c6eb-496c-952f-61af2bec724c",
   "metadata": {},
   "outputs": [],
   "source": [
    "import nbdev; nbdev.nbdev_export()"
   ]
  }
 ],
 "metadata": {
  "kernelspec": {
   "display_name": "Python 3 (ipykernel)",
   "language": "python",
   "name": "python3"
  }
 },
 "nbformat": 4,
 "nbformat_minor": 5
}
