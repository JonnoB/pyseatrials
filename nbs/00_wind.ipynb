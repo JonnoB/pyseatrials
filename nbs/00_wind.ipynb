{
 "cells": [
  {
   "cell_type": "code",
   "execution_count": 12,
   "metadata": {},
   "outputs": [],
   "source": [
    "#| default_exp wind"
   ]
  },
  {
   "cell_type": "markdown",
   "metadata": {},
   "source": [
    "# The law of cosines\n",
    "\n",
    "> The rules for making "
   ]
  },
  {
   "cell_type": "markdown",
   "metadata": {},
   "source": [
    "These functions are all based on Appendix E of ITTC"
   ]
  },
  {
   "cell_type": "code",
   "execution_count": 13,
   "metadata": {},
   "outputs": [],
   "source": [
    "#| hide\n",
    "from nbdev.showdoc import *\n",
    "import numpy as np\n",
    "import pandas as pd\n",
    "from fastcore.test import *"
   ]
  },
  {
   "cell_type": "code",
   "execution_count": 14,
   "metadata": {},
   "outputs": [],
   "source": [
    "#| export\n",
    "def opposite_magnitude(magnitude:float, #The true speed \n",
    "                             angle:float, #The angle in radians\n",
    "                            ):\n",
    "    \"Product of sin and magnitude\"\n",
    "    \n",
    "    x = magnitude * np.sin(angle)\n",
    "    \n",
    "    return x"
   ]
  },
  {
   "cell_type": "markdown",
   "metadata": {},
   "source": [
    "In the example below a ship travelling due south (90$^\\circ$ or $\\frac{\\pi}{2}$) at 20 knots, as a result the vertical component of its speed is $-20$."
   ]
  },
  {
   "cell_type": "code",
   "execution_count": 15,
   "metadata": {},
   "outputs": [],
   "source": [
    "test_eq(opposite_magnitude(20, np.pi/2), 20)"
   ]
  },
  {
   "cell_type": "code",
   "execution_count": 16,
   "metadata": {},
   "outputs": [],
   "source": [
    "#| export\n",
    "def adjacent_magnitude(magnitude:float, # The true speed\n",
    "                             angle:float, # The Ange in radians\n",
    "                             ):\n",
    "    \n",
    "    \"Product of cos and magnitude\"\n",
    "    \n",
    "    x = magnitude * np.cos(angle)\n",
    "    \n",
    "    return x"
   ]
  },
  {
   "cell_type": "markdown",
   "metadata": {},
   "source": [
    "Using the same example as the previous example we see that the resultant magnitude is 0"
   ]
  },
  {
   "cell_type": "code",
   "execution_count": 17,
   "metadata": {},
   "outputs": [],
   "source": [
    "test_eq(round(adjacent_magnitude(20, np.pi/2), 5), 0)"
   ]
  },
  {
   "cell_type": "code",
   "execution_count": 18,
   "metadata": {},
   "outputs": [],
   "source": [
    "#| export\n",
    "def law_of_cosines(a:float, # side a which is along the x-axis\n",
    "                   b:float, #side b makes the angle $\\theta$ with side a\n",
    "                   theta:float): #the angle in radians opposite side c\n",
    "    \n",
    "    \"Finds the length of side c using the angle theta opposite c and the length of the other two sides\"\n",
    "    \n",
    "    adjacent_component = a - adjacent_magnitude(b, theta)\n",
    "    opposite_component = - opposite_magnitude(b, theta)\n",
    "    \n",
    "    return np.sqrt(adjacent_component**2 + opposite_component**2)"
   ]
  },
  {
   "cell_type": "markdown",
   "metadata": {},
   "source": [
    "In a right angled triangle the law of cosines simplifies to the pythagoras theorem"
   ]
  },
  {
   "cell_type": "code",
   "execution_count": 19,
   "metadata": {},
   "outputs": [],
   "source": [
    "test_eq(law_of_cosines(3,4, np.pi/2), 5)"
   ]
  },
  {
   "cell_type": "code",
   "execution_count": 20,
   "metadata": {},
   "outputs": [
    {
     "data": {
      "text/markdown": [
       "---\n",
       "\n",
       "### law_of_cosines\n",
       "\n",
       ">      law_of_cosines (a:float, b:float, theta:float)\n",
       "\n",
       "Finds the length of side c using the angle theta opposite c and the length of the other two sides\n",
       "\n",
       "|    | **Type** | **Details** |\n",
       "| -- | -------- | ----------- |\n",
       "| a | float | side a which is along the x-axis |\n",
       "| b | float | side b makes the angle $\\theta$ with side a |\n",
       "| theta | float | the angle in radians opposite side c |"
      ],
      "text/plain": [
       "---\n",
       "\n",
       "### law_of_cosines\n",
       "\n",
       ">      law_of_cosines (a:float, b:float, theta:float)\n",
       "\n",
       "Finds the length of side c using the angle theta opposite c and the length of the other two sides\n",
       "\n",
       "|    | **Type** | **Details** |\n",
       "| -- | -------- | ----------- |\n",
       "| a | float | side a which is along the x-axis |\n",
       "| b | float | side b makes the angle $\\theta$ with side a |\n",
       "| theta | float | the angle in radians opposite side c |"
      ]
     },
     "execution_count": 20,
     "metadata": {},
     "output_type": "execute_result"
    }
   ],
   "source": [
    "show_doc(law_of_cosines)"
   ]
  },
  {
   "cell_type": "code",
   "execution_count": 21,
   "metadata": {},
   "outputs": [],
   "source": [
    "#| hide\n",
    "import nbdev; nbdev.nbdev_export()"
   ]
  }
 ],
 "metadata": {
  "kernelspec": {
   "display_name": "Python 3 (ipykernel)",
   "language": "python",
   "name": "python3"
  },
  "language_info": {
   "codemirror_mode": {
    "name": "ipython",
    "version": 3
   },
   "file_extension": ".py",
   "mimetype": "text/x-python",
   "name": "python",
   "nbconvert_exporter": "python",
   "pygments_lexer": "ipython3",
   "version": "3.9.13"
  }
 },
 "nbformat": 4,
 "nbformat_minor": 4
}
