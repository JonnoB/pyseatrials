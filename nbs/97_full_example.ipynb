{
 "cells": [
  {
   "cell_type": "code",
   "execution_count": null,
   "id": "ee72ea0a-1183-4403-b8ab-59c9630570b1",
   "metadata": {},
   "outputs": [],
   "source": [
    "#| default_exp example_comparison"
   ]
  },
  {
   "cell_type": "markdown",
   "id": "c110c2bd-3126-4558-9981-e7ee015f4676",
   "metadata": {},
   "source": [
    "# Which ship is best?\n",
    "\n",
    "Consider a situation in which we want to know which ship out of a group of ships has the best speed to power ratio. Unfortunately the ships are in completely different parts of the world and because of their routes will never be brought together. We want to know which is best so we can buy several more for our fleet.\n",
    "\n",
    "We need to compare the ships under fair conditions and compare the performance of each so that we can pick the best one. How do we do it?\n",
    "\n",
    "pyseatrials has entered the chat!\n",
    "\n",
    "## Putting it all together\n",
    "\n",
    "This section provides a worked example of how you can build up an analysis of multiple ships from the ground (or seabed) up.\n",
    "\n",
    "# Basic ship information\n",
    "\n",
    "To be able to perform the analysis we need a minimum amount of information on each ship. For the purposes of this example we can use the following examples included in `pyseatrials`\n",
    "\n",
    "- ship_sailing_and_conditions: provides ship sailing information and conditions for the ships at a specific moment in time\n",
    "- ship_properties: provides information on the fixed properties of the ships\n",
    "- ship_propellers: provides information on torque coefficients, thrust coeficients and loading factors for the ships\n",
    "\n",
    "Loading the data is done using\n"
   ]
  },
  {
   "cell_type": "code",
   "execution_count": null,
   "id": "ca2e418d-5ad5-49d7-be44-a46350ff8328",
   "metadata": {},
   "outputs": [],
   "source": []
  },
  {
   "attachments": {},
   "cell_type": "markdown",
   "id": "cb5d692d",
   "metadata": {},
   "source": [
    "# Sailing conditions\n",
    "\n",
    "The three ships are being tested in similar but slightly different sailing conditions. The below code shows how this data is generated"
   ]
  }
 ],
 "metadata": {
  "kernelspec": {
   "display_name": "Python 3",
   "language": "python",
   "name": "python3"
  }
 },
 "nbformat": 4,
 "nbformat_minor": 5
}
