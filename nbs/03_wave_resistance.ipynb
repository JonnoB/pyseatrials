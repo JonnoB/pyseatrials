{
 "cells": [
  {
   "cell_type": "code",
   "execution_count": null,
   "id": "dcc3fd42-c060-42cf-b0df-7538aa8c84e0",
   "metadata": {},
   "outputs": [],
   "source": [
    "#| default_exp wave"
   ]
  },
  {
   "cell_type": "markdown",
   "id": "d9f5311c-1bd5-489c-b92c-f1d52fb601e9",
   "metadata": {},
   "source": [
    "# Wave Resistance\n",
    "\n",
    "This section provides the functions necessary to calculate the resistance caused by waves"
   ]
  },
  {
   "cell_type": "code",
   "execution_count": null,
   "id": "9e9f26eb-8f1c-45e1-b4cd-ff762053d035",
   "metadata": {},
   "outputs": [],
   "source": [
    "#| export\n",
    "import numpy as np\n",
    "from scipy.integrate import quad\n",
    "from scipy.special import iv, kn\n",
    "from fastcore.test import *"
   ]
  },
  {
   "cell_type": "markdown",
   "id": "f388521e-0920-4d6b-be3a-925b56ab93fa",
   "metadata": {},
   "source": [
    "## STAWAVE-1\n",
    "\n",
    "STAWAVE-1 s a simplficied method for ship experiencing limited heave and pitch it was developed by Boom, 2013, and is a practical solution due to its low calculation complexity and relatively small number of variables.\n",
    "\n",
    "STAWAVE-1 has been validated and can be applied when following conditions are met\n",
    "\n",
    "- Heave and Pitch are small with the vertical acceleration of the bow $<0.05g \\approx 0.49ms^{-2}$\n",
    "- Thee wave direction $x$ is between $-45^\\circ <x < -45^\\circ$\n",
    "\n",
    "**ITTC equations**: G-1"
   ]
  },
  {
   "cell_type": "code",
   "execution_count": null,
   "id": "61f17d56-5dde-47d4-b254-c5627076b44a",
   "metadata": {},
   "outputs": [],
   "source": [
    "#| export\n",
    "\n",
    "def stawave1_fn(\n",
    "    beam:float, #the beam of the ship [m]\n",
    "    wave_height:float, #Significant wave height of wind waves [m]\n",
    "    length:float, #The length of the bow on the water line [m]. See documentation for more details\n",
    "    water_density:float = 1026, #this should be for the current temperature and salinity [kg/m^3]\n",
    "            gravity:float  = 9.81\n",
    "            )-> float: # Wave resistance [kg*m/s^2]\n",
    "    \n",
    "    \"STAWAVE-1 finds the resistance caused by bow waves for ships experiencing low heave and pitch\"\n",
    "    \n",
    "    \n",
    "    return (1/16)* water_density * gravity * wave_height**2 * beam * np.sqrt(beam/length)\n",
    "    "
   ]
  },
  {
   "cell_type": "code",
   "execution_count": null,
   "id": "33f91252-c4ab-447d-9dde-7b1a4d44dd39",
   "metadata": {},
   "outputs": [
    {
     "data": {
      "text/plain": [
       "25162.65"
      ]
     },
     "execution_count": null,
     "metadata": {},
     "output_type": "execute_result"
    }
   ],
   "source": [
    "stawave1_fn(beam = 20, wave_height = 1, length =5)"
   ]
  },
  {
   "cell_type": "code",
   "execution_count": null,
   "id": "7d349393-d69d-48c0-9908-1b19c5fcc079",
   "metadata": {},
   "outputs": [],
   "source": [
    "#| hide\n",
    "\n",
    "\n",
    "test_eq(stawave1_fn(20, 2, 5), 100650.6)"
   ]
  },
  {
   "cell_type": "markdown",
   "id": "e9846697",
   "metadata": {},
   "source": [
    "## The modified Pierson-Moskowitz spectrum\n",
    "\n",
    "In order to calcualte the force exerted on the vessel by the waves, the wave spectra must be calculate. For this the modified Pierson-Moskowitz spectrum [XXXcitationxxx] algorithm is typically used.\n",
    "\n",
    "\n",
    "\n",
    "$$S_\\eta(\\omega) =\\frac{A_{fw}}{\\omega^5} \\textrm{exp}(-\\frac{B_{fw}}{\\omega^4})$$\n",
    "\n",
    "\n",
    "$$A_{fw} = 173\\frac{H_{W1/3}^2}{T_{01}^4}$$\n",
    "\n",
    "$$B_{fw} = \\frac{691}{T_{01}^4}$$\n",
    "\n",
    "Where\n",
    "\n",
    "- $\\omega$ is the circular frequency of regular waves\n",
    "- $H_{W1/3}$ is the significant wave height of swell and wind waves\n",
    "- $T_{01}$ is the wave encounter period\n",
    "\n",
    "**ITTC equations**: 10"
   ]
  },
  {
   "cell_type": "code",
   "execution_count": null,
   "id": "63d88e41",
   "metadata": {},
   "outputs": [],
   "source": [
    "#| export\n",
    "\n",
    "def modified_pierson_moskowitz_spectrum(omega:float, #The circular frequency [rads/s]\n",
    "                                        H_W1_3:float, #Significant wave height of Wind and Swell waves [m]\n",
    "                                        #T_01:float#\n",
    "                                        )->float: #The energy density spectrum at the point omega [s]\n",
    "    \n",
    "    T_01 = 2*np.pi * omega\n",
    "    A_fw = 173 * (H_W1_3 ** 2) / (T_01 ** 4)\n",
    "    B_fw = 691 / (T_01 ** 4)\n",
    "    S_eta = (A_fw / (omega ** 5)) * np.exp(-B_fw / (omega ** 4))\n",
    "    return S_eta"
   ]
  },
  {
   "cell_type": "markdown",
   "id": "c2c126cc",
   "metadata": {},
   "source": [
    "As an example of the modified pierson moskowitz spectrum consider the case below"
   ]
  },
  {
   "cell_type": "code",
   "execution_count": null,
   "id": "60cc4d0c",
   "metadata": {},
   "outputs": [
    {
     "name": "stdout",
     "output_type": "stream",
     "text": [
      "0.28499477886766\n"
     ]
    }
   ],
   "source": [
    "omega = 1\n",
    "H_W1_3 = 2.0\n",
    "T_01 = 5.0\n",
    "\n",
    "S_eta = modified_pierson_moskowitz_spectrum(omega, H_W1_3)\n",
    "print(S_eta)"
   ]
  },
  {
   "attachments": {},
   "cell_type": "markdown",
   "id": "70c21ff4-85d2-49ff-9a87-10bcfc626ae1",
   "metadata": {},
   "source": [
    "## STAWAVE-2\n",
    "\n",
    "The resistance experienced by the ship from waves is calulated using the below process\n",
    "\n",
    "Wave transfer function is given by\n",
    "$$R_{wave} = R_{AWRL} + R_{AWML}$$\n",
    "\n",
    "Where \n",
    "\n",
    "$$ R_{AWML} = \\frac{4 \\rho_s g \\zeta_A^2B^2}{ L_{pp} }\\bar{r}_{aw}(\\omega)   $$\n",
    "\n",
    "with\n",
    "\n",
    "$$\\bar{r}_{aw}(\\omega) = \\bar{\\omega}^{b_1} \\textrm{exp}\\left\\{ \\frac{b_1}{d_1}(1 - \\omega^{-d_1}) \\right\\} a_1 \\textrm{Fr}^{1.5} \\textrm{exp}(3.50 \\textrm{Fr})$$\n",
    "\n",
    "\n",
    "$$\\bar{\\omega} = \\frac{\\sqrt{\\frac{L_{pp}}{g}}\\sqrt[3]{k_{yy}}}{1.17 \\textrm{Fr}^{-0.143}}\\omega$$\n",
    "\n",
    "$$a_1 = 60.3 C_B^{1.34} $$\n",
    "\n",
    "$$b_1 = \\begin{cases} 11.0 & \\bar{\\omega}<1  \\\\ -8.5 & \\bar{\\omega}\\geq1 \\end{cases}$$\n",
    "\n",
    "\n",
    "$$d_1 = \\begin{cases} 14.0 & \\bar{\\omega}<1  \\\\ -566(\\frac{L_{pp}}{B})^{-2.66} & \\bar{\\omega}\\geq1 \\end{cases}$$\n",
    "\n",
    "$$ R_{AWRL} = \\frac{1}{2} \\rho_s g \\zeta_A^2B \\alpha_1(\\omega) $$\n",
    "\n",
    "$$ \\alpha_1(\\omega) = \\frac{\\pi^2 I_1^2 ( 1.5 k T_M ) }{ \\pi^2 I_1^2 ( 1.5 k T_M ) + K_1^2 ( 1.5 k T_M ) }f_1 $$\n",
    "\n",
    "$$ f_1 = 0.692 \\left( \\frac{V_S}{\\sqrt{T_M g}} \\right)^{0.769} + 1.81 C_B^{6.95} $$\n",
    "\n",
    "once R_{AWRL}$, and $R_{AWML}$$ are obtained then the added resistance to the ship  can be found by integrating the below equation.\n",
    "$$R_{AWL} = 2\\int_{0}^{\\infty} \\frac{R_{wave}}{\\zeta_A^2}S_{\\eta}(\\omega)d\\omega$$\n",
    "\n",
    "\n",
    "Where the variables of the above equations are\n",
    "\n",
    "- $B$ Beam of ship\n",
    "- $\\rho_s$ water density at current ship conditions\n",
    "- $g$ force of gravity\n",
    "- $Fr$ Froude number\n",
    "- $\\omega$ wave frequency\n",
    "- $k$ ciruclar wave number in rads/s\n",
    "- $S_eta$ frequency spectrum of ocean waves. JONSWAP or ther methods can be used as appropriate.\n",
    "- $C_B$ block coefficient\n",
    "- $V_s$ ships speed in m/s\n",
    "- $k_{yy}$ non-dimensional radius of gyration in the lateral direction\n",
    "- $L_{pp}$ ship length between perpendiculars\n",
    "- $T_M$ draught at midship\n",
    "- $I_t$ modified Bessel Function of the first kind of order 1\n",
    "- $K_t$ modified Bessel Function of the second kind of order 1\n",
    "- $\\zeta_A$ The amplitude of the wave/significant wave height\n",
    "\n",
    "**ITTC equations**: G-12\n"
   ]
  },
  {
   "cell_type": "code",
   "execution_count": null,
   "id": "58e9d046",
   "metadata": {},
   "outputs": [],
   "source": [
    "#| export\n",
    "\n",
    "def _a_1(C_B):\n",
    "    return 60.3 * C_B**1.34\n",
    "\n",
    "def _bar_omega_fn(omega, L_pp, g, k_yy, Fr):\n",
    "    return (np.sqrt(L_pp / g) * (k_yy**(1/3))) / (1.17 * Fr**(-0.143))*omega\n",
    "\n",
    "def _b_1(bar_omega):\n",
    "\n",
    "    logical_test = (bar_omega < 1)\n",
    "\n",
    "    return (logical_test *11.0) + (~logical_test) *-8.5\n",
    "\n",
    "def _d_1(bar_omega, L_pp, B):\n",
    "\n",
    "    logical_test = (bar_omega < 1)\n",
    "\n",
    "    return (logical_test *14.0) + (~logical_test) *(-566 * (L_pp / B)**(-2.66))\n",
    "\n",
    "def _r_aw(bar_omega, b_1, d_1, a_1, Fr):\n",
    "    return (bar_omega**b_1) * np.exp((b_1 / d_1) * (1 - bar_omega**(d_1))) * a_1 * Fr**1.5 * np.exp(3.50 * Fr)\n",
    "\n",
    "def _R_AWML(rho_s, g, zeta_A, B, L_pp, r_aw):\n",
    "    return ((4 * rho_s * g * zeta_A**2 * B**2) / L_pp ) * r_aw\n",
    "\n",
    "\n",
    "def _f_1(V_S, T_M, g, C_B):\n",
    "    return 0.692 * (V_S / np.sqrt(T_M * g))**0.769 + 1.81 * C_B**6.95\n",
    "\n",
    "def _alpha_1(I_1, K_1, f1):\n",
    "    return ((np.pi**2 * I_1**2 ) / (np.pi**2 * I_1**2  + K_1**2 ))*f1\n",
    "\n",
    "\n",
    "def _R_AWRL(rho_s, g, zeta_A, B, alpha_1):\n",
    "    return 0.5 * rho_s * g * zeta_A**2 * B * alpha_1"
   ]
  },
  {
   "cell_type": "code",
   "execution_count": null,
   "id": "a2ec50c6",
   "metadata": {},
   "outputs": [],
   "source": [
    "#| export\n",
    "def calculate_R_wave(omega:float, # circular wave frequency [rads/s]\n",
    "                     C_B:float, # block coefficient [dimensionless]\n",
    "                     L_pp:float, # Length between perpendiculars [m]\n",
    "                     k_yy:float, # radius of gyration in the lateral direction [dimensionless]\n",
    "                     Fr:float, # Froude number [dimensionless]\n",
    "                     zeta_A:float, # wave amplitude [m]\n",
    "                     B:float, # ship breadth [m]\n",
    "                     k:float, # circular wave number [rads/m]\n",
    "                     T_M:float, # draught at midship [m]\n",
    "                     V_s:float, # speed through water [m/s]\n",
    "                     rho_s:float = 1025, # water density [kg/m^3]\n",
    "                     g:float = 9.81 # acceleration due to gravity [m/s^2]\n",
    "                     ) -> tuple: #Function outputs the wave transfer function as well as the component parts R_AWRL and R_AWML\n",
    "    a1 = _a_1(C_B)\n",
    "    bar_omega = _bar_omega_fn(omega, L_pp, g, k_yy, Fr)\n",
    "    b1 = _b_1(bar_omega)\n",
    "    d1 = _d_1(bar_omega, L_pp, B)\n",
    "    r_aw_val = _r_aw(bar_omega, b1, d1, a1, Fr)\n",
    "    R_AWML_val = _R_AWML(rho_s, g, zeta_A, B, L_pp, r_aw_val)\n",
    "    \n",
    "    I_1 = iv(1, 1.5 * k * T_M)\n",
    "    K_1 = kn(1, 1.5 * k * T_M) \n",
    "    f1 = _f_1(V_s, T_M, g, C_B)\n",
    "    alpha1 = _alpha_1(I_1, K_1, f1)\n",
    "    R_AWRL_val = _R_AWRL(rho_s, g, zeta_A, B, alpha1)\n",
    "    R_wave = R_AWRL_val + R_AWML_val\n",
    "    \n",
    "    return R_wave, R_AWRL_val, R_AWML_val\n",
    "\n",
    "def R_AWL(#omega:float, # circular wave frequency [rads/s]\n",
    "          zeta_A:float, # wave amplitude [m]\n",
    "          B:float, # ship breadth [m]\n",
    "          L_pp:float, # Length between perpendiculars [m]\n",
    "          V_s:float, # speed through water [m/s]\n",
    "          T_M:float, # draught at midship [m]\n",
    "          C_B:float, # block coefficient [dimensionless]\n",
    "          k_yy:float, # radius of gyration in the lateral direction [dimensionless]\n",
    "          Fr:float, # Froude number [dimensionless]\n",
    "          k:float, # circular wave number [rads/m]\n",
    "          rho_s:float = 1025, # water density [kg/m^3]\n",
    "          g:float = 9.81, # accerleation due to gravity [m/s^2]\n",
    "          S_eta:object = None, #A function calculating the wave spectrum \n",
    "          **kwargs)->tuple: # The added wave resistance, the wave resistance from reflection, the wave resistsance from pitching\n",
    "    \n",
    "    def integrand(omega: float) -> tuple:\n",
    "        R_wave, R_AWRL_val, R_AWML_val = calculate_R_wave(omega = omega, C_B = C_B, L_pp = L_pp, k_yy = k_yy, \n",
    "                                                          Fr = Fr , zeta_A = zeta_A, B = B, k = k, T_M = T_M, \n",
    "                                                          V_s = V_s, rho_s = rho_s, g = g)\n",
    "        common_factor = (2 / (zeta_A**2)) * S_eta(omega, **kwargs)\n",
    "        return common_factor * R_wave, common_factor * R_AWRL_val, common_factor * R_AWML_val\n",
    "\n",
    "    def integrand_n(omega: float, n: int) -> float:\n",
    "        return integrand(omega)[n]\n",
    "\n",
    "    result_0, _ = quad(lambda omega: integrand_n(omega, 0), 0, np.inf)\n",
    "    result_1, _ = quad(lambda omega: integrand_n(omega, 1), 0, np.inf)\n",
    "    result_2, _ = quad(lambda omega: integrand_n(omega, 2), 0, np.inf)\n",
    "    \n",
    "    return result_0, result_1, result_2"
   ]
  },
  {
   "cell_type": "code",
   "execution_count": null,
   "id": "b682db30",
   "metadata": {},
   "outputs": [
    {
     "data": {
      "text/plain": [
       "(229776.13823059603, 128975.85056996053, 100800.2876606355)"
      ]
     },
     "execution_count": null,
     "metadata": {},
     "output_type": "execute_result"
    }
   ],
   "source": [
    "# Ship parameters\n",
    "L_pp = 250  # meters\n",
    "V_s = 10  # meters per second\n",
    "beaufort_scale = 5\n",
    "Fr = 0.3\n",
    "\n",
    "# Example values for other parameters (adjust based on the specific ship)\n",
    "omega = 0.3 # circular wave frequency [rads/s]\n",
    "g = 9.81  # m/s^2, force of gravity\n",
    "k = omega * g # circular wave number [rads/m]\n",
    "rho_s = 1025  # kg/m^3, water density\n",
    "zeta_A = 1  # meters, significant wave height\n",
    "B = 32  # meters, beam of the ship\n",
    "C_B = 0.7  # block coefficient\n",
    "T_M = 12  # meters, draught at midship\n",
    "k_yy = 0.25  # non-dimensional radius of gyration in the lateral direction\n",
    "I_1 = iv(1, 1.5 * k * T_M)\n",
    "K_1 = kn(1,  1.5 * k * T_M) \n",
    "\n",
    "\n",
    "# Calculate R_wave\n",
    "R_wave = calculate_R_wave(omega, C_B, L_pp, k_yy, Fr, zeta_A, B, k, T_M, V_s, rho_s, g)\n",
    "\n",
    "R_wave "
   ]
  },
  {
   "cell_type": "code",
   "execution_count": null,
   "id": "ec6139a3",
   "metadata": {},
   "outputs": [
    {
     "data": {
      "text/plain": [
       "(14670.472278183037, 8072.656348988186, 6597.815929194849)"
      ]
     },
     "execution_count": null,
     "metadata": {},
     "output_type": "execute_result"
    }
   ],
   "source": [
    "R_AWL(zeta_A, B, L_pp, V_s, T_M, C_B, k_yy, Fr, k, rho_s, g, S_eta = modified_pierson_moskowitz_spectrum, H_W1_3 = zeta_A)"
   ]
  },
  {
   "cell_type": "code",
   "execution_count": null,
   "id": "3fd4534d",
   "metadata": {},
   "outputs": [],
   "source": [
    "import matplotlib.pyplot as plt"
   ]
  },
  {
   "cell_type": "code",
   "execution_count": null,
   "id": "1a741558",
   "metadata": {},
   "outputs": [
    {
     "ename": "SyntaxError",
     "evalue": "invalid syntax. Perhaps you forgot a comma? (2644724629.py, line 4)",
     "output_type": "error",
     "traceback": [
      "\u001b[0;36m  Cell \u001b[0;32mIn[13], line 4\u001b[0;36m\u001b[0m\n\u001b[0;31m    multipliers = [3, 2, 1 1/2, 1/4, 1/8]\u001b[0m\n\u001b[0m                         ^\u001b[0m\n\u001b[0;31mSyntaxError\u001b[0m\u001b[0;31m:\u001b[0m invalid syntax. Perhaps you forgot a comma?\n"
     ]
    }
   ],
   "source": [
    "\n",
    "transfer_function = lambda omega: (calculate_R_wave(omega = omega, C_B = C_B, L_pp = L_pp, k_yy = k_yy, \n",
    "                                                    Fr = Fr , zeta_A = zeta_A, B = B, k = k, T_M = T_M, V_s = V_s, rho_s = rho_s, g = g))\n",
    "\n",
    "multipliers = [3, 2, 1, 1/2, 1/4, 1/8]\n",
    "\n",
    "pierson2 = lambda omega: modified_pierson_moskowitz_spectrum(omega, H_W1_3)\n",
    "x = np.linspace(0.1, 3, 1000)\n",
    "y = (np.array([transfer_function(z) for z in x]))\n",
    "y2 = (np.array([pierson2(z) for z in x]))\n",
    "\n",
    "\n",
    "fig, ax = plt.subplots()\n",
    "\n",
    "ax.plot(x, y, linewidth=2.0)\n",
    "\n",
    "plt.show()"
   ]
  },
  {
   "cell_type": "code",
   "execution_count": null,
   "id": "83bd3339-5bd8-4b25-8c25-9d4b0b38c44f",
   "metadata": {},
   "outputs": [],
   "source": [
    "#| hide\n",
    "import nbdev; nbdev.nbdev_export()"
   ]
  }
 ],
 "metadata": {
  "kernelspec": {
   "display_name": "Python 3",
   "language": "python",
   "name": "python3"
  }
 },
 "nbformat": 4,
 "nbformat_minor": 5
}
