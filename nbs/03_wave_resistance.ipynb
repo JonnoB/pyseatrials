{
 "cells": [
  {
   "cell_type": "code",
   "execution_count": null,
   "id": "dcc3fd42-c060-42cf-b0df-7538aa8c84e0",
   "metadata": {},
   "outputs": [],
   "source": [
    "#| default_exp wave"
   ]
  },
  {
   "cell_type": "markdown",
   "id": "d9f5311c-1bd5-489c-b92c-f1d52fb601e9",
   "metadata": {},
   "source": [
    "# Wave Resistance\n",
    "\n",
    "This section provides the functions necessary to calculate the resistance caused by waves"
   ]
  },
  {
   "cell_type": "code",
   "execution_count": null,
   "id": "9e9f26eb-8f1c-45e1-b4cd-ff762053d035",
   "metadata": {},
   "outputs": [],
   "source": [
    "#| export\n",
    "import numpy as np\n",
    "from fastcore.test import *"
   ]
  },
  {
   "cell_type": "markdown",
   "id": "f388521e-0920-4d6b-be3a-925b56ab93fa",
   "metadata": {},
   "source": [
    "## STAWAVE-1\n",
    "\n",
    "STAWAVE-1 s a simplficied method for ship experiencing limited heave and pitch it was developed by Boom, 2013, and is a practical solution due to its low calculation complexity and relatively small number of variables.\n",
    "\n",
    "STAWAVE-1 has been validated and can be applied when following conditions are met\n",
    "\n",
    "- Heave and Pitch are small with the vertical acceleration of the bow $<0.05g \\approx 0.49ms^{-2}$\n",
    "- Thee wave direction $x$ is between $-45^\\circ <x < -45^\\circ$\n",
    "\n",
    "**ITTC equations**: G-1"
   ]
  },
  {
   "cell_type": "code",
   "execution_count": null,
   "id": "61f17d56-5dde-47d4-b254-c5627076b44a",
   "metadata": {},
   "outputs": [],
   "source": [
    "#| export\n",
    "\n",
    "def stawave1_fn(\n",
    "    beam:float, #the beam of the ship [m]\n",
    "    wave_height:float, #Significant wave height of wind waves [m]\n",
    "    length:float, #The length of the bow on the water line [m]. See documentation for more details\n",
    "    water_density:float = 1026, #this should be for the current temperature and salinity [kg/m^3]\n",
    "            gravity:float  = 9.81\n",
    "            )-> float: # Wave resistance [kg*m/s^2]\n",
    "    \n",
    "    \"STAWAVE-1 finds the resistance caused by bow waves for ships experiencing low heave and pitch\"\n",
    "    \n",
    "    \n",
    "    return (1/16)* water_density * gravity * wave_height**2 * beam * np.sqrt(beam/length)\n",
    "    "
   ]
  },
  {
   "cell_type": "code",
   "execution_count": null,
   "id": "33f91252-c4ab-447d-9dde-7b1a4d44dd39",
   "metadata": {},
   "outputs": [
    {
     "data": {
      "text/plain": [
       "10260.0"
      ]
     },
     "execution_count": null,
     "metadata": {},
     "output_type": "execute_result"
    }
   ],
   "source": [
    "stawave1_fn(20, 2, 5)"
   ]
  },
  {
   "cell_type": "code",
   "execution_count": null,
   "id": "7d349393-d69d-48c0-9908-1b19c5fcc079",
   "metadata": {},
   "outputs": [],
   "source": [
    "#| hide\n",
    "\n",
    "\n",
    "test_eq(stawave1_fn(20, 2, 5), 10260)"
   ]
  },
  {
   "cell_type": "markdown",
   "id": "70c21ff4-85d2-49ff-9a87-10bcfc626ae1",
   "metadata": {},
   "source": [
    "### STAWAVE-2\n",
    "\n",
    "STAWAVE-2 is not currently implemented. This may be added in the future"
   ]
  },
  {
   "cell_type": "code",
   "execution_count": null,
   "id": "83bd3339-5bd8-4b25-8c25-9d4b0b38c44f",
   "metadata": {},
   "outputs": [],
   "source": [
    "import nbdev; nbdev.nbdev_export()"
   ]
  }
 ],
 "metadata": {
  "kernelspec": {
   "display_name": "Python 3",
   "language": "python",
   "name": "python3"
  }
 },
 "nbformat": 4,
 "nbformat_minor": 5
}
