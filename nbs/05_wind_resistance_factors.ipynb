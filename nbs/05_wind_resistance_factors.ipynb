{
 "cells": [
  {
   "cell_type": "code",
   "execution_count": null,
   "id": "ae8e16a0-ff29-458f-b460-3db58e8896b7",
   "metadata": {},
   "outputs": [],
   "source": [
    "#| default_exp wind_res\n"
   ]
  },
  {
   "cell_type": "code",
   "execution_count": null,
   "id": "9f416f37-9d57-4769-8d50-8a51deb94bd1",
   "metadata": {},
   "outputs": [],
   "source": [
    "#| hide\n",
    "from nbdev.showdoc import *\n"
   ]
  },
  {
   "cell_type": "code",
   "execution_count": null,
   "id": "70d5a518-e786-4241-90da-0c11d6ed1aaa",
   "metadata": {},
   "outputs": [],
   "source": [
    "#| export\n",
    "import numpy as np\n",
    "import pandas as pd\n",
    "from fastcore.test import *\n",
    "import importlib.resources\n",
    "import os\n",
    "import pkgutil\n",
    "#import pkg_resources"
   ]
  },
  {
   "cell_type": "markdown",
   "id": "9fce802d-3235-4543-be8c-3ecf2cdf6da9",
   "metadata": {},
   "source": [
    "# Wind resistance coefficients\n",
    "\n",
    "In order to caluclate the wind resistance experienced by the ship, the wind resistance loading coefficients need to be known. The wind resistance loading coefficients are dependent on the direction the wind is blowing relative to the ship. These coefficients can be found using the following three methods\n",
    "\n",
    "- Wind tunnel test\n",
    "- CFD analysis\n",
    "- Coefficient datasets\n",
    "\n",
    "The first two approaches are used to create the coefficients specific for the ship. The third option is used when no such simulations have been performed and are based on a set of generic ship designs.\n",
    "\n",
    "## Load wind resistance coefficients\n",
    "\n",
    "When there has been no wind tunnel test or CDF analysis the wind resistance coefficients must be found using datasets of look up tables representing generic ship designs for a variety of classes. `pyseatrials` contains the wind loading factor datasets from ITTC. These data sets have been included as 9 dataframes depending on ship type. To load the data frame enter the name of the ship type to load. The available ship types are\n",
    "\n",
    "- GENERAL_CARGO\n",
    "- LNG_CARRIER_INT\n",
    "- CRUISE_FERRY\n",
    "- 280_KDWT_TANKER\n",
    "- LNG_CARRIER\n",
    "- HANDY_SIZE_BULK_CARRIER\n",
    "- 6800_TEU_CONTAINERSHIP\n",
    "- MULTI_PURPOSE_CARRIER"
   ]
  },
  {
   "cell_type": "code",
   "execution_count": null,
   "id": "211adc1f-e317-40cb-9ca4-874c88155d12",
   "metadata": {},
   "outputs": [],
   "source": [
    "#| export\n",
    "def load_wind_coefficients(vessel_type:str #The name of the vessel type. Must be one of 9 options\n",
    "                     ):#returns a data set with where the first column us angle_of_attack in radians, the second is angle_of_attack in degrees, the subsequent columns names ship states\n",
    "    \n",
    "    \"Loads a data frame of the wind coefficients for a range of angles of attack for the named vessel type\"\n",
    "    resource = vessel_type+\".csv\"\n",
    "    package = 'pyseatrials'\n",
    "    if not importlib.resources.is_resource(package, resource):\n",
    "        raise FileNotFoundError(f\"Python package '{package}' resource '{resource}' not found.\")\n",
    "\n",
    "    with importlib.resources.path(package, resource) as resource_path:\n",
    "        \n",
    "        return os.fspath(resource_path)\n",
    "\n",
    "\n",
    "#res = pkgutil.get_data('sound.effects.cool_effects', 'collection_effects.csv')\n",
    "\n"
   ]
  },
  {
   "cell_type": "code",
   "execution_count": null,
   "id": "443330d1-2102-4019-af87-0f914938dc3b",
   "metadata": {},
   "outputs": [],
   "source": [
    "def load_wind_coefficients2(vessel_type:str #The name of the vessel type. Must be one of 9 options\n",
    "                     ):\n",
    "        res = pkgutil.get_data('pyseatrials', 'datasets/'+vessel_type+'.csv')\n",
    "        \n",
    "        return res\n",
    "    "
   ]
  },
  {
   "cell_type": "code",
   "execution_count": null,
   "id": "3748ea70-6e20-4d1e-8a61-937d3cd95b07",
   "metadata": {},
   "outputs": [
    {
     "ename": "FileNotFoundError",
     "evalue": "Python package 'pyseatrials' resource 'GENERAL_CARGO.csv' not found.",
     "output_type": "error",
     "traceback": [
      "\u001b[0;31m---------------------------------------------------------------------------\u001b[0m",
      "\u001b[0;31mFileNotFoundError\u001b[0m                         Traceback (most recent call last)",
      "Input \u001b[0;32mIn [7]\u001b[0m, in \u001b[0;36m<cell line: 1>\u001b[0;34m()\u001b[0m\n\u001b[0;32m----> 1\u001b[0m \u001b[43mload_wind_coefficients\u001b[49m\u001b[43m(\u001b[49m\u001b[38;5;124;43m\"\u001b[39;49m\u001b[38;5;124;43mGENERAL_CARGO\u001b[39;49m\u001b[38;5;124;43m\"\u001b[39;49m\u001b[43m)\u001b[49m\n",
      "Input \u001b[0;32mIn [4]\u001b[0m, in \u001b[0;36mload_wind_coefficients\u001b[0;34m(vessel_type)\u001b[0m\n\u001b[1;32m      7\u001b[0m package \u001b[38;5;241m=\u001b[39m \u001b[38;5;124m'\u001b[39m\u001b[38;5;124mpyseatrials\u001b[39m\u001b[38;5;124m'\u001b[39m\n\u001b[1;32m      8\u001b[0m \u001b[38;5;28;01mif\u001b[39;00m \u001b[38;5;129;01mnot\u001b[39;00m importlib\u001b[38;5;241m.\u001b[39mresources\u001b[38;5;241m.\u001b[39mis_resource(package, resource):\n\u001b[0;32m----> 9\u001b[0m     \u001b[38;5;28;01mraise\u001b[39;00m \u001b[38;5;167;01mFileNotFoundError\u001b[39;00m(\u001b[38;5;124mf\u001b[39m\u001b[38;5;124m\"\u001b[39m\u001b[38;5;124mPython package \u001b[39m\u001b[38;5;124m'\u001b[39m\u001b[38;5;132;01m{\u001b[39;00mpackage\u001b[38;5;132;01m}\u001b[39;00m\u001b[38;5;124m'\u001b[39m\u001b[38;5;124m resource \u001b[39m\u001b[38;5;124m'\u001b[39m\u001b[38;5;132;01m{\u001b[39;00mresource\u001b[38;5;132;01m}\u001b[39;00m\u001b[38;5;124m'\u001b[39m\u001b[38;5;124m not found.\u001b[39m\u001b[38;5;124m\"\u001b[39m)\n\u001b[1;32m     11\u001b[0m \u001b[38;5;28;01mwith\u001b[39;00m importlib\u001b[38;5;241m.\u001b[39mresources\u001b[38;5;241m.\u001b[39mpath(package, resource) \u001b[38;5;28;01mas\u001b[39;00m resource_path:\n\u001b[1;32m     13\u001b[0m     \u001b[38;5;28;01mreturn\u001b[39;00m os\u001b[38;5;241m.\u001b[39mfspath(resource_path)\n",
      "\u001b[0;31mFileNotFoundError\u001b[0m: Python package 'pyseatrials' resource 'GENERAL_CARGO.csv' not found."
     ]
    }
   ],
   "source": [
    "#load_wind_coefficients(\"GENERAL_CARGO\")"
   ]
  },
  {
   "cell_type": "code",
   "execution_count": null,
   "id": "9044580b-c822-4370-8d31-e8e8d29fd373",
   "metadata": {},
   "outputs": [
    {
     "data": {
      "text/plain": [
       "'\\nimport glob\\nfor x in glob.glob(\"datasets\" + \"/*.csv\"):\\n    print(x)\\n    temp  = pd.read_csv(x)\\n    temp.insert(loc = 1,column = \\'angle_of_attack_degs\\', value =  temp[\\'angle_of_attack\\'])\\n    temp[\\'angle_of_attack\\'] = np.deg2rad(temp[\\'angle_of_attack\\'])\\n    temp.to_csv(x, index = False)\\n'"
      ]
     },
     "execution_count": null,
     "metadata": {},
     "output_type": "execute_result"
    }
   ],
   "source": [
    "#| hide\n",
    "'''\n",
    "import glob\n",
    "for x in glob.glob(\"datasets\" + \"/*.csv\"):\n",
    "    print(x)\n",
    "    temp  = pd.read_csv(x)\n",
    "    temp.insert(loc = 1,column = 'angle_of_attack_degs', value =  temp['angle_of_attack'])\n",
    "    temp['angle_of_attack'] = np.deg2rad(temp['angle_of_attack'])\n",
    "    temp.to_csv(x, index = False)\n",
    "'''"
   ]
  },
  {
   "cell_type": "code",
   "execution_count": null,
   "id": "f52064d5-2b8f-4b86-aaa3-e4cd353471f7",
   "metadata": {},
   "outputs": [],
   "source": [
    "import pandas as pd"
   ]
  },
  {
   "cell_type": "code",
   "execution_count": null,
   "id": "9b8495d6-c571-40d3-ac7f-4740bf07a452",
   "metadata": {},
   "outputs": [],
   "source": [
    "general_cargo = pd.DataFrame({'angle_of_attack':[0.        , 0.17453293, 0.34906585, 0.52359878, 0.6981317 ,\n",
    "       0.87266463, 1.04719755, 1.22173048, 1.3962634 , 1.57079633,\n",
    "       1.74532925, 1.91986218, 2.0943951 , 2.44346095, 2.61799388,\n",
    "       2.7925268 , 2.96705973, 3.14159265],\n",
    "            'average':[-0.6 , -0.87, -1.  , -1.  , -0.88, -0.85, -0.65, -0.42, -0.27,\n",
    "       -0.09,  0.09,  0.49,  0.84,  1.39,  1.47,  1.34,  0.92,  0.82] })"
   ]
  },
  {
   "cell_type": "markdown",
   "id": "53c5a813-d846-4b26-8b0c-bd6bb9d6cef5",
   "metadata": {},
   "source": [
    "## Interpolate the wind loading coefficients\n",
    "\n",
    "The dataset loaded previously only contains the load coefficients at specific angles. Interpolation is needed to match these coefficients to the wind acting on the ship.There are many ways to interpolate these values, `pyseatrials` uses simple linear interpolation. Linear interpolation has been chosen over other approaches as it can be vectorised and reduces package dependencies. In addition the ultimate difference, between e.g. linear vs spline interpolation, in resistive force will be small compared to the magnitude of forces acting on the ship."
   ]
  },
  {
   "cell_type": "code",
   "execution_count": null,
   "id": "63bfd310-5b9b-4ee9-ac4c-39071137dcb4",
   "metadata": {},
   "outputs": [],
   "source": [
    "#| export\n",
    "def interpolate_cx(df, #dataframe of the wind resistance dataset\n",
    "                   relative_wind_direction:float, #The angle of the wind relative to the ship [rads]\n",
    "                   ship_state:str #The state of the ship the resistance should be evaluated in. Chosen from the columns of the wind resistance datasets\n",
    ")->float: # The dimensionless wind resistance coefficient\n",
    "    \n",
    "    \"Find a linearly interpolated value for wind resistance coefficient\"\n",
    "    \n",
    "    return np.interp(relative_wind_direction, df.angle_of_attack, df[ship_state])"
   ]
  },
  {
   "cell_type": "markdown",
   "id": "9f237316-0adc-4d13-aef9-eae1c998bc17",
   "metadata": {},
   "source": [
    "Using the example of the general cargo ship using four different wind direction scenarios (0, 55, 180, 280 degrees) we get the interpolated loading coefficients.\n",
    "Some ships have data for different states such as 'laden' and 'ballast' the General Cargo dataset only has a single state 'average'."
   ]
  },
  {
   "cell_type": "code",
   "execution_count": null,
   "id": "80804e83-4cad-44cc-8980-1df3765ee4c4",
   "metadata": {},
   "outputs": [
    {
     "name": "stdout",
     "output_type": "stream",
     "text": [
      "[-0.6  -0.75  0.84  0.82]\n"
     ]
    }
   ],
   "source": [
    "degs = [0, 55, 120, 180 ]\n",
    "rads = np.deg2rad(degs) #convert the degrees to radians\n",
    "cx_vals = interpolate_cx(general_cargo, rads, 'average')\n",
    "print(cx_vals)"
   ]
  },
  {
   "cell_type": "code",
   "execution_count": null,
   "id": "a5e2dfd0-d144-4207-85fd-4cc734bae566",
   "metadata": {},
   "outputs": [],
   "source": [
    "#| hide\n",
    "#sanity check tests\n",
    "test_df = pd.DataFrame({'angle_of_attack': [0, 2], 'cx':[0, 100]})\n",
    "test_eq(interpolate_cx(test_df, 0, 'cx'), 0)\n",
    "test_eq(interpolate_cx(test_df, 2, 'cx'), 100)"
   ]
  },
  {
   "cell_type": "markdown",
   "id": "b224df33-8f19-47f3-ad27-910999405d57",
   "metadata": {},
   "source": [
    "The wind resistance coefficients can then be used to find the actual wind resistance experienced by the ship"
   ]
  },
  {
   "cell_type": "code",
   "execution_count": null,
   "id": "09c58b4e-23a3-400e-9473-4dfadef103a9",
   "metadata": {},
   "outputs": [],
   "source": [
    "from pyseatrials.general import *"
   ]
  },
  {
   "cell_type": "code",
   "execution_count": null,
   "id": "f01a155d-3010-4d87-add2-8d9638268ece",
   "metadata": {},
   "outputs": [
    {
     "name": "stdout",
     "output_type": "stream",
     "text": [
      "[-54. -72. 119. 116.]\n"
     ]
    }
   ],
   "source": [
    "wind_resistance_linear = wind_resistance(air_density = 1.2,\n",
    "                   wind_resistance_coef_rel = cx_vals,\n",
    "                   wind_resistance_coef_zero = cx_vals[0],\n",
    "                   area = 500,\n",
    "                   relative_wind_speed = 20,\n",
    "                   sog = 10)\n",
    "\n",
    "#convert to kN\n",
    "resistance_linear_kN = np.round(wind_resistance_linear/1000)\n",
    "print(resistance_linear_kN )"
   ]
  },
  {
   "cell_type": "markdown",
   "id": "0ab72bd9-3834-4430-b492-333de054142d",
   "metadata": {},
   "source": [
    "Other interpolations methods can be used such as spline interpolation from the `scipy` library."
   ]
  },
  {
   "cell_type": "code",
   "execution_count": null,
   "id": "a0740e14-52e7-42fc-9dc7-b7fe54148e70",
   "metadata": {},
   "outputs": [],
   "source": [
    "from scipy.interpolate import make_interp_spline"
   ]
  },
  {
   "cell_type": "code",
   "execution_count": null,
   "id": "15ef7826-9284-49ff-b22a-aeb195b33ab8",
   "metadata": {},
   "outputs": [],
   "source": [
    "cx_spline = make_interp_spline(general_cargo['angle_of_attack'], general_cargo['average'] )\n"
   ]
  },
  {
   "cell_type": "markdown",
   "id": "b8a21509-e8e8-4dc7-b9de-0275ffdf5fe2",
   "metadata": {},
   "source": [
    "The difference between the load coefficients produced by the two models can be shown in the plot below. Across the full range there is almost no difference."
   ]
  },
  {
   "cell_type": "code",
   "execution_count": null,
   "id": "5b14fe2b-edfc-4491-94ea-e72d85f011b8",
   "metadata": {},
   "outputs": [],
   "source": [
    "import matplotlib.pyplot as plt"
   ]
  },
  {
   "cell_type": "code",
   "execution_count": null,
   "id": "cb9309ee-aaad-44b4-ab5b-10926dfc2118",
   "metadata": {},
   "outputs": [
    {
     "data": {
      "image/png": "[encoded data removed]",
      "text/plain": [
       "<Figure size 432x288 with 1 Axes>"
      ]
     },
     "metadata": {
      "needs_background": "light"
     },
     "output_type": "display_data"
    }
   ],
   "source": [
    "xs = np.linspace(-3, 3, 100)\n",
    "xvals = np.linspace(0, np.pi, 50)\n",
    "yinterp_lin = np.interp(xvals, general_cargo['angle_of_attack'], general_cargo['average'])\n",
    "yinterp_spline = cx_spline(xvals)\n",
    "plt.plot(general_cargo['angle_of_attack'], general_cargo['average'], 'ro')\n",
    "plt.plot(xvals, yinterp_lin,'g-', lw=1, label='Linear')\n",
    "plt.plot(xvals, yinterp_spline,'b-', lw=1, label='Linear')\n",
    "plt.legend(loc='best')\n",
    "plt.show()"
   ]
  },
  {
   "cell_type": "markdown",
   "id": "18580ab6-7247-4860-afc3-2fefd2416be0",
   "metadata": {},
   "source": [
    "The difference in terms of actual resistive force between linear and spline interpolation is also very small."
   ]
  },
  {
   "cell_type": "code",
   "execution_count": null,
   "id": "0f9a89ca-b8ea-4f84-ba24-e781f873176f",
   "metadata": {},
   "outputs": [
    {
     "name": "stdout",
     "output_type": "stream",
     "text": [
      "difference in kN between the two interpolation methods for all 4 angles of attack [0. 2. 0. 0.]\n"
     ]
    }
   ],
   "source": [
    "wind_resistiance_spline = wind_resistance(air_density = 1.2,\n",
    "                   wind_resistance_coef_rel = cx_spline(rads),\n",
    "                   wind_resistance_coef_zero = cx_spline(rads)[0],\n",
    "                   area = 500,\n",
    "                   relative_wind_speed = 20,\n",
    "                   sog = 10)\n",
    "#convert to kN\n",
    "resitance_spline_kN = np.round(wind_resistiance_spline/1000)\n",
    "\n",
    "#difference in wind resistance between the two models in kN\n",
    "print('difference in kN between the two interpolation methods for all 4 angles of attack '+str(resistance_linear_kN - resitance_spline_kN))"
   ]
  }
 ],
 "metadata": {
  "kernelspec": {
   "display_name": "Python 3 (ipykernel)",
   "language": "python",
   "name": "python3"
  }
 },
 "nbformat": 4,
 "nbformat_minor": 5
}
