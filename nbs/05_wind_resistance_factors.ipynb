{
 "cells": [
  {
   "cell_type": "code",
   "execution_count": null,
   "id": "ae8e16a0-ff29-458f-b460-3db58e8896b7",
   "metadata": {},
   "outputs": [],
   "source": [
    "#| default_exp wind_res\n"
   ]
  },
  {
   "cell_type": "code",
   "execution_count": null,
   "id": "9f416f37-9d57-4769-8d50-8a51deb94bd1",
   "metadata": {},
   "outputs": [],
   "source": [
    "#| hide\n",
    "from nbdev.showdoc import *\n",
    "import pandas as pd"
   ]
  },
  {
   "cell_type": "code",
   "execution_count": null,
   "id": "70d5a518-e786-4241-90da-0c11d6ed1aaa",
   "metadata": {},
   "outputs": [],
   "source": [
    "#| export\n",
    "import numpy as np\n",
    "import pandas as pd\n",
    "from fastcore.test import *\n",
    "#import pkg_resources"
   ]
  },
  {
   "cell_type": "markdown",
   "id": "9fce802d-3235-4543-be8c-3ecf2cdf6da9",
   "metadata": {},
   "source": [
    "# Wind resistance factors\n",
    "\n",
    "The "
   ]
  },
  {
   "cell_type": "code",
   "execution_count": null,
   "id": "211adc1f-e317-40cb-9ca4-874c88155d12",
   "metadata": {},
   "outputs": [],
   "source": [
    "'''\n",
    "#| export\n",
    "def load_wind_factors(vessel_type:str #The name of the vessel type. Must be one of 9 options\n",
    "                     ):\n",
    "    \n",
    "    \"Loads a data frame of the wind factors for a range of angles of attack for the named vessel type\"\n",
    "    \n",
    "    stream = pkg_resources.resource_stream('datasets/', vessel_type+'.csv')\n",
    "    return pd.read_csv(stream, encoding='latin-1')\n",
    "    \n",
    "''' "
   ]
  },
  {
   "cell_type": "code",
   "execution_count": null,
   "id": "9044580b-c822-4370-8d31-e8e8d29fd373",
   "metadata": {},
   "outputs": [
    {
     "name": "stdout",
     "output_type": "stream",
     "text": [
      "datasets/GENERAL_CARGO.csv\n",
      "datasets/LNG_CARRIER_INT.csv\n",
      "datasets/CAR_CARRIER.csv\n",
      "datasets/CRUISE_FERRY.csv\n",
      "datasets/280_KDWT_TANKER.csv\n",
      "datasets/LNG_CARRIER.csv\n",
      "datasets/HANDY_SIZE_BULK_CARRIER.csv\n",
      "datasets/6800_TEU_CONTAINERSHIP.csv\n",
      "datasets/MULTI_PURPOSE_CARRIER.csv\n"
     ]
    }
   ],
   "source": [
    "'''\n",
    "import glob\n",
    "for x in glob.glob(\"datasets\" + \"/*.csv\"):\n",
    "    print(x)\n",
    "    temp  = pd.read_csv(x)\n",
    "    temp.insert(loc = 1,column = 'angle_of_attack_degs', value =  temp['angle_of_attack'])\n",
    "    temp['angle_of_attack'] = np.deg2rad(temp['angle_of_attack'])\n",
    "    temp.to_csv(x, index = False)\n",
    "'''"
   ]
  },
  {
   "cell_type": "code",
   "execution_count": null,
   "id": "775f8aeb-94b3-41d6-84cc-582b2c460fea",
   "metadata": {},
   "outputs": [
    {
     "data": {
      "text/plain": [
       "array([-0.6 , -0.87, -1.  , -1.  , -0.88, -0.85, -0.65, -0.42, -0.27,\n",
       "       -0.09,  0.09,  0.49,  0.84,  1.39,  1.47,  1.34,  0.92,  0.82])"
      ]
     },
     "execution_count": null,
     "metadata": {},
     "output_type": "execute_result"
    }
   ],
   "source": [
    "#temp = pd.read_csv('datasets/GENERAL_CARGO.csv')#.iloc[:,1:].to_dict()\n",
    "#temp['average'].to_numpy()"
   ]
  },
  {
   "cell_type": "code",
   "execution_count": null,
   "id": "9b8495d6-c571-40d3-ac7f-4740bf07a452",
   "metadata": {},
   "outputs": [],
   "source": [
    "general_cargo = pd.DataFrame({'angle_of_attack':[0.        , 0.17453293, 0.34906585, 0.52359878, 0.6981317 ,\n",
    "       0.87266463, 1.04719755, 1.22173048, 1.3962634 , 1.57079633,\n",
    "       1.74532925, 1.91986218, 2.0943951 , 2.44346095, 2.61799388,\n",
    "       2.7925268 , 2.96705973, 3.14159265],\n",
    "            'average':[-0.6 , -0.87, -1.  , -1.  , -0.88, -0.85, -0.65, -0.42, -0.27,\n",
    "       -0.09,  0.09,  0.49,  0.84,  1.39,  1.47,  1.34,  0.92,  0.82] })"
   ]
  },
  {
   "cell_type": "code",
   "execution_count": null,
   "id": "63bfd310-5b9b-4ee9-ac4c-39071137dcb4",
   "metadata": {},
   "outputs": [],
   "source": [
    "def interpolate_cx(df, #dataframe of the wind resistance dataset\n",
    "                   relative_wind_direction:float, #The angle of the wind relative to the ship [rads]\n",
    "                   ship_state:str #The state of the ship the resistance should be evaluated in. Chosen from the columns of the wind resistance datasets\n",
    ")->float: # The dimensionless wind resistance coefficient\n",
    "    \n",
    "    \"Find a linearly interpolated value for wind resistance coefficient\"\n",
    "    \n",
    "    return np.interp(relative_wind_direction, df.angle_of_attack, df[ship_state])"
   ]
  },
  {
   "cell_type": "code",
   "execution_count": null,
   "id": "80804e83-4cad-44cc-8980-1df3765ee4c4",
   "metadata": {},
   "outputs": [
    {
     "data": {
      "text/plain": [
       "array([-0.70408441,  0.82      , -0.6       ,  0.82      ])"
      ]
     },
     "execution_count": null,
     "metadata": {},
     "output_type": "execute_result"
    }
   ],
   "source": [
    "#from pyseatrials.wind_res import *\n",
    "#load_wind_factors('280_KDWT_TANKER')\n",
    "interpolate_cx(general_cargo, [1,5,0,9], 'average')"
   ]
  }
 ],
 "metadata": {
  "kernelspec": {
   "display_name": "Python 3 (ipykernel)",
   "language": "python",
   "name": "python3"
  }
 },
 "nbformat": 4,
 "nbformat_minor": 5
}
