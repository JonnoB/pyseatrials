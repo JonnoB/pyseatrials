{
 "cells": [
  {
   "cell_type": "code",
   "execution_count": null,
   "id": "ae8e16a0-ff29-458f-b460-3db58e8896b7",
   "metadata": {},
   "outputs": [],
   "source": [
    "#| default_exp wind_res\n"
   ]
  },
  {
   "cell_type": "code",
   "execution_count": null,
   "id": "9f416f37-9d57-4769-8d50-8a51deb94bd1",
   "metadata": {},
   "outputs": [],
   "source": [
    "#| hide\n",
    "from nbdev.showdoc import *\n",
    "import pandas as pd"
   ]
  },
  {
   "cell_type": "code",
   "execution_count": null,
   "id": "70d5a518-e786-4241-90da-0c11d6ed1aaa",
   "metadata": {},
   "outputs": [],
   "source": [
    "#| export\n",
    "import numpy as np\n",
    "import pandas as pd\n",
    "from fastcore.test import *"
   ]
  },
  {
   "cell_type": "markdown",
   "id": "9fce802d-3235-4543-be8c-3ecf2cdf6da9",
   "metadata": {},
   "source": [
    "# Wind resistance factors\n",
    "\n",
    "The "
   ]
  },
  {
   "cell_type": "code",
   "execution_count": null,
   "id": "211adc1f-e317-40cb-9ca4-874c88155d12",
   "metadata": {},
   "outputs": [
    {
     "data": {
      "text/plain": [
       "'\\n#| export\\ndef load_wind_factors(vessel_type:str #The name of the vessel type. Must be one of 9 options\\n                     ):\\n    \\n    \"Loads a data frame of the wind factors for a range of angles of attack for the named vessel type\"\\n    \\n    stream = pkg_resources.resource_stream(\\'data/\\', vessel_type+\\'.csv\\')\\n    return pd.read_csv(stream, encoding=\\'latin-1\\')\\n    \\n'"
      ]
     },
     "execution_count": null,
     "metadata": {},
     "output_type": "execute_result"
    }
   ],
   "source": [
    "'''\n",
    "#| export\n",
    "def load_wind_factors(vessel_type:str #The name of the vessel type. Must be one of 9 options\n",
    "                     ):\n",
    "    \n",
    "    \"Loads a data frame of the wind factors for a range of angles of attack for the named vessel type\"\n",
    "    \n",
    "    stream = pkg_resources.resource_stream('data/', vessel_type+'.csv')\n",
    "    return pd.read_csv(stream, encoding='latin-1')\n",
    "    \n",
    "''' \n",
    "    "
   ]
  },
  {
   "cell_type": "code",
   "execution_count": null,
   "id": "80804e83-4cad-44cc-8980-1df3765ee4c4",
   "metadata": {},
   "outputs": [],
   "source": [
    "#load_wind_factors('280_KDWT_TANKER')"
   ]
  }
 ],
 "metadata": {
  "kernelspec": {
   "display_name": "Python 3 (ipykernel)",
   "language": "python",
   "name": "python3"
  }
 },
 "nbformat": 4,
 "nbformat_minor": 5
}
