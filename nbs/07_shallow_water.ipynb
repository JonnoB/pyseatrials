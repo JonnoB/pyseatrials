{
 "cells": [
  {
   "cell_type": "code",
   "execution_count": null,
   "metadata": {},
   "outputs": [],
   "source": [
    "#| default_exp shallow"
   ]
  },
  {
   "cell_type": "code",
   "execution_count": null,
   "metadata": {},
   "outputs": [],
   "source": [
    "#| hide\n",
    "from nbdev.showdoc import *"
   ]
  },
  {
   "cell_type": "code",
   "execution_count": null,
   "metadata": {},
   "outputs": [],
   "source": [
    "#| hide\n",
    "from fastcore.test import *\n",
    "import numpy as np"
   ]
  },
  {
   "attachments": {},
   "cell_type": "markdown",
   "metadata": {},
   "source": [
    "# Shallow water corrections (shallow)\n",
    "\n",
    "> Addressing additional resistance caused by changes to viscosity and additional sinkage in shallow water"
   ]
  },
  {
   "attachments": {},
   "cell_type": "markdown",
   "metadata": {},
   "source": [
    "When ships pass through shallow water, they experience higher resistance due to changes in the viscous friction and the impact of squatting or sinkage in the water. These effects are due to the water passing under the ship being constricted and thus having a higher velocity. The change in velocity results in a difference in the buoyancy of the ship in accordance with the Bernoulli principle, which states that \n",
    "\n",
    "$$P +\\frac{1}{2} \\rho v^2 + \\rho g h = \\textrm{Constant}$$\n",
    "\n",
    "Where $P$ is pressure, $\\rho$ is water density, $v$ is the speed through water,  $g$ is gravity, and $h$ is the distance from the reference plane. As can be seen, an increase in water velocity must be balanced by a change in at least one of the other two variables. Changes in pressure result in the ship's buoyancy being reduced, causing it to sink slightly or squat. As the coefficient of friction experienced by the vessel is proportional to the square of the speed through water, the frictional resistance on the ship increases. A secondary effect is that the sinkage exposes an additional surface area of the ship to the water, increasing the friction effects further. Finally, as the ship's hull gets closer to the sea floor, the boundary layer between the hull and the free-flowing water thickens and becomes more turbulent increasing resistance. As a result of the additional resistance, the engine is required to deliver more power to maintain speed.\n",
    "\n",
    "As such, when calculating the performance of a ship in shallow water, care needs to be taken to adjust for the effects this produces or risk misinterpreting the performance results."
   ]
  },
  {
   "attachments": {},
   "cell_type": "markdown",
   "metadata": {},
   "source": [
    "## Importing the module\n",
    "\n",
    "The module is called `shallow` import as\n",
    "\n",
    "`from pyseatrials.shallow import *`"
   ]
  },
  {
   "attachments": {},
   "cell_type": "markdown",
   "metadata": {},
   "source": [
    "## Raven shallow water correction\n",
    "\n",
    "Although there are several correction approaches to correcting for the effect of shallow water this library uses the method introduced by Raven in 2016 and described fully in [Raven 2019](https://doi.org/10.1016/j.oceaneng.2019.106343). The correction has two component resistance due to changes in viscous friction, resistance due to sinkage.\n",
    "\n",
    "Consider the following\n",
    "\n",
    "$R_{V, \\,\\textrm{deep}} = C_v'\\frac{1}{2} \\rho  V_S^2 S$\n",
    "\n",
    "Is the viscous friction in deep water, where $C_v'$ is the coeficient of viscous friction, $\\rho$ is the density of water, $V_S$ is the speed through water, and $S$ is the wetted surface area\n",
    "\n",
    "The correction due to the changes in viscous resistance are given as \n",
    "\n",
    "$$ R_{V} = R_{V, \\,\\textrm{deep}} 0.57 (\\frac{T_M}{h})^{1.79},$$\n",
    "\n",
    "Where, $T_M$ is the draught at midship and $h$ is the water depth. \n",
    "\n",
    "The sinkage is calculated using the following method,\n",
    "\n",
    "$$d(\\textrm{sinkage}) = 1.46 \\frac{\\nabla}{L_\\textrm{pp}^2}\\left[ \n",
    "\\frac{\\textrm{Fr}_\\textrm{h}^2}{\\sqrt{1 - \\textrm{Fr}_\\textrm{h}^2}} -\n",
    " \\frac{\\textrm{Fr}_\\textrm{hd}^2}{\\sqrt{1 - \\textrm{Fr}_\\textrm{hd}^2}}\n",
    "\\right],$$\n",
    "\n",
    "where L_\\textrm{pp} is the length between perpendiculars, $\\nabla$ is $\\nabla = L_\\textrm{pp} B T_M C_B$, and $B$ is the ships beam (m), $C_B$ is the dimensionless block coefficient, $\\textrm{Fr}_\\textrm{hd}$ is the Froude number where $h = 0.3 L_\\textrm{pp}$, $\\textrm{Fr}_\\textrm{h}$ is the Froude number where $h$ is water depth. It should be noted that $d(\\textrm{sinkage}) \\geq 0 $. \n",
    "\n",
    "Additional displacement due to sinkage is then found such that\n",
    "\n",
    "$$\\delta \\nabla =  \\begin{cases}\n",
    "d(\\textrm{sinkage})\\frac{A_W}{\\nabla} & \\text{if } d(\\textrm{sinkage})\\frac{A_W}{\\nabla} < 0.05 \\\\\n",
    "0.05 & \\text{if } d(\\textrm{sinkage})\\frac{A_W}{\\nabla} \\geq 0.05\n",
    "\\end{cases} $$\n",
    "\n",
    "Where $A_W$ is the water plane area. With $\\delta nabla$ now known we find the sinkage value using\n",
    "\n",
    "$$\\textrm{rsink} = (1- \\delta \\nabla)^\\frac{2}{3} $$\n",
    "\n",
    "We then correct the power shallow water power to deep water power using \n",
    "\n",
    "$$P_\\textrm{D,deep} = \\frac{P_\\textrm{D, shallow}}{\\textrm{rsink}} - \\frac{\\Delta R_V V_S}{\\eta_{Did}}$$\n",
    "\n",
    "Finally we perform a check to ensure that\n",
    "\n",
    "$$R_{V, \\,\\textrm{deep}}  \\leq  \\frac{P_\\textrm{D,deep} \\eta_\\textrm{Did}}{V_s}$$\n",
    "\n",
    "if the above condition is not satisfied $R_{V, \\,\\textrm{deep}}$ is set to the upper limit and the process is repeated.\n",
    "\n",
    "\n"
   ]
  },
  {
   "cell_type": "code",
   "execution_count": null,
   "metadata": {},
   "outputs": [],
   "source": [
    "#| export\n",
    "import numpy as np\n",
    "\n",
    "def shallow_water_correction(coef_friction: float, #the coefficient of viscous friction [none]\n",
    "                             water_density: float, # Water density [kg/m^3]\n",
    "                             stw: float,  # speed through water [m/s^2]\n",
    "                             wetted_surface_area: float, # The wetted surface area of the ships hull [m^2]\n",
    "                             draught: float, #The draught at mid-ship [m]\n",
    "                             water_depth: float, # The depth of the water [m]\n",
    "                             L_pp: float, #The length between perpendiculars of the ship [m]\n",
    "                             beam: float, #The beam of the ship [m]\n",
    "                             C_B: float, #The block coefficient of the ship [none]\n",
    "                             power: float, #The engine power [kW]\n",
    "                             propulsive_efficiency: float,  #The propulsive efficiency of the propeller [none]\n",
    "                             R_V_deep=None #The viscous friction experienced by the ship, this is left as none and used internally by the function\n",
    "                             ) -> tuple[float, float, float]: # Returns 3 values the equivalent deep water power, the sinkage, the viscous resistance correction\n",
    "    \"\"\"\n",
    "    Perform Raven corrections for shallow water performance\n",
    "    \"\"\"\n",
    "    # Calculate viscous friction in deep water if not provided\n",
    "    if R_V_deep is None:\n",
    "        R_V_deep = coef_friction * 0.5 * water_density * stw**2 * wetted_surface_area\n",
    "\n",
    "    # Calculate the viscous resistance correction\n",
    "    R_V = R_V_deep * 0.57 * (draught /water_depth)**1.79\n",
    "\n",
    "    # Calculate the sinkage\n",
    "    displacement = L_pp * beam * draught * C_B\n",
    "    Fr_hd = stw / np.sqrt(9.81 * 0.3 * L_pp)\n",
    "    Fr_h = stw / np.sqrt(9.81 *water_depth)\n",
    "    sinkage = 1.46 * displacement / L_pp**2 * ((Fr_h**2 / np.sqrt(1 - Fr_h**2)) - (Fr_hd**2 / np.sqrt(1 - Fr_hd**2)))\n",
    "    #sinkage = np.maximum(sinkage, 0)\n",
    "\n",
    "    # Calculate additional displacement due to sinkage\n",
    "    A_W = L_pp * beam\n",
    "    delta_displacement = np.minimum(sinkage * A_W / displacement, 0.05)\n",
    "\n",
    "    # Calculate rsink\n",
    "    rsink = (1 - delta_displacement)**(2/3)\n",
    "\n",
    "    # Calculate deep water power\n",
    "    P_D_deep = (power / rsink) - (R_V * stw / propulsive_efficiency)\n",
    "\n",
    "    # Check if the condition is met\n",
    "    condition_met = R_V_deep <= P_D_deep * propulsive_efficiency / stw\n",
    "\n",
    "    # If the condition is not met, set R_V_deep to the upper limit and repeat the process\n",
    "    if not np.all(condition_met):\n",
    "        R_V_deep = np.where(condition_met, R_V_deep, P_D_deep * propulsive_efficiency / stw)\n",
    "        #The recursion only happens once as P_D_deep * propulsive_efficiency / stw is constant\n",
    "        P_D_deep, sinkage, R_V = shallow_water_correction(coef_friction, water_density, stw, wetted_surface_area, draught,water_depth, L_pp, beam, C_B, power, propulsive_efficiency, R_V_deep)\n",
    "\n",
    "    return P_D_deep, sinkage, R_V\n"
   ]
  },
  {
   "attachments": {},
   "cell_type": "markdown",
   "metadata": {},
   "source": [
    "The example below shows a simple use case"
   ]
  },
  {
   "cell_type": "code",
   "execution_count": null,
   "metadata": {},
   "outputs": [
    {
     "name": "stdout",
     "output_type": "stream",
     "text": [
      "Equivalent deep water power: [4497009 3139757 2444459] kW\n",
      "Sinkage: [0.64 0.67 0.65] m\n",
      "Viscous resistance correction: [-336810 -187888 -121705] N\n"
     ]
    }
   ],
   "source": [
    "coef_friction = 0.075\n",
    "water_density = 1025.0\n",
    "stw = np.array([8.0, 10.0, 12.0])  # m/s\n",
    "wetted_surface_area = 1800.0  # m^2\n",
    "draught = 10.0  # m\n",
    "water_depth = np.array([15.0, 20.0, 25.0])  # m\n",
    "L_pp = 120.0  # m\n",
    "beam = 20.0  # m\n",
    "C_B = 0.7\n",
    "power = np.array([6000.0, 8000.0, 10000.0])  # kW\n",
    "propulsive_efficiency = 0.6\n",
    "\n",
    "# Call the function with the example inputs\n",
    "P_D_deep, sinkage, R_V = shallow_water_correction(coef_friction, water_density, stw, wetted_surface_area, draught, water_depth, L_pp, beam, C_B, power, propulsive_efficiency)\n",
    "\n",
    "# Print the results\n",
    "print(\"Equivalent deep water power:\", (P_D_deep).astype(int), \"kW\")\n",
    "print(\"Sinkage:\", np.round(sinkage,2), \"m\")\n",
    "print(\"Viscous resistance correction:\", (R_V).astype(int), \"N\")"
   ]
  },
  {
   "cell_type": "code",
   "execution_count": null,
   "metadata": {},
   "outputs": [],
   "source": [
    "#| hide\n",
    "test_case1 = {\n",
    "    \"coef_friction\": 0.075,\n",
    "    \"water_density\": 1025.0,\n",
    "    \"stw\": 6.0,\n",
    "    \"wetted_surface_area\": 1800.0,\n",
    "    \"draught\": 10.0,\n",
    "    \"water_depth\": 20.0,\n",
    "    \"L_pp\": 120.0,\n",
    "    \"beam\": 20.0,\n",
    "    \"C_B\": 0.7,\n",
    "    \"power\": 8000.0,\n",
    "    \"propulsive_efficiency\": 0.6\n",
    "}\n",
    "\n",
    "# Call the function with the example inputs\n",
    "P_D_deep1, sinkage1, R_V = shallow_water_correction(**test_case1 )\n",
    "\n",
    "# Print the results\n",
    "test_close(P_D_deep1.astype(int), 683481, eps=1)\n",
    "test_close(sinkage1, 0.163, eps=1e-3)\n"
   ]
  },
  {
   "cell_type": "code",
   "execution_count": null,
   "metadata": {},
   "outputs": [],
   "source": [
    "#| hide\n",
    "import nbdev; nbdev.nbdev_export()"
   ]
  }
 ],
 "metadata": {
  "kernelspec": {
   "display_name": "python3",
   "language": "python",
   "name": "python3"
  }
 },
 "nbformat": 4,
 "nbformat_minor": 2
}
