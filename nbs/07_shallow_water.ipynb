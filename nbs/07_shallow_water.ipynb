{
 "cells": [
  {
   "cell_type": "code",
   "execution_count": null,
   "metadata": {},
   "outputs": [],
   "source": [
    "#| default_exp shallow"
   ]
  },
  {
   "cell_type": "code",
   "execution_count": null,
   "metadata": {},
   "outputs": [],
   "source": [
    "#| hide\n",
    "from nbdev.showdoc import *"
   ]
  },
  {
   "cell_type": "code",
   "execution_count": null,
   "metadata": {},
   "outputs": [],
   "source": [
    "#| hide\n",
    "from fastcore.test import *\n",
    "import numpy as np"
   ]
  },
  {
   "attachments": {},
   "cell_type": "markdown",
   "metadata": {},
   "source": [
    "# Shallow water corrections\n",
    "\n",
    "> Addressing additional resistance caused by changes to viscosity and additional sinkage in shallow water"
   ]
  },
  {
   "attachments": {},
   "cell_type": "markdown",
   "metadata": {},
   "source": [
    "When ships pass through shallow water, they experience higher resistance due to changes in the viscous friction and the impact of squatting or sinkage in the water. These effects are due to the water passing under the ship being constricted and thus having a higher velocity. The change in velocity results in a difference in the buoyancy of the ship in accordance with the Bernoulli principle, which states that \n",
    "\n",
    "$$P +\\frac{1}{2} \\rho v^2 + \\rho g h = \\textrm{Constant}$$\n",
    "\n",
    "Where $P$ is pressure, $\\rho$ is water density, $v$ is the speed through water,  $g$ is gravity, and $h$ is the distance from the reference plane. As can be seen, an increase in water velocity must be balanced by a change in at least one of the other two variables. Changes in pressure result in the ship's buoyancy being reduced, causing it to sink slightly or squat. As the coefficient of friction experienced by the vessel is proportional to the square of the speed through water, the frictional resistance on the ship increases. A secondary effect is that the sinkage exposes an additional surface area of the ship to the water, increasing the friction effects further. Finally, as the ship's hull gets closer to the sea floor, the boundary layer between the hull and the free-flowing water thickens and becomes more turbulent increasing resistance. As a result of the additional resistance, the engine is required to deliver more power to maintain speed.\n",
    "\n",
    "As such, when calculating the performance of a ship in shallow water, care needs to be taken to adjust for the effects this produces or risk misinterpreting the performance results."
   ]
  },
  {
   "attachments": {},
   "cell_type": "markdown",
   "metadata": {},
   "source": [
    "## Importing the module\n",
    "\n",
    "The module is called `shallow` import as\n",
    "\n",
    "`from pyseatrials.shallow import *`"
   ]
  },
  {
   "attachments": {},
   "cell_type": "markdown",
   "metadata": {},
   "source": [
    "## Raven shallow water correction\n",
    "\n",
    "Although there are several correction approaches to correcting for the effect of shallow water this library uses the method introduced by Raven in 2016 and described fully in [Raven 2019](https://doi.org/10.1016/j.oceaneng.2019.106343). The correction has two component resistance due to changes in viscous friction, resistance due to sinkage.\n",
    "\n",
    "Consider the following\n",
    "\n",
    "$R_{V, \\,\\textrm{deep}} = C_v'\\frac{1}{2} \\rho  V_S^2 S$\n",
    "\n",
    "Is the viscous friction in deep water, where $C_v'$ is the coeficient of viscous friction, $\\rho$ is the density of water, $V_S$ is the speed through water, and $S$ is the wetted surface area\n",
    "\n",
    "The correction due to the changes in viscous resistance are given as \n",
    "\n",
    "$$ R_{V} = R_{V, \\,\\textrm{deep}} 0.57 (\\frac{T_M}{h})^{1.79},$$\n",
    "\n",
    "Where, $T_M$ is the draught at midship and $h$ is the water depth. \n",
    "\n",
    "The sinkage is calculated using the following method,\n",
    "\n",
    "$$d(\\textrm{sinkage}) = 1.46 \\frac{\\nabla}{L_\\textrm{pp}^2}\\left[ \n",
    "\\frac{\\textrm{Fr}_\\textrm{h}^2}{1 - \\textrm{Fr}_\\textrm{h}^2} -\n",
    " \\frac{\\textrm{Fr}_\\textrm{hd}^2}{1 - \\textrm{Fr}_\\textrm{hd}^2}\n",
    "\\right],$$\n",
    "\n",
    "where L_\\textrm{pp} is the length between perpendiculars, $\\nabla$ is $\\nabla = L_\\textrm{pp} B T_M C_B$, and $B$ is the ships beam (m), $C_B$ is the dimensionless block coefficient, $\\textrm{Fr}_\\textrm{h}$ is the Froude number where $h = 0.3 L_\\textrm{pp}$, $\\textrm{Fr}_\\textrm{hd}$ is the Froude number where $h$ is water depth. It should be noted that $d(\\textrm{sinkage}) \\geq 0 $. \n",
    "\n",
    "Additional displacement due to sinkage is then found such that\n",
    "\n",
    "$$\\delta \\nabla =  \\begin{cases}\n",
    "d(\\textrm{sinkage})\\frac{A_W}{\\nabla} & \\text{if } d(\\textrm{sinkage})\\frac{A_W}{\\nabla} < 0.05 \\\\\n",
    "0.05 & \\text{if } d(\\textrm{sinkage})\\frac{A_W}{\\nabla} \\geq 0.05\n",
    "\\end{cases} $$\n",
    "\n",
    "Where $A_W$ is the water plane area. With $\\delta nabla$ now known we find the sinkage value using\n",
    "\n",
    "$$\\textrm{rsink} = (1- \\delta \\nabla)^\\frac{2}{3} $$\n",
    "\n",
    "We then correct the power shallow water power to deep water power using \n",
    "\n",
    "$$P_\\textrm{D,deep} = \\frac{P_\\textrm{D, shallow}}{\\textrm{rsink}} - \\frac{\\Delta R_V V_S}{\\eta_{Did}}$$\n",
    "\n",
    "Finally we perform a check to ensure that\n",
    "\n",
    "$$R_{V, \\,\\textrm{deep}}  \\leq  \\frac{P_\\textrm{D,deep} \\eta_\\textrm{Did}}{V_s}$$\n",
    "\n",
    "if the above condition is not satisfied $R_{V, \\,\\textrm{deep}}$ is set to the upper limit and the process is repeated.\n",
    "\n",
    "\n"
   ]
  },
  {
   "cell_type": "code",
   "execution_count": null,
   "metadata": {},
   "outputs": [],
   "source": [
    "#| export\n",
    "def shallow_water_correction(Cv_prime: float, rho: float, Vs: float, S: float, T_M: float, h: float, \n",
    "                             L_pp: float, B: float, C_B: float, P_D_shallow: float, eta_Did: float, R_V_deep=None) -> tuple[float, float, float]:\n",
    "    \"\"\"\n",
    "    Perform Raven corrections for shallow water performance\n",
    "\n",
    "    \"\"\"\n",
    "    # Calculate viscous friction in deep water if not provided\n",
    "    if R_V_deep is None:\n",
    "        R_V_deep = Cv_prime * 0.5 * rho * Vs**2 * S\n",
    "    \n",
    "    # Calculate the viscous resistance correction\n",
    "    R_V = R_V_deep * 0.57 * (T_M / h)**1.79\n",
    "    \n",
    "    # Calculate the sinkage\n",
    "    displacement = L_pp * B * T_M * C_B\n",
    "    Fr_h = Vs / np.sqrt(9.81 * 0.3 * L_pp)\n",
    "    Fr_hd = Vs / np.sqrt(9.81 * h)\n",
    "    sinkage = 1.46 * displacement / L_pp**2 * (Fr_h**2 / (1 - Fr_h**2) - Fr_hd**2 / (1 - Fr_hd**2))\n",
    "    sinkage = max(sinkage, 0)\n",
    "    \n",
    "    # Calculate additional displacement due to sinkage\n",
    "    A_W = L_pp * B\n",
    "    #delta displacement is written like this to allow vectorisation\n",
    "    delta_displacement = np.minimum(sinkage * A_W / displacement, 0.05)\n",
    "    \n",
    "    # Calculate rsink\n",
    "    rsink = (1 - delta_displacement)**(2/3)\n",
    "    \n",
    "    # Calculate deep water power\n",
    "    P_D_deep = (P_D_shallow / rsink) - (R_V * Vs / eta_Did)\n",
    "    \n",
    "    # Check if the condition is met\n",
    "    condition_met = R_V_deep <= P_D_deep * eta_Did / Vs\n",
    "    \n",
    "    # If the condition is not met, set R_V_deep to the upper limit and repeat the process\n",
    "    if not condition_met:\n",
    "        R_V_deep = P_D_deep * eta_Did / Vs\n",
    "        P_D_deep, sinkage, R_V = shallow_water_correction(Cv_prime, rho, Vs, S, T_M, h, L_pp, B, C_B, P_D_shallow, eta_Did, R_V_deep)\n",
    "    \n",
    "    return P_D_deep, sinkage, R_V\n"
   ]
  },
  {
   "attachments": {},
   "cell_type": "markdown",
   "metadata": {},
   "source": [
    "The example below shows a simple use case"
   ]
  },
  {
   "cell_type": "code",
   "execution_count": null,
   "metadata": {},
   "outputs": [
    {
     "name": "stdout",
     "output_type": "stream",
     "text": [
      "Deep water power needed: 299805857.12 W\n",
      "Condition for deep water performance is met.\n"
     ]
    }
   ],
   "source": [
    "# Define input parameters\n",
    "Cv_prime = 0.9\n",
    "rho = 1025\n",
    "Vs = 10\n",
    "S = 500\n",
    "T_M = 8\n",
    "h = 6\n",
    "L_pp = 100\n",
    "B = 15\n",
    "C_B = 0.8\n",
    "P_D_shallow = 20000\n",
    "eta_Did = 0.7\n",
    "\n",
    "# Calculate deep water power and check condition for deep water performance\n",
    "P_D_deep, sinkage, R_V = shallow_water_correction(Cv_prime, rho, Vs, S, T_M, h, L_pp, B, C_B, P_D_shallow, eta_Did)\n",
    "\n",
    "# Print results\n",
    "print(f\"Deep water power needed: {P_D_deep:.2f} W\")\n",
    "if R_V <= P_D_deep * eta_Did / Vs:\n",
    "    print(\"Condition for deep water performance is met.\")\n",
    "else:\n",
    "    print(\"Condition for deep water performance is not met.\")"
   ]
  },
  {
   "cell_type": "code",
   "execution_count": null,
   "metadata": {},
   "outputs": [],
   "source": [
    "#| hide\n",
    "test_case1 = {\n",
    "    'Cv_prime': 0.0025,\n",
    "    'rho': 1025,\n",
    "    'Vs': 10,\n",
    "    'S': 500,\n",
    "    'T_M': 5,\n",
    "    'h': 50,\n",
    "    'L_pp': 100,\n",
    "    'B': 20,\n",
    "    'C_B': 0.85,\n",
    "    'P_D_shallow': 250000,\n",
    "    'eta_Did': 0.7\n",
    "}\n",
    "\n",
    "P_D_deep1, sinkage1, R_V1 = shallow_water_correction(**test_case1)\n",
    "test_close(P_D_deep1, 256383, eps=1)\n",
    "test_close(sinkage1, 0.32, eps=1e-3)\n",
    "\n",
    "\n",
    "\n",
    "# Test case 2: Another example with different parameters\n",
    "##\n",
    "##This result seems a bit strange\n",
    "test_case2 = {\n",
    "    'Cv_prime': 0.003,\n",
    "    'rho': 1025,\n",
    "    'Vs': 15,\n",
    "    'S': 800,\n",
    "    'T_M': 10,\n",
    "    'h': 25,\n",
    "    'L_pp': 150,\n",
    "    'B': 30,\n",
    "    'C_B': 0.9,\n",
    "    'P_D_shallow': 500000,\n",
    "    'eta_Did': 0.6\n",
    "}\n",
    "\n",
    "P_D_deep2, sinkage2, R_V2 = shallow_water_correction(**test_case2)\n",
    "test_close(P_D_deep2, 529282, eps=1)\n",
    "test_close(sinkage2, 0, eps=1e-6)"
   ]
  },
  {
   "cell_type": "code",
   "execution_count": null,
   "metadata": {},
   "outputs": [],
   "source": [
    "#| hide\n",
    "import nbdev; nbdev.nbdev_export()"
   ]
  }
 ],
 "metadata": {
  "kernelspec": {
   "display_name": "python3",
   "language": "python",
   "name": "python3"
  }
 },
 "nbformat": 4,
 "nbformat_minor": 2
}
