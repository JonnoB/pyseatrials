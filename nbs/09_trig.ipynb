{
 "cells": [
  {
   "cell_type": "code",
   "execution_count": null,
   "metadata": {},
   "outputs": [],
   "source": [
    "#| default_exp trig"
   ]
  },
  {
   "attachments": {},
   "cell_type": "markdown",
   "metadata": {},
   "source": [
    "# Useful trigonometry (trig)\n",
    "\n",
    "> The trigonometric functions used to convert between relative and true direction and speed"
   ]
  },
  {
   "attachments": {},
   "cell_type": "markdown",
   "metadata": {},
   "source": [
    "These functions form the basis of the functions used in Appendix E of ITTC. This module is the trigonometry the underlying the appendix E. However, in general for seatrials work, you can use the wind evaluation module directly.\n",
    "\n",
    "All the functions in this module can take arrays and perform vectorised operations."
   ]
  },
  {
   "cell_type": "code",
   "execution_count": null,
   "metadata": {},
   "outputs": [],
   "source": [
    "#| hide\n",
    "from nbdev.showdoc import *\n"
   ]
  },
  {
   "cell_type": "code",
   "execution_count": null,
   "metadata": {},
   "outputs": [],
   "source": [
    "#| export\n",
    "import numpy as np\n",
    "import pandas as pd\n",
    "from fastcore.test import *"
   ]
  },
  {
   "attachments": {},
   "cell_type": "markdown",
   "metadata": {},
   "source": [
    "## Component functions\n",
    "\n",
    "The first two functions in this  section are helper functions used to create the later functions.\n",
    "These functions are\n",
    "\n",
    "- $x\\,\\text{cos}(\\theta)$\n",
    "- $x\\,\\text{sin}(\\theta)$"
   ]
  },
  {
   "cell_type": "code",
   "execution_count": null,
   "metadata": {},
   "outputs": [],
   "source": [
    "#| export\n",
    "def opposite_magnitude_fn(magnitude:float, #The true speed \n",
    "                             angle:float, #The angle in radians\n",
    "                            ) -> int: #The vertical component of the magnitude\n",
    "    \"Product of sin and magnitude\"\n",
    "    \n",
    "    x = magnitude * np.sin(angle)\n",
    "    \n",
    "    return x"
   ]
  },
  {
   "attachments": {},
   "cell_type": "markdown",
   "metadata": {},
   "source": [
    "In the example below a ship travelling due south (90$^\\circ$ or $\\frac{\\pi}{2}$) at 20 knots, as a result the vertical component of its speed is $-20$."
   ]
  },
  {
   "cell_type": "code",
   "execution_count": null,
   "metadata": {},
   "outputs": [],
   "source": [
    "test_eq(opposite_magnitude_fn(20, np.pi/2), 20)"
   ]
  },
  {
   "cell_type": "code",
   "execution_count": null,
   "metadata": {},
   "outputs": [],
   "source": [
    "#| export\n",
    "def adjacent_magnitude_fn(magnitude:float, # The true speed\n",
    "                             angle:float, # The Ange in radians\n",
    "                             ) -> int: #The adjacent component of the magnitude\n",
    "    \n",
    "    \"Product of cos and magnitude\"\n",
    "    \n",
    "    x = magnitude * np.cos(angle)\n",
    "    \n",
    "    return x"
   ]
  },
  {
   "attachments": {},
   "cell_type": "markdown",
   "metadata": {},
   "source": [
    "Using the same example as the previous example we see that the resultant magnitude is 0"
   ]
  },
  {
   "cell_type": "code",
   "execution_count": null,
   "metadata": {},
   "outputs": [],
   "source": [
    "test_eq(round(adjacent_magnitude_fn(20, np.pi/2), 5), 0)"
   ]
  },
  {
   "attachments": {},
   "cell_type": "markdown",
   "metadata": {},
   "source": [
    "# Combining vectors\n",
    "\n",
    "It is often useful to combine two different vectors together e.g. ocean and tidal currents. This functions does the job\n",
    "\n",
    "$$c \\; \\text{cos}(\\gamma) = a \\; \\text{cos}(\\alpha) + b \\; \\text{cos}(\\beta), $$\n",
    "$$c \\; \\text{sin}(\\gamma) = a \\; \\text{sin}(\\alpha) + b \\; \\text{sin}(\\beta), $$\n",
    "\n",
    "$$c = \\sqrt{(c \\; \\text{cos}(\\gamma)^2 + c \\; \\text{sin}(\\gamma)^2)} $$\n",
    "\n",
    "$$\\gamma = \\text{arctan2} \\left( \\frac{c \\; \\text{sin}(\\gamma)}{c \\; \\text{cos}(\\gamma)} \\right)$$\n",
    "\n",
    "The function takes the magnitude and angle of two vectors and outputs the magnitude and angle of the resultant vector.\n",
    "\n",
    "\n"
   ]
  },
  {
   "cell_type": "code",
   "execution_count": null,
   "metadata": {},
   "outputs": [],
   "source": [
    "#| export\n",
    "def combine_vectors(a:float, # magnitude of vector a\n",
    "                    b:float,  #magnitude of vector b\n",
    "                    alpha:float, #angle of vector a\n",
    "                    beta:float #angle of vector b\n",
    "                    ) -> float: # the magnitude and anngle of the new vector\n",
    "\n",
    "    \"Combine two 2-dimensional vectors into a new vector\"\n",
    "    #Temproary vectors which are removed when the function completes\n",
    "    adj = a*np.cos(alpha) +  b*np.cos(beta)\n",
    "    opp = a*np.sin(alpha) +  b*np.sin(beta)\n",
    "    magnitude = np.sqrt(adj**2 + opp**2)\n",
    "\n",
    "    #some values will be negative, is this a problem?\n",
    "    gamma = np.arctan2(opp, adj)\n",
    "\n",
    "    return magnitude, gamma"
   ]
  },
  {
   "cell_type": "code",
   "execution_count": null,
   "metadata": {},
   "outputs": [],
   "source": [
    "#| hide\n",
    "\n",
    "#I need some test here"
   ]
  },
  {
   "attachments": {},
   "cell_type": "markdown",
   "metadata": {},
   "source": [
    "## The Law of cosines\n",
    "\n",
    "The law of cosines is used find the magnitude of a relative to b for a given angle between them.\n",
    "In shipping this is used to find the relative windspeed from the true windspeed, relative current from true current, etc."
   ]
  },
  {
   "cell_type": "code",
   "execution_count": null,
   "metadata": {},
   "outputs": [],
   "source": [
    "#| export\n",
    "def law_of_cosines(a:float, # side a which is along the x-axis\n",
    "                   b:float, #side b makes the angle $\\theta$ with side a\n",
    "                   theta:float  #the angle in radians opposite side c\n",
    "                  ) -> float: #The magnitude of b relative to a\n",
    "    \n",
    "    \"Finds the length of side c using the angle theta opposite c and the length of the other two sides\"\n",
    "    \n",
    "    adjacent_component = a - adjacent_magnitude_fn(b, theta)\n",
    "    opposite_component = - opposite_magnitude_fn(b, theta)\n",
    "    \n",
    "    return np.sqrt(adjacent_component**2 + opposite_component**2)"
   ]
  },
  {
   "attachments": {},
   "cell_type": "markdown",
   "metadata": {},
   "source": [
    "In a right angled triangle the law of cosines simplifies to the pythagoras theorem"
   ]
  },
  {
   "cell_type": "code",
   "execution_count": null,
   "metadata": {},
   "outputs": [],
   "source": [
    "test_eq(law_of_cosines(3,4, np.pi/2), 5)"
   ]
  },
  {
   "attachments": {},
   "cell_type": "markdown",
   "metadata": {},
   "source": [
    "## Finding an unknown angle of a triangle\n",
    "\n",
    "Consider a triangle where the length of two sides are known and 1 angle is known where that angle is opposite the unknown side. Either of the unknown angles can be found by first using the single known angle and 1 of the known sides to create a right angle triangle, where the unknown side is the hypontenuse. From that using arctan the required angle can be found\n",
    "\n",
    "$\\text{tan} (\\gamma) = \\frac{a \\, \\text{sin}(\\alpha))}{b + a \\,\\text{cos}(\\alpha)}$\n",
    "\n",
    "This means we can obtain the value of $\\gamma$ using arctan\n"
   ]
  },
  {
   "cell_type": "code",
   "execution_count": null,
   "metadata": {},
   "outputs": [],
   "source": [
    "#| export\n",
    "def find_gamma_fn(a:int, #magnitude of a \n",
    "                  b:int, #magnitude of b\n",
    "                  alpha:int, # the angle between b and a in radians\n",
    "                  constrain_to_positive:bool = False #Should the function return a value between 0 and 2 pi\n",
    "                 ) -> int:   #the angle in radians between a and the relative magnitude of b\n",
    "    \n",
    "        adjacent_component = b + adjacent_magnitude_fn(a, alpha)\n",
    "        opposite_component = opposite_magnitude_fn(a, alpha)\n",
    "        \n",
    "        gamma = np.arctan2(opposite_component, adjacent_component)\n",
    "        \n",
    "        #prevents negative angles if constrain to positive is true\n",
    "        #using this method instead of an if statement means the function can perform vectorised operations\n",
    "        gamma = gamma + 2*np.pi*(gamma<0)*constrain_to_positive\n",
    "        \n",
    "        return gamma"
   ]
  },
  {
   "attachments": {},
   "cell_type": "markdown",
   "metadata": {},
   "source": [
    "Providing different values that are equally either side of $90^\\circ$ produces values that are negative"
   ]
  },
  {
   "cell_type": "code",
   "execution_count": null,
   "metadata": {},
   "outputs": [
    {
     "data": {
      "text/plain": [
       "array([ 0.64350111, -0.64350111])"
      ]
     },
     "execution_count": null,
     "metadata": {},
     "output_type": "execute_result"
    }
   ],
   "source": [
    "find_gamma_fn(np.array([3,3]), np.array([4, 4]), np.array([np.pi*0.5, np.pi*1.5]), constrain_to_positive = False)"
   ]
  },
  {
   "cell_type": "code",
   "execution_count": null,
   "metadata": {},
   "outputs": [],
   "source": [
    "#| hide\n",
    "\n",
    "#These tests just confirm that cosntrina to positive is working correctly\n",
    "test_close (find_gamma_fn(3,4,np.pi*1.5), -0.64350, eps=1e-03)\n",
    "test_close (find_gamma_fn(3,4,np.pi*1.5, constrain_to_positive = True), 5.6396, eps=1e-03)"
   ]
  },
  {
   "attachments": {},
   "cell_type": "markdown",
   "metadata": {},
   "source": [
    "By setting \"constrain_to_positive\" to true the function ensures that the angle stays the same but is flipped to be positive."
   ]
  },
  {
   "cell_type": "code",
   "execution_count": null,
   "metadata": {},
   "outputs": [
    {
     "data": {
      "text/plain": [
       "array([0.64350111, 5.6396842 ])"
      ]
     },
     "execution_count": null,
     "metadata": {},
     "output_type": "execute_result"
    }
   ],
   "source": [
    "find_gamma_fn([3,3], [4, 4], [np.pi*0.5, np.pi*1.5], constrain_to_positive = True)"
   ]
  },
  {
   "cell_type": "code",
   "execution_count": null,
   "metadata": {},
   "outputs": [],
   "source": [
    "#| hide\n",
    "import nbdev; nbdev.nbdev_export()"
   ]
  }
 ],
 "metadata": {
  "kernelspec": {
   "display_name": "python3",
   "language": "python",
   "name": "python3"
  }
 },
 "nbformat": 4,
 "nbformat_minor": 4
}
