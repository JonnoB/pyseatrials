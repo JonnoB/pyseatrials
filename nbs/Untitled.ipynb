{
 "cells": [
  {
   "cell_type": "markdown",
   "id": "7e5a2879-f77f-4ccd-8067-b2161a393aac",
   "metadata": {},
   "source": [
    "\n",
    "- D: 'Delivered' used to differentiate types of power \n",
    "- M:  'Model' used for values taken from a model of the ship in a tank test\n",
    "- R: 'Relative' used to differentiate different types of efficiency \n",
    "- S: 'Full-scale' used to distinguish from values derived from models\n",
    "\n",
    "The lower case abreviations are\n",
    "\n",
    "- id: refers to the 'ideal condition'\n",
    "- ms: refers to the 'trial condition'"
   ]
  }
 ],
 "metadata": {
  "kernelspec": {
   "display_name": "Python 3 (ipykernel)",
   "language": "python",
   "name": "python3"
  }
 },
 "nbformat": 4,
 "nbformat_minor": 5
}
