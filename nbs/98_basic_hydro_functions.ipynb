{
 "cells": [
  {
   "cell_type": "code",
   "execution_count": null,
   "id": "d4ffa3b1-5b0b-4ecc-89e2-5197a797e329",
   "metadata": {},
   "outputs": [],
   "source": [
    "#| default_exp basic"
   ]
  },
  {
   "cell_type": "markdown",
   "id": "b05b2880-11e2-42d6-8098-b240977079b2",
   "metadata": {},
   "source": [
    "# Basic hydro functions\n",
    "\n",
    "These are low level functions. The functions are not used directly to analyse performance but are often used as input values for functions\n",
    "\n",
    "Functions in this module are\n",
    "\n",
    "- kinamatic viscosity\n",
    "- reynolds number\n",
    "- Frictional resistance coefficient - ITTC 57\n",
    "- Froude number\n",
    "- roughness allowance "
   ]
  },
  {
   "cell_type": "code",
   "execution_count": null,
   "id": "07c1fca6-ad36-44a7-b562-7487f7b38502",
   "metadata": {},
   "outputs": [],
   "source": [
    "#| hide\n",
    "from nbdev.showdoc import *"
   ]
  },
  {
   "cell_type": "code",
   "execution_count": null,
   "id": "75021efb-3e02-4cd5-b9ce-9e43581668e8",
   "metadata": {},
   "outputs": [],
   "source": [
    "#| export\n",
    "import numpy as np\n",
    "import pandas as pd\n",
    "from fastcore.test import *"
   ]
  },
  {
   "cell_type": "markdown",
   "id": "8785143c-4ac6-4975-98fd-db8c11948d71",
   "metadata": {},
   "source": [
    "### kinamatic viscosity"
   ]
  },
  {
   "cell_type": "code",
   "execution_count": null,
   "id": "5446eb5d-db9d-4eb2-8797-89ac50676020",
   "metadata": {},
   "outputs": [],
   "source": [
    "#| export\n",
    "def kinamatic_visocity_fn(dynamic_viscosity:float = 1.18e-3, #This value is typically 1.18e-3 [kg/(ms)]\n",
    "                          water_density:float = 1026 #The density of water under current conditions [kg/m^3]\n",
    "                         )-> float: #[m^2/s]\n",
    "    \n",
    "    \"A simple wrapper calculating the ration of dynamic viscosity and water density\"\n",
    "    \n",
    "    return dynamic_viscosity/water_density\n",
    "    "
   ]
  },
  {
   "cell_type": "markdown",
   "id": "8eac3769-8036-4f6b-8d16-25fb3e4a6927",
   "metadata": {},
   "source": [
    "The kinamatic viscosity can be calculated without entering any parameters, this uses the default values only"
   ]
  },
  {
   "cell_type": "code",
   "execution_count": null,
   "id": "c61a4c68-af87-463a-af67-3525a6b03f08",
   "metadata": {},
   "outputs": [
    {
     "data": {
      "text/plain": [
       "1.1500974658869397e-06"
      ]
     },
     "execution_count": null,
     "metadata": {},
     "output_type": "execute_result"
    }
   ],
   "source": [
    "kinamatic_visocity_fn()"
   ]
  },
  {
   "cell_type": "markdown",
   "id": "ebd680ac-20be-4c5e-8f36-202575f5b8c2",
   "metadata": {},
   "source": [
    "However if the water conditions are not those of the default these alternative values can be entered as required"
   ]
  },
  {
   "cell_type": "code",
   "execution_count": null,
   "id": "2c26b77e-55c8-4e70-b494-e5f0c8b25373",
   "metadata": {},
   "outputs": [
    {
     "data": {
      "text/plain": [
       "1.1238095238095239e-06"
      ]
     },
     "execution_count": null,
     "metadata": {},
     "output_type": "execute_result"
    }
   ],
   "source": [
    "dynamic_viscosity = 1.18e-3\n",
    "water_density  = 1050\n",
    "kinamatic_visocity_fn(dynamic_viscosity, water_density)\n"
   ]
  },
  {
   "cell_type": "code",
   "execution_count": null,
   "id": "2fd9dd9a-c480-4e0b-acf2-7a8a61562538",
   "metadata": {},
   "outputs": [],
   "source": [
    "#| hide\n",
    "test_eq(kinamatic_visocity_fn(dynamic_viscosity, water_density)*water_density, 1.18e-3)\n"
   ]
  },
  {
   "cell_type": "markdown",
   "id": "aa661694-8d44-4b20-ad8c-0becb8f9fe71",
   "metadata": {},
   "source": [
    "### Reynolds number\n",
    "The reynolds number is a common formalua used throughout physiscs and engineering desciplines. Low reynolds numbers typically indicate laminar flow whilst high reynolds numbers typically indicate turbulent flow. However, in the case of ships the Reynolds number will always be large, however it is still a valuable component of many other calculations used by marine architects."
   ]
  },
  {
   "cell_type": "code",
   "execution_count": null,
   "id": "13b7052b-50ce-49b4-bf13-bb3ebbde6a9d",
   "metadata": {},
   "outputs": [],
   "source": [
    "#| export\n",
    "def reynolds_number_fn(stw:float, #Speed through water [m/s]\n",
    "                      length:float, #Length of the vessel, $L_{os}$ Length overall submerged is typically used [m]\n",
    "                      kinamatic_viscosity:float # [m^2/s]\n",
    "                      )->float: # Reynolds number is dimensionless\n",
    "    \n",
    "    \"The Reynolds number is a element of fluid dynamics and is often used to predict whether flow is laminar or turbulent\"\n",
    "    \n",
    "    return stw * length / kinamatic_viscosity\n",
    "    \n",
    "    "
   ]
  },
  {
   "cell_type": "markdown",
   "id": "be9f4df6-3d7b-431c-9ce1-364a2698e08a",
   "metadata": {},
   "source": [
    "As can be seen due to the small values of kinamatic viscosity even a small ship going relatively slowly (approx 10kn) has a large reynolds number"
   ]
  },
  {
   "cell_type": "code",
   "execution_count": null,
   "id": "b4e94d73-b3a2-4588-b8b6-a5a0990b79b6",
   "metadata": {},
   "outputs": [
    {
     "data": {
      "text/plain": [
       "221238938.05309734"
      ]
     },
     "execution_count": null,
     "metadata": {},
     "output_type": "execute_result"
    }
   ],
   "source": [
    "reynolds_number_fn(5, 50, 1.13e-6)"
   ]
  },
  {
   "cell_type": "code",
   "execution_count": null,
   "id": "599d6fc1-c434-4022-b99a-6ee74e1a772b",
   "metadata": {},
   "outputs": [
    {
     "data": {
      "text/plain": [
       "1000.0"
      ]
     },
     "execution_count": null,
     "metadata": {},
     "output_type": "execute_result"
    }
   ],
   "source": [
    "#| hide\n",
    "#Just checks nothing crazy has happened\n",
    "test_eq(reynolds_number_fn(20, 50, 1),1000)"
   ]
  },
  {
   "cell_type": "markdown",
   "id": "bc234194-35be-41d8-842e-8e81a5ce797b",
   "metadata": {},
   "source": [
    "### Froude Number\n",
    "\n",
    "The ration of flow inertia to an external field. The Froude number is often used in estimating the resistance of a partially submerged object in water\n"
   ]
  },
  {
   "cell_type": "code",
   "execution_count": null,
   "id": "798d199f-4919-47d6-855d-e3d6c5a77387",
   "metadata": {},
   "outputs": [],
   "source": [
    "#| export\n",
    "\n",
    "def froude_number_fn(stw:float, #speed through water [m/s]\n",
    "                    length:float,#Length of vessel, typically $L_{wl}$ Length of waterline [m]\n",
    "                    gravity:float = 9.81 #acceleration due to gravity [m/s^2]\n",
    "                    )-> float : #The Froude number is a dimensionless value\n",
    "    \n",
    "    \"The Froude number is useful for calculating the water resistance\"\n",
    "    \n",
    "    return stw/np.sqrt(gravity * length)"
   ]
  },
  {
   "cell_type": "markdown",
   "id": "ec13b780-5720-4203-84a2-0b2fd21e493e",
   "metadata": {},
   "source": [
    "As the Froude number is inversevly proportional to the size of the vessel, froude numbers tend to be small for ships which also tend to go at slower speeds.\n",
    "Relative to the Reynolds number the Froude number is always much smaller."
   ]
  },
  {
   "cell_type": "code",
   "execution_count": null,
   "id": "9c5f3ed9-43c0-4f05-a378-c119ffa1aaef",
   "metadata": {},
   "outputs": [
    {
     "data": {
      "text/plain": [
       "0.4515236409857309"
      ]
     },
     "execution_count": null,
     "metadata": {},
     "output_type": "execute_result"
    }
   ],
   "source": [
    "froude_number_fn(10, 50)"
   ]
  },
  {
   "cell_type": "code",
   "execution_count": null,
   "id": "1602379a-d6a5-4486-ae4a-18113e02bd8a",
   "metadata": {},
   "outputs": [],
   "source": [
    "#| hide\n",
    "\n",
    "#what tests could be useful here?"
   ]
  },
  {
   "cell_type": "markdown",
   "id": "b466b322-f0ae-4308-8900-66294a2bb041",
   "metadata": {},
   "source": [
    "### Frictional resistance coefficent\n",
    "\n",
    "The resistance coefficient related to the resistance of the water flowing over the hull\n",
    "\n",
    "**N.B. The adjustment value may not be correct. What should I change it too?**\n"
   ]
  },
  {
   "cell_type": "code",
   "execution_count": null,
   "id": "b3567ef3-f07e-4366-867d-d193ece48f5d",
   "metadata": {},
   "outputs": [],
   "source": [
    "#| export\n",
    "def CF_fn(reynolds_number:float, #indicating the type of flow of the water\n",
    "       adjustment_value:float = 0.1194 # An adjustment value applied by testing company. Default if from ITTC 57\n",
    "      )-> float: #This is a dimensionaless value\n",
    "    \n",
    "    \"An essential part of calculating the resistance experienced by the ship\"\n",
    "    \n",
    "    return 0.067 * (np.log10(reynolds_number) -2) ** 2 + adjustment_value   \n",
    "    "
   ]
  },
  {
   "cell_type": "code",
   "execution_count": null,
   "id": "5a1455cf-897f-4839-915a-36f39bdd73bb",
   "metadata": {},
   "outputs": [
    {
     "data": {
      "text/plain": [
       "1.1914"
      ]
     },
     "execution_count": null,
     "metadata": {},
     "output_type": "execute_result"
    }
   ],
   "source": [
    "CF_fn(1e6)"
   ]
  },
  {
   "cell_type": "code",
   "execution_count": null,
   "id": "5ed20427-597f-42c7-b2b5-7087dd7efe43",
   "metadata": {},
   "outputs": [],
   "source": [
    "#| hide\n",
    "\n",
    "test_eq(CF_fn(1e6, 0), 1.072)"
   ]
  },
  {
   "cell_type": "markdown",
   "id": "0b54d668-80d5-4fd3-9f1b-e95a42e9991c",
   "metadata": {},
   "source": [
    "### Roughness allowence\n",
    "\n",
    "The 19$^{th}$ ITTC proposed a formula that corrects for the roughness of the vessel hull. This value is used in several other adjustments and calculations. Function for obtaining it is found here."
   ]
  },
  {
   "cell_type": "code",
   "execution_count": null,
   "id": "0b17b9fd-dad0-4210-be74-d5b22e3b6815",
   "metadata": {},
   "outputs": [],
   "source": [
    "#| export\n",
    "def roughness_allowence_fn(\n",
    "                          length:float, #Length of the vessel at waterline [m]\n",
    "                          reynolds_number:float, # dimensionless value describing flow properties\n",
    "                          surface_roughness:float = 150e-6, #The default value is outdated an modern hull covering are likely considerably less rough [m]\n",
    "                          )-> float: #\n",
    "    \n",
    "    ratio_value = surface_roughness / length\n",
    "    return 0.044 * (ratio_value**(1/3) - 10 * reynolds_number**(-1/3)) + (1/8e3)\n",
    "    "
   ]
  },
  {
   "cell_type": "code",
   "execution_count": null,
   "id": "687208e9-97a9-4b84-b39a-767227a40aff",
   "metadata": {},
   "outputs": [
    {
     "data": {
      "text/plain": [
       "0.00018224836434873733"
      ]
     },
     "execution_count": null,
     "metadata": {},
     "output_type": "execute_result"
    }
   ],
   "source": [
    "roughness_allowence_fn(220, 2.37e9)"
   ]
  },
  {
   "cell_type": "code",
   "execution_count": null,
   "id": "6724bead-2a9a-4795-9cc1-3538a5a46fed",
   "metadata": {},
   "outputs": [],
   "source": [
    "#| hide\n",
    "\n",
    "#I have no idea what is a reasonable value here so would require some input"
   ]
  },
  {
   "cell_type": "code",
   "execution_count": null,
   "id": "65a66b2a-b32c-48bf-87fb-07846dd4c303",
   "metadata": {},
   "outputs": [],
   "source": [
    "#| hide\n",
    "import nbdev; nbdev.nbdev_export()"
   ]
  }
 ],
 "metadata": {
  "kernelspec": {
   "display_name": "Python 3 (ipykernel)",
   "language": "python",
   "name": "python3"
  }
 },
 "nbformat": 4,
 "nbformat_minor": 5
}
