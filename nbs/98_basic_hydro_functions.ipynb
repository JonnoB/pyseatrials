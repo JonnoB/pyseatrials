{
 "cells": [
  {
   "cell_type": "code",
   "execution_count": null,
   "id": "d4ffa3b1-5b0b-4ecc-89e2-5197a797e329",
   "metadata": {},
   "outputs": [],
   "source": [
    "#| default_exp basic"
   ]
  },
  {
   "cell_type": "markdown",
   "id": "b05b2880-11e2-42d6-8098-b240977079b2",
   "metadata": {},
   "source": [
    "# Basic hydro functions\n",
    "\n",
    "These are low level functions. The functions are not used directly to analyse performance but are often used as input values for functions\n",
    "\n",
    "Functions in this module are\n",
    "\n",
    "- kinamatic viscosity\n",
    "- reynolds number\n",
    "- Frictional resistance coefficient - ITTC 57\n",
    "- Froude number\n",
    "- roughness allowance "
   ]
  },
  {
   "cell_type": "code",
   "execution_count": null,
   "id": "07c1fca6-ad36-44a7-b562-7487f7b38502",
   "metadata": {},
   "outputs": [],
   "source": [
    "#| hide\n",
    "from nbdev.showdoc import *"
   ]
  },
  {
   "cell_type": "code",
   "execution_count": null,
   "id": "75021efb-3e02-4cd5-b9ce-9e43581668e8",
   "metadata": {},
   "outputs": [],
   "source": [
    "#| export\n",
    "import numpy as np\n",
    "import pandas as pd\n",
    "from fastcore.test import *"
   ]
  },
  {
   "cell_type": "markdown",
   "id": "ac3775b7-6359-4337-a11c-302a9aa360ed",
   "metadata": {},
   "source": [
    "## Dynamic viscosity\n",
    "\n",
    "The dynamic viscosity of seawater can be found using the equations of [Sharkawy et al 2010](https://doi.org/10.5004/dwt.2010.1079). This equation is used in the TEOS-10 standard and is implemented here.\n",
    "\n",
    "$$\\mu_{SW} = \\mu_W (1 + AS +BS^2)$$\n",
    "\n",
    "$$\\mu_W = 4.2844e^{-5} + \\frac{1}{0.157(T + 64.993)^2 - 91.296} $$\n",
    "\n",
    "$$A = 1.541 + 1.998e^{-2} T - 9.52e^{-5}T^2 $$\n",
    "$$B = 7.974 - 7.561e^{-2}T + 4.724e^{-4}T^2 $$\n",
    "\n",
    "For the above equations, $T$ is temperature in degrees Celsius, and $S$ is the salinity in $\\frac{g}{kg}$. The Sharkawy correlation is valid for the following conditions\n",
    "\n",
    "- $0 \\leq  S \\leq 150$\n",
    "- $0 \\leq T \\leq 180$\n",
    "\n",
    "This method has an average accuracy of $\\pm$4%. For alternative methods on calcualting the dynamic viscosity of seawater see [Qasem et al 2021](https://doi.org/10.1007/s13369-020-05020-5).\n"
   ]
  },
  {
   "cell_type": "code",
   "execution_count": null,
   "id": "596ff606-9d86-4e26-b314-67be0d6c9152",
   "metadata": {},
   "outputs": [],
   "source": [
    "#| export\n",
    "def dynamic_viscosity(salinity:float, #A positive value of the water salinity [g/kg]\n",
    "                      temperature:float #The temperature in celsius [C]\n",
    "                     )->float: #returns values in [kg/ms]\n",
    "    \n",
    "    \"Calculate the dynamic viscosity dependent on temperature and salinity\"\n",
    "    \n",
    "    mu_w = 4.2844*10**(-5) + 1/(0.157*(temperature + 64.993)**2 - 91.296)\n",
    "    \n",
    "    A = 1.541 + 1.998 * temperature * 10**(-2) - 9.52 * temperature**2 * 10 ** (-5)\n",
    "    B = 7.974 - 7.561 * temperature * 10**(-2) - 7.724 * temperature**2 * 10 ** (-4)\n",
    "    \n",
    "    return mu_w * (1 + A*salinity + B*salinity**2)"
   ]
  },
  {
   "cell_type": "markdown",
   "id": "9aa50f54-b7b7-4ffb-bb55-899224714a26",
   "metadata": {},
   "source": [
    "Applying the function to a range of temperatures shows that the viscosity is quite temperature dependent"
   ]
  },
  {
   "cell_type": "code",
   "execution_count": null,
   "id": "f36e3a64-58b3-4203-929a-d4de739ed759",
   "metadata": {},
   "outputs": [
    {
     "data": {
      "text/plain": [
       "array([0.00140539, 0.00118849, 0.00102094, 0.0008885 , 0.0007818 ])"
      ]
     },
     "execution_count": null,
     "metadata": {},
     "output_type": "execute_result"
    }
   ],
   "source": [
    "dynamic_viscosity(38e-3, np.linspace(10, 35, 5))"
   ]
  },
  {
   "cell_type": "code",
   "execution_count": null,
   "id": "53d5fec5-e602-4c0c-8adc-23db64cbe42f",
   "metadata": {},
   "outputs": [],
   "source": [
    "#| hide\n",
    "\n",
    "# I need a known example for this test\n",
    "\n",
    "test_eq(dynamic_viscosity(0, 0), 0.0017914438244930712 )\n",
    "test_eq(dynamic_viscosity(0, 1), 0.001730747475211275)\n",
    "test_eq(dynamic_viscosity(1, 0), 0.0017914438244930712 *(1+ 1.541 +7.974))"
   ]
  },
  {
   "cell_type": "markdown",
   "id": "41e90869-6a21-4a47-870c-c3fc8a5a3c1a",
   "metadata": {},
   "source": [
    "Looking at a range of both temperature and salinity combinations, the viscosity appears to be more dependent on temperature than salinity in the range of possible values we find in the sea"
   ]
  },
  {
   "cell_type": "code",
   "execution_count": null,
   "id": "ee57cd92-393b-4dbe-8046-d05f8d4e31fb",
   "metadata": {},
   "outputs": [],
   "source": [
    "import matplotlib.pyplot as plt"
   ]
  },
  {
   "cell_type": "code",
   "execution_count": null,
   "id": "1750fb03-a632-45c9-b896-c42f95adeb9b",
   "metadata": {},
   "outputs": [
    {
     "data": {
      "text/plain": [
       "array([25., 26., 27., 28., 29., 30., 31., 32., 33., 34., 35., 36., 37.,\n",
       "       38., 39., 40.])"
      ]
     },
     "execution_count": null,
     "metadata": {},
     "output_type": "execute_result"
    }
   ],
   "source": [
    "np.linspace(25, 40, 16)"
   ]
  },
  {
   "cell_type": "code",
   "execution_count": null,
   "id": "f8c65a05-472b-49ad-8092-1d3057bea880",
   "metadata": {},
   "outputs": [
    {
     "data": {
      "text/plain": [
       "Text(0.5, 0, 'temperature')"
      ]
     },
     "execution_count": null,
     "metadata": {},
     "output_type": "execute_result"
    },
    {
     "data": {
      "image/png": "[encoded data removed]",
      "text/plain": [
       "<Figure size 432x288 with 2 Axes>"
      ]
     },
     "metadata": {
      "needs_background": "light"
     },
     "output_type": "display_data"
    }
   ],
   "source": [
    "counts = 50\n",
    "comb_array = np.array(np.meshgrid(np.linspace(25, 40, counts )*10**(-3), np.linspace(10, 35, counts))).T.reshape(-1, 2)\n",
    "\n",
    "comb_array\n",
    "\n",
    "res = dynamic_viscosity(comb_array[:,0], comb_array[:,1]).reshape(counts,counts)\n",
    "\n",
    "plt.imshow(res, cmap = 'hot')\n",
    "plt.colorbar()\n",
    "plt.title(\"Dynamic viscosity\")\n",
    "plt.ylabel('Salinity')\n",
    "plt.xticks(np.linspace(0, 50, 10 ) ,np.linspace(25, 40, 10).astype(int), rotation=  45)\n",
    "plt.xticks(np.linspace(0, 50, 10 ) ,np.linspace(10, 35, 10).astype(int), rotation=  45)\n",
    "plt.xlabel('temperature')"
   ]
  },
  {
   "cell_type": "markdown",
   "id": "8785143c-4ac6-4975-98fd-db8c11948d71",
   "metadata": {},
   "source": [
    "### Kinamatic viscosity\n",
    "\n",
    "$$v = \\frac{\\mu_{SW}}{\\rho},$$ where $\\mu_{SW}$ is the dynamic viscosity the seawater, and $\\rho$ is the density of the water"
   ]
  },
  {
   "cell_type": "code",
   "execution_count": null,
   "id": "5446eb5d-db9d-4eb2-8797-89ac50676020",
   "metadata": {},
   "outputs": [],
   "source": [
    "#| export\n",
    "def kinamatic_visocity_fn(dynamic_viscosity:float = 1.18e-3, #This value is typically 1.18e-3 [kg/(ms)]\n",
    "                          water_density:float = 1026 #The density of water under current conditions [kg/m^3]\n",
    "                         )-> float: #[m^2/s]\n",
    "    \n",
    "    \"A simple wrapper calculating the ratio of dynamic viscosity and water density\"\n",
    "    \n",
    "    return dynamic_viscosity/water_density\n",
    "    "
   ]
  },
  {
   "cell_type": "markdown",
   "id": "8eac3769-8036-4f6b-8d16-25fb3e4a6927",
   "metadata": {},
   "source": [
    "The kinamatic viscosity can be calculated without entering any parameters, this uses the default values only"
   ]
  },
  {
   "cell_type": "code",
   "execution_count": null,
   "id": "c61a4c68-af87-463a-af67-3525a6b03f08",
   "metadata": {},
   "outputs": [
    {
     "data": {
      "text/plain": [
       "1.1500974658869397e-06"
      ]
     },
     "execution_count": null,
     "metadata": {},
     "output_type": "execute_result"
    }
   ],
   "source": [
    "kinamatic_visocity_fn()"
   ]
  },
  {
   "cell_type": "markdown",
   "id": "ebd680ac-20be-4c5e-8f36-202575f5b8c2",
   "metadata": {},
   "source": [
    "However if the water conditions are not those of the default these alternative values can be entered as required"
   ]
  },
  {
   "cell_type": "code",
   "execution_count": null,
   "id": "2c26b77e-55c8-4e70-b494-e5f0c8b25373",
   "metadata": {},
   "outputs": [
    {
     "data": {
      "text/plain": [
       "1.1238095238095239e-06"
      ]
     },
     "execution_count": null,
     "metadata": {},
     "output_type": "execute_result"
    }
   ],
   "source": [
    "dynamic_visc = 1.18e-3\n",
    "water_density  = 1050\n",
    "kinamatic_visocity_fn(dynamic_visc, water_density)\n"
   ]
  },
  {
   "cell_type": "code",
   "execution_count": null,
   "id": "2fd9dd9a-c480-4e0b-acf2-7a8a61562538",
   "metadata": {},
   "outputs": [],
   "source": [
    "#| hide\n",
    "test_eq(kinamatic_visocity_fn(dynamic_visc, water_density)*water_density, 1.18e-3)\n"
   ]
  },
  {
   "cell_type": "markdown",
   "id": "aa661694-8d44-4b20-ad8c-0becb8f9fe71",
   "metadata": {},
   "source": [
    "## Reynolds number\n",
    "The reynolds number is a common formalua used throughout physiscs and engineering desciplines. Low reynolds numbers typically indicate laminar flow whilst high reynolds numbers typically indicate turbulent flow. However, in the case of ships the Reynolds number will always be large, however it is still a valuable component of many other calculations used by marine architects.\n",
    "\n",
    "\n",
    "$$\\text{Re} = \\frac{V_s L_{os}}{v}, $$ where $V_s$ is the speed through wataer, $L_{os}$ is the length overall submerged of the ship, and $v$ is the kinamatic viscosity."
   ]
  },
  {
   "cell_type": "code",
   "execution_count": null,
   "id": "13b7052b-50ce-49b4-bf13-bb3ebbde6a9d",
   "metadata": {},
   "outputs": [],
   "source": [
    "#| export\n",
    "def reynolds_number_fn(stw:float, #Speed through water [m/s]\n",
    "                      length:float, #Length of the vessel, $L_{os}$ Length overall submerged is typically used [m]\n",
    "                      kinamatic_viscosity:float # [m^2/s]\n",
    "                      )->float: # Reynolds number is dimensionless\n",
    "    \n",
    "    \"The Reynolds number is a element of fluid dynamics and is often used to predict whether flow is laminar or turbulent\"\n",
    "    \n",
    "    return stw * length / kinamatic_viscosity\n",
    "    \n",
    "    "
   ]
  },
  {
   "cell_type": "markdown",
   "id": "be9f4df6-3d7b-431c-9ce1-364a2698e08a",
   "metadata": {},
   "source": [
    "As can be seen due to the small values of kinamatic viscosity even a small ship going relatively slowly (approx 10kn) has a large reynolds number"
   ]
  },
  {
   "cell_type": "code",
   "execution_count": null,
   "id": "b4e94d73-b3a2-4588-b8b6-a5a0990b79b6",
   "metadata": {},
   "outputs": [
    {
     "data": {
      "text/plain": [
       "221238938.05309734"
      ]
     },
     "execution_count": null,
     "metadata": {},
     "output_type": "execute_result"
    }
   ],
   "source": [
    "reynolds_number_fn(5, 50, 1.13e-6)"
   ]
  },
  {
   "cell_type": "code",
   "execution_count": null,
   "id": "599d6fc1-c434-4022-b99a-6ee74e1a772b",
   "metadata": {},
   "outputs": [],
   "source": [
    "#| hide\n",
    "#Just checks nothing crazy has happened\n",
    "test_eq(reynolds_number_fn(20, 50, 10),100)"
   ]
  },
  {
   "cell_type": "markdown",
   "id": "bc234194-35be-41d8-842e-8e81a5ce797b",
   "metadata": {},
   "source": [
    "## Froude Number\n",
    "\n",
    "The ratio of flow inertia to an external field. The Froude number is often used in estimating the resistance of a partially submerged object in water\n",
    "\n",
    "$$\\text{Fr} = \\frac{V_s}{g L_{WL}}, $$ where $V_S$ is the speed through water, $L_{WL}$ is the length at waterline, and $g$ is acceleration due to gravity.\n"
   ]
  },
  {
   "cell_type": "code",
   "execution_count": null,
   "id": "798d199f-4919-47d6-855d-e3d6c5a77387",
   "metadata": {},
   "outputs": [],
   "source": [
    "#| export\n",
    "\n",
    "def froude_number_fn(stw:float, #speed through water [m/s]\n",
    "                    length:float,#Length of vessel, typically $L_{wl}$ Length of waterline [m]\n",
    "                    gravity:float = 9.81 #acceleration due to gravity [m/s^2]\n",
    "                    )-> float : #The Froude number is a dimensionless value\n",
    "    \n",
    "    \"The Froude number is useful for calculating the water resistance\"\n",
    "    \n",
    "    return stw/np.sqrt(gravity * length)"
   ]
  },
  {
   "cell_type": "markdown",
   "id": "ec13b780-5720-4203-84a2-0b2fd21e493e",
   "metadata": {},
   "source": [
    "As the Froude number is inversevly proportional to the size of the vessel, froude numbers tend to be small for ships which also tend to go at slower speeds.\n",
    "Relative to the Reynolds number the Froude number is always much smaller."
   ]
  },
  {
   "cell_type": "code",
   "execution_count": null,
   "id": "9c5f3ed9-43c0-4f05-a378-c119ffa1aaef",
   "metadata": {},
   "outputs": [
    {
     "data": {
      "text/plain": [
       "0.4515236409857309"
      ]
     },
     "execution_count": null,
     "metadata": {},
     "output_type": "execute_result"
    }
   ],
   "source": [
    "froude_number_fn(10, 50)"
   ]
  },
  {
   "cell_type": "code",
   "execution_count": null,
   "id": "1602379a-d6a5-4486-ae4a-18113e02bd8a",
   "metadata": {},
   "outputs": [],
   "source": [
    "#| hide\n",
    "\n",
    "#what tests could be useful here?"
   ]
  },
  {
   "cell_type": "markdown",
   "id": "b466b322-f0ae-4308-8900-66294a2bb041",
   "metadata": {},
   "source": [
    "## Frictional resistance coefficent\n",
    "\n",
    "The resistance coefficient related to the resistance of the water flowing over the hull\n"
   ]
  },
  {
   "cell_type": "code",
   "execution_count": null,
   "id": "b3567ef3-f07e-4366-867d-d193ece48f5d",
   "metadata": {},
   "outputs": [],
   "source": [
    "#| export\n",
    "def CF_fn(reynolds_number:float, #indicating the type of flow of the water\n",
    "       adjustment_value:float = 0.1194 # An adjustment value applied by testing company. Default if from ITTC 57\n",
    "      )-> float: #This is a dimensionaless value\n",
    "    \n",
    "    \"An essential part of calculating the resistance experienced by the ship\"\n",
    "    \n",
    "    return (1 + adjustment_value) * 0.067 / (np.log10(reynolds_number) -2) ** 2   \n",
    "    "
   ]
  },
  {
   "cell_type": "code",
   "execution_count": null,
   "id": "5a1455cf-897f-4839-915a-36f39bdd73bb",
   "metadata": {},
   "outputs": [
    {
     "data": {
      "text/plain": [
       "0.0046874875"
      ]
     },
     "execution_count": null,
     "metadata": {},
     "output_type": "execute_result"
    }
   ],
   "source": [
    "CF_fn(1e6)"
   ]
  },
  {
   "cell_type": "code",
   "execution_count": null,
   "id": "5ed20427-597f-42c7-b2b5-7087dd7efe43",
   "metadata": {},
   "outputs": [],
   "source": [
    "#| hide\n",
    "\n",
    "test_eq(CF_fn(1e6, 0), 0.0041875)"
   ]
  },
  {
   "cell_type": "markdown",
   "id": "0b54d668-80d5-4fd3-9f1b-e95a42e9991c",
   "metadata": {},
   "source": [
    "## Roughness allowence\n",
    "\n",
    "The 19$^{th}$ ITTC proposed a formula that corrects for the roughness of the vessel hull. \n",
    "\n",
    "$$\\Delta C_F = \\frac{11}{250} \\left(  \\left(\\frac{k_s}{L_{WL}}\\right)^{\\frac{1}{3}} -10 \\cdot \\text{Re}^{-\\frac{1}{3}} + \\frac{1}{8000} \\right), $$ wehere $k_s$ is the surface roughness, $L_{WL}$ is the length of vessel at waterline, and $Re$ is the Reynolds number for current conditions.\n",
    "\n",
    "This value is used in several other adjustments and calculations. Function for obtaining it is found here."
   ]
  },
  {
   "cell_type": "code",
   "execution_count": null,
   "id": "0b17b9fd-dad0-4210-be74-d5b22e3b6815",
   "metadata": {},
   "outputs": [],
   "source": [
    "#| export\n",
    "def roughness_allowence_fn(\n",
    "                          length:float, #Length of the vessel at waterline [m]\n",
    "                          reynolds_number:float, # dimensionless value describing flow properties\n",
    "                          surface_roughness:float = 150e-6, #The default value is outdated an modern hull covering are likely considerably less rough [m]\n",
    "                          )-> float: #\n",
    "    \n",
    "    ratio_value = surface_roughness / length\n",
    "    return (11/250)* (ratio_value**(1/3) - 10 * reynolds_number**(-1/3)) + (1/8e3)\n",
    "    "
   ]
  },
  {
   "cell_type": "code",
   "execution_count": null,
   "id": "687208e9-97a9-4b84-b39a-767227a40aff",
   "metadata": {},
   "outputs": [
    {
     "data": {
      "text/plain": [
       "0.00021361371568178405"
      ]
     },
     "execution_count": null,
     "metadata": {},
     "output_type": "execute_result"
    }
   ],
   "source": [
    "roughness_allowence_fn(189, 2.63e9)"
   ]
  },
  {
   "cell_type": "code",
   "execution_count": null,
   "id": "6724bead-2a9a-4795-9cc1-3538a5a46fed",
   "metadata": {},
   "outputs": [],
   "source": [
    "#| hide\n",
    "\n",
    "#I have no idea what is a reasonable value here so would require some input"
   ]
  },
  {
   "cell_type": "code",
   "execution_count": null,
   "id": "65a66b2a-b32c-48bf-87fb-07846dd4c303",
   "metadata": {},
   "outputs": [],
   "source": [
    "#| hide\n",
    "import nbdev; nbdev.nbdev_export()"
   ]
  }
 ],
 "metadata": {
  "kernelspec": {
   "display_name": "Python 3 (ipykernel)",
   "language": "python",
   "name": "python3"
  }
 },
 "nbformat": 4,
 "nbformat_minor": 5
}
