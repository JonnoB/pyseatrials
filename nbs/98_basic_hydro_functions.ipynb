{
 "cells": [
  {
   "cell_type": "code",
   "execution_count": null,
   "id": "d4ffa3b1-5b0b-4ecc-89e2-5197a797e329",
   "metadata": {},
   "outputs": [],
   "source": [
    "#| default_exp basic"
   ]
  },
  {
   "attachments": {},
   "cell_type": "markdown",
   "id": "b05b2880-11e2-42d6-8098-b240977079b2",
   "metadata": {},
   "source": [
    "# Basic hydro functions (basic)\n",
    "\n",
    "> The building blocks of ship performance analysis"
   ]
  },
  {
   "attachments": {},
   "cell_type": "markdown",
   "id": "760c524e",
   "metadata": {},
   "source": [
    "This module contains low level functions related to naval architecture and hydrodynamics. Many of them are called by other functions within the library."
   ]
  },
  {
   "cell_type": "code",
   "execution_count": null,
   "id": "07c1fca6-ad36-44a7-b562-7487f7b38502",
   "metadata": {},
   "outputs": [],
   "source": [
    "#| hide\n",
    "from nbdev.showdoc import *"
   ]
  },
  {
   "cell_type": "code",
   "execution_count": null,
   "id": "75021efb-3e02-4cd5-b9ce-9e43581668e8",
   "metadata": {},
   "outputs": [],
   "source": [
    "#| export\n",
    "import numpy as np\n",
    "import pandas as pd\n",
    "from fastcore.test import *\n",
    "import pkgutil\n",
    "from io import BytesIO\n",
    "from seawater import dens\n",
    "from seawater.library import T90conv"
   ]
  },
  {
   "cell_type": "markdown",
   "id": "075dbde7",
   "metadata": {},
   "source": [
    "## Load Water Dynamic Viscosity Table"
   ]
  },
  {
   "cell_type": "code",
   "execution_count": null,
   "id": "b53f9402",
   "metadata": {},
   "outputs": [],
   "source": [
    "#| export\n",
    "def load_water_properties() -> pd.DataFrame:\n",
    "    \"\"\"loads a 2D lookup table of water dynamic viscosity\n",
    "\n",
    "    Returns:\n",
    "        pd.DataFrame: dataframe of water properties\n",
    "    \"\"\"    \n",
    "    water_properties = pkgutil.get_data('pyseatrials', 'water_properties/dyn_visc.csv')\n",
    "    water_properties_df = pd.read_csv(BytesIO(water_properties), index_col=0)\n",
    "    water_properties_df.columns = water_properties_df.columns.astype(int)\n",
    "    \n",
    "    return water_properties_df"
   ]
  },
  {
   "cell_type": "markdown",
   "id": "47cd14b4",
   "metadata": {},
   "source": [
    "## Calculate the Salinity of Water"
   ]
  },
  {
   "cell_type": "code",
   "execution_count": null,
   "id": "ab4e393f",
   "metadata": {},
   "outputs": [],
   "source": [
    "#| export\n",
    "def calc_salinity(measured_density:float, #measured water density [kg/m3]\n",
    "                  measured_temperature:float #measured water temperature [degC]\n",
    "                  ) -> float:\n",
    "    \"\"\"calculate water salinity from density and temperature using UNESCO 1983 (EOS 80) polynomial\n",
    "\n",
    "    Args:\n",
    "        measured_density (float): measured water density\n",
    "        measured_temperature (float): measured water temperature\n",
    "\n",
    "    Returns:\n",
    "        float: water salinity\n",
    "    \"\"\"    \n",
    "    s = np.arange(0, 40, 0.02) #salinity\n",
    "    t = T90conv(np.ones(len(s))*measured_temperature) #temperature\n",
    "    p = np.zeros(len(s)) #pressure (sea level)\n",
    "\n",
    "    salinity_calc = pd.DataFrame({'salinity':s, 'residual':np.abs((dens(s, t, p) - (np.ones(len(s)) * measured_density)))})\n",
    "    salinity = salinity_calc.loc[salinity_calc['residual']==salinity_calc['residual'].min(), 'salinity']\n",
    "    out = np.around(salinity.item(), 3)\n",
    "    \n",
    "    return out "
   ]
  },
  {
   "attachments": {},
   "cell_type": "markdown",
   "id": "ac3775b7-6359-4337-a11c-302a9aa360ed",
   "metadata": {},
   "source": [
    "## Dynamic viscosity\n",
    "\n",
    "Although a typical value of 1.18e-3 [kg/(ms)] is often used for dynamic viscosity, calculating the value at the current moment in time can still be advantageous. In such cases, the dynamic viscosity of seawater can be found using the equations of [Sharkawy et al 2010](https://doi.org/10.5004/dwt.2010.1079). This equation is used in the TEOS-10 standard and is implemented here.\n",
    "\n",
    "$$\\mu_{SW} = \\mu_W (1 + AS +BS^2)$$\n",
    "\n",
    "$$\\mu_W = 4.2844e^{-5} + \\frac{1}{0.157(T + 64.993)^2 - 91.296} $$\n",
    "\n",
    "$$A = 1.541 + 1.998e^{-2} T - 9.52e^{-5}T^2 $$\n",
    "$$B = 7.974 - 7.561e^{-2}T + 4.724e^{-4}T^2 $$\n",
    "\n",
    "For the above equations, $T$ is temperature in degrees Celsius, and $S$ is the salinity in $\\frac{g}{kg}$. The Sharkawy correlation is valid for the following conditions\n",
    "\n",
    "- $0 \\leq  S \\leq 150$\n",
    "- $0 \\leq T \\leq 180$\n",
    "\n",
    "This method has an average accuracy of $\\pm$ 4%. For alternative methods on calcualting the dynamic viscosity of seawater see [Qasem et al 2021](https://doi.org/10.1007/s13369-020-05020-5).\n"
   ]
  },
  {
   "cell_type": "code",
   "execution_count": null,
   "id": "596ff606-9d86-4e26-b314-67be0d6c9152",
   "metadata": {},
   "outputs": [],
   "source": [
    "#| export\n",
    "def dynamic_viscosity(salinity:float, #A positive value of the water salinity [g/kg]\n",
    "                      temperature:float #The temperature in celsius [C]\n",
    "                     )->float: #returns values in [kg/ms]\n",
    "    \n",
    "    \"Calculate the dynamic viscosity dependent on temperature and salinity\"\n",
    "    \n",
    "    mu_w = 4.2844*10**(-5) + 1/(0.157*(temperature + 64.993)**2 - 91.296)\n",
    "    \n",
    "    A = 1.541 + 1.998 * temperature * 10**(-2) - 9.52 * temperature**2 * 10 ** (-5)\n",
    "    B = 7.974 - 7.561 * temperature * 10**(-2) - 7.724 * temperature**2 * 10 ** (-4)\n",
    "    \n",
    "    return mu_w * (1 + A*salinity + B*salinity**2)"
   ]
  },
  {
   "attachments": {},
   "cell_type": "markdown",
   "id": "9aa50f54-b7b7-4ffb-bb55-899224714a26",
   "metadata": {},
   "source": [
    "Applying the function to a range of temperatures shows that the viscosity is quite temperature dependent"
   ]
  },
  {
   "cell_type": "code",
   "execution_count": null,
   "id": "f36e3a64-58b3-4203-929a-d4de739ed759",
   "metadata": {},
   "outputs": [
    {
     "data": {
      "text/plain": [
       "array([0.00140539, 0.00118849, 0.00102094, 0.0008885 , 0.0007818 ])"
      ]
     },
     "execution_count": null,
     "metadata": {},
     "output_type": "execute_result"
    }
   ],
   "source": [
    "dynamic_viscosity(38e-3, np.linspace(10, 35, 5))"
   ]
  },
  {
   "cell_type": "code",
   "execution_count": null,
   "id": "53d5fec5-e602-4c0c-8adc-23db64cbe42f",
   "metadata": {},
   "outputs": [],
   "source": [
    "#| hide\n",
    "\n",
    "# I need a known example for this test\n",
    "\n",
    "test_eq(dynamic_viscosity(0, 0), 0.0017914438244930712 )\n",
    "test_eq(dynamic_viscosity(0, 1), 0.001730747475211275)\n",
    "test_eq(dynamic_viscosity(1, 0), 0.0017914438244930712 *(1+ 1.541 +7.974))"
   ]
  },
  {
   "attachments": {},
   "cell_type": "markdown",
   "id": "41e90869-6a21-4a47-870c-c3fc8a5a3c1a",
   "metadata": {},
   "source": [
    "Looking at a range of both temperature and salinity combinations, the viscosity appears to be more dependent on temperature than salinity in the range of possible values we find in the sea"
   ]
  },
  {
   "cell_type": "code",
   "execution_count": null,
   "id": "ee57cd92-393b-4dbe-8046-d05f8d4e31fb",
   "metadata": {},
   "outputs": [],
   "source": [
    "import matplotlib.pyplot as plt"
   ]
  },
  {
   "cell_type": "code",
   "execution_count": null,
   "id": "1750fb03-a632-45c9-b896-c42f95adeb9b",
   "metadata": {},
   "outputs": [
    {
     "data": {
      "text/plain": [
       "array([25., 26., 27., 28., 29., 30., 31., 32., 33., 34., 35., 36., 37.,\n",
       "       38., 39., 40.])"
      ]
     },
     "execution_count": null,
     "metadata": {},
     "output_type": "execute_result"
    }
   ],
   "source": [
    "np.linspace(25, 40, 16)"
   ]
  },
  {
   "cell_type": "code",
   "execution_count": null,
   "id": "f8c65a05-472b-49ad-8092-1d3057bea880",
   "metadata": {},
   "outputs": [
    {
     "data": {
      "text/plain": [
       "Text(0.5, 0, 'temperature')"
      ]
     },
     "execution_count": null,
     "metadata": {},
     "output_type": "execute_result"
    },
    {
     "data": {
      "image/png": "[encoded data removed]",
      "text/plain": [
       "<Figure size 640x480 with 2 Axes>"
      ]
     },
     "metadata": {},
     "output_type": "display_data"
    }
   ],
   "source": [
    "counts = 50\n",
    "comb_array = np.array(np.meshgrid(np.linspace(25, 40, counts )*10**(-3), np.linspace(10, 35, counts))).T.reshape(-1, 2)\n",
    "\n",
    "comb_array\n",
    "\n",
    "res = dynamic_viscosity(comb_array[:,0], comb_array[:,1]).reshape(counts,counts)\n",
    "\n",
    "plt.imshow(res, cmap = 'hot')\n",
    "plt.colorbar()\n",
    "plt.title(\"Dynamic viscosity\")\n",
    "plt.ylabel('Salinity')\n",
    "plt.xticks(np.linspace(0, 50, 10 ) ,np.linspace(25, 40, 10).astype(int), rotation=  45)\n",
    "plt.xticks(np.linspace(0, 50, 10 ) ,np.linspace(10, 35, 10).astype(int), rotation=  45)\n",
    "plt.xlabel('temperature')"
   ]
  },
  {
   "attachments": {},
   "cell_type": "markdown",
   "id": "8785143c-4ac6-4975-98fd-db8c11948d71",
   "metadata": {},
   "source": [
    "### Kinematic viscosity\n",
    "\n",
    "$$v = \\frac{\\mu_{SW}}{\\rho},$$ \n",
    "\n",
    "where $\\mu_{SW}$ is the dynamic viscosity of seawater, and $\\rho$ is the density of the water"
   ]
  },
  {
   "cell_type": "code",
   "execution_count": null,
   "id": "5446eb5d-db9d-4eb2-8797-89ac50676020",
   "metadata": {},
   "outputs": [],
   "source": [
    "#| export\n",
    "def kinematic_viscosity_fn(dynamic_viscosity:float = 1.18e-3, #This value is typically 1.18e-3 [kg/(ms)]\n",
    "                          water_density:float = 1026 #The density of water under current conditions [kg/m^3]\n",
    "                         )-> float: #[m^2/s]\n",
    "    \n",
    "    \"A simple wrapper calculating the ratio of dynamic viscosity and water density\"\n",
    "    \n",
    "    return dynamic_viscosity/water_density\n",
    "    "
   ]
  },
  {
   "attachments": {},
   "cell_type": "markdown",
   "id": "8eac3769-8036-4f6b-8d16-25fb3e4a6927",
   "metadata": {},
   "source": [
    "The kinematic viscosity can be calculated without entering any parameters, this uses the default values only"
   ]
  },
  {
   "cell_type": "code",
   "execution_count": null,
   "id": "c61a4c68-af87-463a-af67-3525a6b03f08",
   "metadata": {},
   "outputs": [
    {
     "data": {
      "text/plain": [
       "1.1500974658869397e-06"
      ]
     },
     "execution_count": null,
     "metadata": {},
     "output_type": "execute_result"
    }
   ],
   "source": [
    "kinematic_viscosity_fn()"
   ]
  },
  {
   "attachments": {},
   "cell_type": "markdown",
   "id": "ebd680ac-20be-4c5e-8f36-202575f5b8c2",
   "metadata": {},
   "source": [
    "However if the water conditions are not those of the default these alternative values can be entered as required"
   ]
  },
  {
   "cell_type": "code",
   "execution_count": null,
   "id": "2c26b77e-55c8-4e70-b494-e5f0c8b25373",
   "metadata": {},
   "outputs": [
    {
     "data": {
      "text/plain": [
       "1.1238095238095239e-06"
      ]
     },
     "execution_count": null,
     "metadata": {},
     "output_type": "execute_result"
    }
   ],
   "source": [
    "dynamic_visc = 1.18e-3\n",
    "water_density  = 1050\n",
    "kinematic_viscosity_fn(dynamic_visc, water_density)\n"
   ]
  },
  {
   "cell_type": "code",
   "execution_count": null,
   "id": "2fd9dd9a-c480-4e0b-acf2-7a8a61562538",
   "metadata": {},
   "outputs": [],
   "source": [
    "#| hide\n",
    "test_eq(kinematic_viscosity_fn(dynamic_visc, water_density)*water_density, 1.18e-3)\n"
   ]
  },
  {
   "attachments": {},
   "cell_type": "markdown",
   "id": "aa661694-8d44-4b20-ad8c-0becb8f9fe71",
   "metadata": {},
   "source": [
    "## Reynolds number\n",
    "The reynolds number is a common formalua used throughout physiscs and engineering desciplines. Low reynolds numbers typically indicate laminar flow whilst high reynolds numbers typically indicate turbulent flow. However, in the case of ships the Reynolds number will always be large, however it is still a valuable component of many other calculations used by marine architects.\n",
    "\n",
    "\n",
    "$$\\text{Re} = \\frac{V_s L_{os}}{v}, $$ \n",
    "where $V_s$ is the speed through wataer, $L_{os}$ is the length overall submerged of the ship, and $v$ is the kinematic viscosity."
   ]
  },
  {
   "cell_type": "code",
   "execution_count": null,
   "id": "13b7052b-50ce-49b4-bf13-bb3ebbde6a9d",
   "metadata": {},
   "outputs": [],
   "source": [
    "#| export\n",
    "def reynolds_number_fn(stw:float, #Speed through water [m/s]\n",
    "                      length:float, #Length of the vessel, $L_{os}$ Length overall submerged is typically used [m]\n",
    "                      kinematic_viscosity:float # [m^2/s]\n",
    "                      )->float: # Reynolds number is dimensionless\n",
    "    \n",
    "    \"The Reynolds number is a element of fluid dynamics and is often used to predict whether flow is laminar or turbulent\"\n",
    "    \n",
    "    return stw * length / kinematic_viscosity\n",
    "    \n",
    "    "
   ]
  },
  {
   "attachments": {},
   "cell_type": "markdown",
   "id": "be9f4df6-3d7b-431c-9ce1-364a2698e08a",
   "metadata": {},
   "source": [
    "As can be seen due to the small values of kinematic viscosity even a small ship going relatively slowly (approx 10kn) has a large reynolds number"
   ]
  },
  {
   "cell_type": "code",
   "execution_count": null,
   "id": "b4e94d73-b3a2-4588-b8b6-a5a0990b79b6",
   "metadata": {},
   "outputs": [
    {
     "data": {
      "text/plain": [
       "221238938.05309734"
      ]
     },
     "execution_count": null,
     "metadata": {},
     "output_type": "execute_result"
    }
   ],
   "source": [
    "reynolds_number_fn(5, 50, 1.13e-6)"
   ]
  },
  {
   "cell_type": "code",
   "execution_count": null,
   "id": "599d6fc1-c434-4022-b99a-6ee74e1a772b",
   "metadata": {},
   "outputs": [],
   "source": [
    "#| hide\n",
    "#Just checks nothing crazy has happened\n",
    "test_eq(reynolds_number_fn(20, 50, 10),100)"
   ]
  },
  {
   "attachments": {},
   "cell_type": "markdown",
   "id": "bc234194-35be-41d8-842e-8e81a5ce797b",
   "metadata": {},
   "source": [
    "## Froude Number\n",
    "\n",
    "The ratio of flow inertia to an external field. The Froude number is often used in estimating the resistance of a partially submerged object in water\n",
    "\n",
    "$$\\text{Fr} = \\frac{V_s}{\\sqrt(g L_{WL})}, $$ \n",
    "where $V_S$ is the speed through water, $L_{WL}$ is the length at waterline, and $g$ is acceleration due to gravity.\n"
   ]
  },
  {
   "cell_type": "code",
   "execution_count": null,
   "id": "798d199f-4919-47d6-855d-e3d6c5a77387",
   "metadata": {},
   "outputs": [],
   "source": [
    "#| export\n",
    "\n",
    "def froude_number_fn(stw:float, #speed through water [m/s]\n",
    "                    length:float,#Length of vessel, typically $L_{wl}$ Length of waterline [m]\n",
    "                    gravity:float = 9.81 #acceleration due to gravity [m/s^2]\n",
    "                    )-> float : #The Froude number is a dimensionless value\n",
    "    \n",
    "    \"The Froude number is useful for calculating the water resistance\"\n",
    "    \n",
    "    return stw/np.sqrt(gravity * length)"
   ]
  },
  {
   "attachments": {},
   "cell_type": "markdown",
   "id": "ec13b780-5720-4203-84a2-0b2fd21e493e",
   "metadata": {},
   "source": [
    "As the Froude number is inversevly proportional to the size of the vessel, froude numbers tend to be small for ships which also tend to go at slower speeds.\n",
    "Relative to the Reynolds number the Froude number is always much smaller."
   ]
  },
  {
   "cell_type": "code",
   "execution_count": null,
   "id": "9c5f3ed9-43c0-4f05-a378-c119ffa1aaef",
   "metadata": {},
   "outputs": [
    {
     "data": {
      "text/plain": [
       "0.4515236409857309"
      ]
     },
     "execution_count": null,
     "metadata": {},
     "output_type": "execute_result"
    }
   ],
   "source": [
    "froude_number_fn(10, 50)"
   ]
  },
  {
   "cell_type": "code",
   "execution_count": null,
   "id": "1602379a-d6a5-4486-ae4a-18113e02bd8a",
   "metadata": {},
   "outputs": [],
   "source": [
    "#| hide\n",
    "\n",
    "#what tests could be useful here?"
   ]
  },
  {
   "attachments": {},
   "cell_type": "markdown",
   "id": "b466b322-f0ae-4308-8900-66294a2bb041",
   "metadata": {},
   "source": [
    "## Frictional resistance coefficent\n",
    "\n",
    "The resistance coefficient related to the resistance of the water flowing over the hull\n",
    "\n",
    "$$ C_F = \\frac{c_1}{(log_{10}Re - 2)^2} + c_2,$$\n",
    "\n",
    "Where $Re$ is the Reynolds number and $c_1$ and $c_2$ are constant adjustment values. ITTC-1957 (Hadler 1958) use the model-ship correlation line\n",
    "\n",
    "$$ C_F = \\frac{0.075}{(log_{10}Re - 2)^2} ,$$\n",
    "\n",
    "Which is the default setting in pyseatrials"
   ]
  },
  {
   "cell_type": "code",
   "execution_count": null,
   "id": "b3567ef3-f07e-4366-867d-d193ece48f5d",
   "metadata": {},
   "outputs": [],
   "source": [
    "#| export\n",
    "def CF_fn(reynolds_number:float, #indicating the type of flow of the water\n",
    "          c1:float = 0.075, # An adjustment value dault from ITTC-1957\n",
    "          c2:float = 0 #An adjustment value the default is 0\n",
    "      )-> float: #This is a dimensionaless value\n",
    "    \n",
    "    \"An essential part of calculating the resistance experienced by the ship\"\n",
    "    \n",
    "    return c1 / (np.log10(reynolds_number) -2) ** 2   + c2\n",
    "    "
   ]
  },
  {
   "cell_type": "code",
   "execution_count": null,
   "id": "5a1455cf-897f-4839-915a-36f39bdd73bb",
   "metadata": {},
   "outputs": [
    {
     "data": {
      "text/plain": [
       "0.0046875"
      ]
     },
     "execution_count": null,
     "metadata": {},
     "output_type": "execute_result"
    }
   ],
   "source": [
    "CF_fn(1e6)"
   ]
  },
  {
   "cell_type": "code",
   "execution_count": null,
   "id": "5ed20427-597f-42c7-b2b5-7087dd7efe43",
   "metadata": {},
   "outputs": [],
   "source": [
    "#| hide\n",
    "\n",
    "#test_eq(CF_fn(1e6, 0), 0.0041875)"
   ]
  },
  {
   "attachments": {},
   "cell_type": "markdown",
   "id": "0b54d668-80d5-4fd3-9f1b-e95a42e9991c",
   "metadata": {},
   "source": [
    "## Roughness resistance coefficient\n",
    "\n",
    "The $19^{th}$ ITTC proposed a formula that corrects for the roughness of the vessel hull. \n",
    "\n",
    "$$\\Delta C_F = \\frac{11}{250} \\left(  \\left(\\frac{k_s}{L_{WL}}\\right)^{\\frac{1}{3}} -10 \\cdot \\text{Re}^{-\\frac{1}{3}} \\right) + \\frac{1}{8000} , $$ \n",
    "\n",
    "where $k_s$ is the surface roughness, $L_{WL}$ is the length of vessel at waterline, and $Re$ is the Reynolds number for current conditions.\n",
    "\n",
    "This value is used in several other adjustments and calculations. Function for obtaining it is found here.\n",
    "\n",
    "Other names for this variable are Roughness allowence"
   ]
  },
  {
   "cell_type": "code",
   "execution_count": null,
   "id": "0b17b9fd-dad0-4210-be74-d5b22e3b6815",
   "metadata": {},
   "outputs": [],
   "source": [
    "#| export\n",
    "def roughness_resistance_fn(\n",
    "                          length:float, #Length of the vessel at waterline [m]\n",
    "                          reynolds_number:float, # dimensionless value describing flow properties\n",
    "                          surface_roughness:float = 150e-6, #The default value is outdated an modern hull covering are likely considerably less rough [m]\n",
    "                          )-> float: # The dimensionless friction factor representing surface roughness of the hull\n",
    "    \n",
    "    \"\"\" \n",
    "    The function CF_fn calculates a dimensionless value representing the resistance experienced by a ship based on the given parameters.\n",
    "    \"\"\"\n",
    "\n",
    "    ratio_value = surface_roughness / length\n",
    "    return (11/250)* (ratio_value**(1/3) - 10 * reynolds_number**(-1/3)) + (1/8e3)\n",
    "    "
   ]
  },
  {
   "cell_type": "code",
   "execution_count": null,
   "id": "687208e9-97a9-4b84-b39a-767227a40aff",
   "metadata": {},
   "outputs": [
    {
     "data": {
      "text/plain": [
       "0.00021361371568178405"
      ]
     },
     "execution_count": null,
     "metadata": {},
     "output_type": "execute_result"
    }
   ],
   "source": [
    "roughness_resistance_fn(189, 2.63e9)"
   ]
  },
  {
   "cell_type": "code",
   "execution_count": null,
   "id": "6724bead-2a9a-4795-9cc1-3538a5a46fed",
   "metadata": {},
   "outputs": [],
   "source": [
    "#| hide\n",
    "\n",
    "#I have no idea what is a reasonable value here so would require some input"
   ]
  },
  {
   "attachments": {},
   "cell_type": "markdown",
   "id": "e1256179",
   "metadata": {},
   "source": [
    "# Form factor\n",
    "\n",
    "The form factor (1+k) is a dimensionless value used to modify the friction coefficient to the hull form of the vessel. The below expression uses the Gross & Watanabe method (Form factor, appendix 4, report of performance committee 13th ITTC. Hamburg (1972) (\\[no doi or digital reference available\\])\n",
    "\n",
    "$$1 + k = 1.017 + 20 C_B \\left( \\frac{B}{L_{pp}} \\right)^2 \\sqrt{\\frac{T_M}{B}}$$\n",
    "\n",
    "where $C_B$ is block coefficient, $B$ is the beam of the ship, $L_{pp}$ is the length between perpendiculars and $T_M$ is the draught at midship"
   ]
  },
  {
   "cell_type": "code",
   "execution_count": null,
   "id": "24540159",
   "metadata": {},
   "outputs": [],
   "source": [
    "#| export\n",
    "\n",
    "def calculate_form_factor(C_B: float, # The block coefficient\n",
    "                          B: float, #Beam of the vessel [m]\n",
    "                          L_pp: float, #The length between perpendiculars [m]\n",
    "                          T_M: float #The draught at midship [m]\n",
    "                          ) -> float: #The dimensionless form factor for the ship\n",
    "    \"\"\"\n",
    "    The function `calculate_form_factor` calculates the dimensionless form factor (1+k) for a ship using the Gross & Watanabe method.\n",
    "    \"\"\"\n",
    "    k = 1.017 + 20 * C_B * (B / L_pp)**2 * (T_M / B)**0.5\n",
    "    return k\n"
   ]
  },
  {
   "cell_type": "code",
   "execution_count": null,
   "id": "f75fee96",
   "metadata": {},
   "outputs": [],
   "source": [
    "form_factor = calculate_form_factor(0.7, 10.5, 100, 5.2)"
   ]
  },
  {
   "cell_type": "code",
   "execution_count": null,
   "id": "834bd358",
   "metadata": {},
   "outputs": [],
   "source": [
    "#| hide\n",
    "# Test case 1: Simple case with an example set of parameters\n",
    "test_case1 = {\n",
    "    'C_B': 0.85,\n",
    "    'B': 20,\n",
    "    'L_pp': 100,\n",
    "    'T_M': 5\n",
    "}\n",
    "\n",
    "k1 = calculate_form_factor(**test_case1)\n",
    "test_close(k1, 1.357, eps=1e-4)\n",
    "\n",
    "# Test case 2: Another example with different parameters\n",
    "test_case2 = {\n",
    "    'C_B': 0.9,\n",
    "    'B': 30,\n",
    "    'L_pp': 150,\n",
    "    'T_M': 10\n",
    "}\n",
    "\n",
    "k2 = calculate_form_factor(**test_case2)\n",
    "test_close(k2, 1.4326, eps=1e-4)\n",
    "\n",
    "# Test case 3: Test with same beam and length between perpendiculars\n",
    "test_case3 = {\n",
    "    'C_B': 0.8,\n",
    "    'B': 25,\n",
    "    'L_pp': 25,\n",
    "    'T_M': 7\n",
    "}\n",
    "\n",
    "k3 = calculate_form_factor(**test_case3)\n",
    "test_close(k3, 9.483, eps=1e-3)"
   ]
  },
  {
   "attachments": {},
   "cell_type": "markdown",
   "id": "62174cd0",
   "metadata": {},
   "source": [
    "# Viscous resistance coefficient\n",
    "\n",
    "The viscous resistance coefficient is a dimensionless value that is used to describe the kind of frictional forces a vessel will encounter when moving through water.\n",
    "\n",
    "$$C_v' = 1.06 C_F  (1+k) + \\Delta C_F$$\n",
    "\n",
    "where $C_F$ is the frictional corellation coefficient, $(1+k)$ is the form factor, and $\\Delta C_F$ is the roughness resistance coefficient"
   ]
  },
  {
   "cell_type": "code",
   "execution_count": null,
   "id": "328765c1",
   "metadata": {},
   "outputs": [],
   "source": [
    "#| export\n",
    "\n",
    "def calculate_viscous_resistance_coef(C_F: float, #The frictional correlation coefficient\n",
    "                                 form_factor: float, #The form factor (1+k)\n",
    "                                 delta_C_F: float #The roughness resistance coefficient\n",
    "                                 ) -> float: #The coefficient of viscous friction\n",
    "    \"\"\"\n",
    "    The function `calculate_viscous_resistance_coef` calculates the dimensionless viscous resistance coefficient for a vessel based on the given parameters.\n",
    "    \"\"\"\n",
    "    return 1.06 * C_F * form_factor + delta_C_F * C_F"
   ]
  },
  {
   "attachments": {},
   "cell_type": "markdown",
   "id": "ebf23f74",
   "metadata": {},
   "source": [
    "As an example "
   ]
  },
  {
   "cell_type": "code",
   "execution_count": null,
   "id": "6683b6eb",
   "metadata": {},
   "outputs": [
    {
     "name": "stdout",
     "output_type": "stream",
     "text": [
      "0.0063117\n"
     ]
    }
   ],
   "source": [
    "viscous_resistance_coef = calculate_viscous_resistance_coef(0.005, 1.189, 0.002)\n",
    "print(viscous_resistance_coef)"
   ]
  },
  {
   "attachments": {},
   "cell_type": "markdown",
   "id": "17ec5724",
   "metadata": {},
   "source": [
    "Using the above example we can find the total frictional resistance due to the viscosity using $R_V = C_v'\\frac{1}{2} \\rho  V_S^2 S$"
   ]
  },
  {
   "cell_type": "code",
   "execution_count": null,
   "id": "e266b06c",
   "metadata": {},
   "outputs": [
    {
     "name": "stdout",
     "output_type": "stream",
     "text": [
      "87423.35669999999\n"
     ]
    }
   ],
   "source": [
    "density = 1026 # rho [kg/(m^-3)]\n",
    "speed_through_water = 9 # V_s [ms^-1]\n",
    "wetted_surface_area = 3000 #S [m^2]\n",
    "\n",
    "total_viscous_resistance = viscous_resistance_coef/2 * density * speed_through_water * wetted_surface_area\n",
    "\n",
    "print(total_viscous_resistance)"
   ]
  },
  {
   "cell_type": "code",
   "execution_count": null,
   "id": "b0a970cc",
   "metadata": {},
   "outputs": [],
   "source": [
    "#| hide\n",
    "# Test with example values from the prompt\n",
    "test_eq(np.round(calculate_viscous_resistance_coef(0.005, 1.189, 0.002),4), 0.0063)\n",
    "# Test with zero values\n",
    "test_eq(calculate_viscous_resistance_coef(0, 0, 0), 0)\n",
    "# Test with negative values\n",
    "test_eq(round(calculate_viscous_resistance_coef(-0.005, -1.189, -0.002), 4), 0.0063)"
   ]
  },
  {
   "attachments": {},
   "cell_type": "markdown",
   "id": "caf29b16",
   "metadata": {},
   "source": [
    "# Total resistance coefficient\n",
    "\n",
    "The total resistance coeficient is the value describing the sum of all resistances experienced by the ship as it moves through the water. The coefficient can be found using the following equation\n",
    "\n",
    "$C_t'\\ = \\frac{2 R_T}{\\rho  V_S^2 S},$\n",
    "\n",
    "Where $R_T$ is the total resistance experienced by the ship, $\\rho$ is the density of the water, $V$ is the speed through water, and $S$ is the wetted surface area of the ship. As can be seen the equation is very similar to the to the equation of viscous friction.  "
   ]
  },
  {
   "cell_type": "code",
   "execution_count": null,
   "id": "f3555fb2",
   "metadata": {},
   "outputs": [],
   "source": [
    "#| export\n",
    "def calculate_total_resistance_coef(total_resistance:float, #The total resistive force experienced by the ship [N]\n",
    "                                    stw:float, #The speed through water of the ship [m/s]\n",
    "                                    wsa:float, #The wetted surface area of the ship [m^2]\n",
    "                                    water_density:float = 1026 #The desnity of seawater [kg/m^3]\n",
    "                                    )->float: #The dimensionless coefficient of total resistance of the ship\n",
    "    \n",
    "    \"\"\" \n",
    "    The function `calculate_total_resistance_coef` calculates the dimensionless coefficient of total resistance for a ship based on the given parameters.\n",
    "    \"\"\"\n",
    "\n",
    "    denominator = 0.5 * water_density * wsa * stw**2\n",
    "\n",
    "    return total_resistance/denominator "
   ]
  },
  {
   "cell_type": "code",
   "execution_count": null,
   "id": "3a44785e",
   "metadata": {},
   "outputs": [
    {
     "data": {
      "text/plain": [
       "0.004538852578068265"
      ]
     },
     "execution_count": null,
     "metadata": {},
     "output_type": "execute_result"
    }
   ],
   "source": [
    "total_resistance = 10e6\n",
    "stw = 12\n",
    "wsa = 3e4\n",
    "water_density = 1020\n",
    "\n",
    "calculate_total_resistance_coef(total_resistance, stw, wsa, water_density)"
   ]
  },
  {
   "cell_type": "code",
   "execution_count": null,
   "id": "96fa4b56",
   "metadata": {},
   "outputs": [],
   "source": [
    "test_eq(calculate_total_resistance_coef(0, stw, wsa, water_density),0)\n",
    "test_eq(calculate_total_resistance_coef(0.5 * water_density * wsa * stw**2, stw, wsa, water_density),1)\n",
    "test_eq(calculate_total_resistance_coef(1, 4, 1, 1),2*(1/4)**2)\n"
   ]
  },
  {
   "attachments": {},
   "cell_type": "markdown",
   "id": "500b57bd",
   "metadata": {},
   "source": [
    "# Wetted surface area\n",
    "\n",
    "The wetted surface area of a ship is useful for calculating the total surface friction. There are many ways of calculating the wetted surface area, however one of the most popular is the Holtrop-Mennen formula developed from analysing several hundred model tests [Holtrop-Mennen](https://doi.org/10.3233/ISP-1982-2933501). The expression is shown below\n",
    "\n",
    "$$ \\textrm{WSA} = L(2T+B)\\sqrt{C_M}(0.453 + 0.4425C_B - 0.2862C_M - 0.003467\\frac{B}{T} + 0.3696 C_{WP}) + 2.38 \\frac{A_{BT}}{C_B} $$\n",
    "\n",
    "where $T$ is the draft, B is the beam, $C_M$ is the midship section coefficient, $C_B$ is the block coefficient, $C_{WP}$ is the waterplance area coefficient, and $A_{BT}$ is the transverse sectional area of the bulb. This equation produces good results for a wide range of ships; however, there may be deviations in ships with unusual hull forms, such as multi-hulled vessels or those with asymmetrical designs.\n"
   ]
  },
  {
   "cell_type": "code",
   "execution_count": null,
   "id": "4eb8571d",
   "metadata": {},
   "outputs": [],
   "source": [
    "#| export\n",
    "def wetted_surface_area(draft: float, #The draft of the ship [m]\n",
    "                        beam: float, # The beam of the ship [m]\n",
    "                        length: float, # The length of the ship [m]\n",
    "                        midship_section_coeff: float, # The midship section coefficient [none]\n",
    "                        block_coeff: float, #The block coefficient [none]\n",
    "                        waterplane_area_coeff: float, # The waterplane area coefficient [none]\n",
    "                        transverse_sectional_area: float #The transverse sectional area of the bulb [m^2]\n",
    "                        )->float:  # The wetted surface area of the ship [m^2]\n",
    "    \"\"\"\n",
    "    The function `wetted_surface_area` calculates the wetted surface area of a ship using the Hotropp-Mennen formula.\n",
    "\n",
    "    \"\"\"\n",
    "\n",
    "    wetted_surface_area = length * (2 * draft + beam) * np.sqrt(midship_section_coeff) * (0.453 + 0.4425 * block_coeff - 0.2862 * midship_section_coeff - 0.003467 * (beam / draft) + 0.3696 * waterplane_area_coeff) + 2.38 * (transverse_sectional_area / block_coeff)\n",
    "\n",
    "    return wetted_surface_area"
   ]
  },
  {
   "cell_type": "code",
   "execution_count": null,
   "id": "af510d04",
   "metadata": {},
   "outputs": [
    {
     "name": "stdout",
     "output_type": "stream",
     "text": [
      "The wetted surface area of the ship is: 5900 square meters\n"
     ]
    }
   ],
   "source": [
    "draft = 10.5 # meters\n",
    "beam = 16.2 # meters\n",
    "length = 200 # meters\n",
    "midship_section_coeff = 0.8\n",
    "block_coeff = 0.7\n",
    "waterplane_area_coeff = 0.9\n",
    "transverse_sectional_area = 50 # square meters\n",
    "\n",
    "wetted_area = wetted_surface_area(draft, beam, length, midship_section_coeff, block_coeff, waterplane_area_coeff, transverse_sectional_area)\n",
    "\n",
    "print(f\"The wetted surface area of the ship is: {round(wetted_area)} square meters\")\n"
   ]
  },
  {
   "cell_type": "markdown",
   "id": "0ff767ff",
   "metadata": {},
   "source": [
    "## Air Density\n",
    "\n",
    "Calcuate the air density based on the the function \"FUNCTION ESW(T)\" in https://icoads.noaa.gov/software/other/profs"
   ]
  },
  {
   "cell_type": "code",
   "execution_count": null,
   "id": "7caea03a",
   "metadata": {},
   "outputs": [],
   "source": [
    "#| export\n",
    "def air_density(P:float, #air pressure in mbar\n",
    "                T:float, #air temperature in degC\n",
    "                RH:float #air relative humidity as %\n",
    "                ):\n",
    "    \"\"\"Calculate air density based on https://icoads.noaa.gov/software/other/profs\n",
    "\n",
    "    Args:\n",
    "        P (float): Air pressure in mbar\n",
    "        T (float): Air temperature in degC\n",
    "        RH (float): Air relative humidity\n",
    "    \"\"\"\n",
    "    Ppa = P * 100 #convert from mbar to PA\n",
    "    Tk = T + 273.15 #air temp in Kelvin\n",
    "    \n",
    "    Rd = 287.058 #gas constant for dry air J/(kg.K)\n",
    "    Rv = 461.495  #gas constant for water vapour J/(kg.K)\n",
    "    \n",
    "    Eso = 6.1078\n",
    "    c0 = 0.99999683\n",
    "    c1 = -0.90826951*10**-2\n",
    "    c2 = 0.78736169*10**-4\n",
    "    c3 = -0.61117958*10**-6\n",
    "    c4 = 0.43884187*10**-8\n",
    "    c5 = -0.29883885*10**-10\n",
    "    c6 = 0.21874425*10**-12\n",
    "    c7 = -0.17892321*10**-14\n",
    "    c8 = 0.11112018*10**-16\n",
    "    c9 = -0.30994571*10**-19\n",
    "    p = c0+T*(c1+T*(c2+T*(c3+T*(c4+T*(c5+T*(c6+T*(c7+T*(c8+T*(c9)))))))))\n",
    "    Es = Eso/(p**8)\n",
    "\n",
    "    pv = Es * RH\n",
    "    pd = Ppa - pv\n",
    "    rho = (pd / (Rd * Tk)) + (pv / (Rv * Tk))\n",
    "    \n",
    "    return rho"
   ]
  },
  {
   "cell_type": "code",
   "execution_count": null,
   "id": "8131b618",
   "metadata": {},
   "outputs": [
    {
     "data": {
      "text/plain": [
       "1.2009152519273378"
      ]
     },
     "execution_count": null,
     "metadata": {},
     "output_type": "execute_result"
    }
   ],
   "source": [
    "air_density(P=1015, #air pressure in mbar\n",
    "            T=20, #air temperature in degC\n",
    "            RH=50 #air relative humidity as %\n",
    "            )"
   ]
  },
  {
   "cell_type": "code",
   "execution_count": null,
   "id": "65a66b2a-b32c-48bf-87fb-07846dd4c303",
   "metadata": {},
   "outputs": [],
   "source": [
    "#| hide\n",
    "import nbdev; nbdev.nbdev_export()"
   ]
  }
 ],
 "metadata": {
  "kernelspec": {
   "display_name": "python3",
   "language": "python",
   "name": "python3"
  },
  "language_info": {
   "name": "python",
   "version": "3.11.2"
  }
 },
 "nbformat": 4,
 "nbformat_minor": 5
}
