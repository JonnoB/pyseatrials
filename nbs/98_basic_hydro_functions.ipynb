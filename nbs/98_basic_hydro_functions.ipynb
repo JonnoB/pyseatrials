{
 "cells": [
  {
   "cell_type": "code",
   "execution_count": null,
   "id": "d4ffa3b1-5b0b-4ecc-89e2-5197a797e329",
   "metadata": {},
   "outputs": [],
   "source": [
    "#| default_exp basic"
   ]
  },
  {
   "cell_type": "markdown",
   "id": "b05b2880-11e2-42d6-8098-b240977079b2",
   "metadata": {},
   "source": [
    "# Basic hydro functions\n",
    "\n",
    "These are low level functions. The functions are not used directly to analyse performance but are often used as input values for functions\n",
    "\n",
    "Functions in this module are\n",
    "\n",
    "- kinamatic viscosity\n",
    "- reynolds number\n",
    "- Frictional resistance coefficient - ITTC 57\n",
    "- Froude number\n",
    "- roughness allowance "
   ]
  },
  {
   "cell_type": "code",
   "execution_count": null,
   "id": "07c1fca6-ad36-44a7-b562-7487f7b38502",
   "metadata": {},
   "outputs": [],
   "source": [
    "#| hide\n",
    "from nbdev.showdoc import *"
   ]
  },
  {
   "cell_type": "code",
   "execution_count": null,
   "id": "75021efb-3e02-4cd5-b9ce-9e43581668e8",
   "metadata": {},
   "outputs": [],
   "source": [
    "#| export\n",
    "import numpy as np\n",
    "import pandas as pd\n",
    "from fastcore.test import *"
   ]
  },
  {
   "cell_type": "code",
   "execution_count": null,
   "id": "65a66b2a-b32c-48bf-87fb-07846dd4c303",
   "metadata": {},
   "outputs": [],
   "source": [
    "#| hide\n",
    "import nbdev; nbdev.nbdev_export()"
   ]
  }
 ],
 "metadata": {
  "kernelspec": {
   "display_name": "Python 3 (ipykernel)",
   "language": "python",
   "name": "python3"
  }
 },
 "nbformat": 4,
 "nbformat_minor": 5
}
