{
 "cells": [
  {
   "attachments": {},
   "cell_type": "markdown",
   "id": "cd33467c-0665-4107-8a13-4649256a42c6",
   "metadata": {},
   "source": [
    "# Evaluation of wind data (wind)\n",
    "\n",
    "> functions for working with and converting wind data"
   ]
  },
  {
   "cell_type": "markdown",
   "id": "814c43aa",
   "metadata": {},
   "source": [
    "Equations in this section are the equivalent to the equations in appendix E of ITTC. However, mostly the functions here are a wrapper over the functions found in the `trig` module\n",
    "\n",
    "Remember that windspeed is ALWAYS positive, the direction tells you if it is helping or hindering the ship. Negative wind speeds are positive windspeeds rotated $180^\\circ$."
   ]
  },
  {
   "cell_type": "code",
   "execution_count": null,
   "id": "09f07a39-cd70-4cf0-a268-350093adee3e",
   "metadata": {},
   "outputs": [],
   "source": [
    "#| default_exp wind"
   ]
  },
  {
   "cell_type": "code",
   "execution_count": null,
   "id": "f8a65458-23ca-434f-a7be-ee5bb9a5eea3",
   "metadata": {},
   "outputs": [],
   "source": [
    "#| hide\n",
    "from nbdev.showdoc import *\n"
   ]
  },
  {
   "cell_type": "code",
   "execution_count": null,
   "id": "f463f454-b96d-4f8f-86d8-99b2e418fc5b",
   "metadata": {},
   "outputs": [],
   "source": [
    "#| export\n",
    "import numpy as np\n",
    "import pandas as pd\n",
    "from fastcore.test import *\n",
    "from pyseatrials.trig import *\n"
   ]
  },
  {
   "cell_type": "markdown",
   "id": "0767512a-ba57-4a69-9666-7835c64d41dc",
   "metadata": {},
   "source": [
    "## True Wind\n",
    "\n",
    "The two functions in this section convert relative wind speed and direction to thier True equivalents."
   ]
  },
  {
   "attachments": {},
   "cell_type": "markdown",
   "id": "7847169c-0118-4499-a622-512d73c1fadd",
   "metadata": {},
   "source": [
    "### Speed\n",
    "\n",
    "Calculating true windspeed from relative windspeed and direction\n",
    "\n",
    "$$V_\\textrm{WR} = \\sqrt{V_{WR}^2 + V_G^2 - 2V_{WR} V_G \\cos(\\psi_{WR})}$$\n",
    "\n",
    "**ITTC equations**: E-2\n"
   ]
  },
  {
   "cell_type": "code",
   "execution_count": null,
   "id": "a73f4ebc-4105-4cf1-bda3-d63df955d421",
   "metadata": {},
   "outputs": [],
   "source": [
    "#| export\n",
    "def rel2true_speed(relative_windspeed:float, #speed of wind relative to ship\n",
    "                            sog:float, #speed over ground\n",
    "                           relative_wind_direction:float #wind direction relative to ship\n",
    "                           ) ->float: # True windspeed\n",
    "    \"converts a relative wind speed and direction to a true wind speed\"\n",
    "    return law_of_cosines(relative_windspeed, sog, relative_wind_direction)"
   ]
  },
  {
   "cell_type": "markdown",
   "id": "e0bdb92b-4d49-41f2-9e7e-b18c00f09489",
   "metadata": {},
   "source": [
    "If the wind is blowing has a relative angle of 0, (meaning the wind is blowing from the bow to the stern) and has a relative windspeed of 2 knots, then the true windspeed can be calculated as"
   ]
  },
  {
   "cell_type": "code",
   "execution_count": null,
   "id": "3cbf4935-1732-4e32-ba44-8222e7f15af0",
   "metadata": {},
   "outputs": [
    {
     "data": {
      "text/plain": [
       "18.0"
      ]
     },
     "execution_count": null,
     "metadata": {},
     "output_type": "execute_result"
    }
   ],
   "source": [
    "rel2true_speed(2, 20, 0)"
   ]
  },
  {
   "cell_type": "markdown",
   "id": "2fd04d49-2f3b-4abb-9ff5-4faf679ec877",
   "metadata": {},
   "source": [
    "Conversely if the wind is blowing from stern to bow this means the true windspeed is 22"
   ]
  },
  {
   "cell_type": "code",
   "execution_count": null,
   "id": "226d0716-4856-4288-9d8f-b427ef2da04d",
   "metadata": {},
   "outputs": [
    {
     "data": {
      "text/plain": [
       "22.0"
      ]
     },
     "execution_count": null,
     "metadata": {},
     "output_type": "execute_result"
    }
   ],
   "source": [
    "rel2true_speed(2, 20, np.pi)"
   ]
  },
  {
   "cell_type": "markdown",
   "id": "3b130611-d4a7-4705-8378-8a949377e0df",
   "metadata": {},
   "source": [
    "However if the relative angle is $-45^\\circ$ then the true windspeed is"
   ]
  },
  {
   "cell_type": "code",
   "execution_count": null,
   "id": "e77b7fba-7093-47ff-947d-c88393dbb279",
   "metadata": {},
   "outputs": [
    {
     "data": {
      "text/plain": [
       "18.63951333874026"
      ]
     },
     "execution_count": null,
     "metadata": {},
     "output_type": "execute_result"
    }
   ],
   "source": [
    "rel2true_speed(2, 20, -np.pi/4)"
   ]
  },
  {
   "cell_type": "markdown",
   "id": "f49b7017-2c0d-4b70-a8ec-589112879894",
   "metadata": {},
   "source": [
    "Remember that windspeed is ALWAYS positive, the direction tells you if it is helping or hindering the ship"
   ]
  },
  {
   "cell_type": "code",
   "execution_count": null,
   "id": "33588e0b-256e-4375-bbbf-bd3edeeef4d0",
   "metadata": {},
   "outputs": [],
   "source": [
    "#| hide\n",
    "test_eq(rel2true_speed(2, 20, 0), 18) #"
   ]
  },
  {
   "attachments": {},
   "cell_type": "markdown",
   "id": "0c8d0150-7af9-4625-9ee1-0e86f3e21059",
   "metadata": {},
   "source": [
    "### Direction\n",
    "\n",
    "How to calculate the true direction from the relative direction.\n",
    "\n",
    "$$ \\psi_\\textrm{WT} = \\text{arctan2}\\left( \\frac{  \n",
    "V_\\textrm{WR} \\textrm{sin}(\\psi_\\textrm{WR} + \\psi)  - V_\\textrm{G}\\textrm{sin}(\\psi)}{  \n",
    "V_\\textrm{WR} \\textrm{cos}(\\psi_\\textrm{WR} + \\psi)  - V_\\textrm{G}\\textrm{cos}(\\psi)} \\right)\n",
    "\n",
    "$$\n",
    "\n",
    "**ITTC equations**: E-3"
   ]
  },
  {
   "cell_type": "code",
   "execution_count": null,
   "id": "74921fc8-f70f-4c2f-a40b-d9721cc1536c",
   "metadata": {},
   "outputs": [],
   "source": [
    "#| export\n",
    "def rel2true_dir(\n",
    "    relative_wind_speed:float, #Speed of the wind relative to the ship\n",
    "    sog:float, #Speed of the ship overground\n",
    "    relative_wind_direction:float, #direction of wind in radians relative to the ship\n",
    "    vessel_heading:float, #The direction of the ship through the water\n",
    "    constrain_to_positive:bool = True #Should the function return a value between 0 and 2 pi\n",
    ")-> float: # the true wind directionangle relative to north in radians.\n",
    "    \"converts relative wind direction to true wind direction\"\n",
    "    #This function should probably be abstracted to a more trignonometric form\n",
    "    numerator = opposite_magnitude_fn(relative_wind_speed, relative_wind_direction + vessel_heading) - opposite_magnitude_fn(sog, vessel_heading) \n",
    "    denominator = adjacent_magnitude_fn(relative_wind_speed, relative_wind_direction + vessel_heading) - adjacent_magnitude_fn(sog, vessel_heading) \n",
    "    \n",
    "    gamma = np.arctan2(numerator, denominator)\n",
    "        \n",
    "    #prevents negative angles if constrain to positive is true\n",
    "    #using this method instead of an if statement means the function can perform vectorised operations\n",
    "    gamma = gamma + 2*np.pi*(gamma<0)*constrain_to_positive\n",
    "    \n",
    "    return gamma \n",
    "    "
   ]
  },
  {
   "cell_type": "markdown",
   "id": "8bce3794-a3a1-425f-852b-796ecbd00a35",
   "metadata": {},
   "source": [
    "Considering a ship where the relative wind direction is 0, the relative windspeed is 2, and the ships heading is $45^\\circ$ or $\\frac{\\pi}{2}$, then the true wind speed is"
   ]
  },
  {
   "cell_type": "code",
   "execution_count": null,
   "id": "edb66cba-449a-4cde-b0c1-b6a61057c77b",
   "metadata": {},
   "outputs": [
    {
     "data": {
      "text/plain": [
       "5.141592653589793"
      ]
     },
     "execution_count": null,
     "metadata": {},
     "output_type": "execute_result"
    }
   ],
   "source": [
    "rel2true_dir(2,20,0,2)"
   ]
  },
  {
   "cell_type": "markdown",
   "id": "885a3d3f-302b-4a3a-b690-45854d1a2272",
   "metadata": {},
   "source": [
    "Although by default the wind direction is constrained to return only positive values between $0$ and $2\\pi$, values between $-\\frac{\\pi}{2}$ and  $\\frac{\\pi}{2}$, can be created using `constrain_to_positive = False`"
   ]
  },
  {
   "cell_type": "code",
   "execution_count": null,
   "id": "2b0a6cc3-a499-4133-98d9-ff3da1003b4f",
   "metadata": {},
   "outputs": [
    {
     "data": {
      "text/plain": [
       "-1.1415926535897933"
      ]
     },
     "execution_count": null,
     "metadata": {},
     "output_type": "execute_result"
    }
   ],
   "source": [
    "rel2true_dir(2,20,0,2, False)"
   ]
  },
  {
   "cell_type": "code",
   "execution_count": null,
   "id": "e7278687-17f2-41bf-893b-b03f08d4fa8a",
   "metadata": {},
   "outputs": [
    {
     "data": {
      "text/plain": [
       "3.141592653589793"
      ]
     },
     "execution_count": null,
     "metadata": {},
     "output_type": "execute_result"
    }
   ],
   "source": [
    "#### bug alert!\n",
    "#does this make sense?\n",
    "#should it be 180 or zero?\n",
    "rel2true_dir(2,20,0,0, False)"
   ]
  },
  {
   "cell_type": "code",
   "execution_count": null,
   "id": "375ff4ac-02f9-467a-a133-4d44be3156e9",
   "metadata": {},
   "outputs": [],
   "source": [
    "#| hide\n",
    "test_close(rel2true_dir(2,20,0,2), 5.14159, eps=1e-03)"
   ]
  },
  {
   "cell_type": "markdown",
   "id": "f4b5937b-04f1-44c5-b858-f6d207c76651",
   "metadata": {},
   "source": [
    "## Relative Wind"
   ]
  },
  {
   "attachments": {},
   "cell_type": "markdown",
   "id": "109fd071-86fa-4794-9eaa-aeb21e028e00",
   "metadata": {},
   "source": [
    "### Speed\n",
    "\n",
    "Calculating relative wind speed from true wind speed and direction as shown in the equation below\n",
    "\n",
    "$$V_\\textrm{WR} = \\sqrt{V_{TW}^2 + V_G^2 + 2V_{TW} V_G \\cos(\\psi_{WT} - \\psi)}$$\n",
    "\n",
    "**ITTC equations**: E-7, E-10"
   ]
  },
  {
   "cell_type": "code",
   "execution_count": null,
   "id": "3498702c-0bd9-4ab3-a86c-fed8b2f735e1",
   "metadata": {},
   "outputs": [],
   "source": [
    "#| export\n",
    "def true2rel_speed(true_wind_speed:float, #The windspeed over ground\n",
    "                            sog:float, #Speed over ground of the vessel\n",
    "                            true_wind_direction:float, #Direction of wind relative to north\n",
    "                            vessel_heading:float, #Direction of vessel in water relative to north\n",
    ")-> float: #returns relative windspeed using the same units entered\n",
    "    \n",
    "    \"converts true windspeed to relative\"\n",
    "    \n",
    "    return np.sqrt(true_wind_speed**2 +sog**2 +2*true_wind_speed*sog*np.cos( true_wind_direction - vessel_heading))\n",
    "           "
   ]
  },
  {
   "cell_type": "code",
   "execution_count": null,
   "id": "8d27ec2b-ed8a-4609-adfc-cb7e3c9162ff",
   "metadata": {},
   "outputs": [
    {
     "data": {
      "text/plain": [
       "'\\ndef true2rel_speed(true_wind_speed:float, #The windspeed over ground\\n                            sog:float, #Speed over ground of the vessel\\n                            true_wind_direction:float, #Direction of wind relative to north\\n                            vessel_heading:float, #Direction of vessel in water relative to north\\n)-> float: #returns relative windspeed using the same units entered\\n    \\n    \"converts true windspeed to relative\"\\n    \\n    return law_of_cosines(true_wind_speed, sog, true_wind_direction - vessel_heading +np.pi)\\n\\n\\n'"
      ]
     },
     "execution_count": null,
     "metadata": {},
     "output_type": "execute_result"
    }
   ],
   "source": [
    "#|hide\n",
    "#The previous version of the function looked like this\n",
    "#However this version lead to non-trivial rounding errors. \n",
    "#This version is nicer as you can use a law of cosines directly as a backend but until we have time to de-bug properly just using the ITTC formulation \n",
    "#get precise and consistant answers\n",
    "\"\"\"\n",
    "def true2rel_speed(true_wind_speed:float, #The windspeed over ground\n",
    "                            sog:float, #Speed over ground of the vessel\n",
    "                            true_wind_direction:float, #Direction of wind relative to north\n",
    "                            vessel_heading:float, #Direction of vessel in water relative to north\n",
    ")-> float: #returns relative windspeed using the same units entered\n",
    "    \n",
    "    \"converts true windspeed to relative\"\n",
    "    \n",
    "    return law_of_cosines(true_wind_speed, sog, true_wind_direction - vessel_heading +np.pi)\n",
    "\n",
    "\n",
    "\"\"\""
   ]
  },
  {
   "cell_type": "markdown",
   "id": "5df6c57a-a022-4431-b8a9-d5e78c55556c",
   "metadata": {},
   "source": [
    "As an example consider a ship travelling at 20 knots with a direction due north. The wind blows due north with a speed of 22 knots"
   ]
  },
  {
   "cell_type": "code",
   "execution_count": null,
   "id": "935ebc9b-20d0-4c21-a2d3-f140b9774a99",
   "metadata": {},
   "outputs": [
    {
     "data": {
      "text/plain": [
       "42.0"
      ]
     },
     "execution_count": null,
     "metadata": {},
     "output_type": "execute_result"
    }
   ],
   "source": [
    "true2rel_speed(22,20, 0,0)"
   ]
  },
  {
   "cell_type": "code",
   "execution_count": null,
   "id": "c3362b9f-a5e0-4857-9de9-7151d2f88e3f",
   "metadata": {},
   "outputs": [
    {
     "data": {
      "text/plain": [
       "2.0"
      ]
     },
     "execution_count": null,
     "metadata": {},
     "output_type": "execute_result"
    }
   ],
   "source": [
    "true2rel_speed(22,20, 0, np.pi)"
   ]
  },
  {
   "cell_type": "code",
   "execution_count": null,
   "id": "a5554c8c-0944-4893-8992-b7b6aaa6a216",
   "metadata": {},
   "outputs": [],
   "source": [
    "#| hide\n",
    "#vessel heading with the wind\n",
    "test_eq(true2rel_speed(22,20, 0,0), 42)\n",
    "#vessel heading into the wind\n",
    "test_eq(true2rel_speed(22,20, 0,np.pi), 2)\n",
    "\n",
    "\n",
    "##\n",
    "## This test ensures that the relative wind speed is constant for 360 degs in other words ensures that rel2true then true2rel returns the original value\n",
    "##\n",
    "test = pd.DataFrame({'rel_degs':np.linspace(1,360, 360)})\n",
    "\n",
    "sog = 20\n",
    "heading = 0\n",
    "rel_wind_Speed = 10\n",
    "\n",
    "test['rel_rads'] = np.deg2rad(test['rel_degs'])\n",
    "\n",
    "test['true_rads'] = rel2true_dir(rel_wind_Speed , sog, test['rel_rads'], heading)\n",
    "#test['true_rads_constr'] = rel2true_dir(rel_wind_Speed , sog, test['rel_rads'], heading, constrain_to_positive = True)\n",
    "test['true_wind_speed'] = rel2true_speed(rel_wind_Speed, sog, test['rel_rads'])\n",
    "\n",
    "test['rel_wind_speed'] = true2rel_speed(true_wind_speed = test['true_wind_speed'] ,\n",
    "                            sog = sog, \n",
    "                            true_wind_direction = test['true_rads'], \n",
    "                            vessel_heading = heading \n",
    ")\n",
    "\n",
    "#ensures that all the values are equal to 10, uses round as there may be very small rounding errors\n",
    "\n",
    "test_eq(np.all(np.equal(np.round(test['rel_wind_speed'],4), 10)), True)\n"
   ]
  },
  {
   "attachments": {},
   "cell_type": "markdown",
   "id": "d5c898a8-dbf7-414b-884f-f1ac8105f27a",
   "metadata": {},
   "source": [
    "### Direction\n",
    "\n",
    "Caclulating relative windspeed from true windspeed and direction\n",
    "\n",
    "\n",
    "$$\\psi_\\textrm{WR} = \\text{arctan2}\\left( \\frac{ V_\\textrm{WT} \\textrm{sin}(\\psi_\\textrm{WT} - \\psi)}{ V_\\textrm{G} + V_\\textrm{WT} \\textrm{cos}(\\psi_\\textrm{WT} - \\psi)} \\right)$$\n",
    "\n",
    "\n",
    "**ITTC equations**: E-6, E-9"
   ]
  },
  {
   "cell_type": "code",
   "execution_count": null,
   "id": "d3415247-ef73-4095-a519-5cda819c9936",
   "metadata": {},
   "outputs": [],
   "source": [
    "#| export\n",
    "def true2rel_dir(\n",
    "                            true_wind_speed:float, #The windspeed over ground\n",
    "                            sog:float, #Speed over ground of the vessel\n",
    "                            true_wind_direction:float, #Direction of wind relative to north\n",
    "                            vessel_heading:float, #Direction of vessel in water relative to north\n",
    "                            constrain_to_positive:bool = True #Should the function return a value between 0 and 2 pi\n",
    ")-> float: #relative wind direction\n",
    "    \n",
    "    \"converts true direction speed to relative\"\n",
    "    \n",
    "    gamma  = find_gamma_fn(true_wind_speed, sog, true_wind_direction - vessel_heading)\n",
    "\n",
    "    return gamma + 2*np.pi*(gamma<0)*constrain_to_positive"
   ]
  },
  {
   "cell_type": "markdown",
   "id": "b49b7d9f-43e6-432f-b973-c9efac9a18d3",
   "metadata": {},
   "source": [
    "We can see that if a ship is heading due north and the true windspeed is also due east. When the ship is at 20 knots and the wind is at 22 knots, the relative direction of the wind is as below"
   ]
  },
  {
   "cell_type": "code",
   "execution_count": null,
   "id": "63e83bf2-1696-4152-9e08-e4e7008c7582",
   "metadata": {},
   "outputs": [
    {
     "data": {
      "text/plain": [
       "0.8329812666744317"
      ]
     },
     "execution_count": null,
     "metadata": {},
     "output_type": "execute_result"
    }
   ],
   "source": [
    "true2rel_dir(22,20, np.pi/2,0, constrain_to_positive=False)"
   ]
  },
  {
   "cell_type": "markdown",
   "id": "fd59fbd4-6235-4f9b-b354-80d1329355e9",
   "metadata": {},
   "source": [
    "If the wind direction is due west, the relative wind direction is the negative of the previous value"
   ]
  },
  {
   "cell_type": "code",
   "execution_count": null,
   "id": "89661b0f",
   "metadata": {},
   "outputs": [
    {
     "data": {
      "text/plain": [
       "-0.8329812666744317"
      ]
     },
     "execution_count": null,
     "metadata": {},
     "output_type": "execute_result"
    }
   ],
   "source": [
    "true2rel_dir(22,20, -np.pi/2,0, constrain_to_positive=False)"
   ]
  },
  {
   "cell_type": "markdown",
   "id": "3845bb2e",
   "metadata": {},
   "source": [
    "Unless of course 'constrain_to_positive' is set to true"
   ]
  },
  {
   "cell_type": "code",
   "execution_count": null,
   "id": "e35c1940",
   "metadata": {},
   "outputs": [
    {
     "data": {
      "text/plain": [
       "5.450204040505154"
      ]
     },
     "execution_count": null,
     "metadata": {},
     "output_type": "execute_result"
    }
   ],
   "source": [
    "true2rel_dir(22,20, -np.pi/2,0, constrain_to_positive=True)\n"
   ]
  },
  {
   "cell_type": "code",
   "execution_count": null,
   "id": "2b88f189-4461-4e45-8409-18fbb31c7259",
   "metadata": {},
   "outputs": [],
   "source": [
    "#| hide\n",
    "test_eq(true2rel_dir(20,22, 0,0), 0)\n",
    "#test_eq(round(true2rel_dir(22,20, 0,0),5), round(np.pi, 5))"
   ]
  },
  {
   "attachments": {},
   "cell_type": "markdown",
   "id": "22636854",
   "metadata": {},
   "source": [
    "## Average wind speed and direction across a double run\n",
    "\n",
    "The ITTC method proposes taking the average windspeed across a double run to average for errors in readings\n",
    "This function is a wrapper round the 'combine_vectors' function from the `trig` module.\n",
    "$$c \\; \\text{cos}(\\gamma) = a \\; \\text{cos}(\\alpha) + b \\; \\text{cos}(\\beta), $$\n",
    "$$c \\; \\text{sin}(\\gamma) = a \\; \\text{sin}(\\alpha) + b \\; \\text{sin}(\\beta), $$\n",
    "\n",
    "$$c = \\sqrt{(\\frac{c \\; \\text{cos}(\\gamma)^2 + c \\; \\text{sin}(\\gamma)^2}{2})} $$\n",
    "\n",
    "$$\\gamma = \\text{arctan2} \\left( \\frac{c \\; \\text{cos}(\\gamma)}{c \\; \\text{sin}(\\gamma)} \\right)$$\n",
    "\n",
    "Where $a$ and $b$ are the true windspeeds of two paired runs and $\\alpha$ and $\\beta$ are there true direction. \n",
    "\n",
    "The function takes the magnitude and angle of two vectors and outputs the magnitude and angle of the resultant vector.\n",
    "\n",
    "One can question whether this approach makes physical sense under certain conditions, the user should consider what is happening in the test and consult the reasoning of the ITTC for further details.\n",
    "\n",
    "**ITTC equations**: E-4, E-5"
   ]
  },
  {
   "cell_type": "code",
   "execution_count": null,
   "id": "8c457093",
   "metadata": {},
   "outputs": [],
   "source": [
    "#| export\n",
    "def double_run_average(a, b, alpha, beta):\n",
    "    #it makes no difference if a/2, b/2 is used or average_velocity/2 the result is the same\n",
    "    average_velocity, average_direction = combine_vectors(a, b, alpha, beta)\n",
    "\n",
    "    return average_velocity/2, average_direction"
   ]
  },
  {
   "attachments": {},
   "cell_type": "markdown",
   "id": "45411284",
   "metadata": {},
   "source": [
    "In the example below on the first run a ship is faced with a wind of 13m/s blowing from the north, whilst on the second run the wind has dropped to 5m/s and is coming from the east. The function calculates the mean wind speed across both runs. "
   ]
  },
  {
   "cell_type": "code",
   "execution_count": null,
   "id": "f29e9053",
   "metadata": {},
   "outputs": [
    {
     "name": "stdout",
     "output_type": "stream",
     "text": [
      "The wind speed is 6.9 m/s, the wind direction is 0.37 radians\n"
     ]
    }
   ],
   "source": [
    "\n",
    "wind_speed, wind_direction = double_run_average(a = 13, b = 5, alpha = 0, beta = 1.6)\n",
    "\n",
    "print(\"The wind speed is {0} m/s, the wind direction is {1} radians\".format(round(wind_speed, 2), round(wind_direction, 2)))"
   ]
  },
  {
   "attachments": {},
   "cell_type": "markdown",
   "id": "0c025bd0-b0f2-499b-ad17-5a37ed00c756",
   "metadata": {},
   "source": [
    "## Correcting for the height of the Anemometer\n",
    "\n",
    "Adjusts the windspeed taking into account the height of the anemometer on the ship relative to the reference height for windspeed\n",
    "\n",
    "$$V_\\textrm{WTref} = V_\\textrm{WT} \\left( \\frac{Z_\\textrm{ref}}{Z_a} \\right)^\\frac{1}{9}$$\n",
    "\n",
    "**ITTC equations**: E-8"
   ]
  },
  {
   "cell_type": "code",
   "execution_count": null,
   "id": "85238366-0c32-43cb-beac-adb363617755",
   "metadata": {},
   "outputs": [],
   "source": [
    "#| export\n",
    "def vertical_position_anemometer(true_wind_speed:float, #True windspeed [m/s]\n",
    "                                 reference_height:float, #reference height [m]\n",
    "                                 measured_height:float  # measured height [m]\n",
    "                                )-> float: #The true windspeed corrected for measurement height\n",
    "    \n",
    "    \"Adjusts the windspeed taking into account the height of the anemometer on the ship relative to the reference height for windspeed\"\n",
    "\n",
    "    \n",
    "    return true_wind_speed * (reference_height/measured_height)**(1/9)"
   ]
  },
  {
   "cell_type": "markdown",
   "id": "f5a9eddc-0879-4f7c-bd56-3a44ddcba143",
   "metadata": {},
   "source": [
    "The adjusted wind speed differences are often small but the corrections can still influence the final result"
   ]
  },
  {
   "cell_type": "code",
   "execution_count": null,
   "id": "ab60cd49-2a1b-4474-adec-e448ac9c8768",
   "metadata": {},
   "outputs": [
    {
     "data": {
      "text/plain": [
       "20.36924367032039"
      ]
     },
     "execution_count": null,
     "metadata": {},
     "output_type": "execute_result"
    }
   ],
   "source": [
    "vertical_position_anemometer(22,5, 10)"
   ]
  },
  {
   "cell_type": "code",
   "execution_count": null,
   "id": "824978d7-a247-4a67-99f9-73ce15f867f1",
   "metadata": {},
   "outputs": [],
   "source": [
    "#| hide\n",
    "import nbdev; nbdev.nbdev_export()"
   ]
  }
 ],
 "metadata": {
  "kernelspec": {
   "display_name": "python3",
   "language": "python",
   "name": "python3"
  }
 },
 "nbformat": 4,
 "nbformat_minor": 5
}
